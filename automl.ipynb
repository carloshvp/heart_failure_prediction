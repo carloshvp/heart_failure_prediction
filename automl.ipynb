{
 "cells": [
  {
   "cell_type": "markdown",
   "metadata": {},
   "source": [
    "# Automated ML\n",
    "\n",
    "Importing dependencies"
   ]
  },
  {
   "cell_type": "code",
   "execution_count": 1,
   "metadata": {
    "gather": {
     "logged": 1617706502047
    },
    "jupyter": {
     "outputs_hidden": false,
     "source_hidden": false
    },
    "nteract": {
     "transient": {
      "deleting": false
     }
    }
   },
   "outputs": [],
   "source": [
    "from sklearn.metrics import confusion_matrix\n",
    "from azureml.core import Dataset, Workspace, Experiment\n",
    "from azureml.core.compute import ComputeTarget, AmlCompute\n",
    "from azureml.core.compute_target import ComputeTargetException\n",
    "from azureml.widgets import RunDetails\n",
    "from azureml.train.automl import AutoMLConfig\n",
    "from azureml.core.model import InferenceConfig\n",
    "from azureml.core.webservice import AciWebservice, Webservice\n",
    "from azureml.core.model import Model\n",
    "from azureml.core.environment import Environment\n",
    "import os\n",
    "import pandas as pd\n",
    "import numpy as np\n",
    "import json\n",
    "import requests\n",
    "import joblib\n",
    "import itertools"
   ]
  },
  {
   "cell_type": "code",
   "execution_count": 2,
   "metadata": {
    "gather": {
     "logged": 1617701752143
    },
    "jupyter": {
     "outputs_hidden": false,
     "source_hidden": false
    },
    "nteract": {
     "transient": {
      "deleting": false
     }
    }
   },
   "outputs": [
    {
     "name": "stdout",
     "output_type": "stream",
     "text": [
      "Requirement already satisfied: xgboost==0.90 in /anaconda/envs/azureml_py36/lib/python3.6/site-packages (0.90)\n",
      "Requirement already satisfied: numpy in /anaconda/envs/azureml_py36/lib/python3.6/site-packages (from xgboost==0.90) (1.18.5)\n",
      "Requirement already satisfied: scipy in /anaconda/envs/azureml_py36/lib/python3.6/site-packages (from xgboost==0.90) (1.4.1)\n",
      "Note: you may need to restart the kernel to use updated packages.\n"
     ]
    }
   ],
   "source": [
    "# This might be required if the AutoML best algo is XGBoost\n",
    "%pip install xgboost==0.90"
   ]
  },
  {
   "cell_type": "markdown",
   "metadata": {},
   "source": [
    "## Dataset\n",
    "The dataset we are using was obtained from the publication \"Machine learning can predict survival of patients with heart failure from serum creatinine and ejection fraction alone\". Davide Chicco, Giuseppe Jurman. BMC Medical Informatics and Decision Making 20, 16 (2020). ([link](https://doi.org/10.1186/s12911-020-1023-5))\n",
    "\n",
    "### Overview\n",
    "\n",
    "In the dataset we can find 12 features that can be used to predict heart failure mortality:\n",
    "* age\n",
    "* anemia (Decrease of red blood cells or hemoglobin\n",
    "* creatinine_phosphokinase (Level of the CPK enzyme in the blood)\n",
    "* diabetes (If the patient has diabetes)\n",
    "* ejection_fraction (Percentage of blood leaving the heart at each contraction)\n",
    "* high_blood_pressure (If the patient has hypertension)\n",
    "* platelets (Platelets in the blood measured in kiloplatelets/mL)\n",
    "* serum_creatinine (Level of serum creatinine in the blood measured in mg/dL)\n",
    "* serum_sodium (Level of serum sodium in the blood measured in mEq/L)\n",
    "* sex (Woman or man)\n",
    "* smoking (If the patient smokes or not)\n",
    "* time (Follow-up period in days)\n",
    "* DEATH_EVENT (If the patient deceased during the follow-up period)\n",
    "\n",
    "The target variable is DEATH_EVENT."
   ]
  },
  {
   "cell_type": "code",
   "execution_count": 3,
   "metadata": {
    "gather": {
     "logged": 1617706505843
    },
    "jupyter": {
     "outputs_hidden": false,
     "source_hidden": false
    },
    "nteract": {
     "transient": {
      "deleting": false
     }
    }
   },
   "outputs": [],
   "source": [
    "ws = Workspace.from_config()\n",
    "\n",
    "experiment_name = 'automl-exp'\n",
    "\n",
    "experiment = Experiment(ws, experiment_name)"
   ]
  },
  {
   "cell_type": "code",
   "execution_count": 4,
   "metadata": {
    "gather": {
     "logged": 1617701760401
    },
    "jupyter": {
     "outputs_hidden": false,
     "source_hidden": false
    },
    "nteract": {
     "transient": {
      "deleting": false
     }
    }
   },
   "outputs": [],
   "source": [
    "dataset = Dataset.get_by_name(ws, 'heart-disease-from-kaggle')\n",
    "data_train, data_test = dataset.random_split(0.8)"
   ]
  },
  {
   "cell_type": "code",
   "execution_count": 5,
   "metadata": {
    "gather": {
     "logged": 1617701763649
    },
    "jupyter": {
     "outputs_hidden": false,
     "source_hidden": false
    },
    "nteract": {
     "transient": {
      "deleting": false
     }
    }
   },
   "outputs": [
    {
     "data": {
      "text/plain": [
       "0    203\n",
       "1     96\n",
       "Name: DEATH_EVENT, dtype: int64"
      ]
     },
     "execution_count": 5,
     "metadata": {},
     "output_type": "execute_result"
    }
   ],
   "source": [
    "df = dataset.to_pandas_dataframe()\n",
    "df['DEATH_EVENT'].value_counts()"
   ]
  },
  {
   "cell_type": "markdown",
   "metadata": {
    "nteract": {
     "transient": {
      "deleting": false
     }
    }
   },
   "source": [
    "Dataset is imbalanced! This means the metric \"accuracy\" should not be used, as it gives misleading results."
   ]
  },
  {
   "cell_type": "markdown",
   "metadata": {
    "nteract": {
     "transient": {
      "deleting": false
     }
    }
   },
   "source": [
    "### Compute cluster"
   ]
  },
  {
   "cell_type": "code",
   "execution_count": 6,
   "metadata": {
    "gather": {
     "logged": 1617701766601
    },
    "jupyter": {
     "outputs_hidden": false,
     "source_hidden": false
    },
    "nteract": {
     "transient": {
      "deleting": false
     }
    }
   },
   "outputs": [
    {
     "name": "stdout",
     "output_type": "stream",
     "text": [
      "Creating...\n",
      "SucceededProvisioning operation finished, operation \"Succeeded\"\n",
      "Succeeded\n",
      "AmlCompute wait for completion finished\n",
      "\n",
      "Minimum number of nodes requested have been provisioned\n"
     ]
    }
   ],
   "source": [
    "cpu_cluster_name = \"cpu-cluster2\"\n",
    "\n",
    "# Verify that cluster does not exist already\n",
    "try:\n",
    "    compute_target = ComputeTarget(workspace=ws, name=cpu_cluster_name)\n",
    "    print('Found existing cluster, use it.')\n",
    "except ComputeTargetException:\n",
    "    compute_config = AmlCompute.provisioning_configuration(vm_size='STANDARD_D12_V2',\n",
    "                                                           max_nodes=10)\n",
    "    compute_target = ComputeTarget.create(ws, cpu_cluster_name, compute_config)\n",
    "\n",
    "compute_target.wait_for_completion(show_output=True)"
   ]
  },
  {
   "cell_type": "markdown",
   "metadata": {},
   "source": [
    "## AutoML Configuration\n",
    "\n",
    "As part of the AutoML configuration, we are going to select:\n",
    "- Problem type: Classification\n",
    "- Experiment timeout: 20 minutes\n",
    "- Maximum concurrent iterations: 4\n",
    "- Primary metric: AUC weighted. This has been selected as we have seen that the dataset is imbalanced (203 cases in one class, versus 96 in the other class)\n",
    "- k value for k-fold Validation: 5. We split the data in train-test with 80-20 proportion, which combined with 5 cross-validations, we cover the whole dataset\n",
    "- Early stopping: enabled\n"
   ]
  },
  {
   "cell_type": "code",
   "execution_count": 7,
   "metadata": {
    "gather": {
     "logged": 1617701774089
    },
    "jupyter": {
     "outputs_hidden": false,
     "source_hidden": false
    },
    "nteract": {
     "transient": {
      "deleting": false
     }
    }
   },
   "outputs": [],
   "source": [
    "automl_settings = {\n",
    "    \"experiment_timeout_minutes\": 20,\n",
    "    \"max_concurrent_iterations\": 4,\n",
    "    \"primary_metric\" : 'AUC_weighted',\n",
    "    \"n_cross_validations\": 5\n",
    "}\n",
    "automl_config = AutoMLConfig(compute_target=compute_target,\n",
    "                             task = \"classification\",\n",
    "                             training_data=data_train,\n",
    "                             label_column_name=\"DEATH_EVENT\", \n",
    "                             enable_early_stopping= True,\n",
    "                             featurization= 'auto',\n",
    "                             **automl_settings\n",
    "                            )"
   ]
  },
  {
   "cell_type": "code",
   "execution_count": 8,
   "metadata": {
    "gather": {
     "logged": 1617703543137
    },
    "jupyter": {
     "outputs_hidden": false,
     "source_hidden": false
    },
    "nteract": {
     "transient": {
      "deleting": false
     }
    }
   },
   "outputs": [
    {
     "name": "stdout",
     "output_type": "stream",
     "text": [
      "Running on remote.\n",
      "No run_configuration provided, running on cpu-cluster2 with default configuration\n",
      "Running on remote compute: cpu-cluster2\n",
      "Parent Run ID: AutoML_1b04273f-3366-4b1f-a919-64b4803b236f\n",
      "\n",
      "Current status: FeaturesGeneration. Generating features for the dataset.\n",
      "Current status: ModelSelection. Beginning model selection.\n",
      "\n",
      "****************************************************************************************************\n",
      "DATA GUARDRAILS: \n",
      "\n",
      "TYPE:         Class balancing detection\n",
      "STATUS:       PASSED\n",
      "DESCRIPTION:  Your inputs were analyzed, and all classes are balanced in your training data.\n",
      "              Learn more about imbalanced data: https://aka.ms/AutomatedMLImbalancedData\n",
      "\n",
      "****************************************************************************************************\n",
      "\n",
      "TYPE:         Missing feature values imputation\n",
      "STATUS:       PASSED\n",
      "DESCRIPTION:  No feature missing values were detected in the training data.\n",
      "              Learn more about missing value imputation: https://aka.ms/AutomatedMLFeaturization\n",
      "\n",
      "****************************************************************************************************\n",
      "\n",
      "TYPE:         High cardinality feature detection\n",
      "STATUS:       PASSED\n",
      "DESCRIPTION:  Your inputs were analyzed, and no high cardinality features were detected.\n",
      "              Learn more about high cardinality feature handling: https://aka.ms/AutomatedMLFeaturization\n",
      "\n",
      "****************************************************************************************************\n",
      "\n",
      "****************************************************************************************************\n",
      "ITERATION: The iteration being evaluated.\n",
      "PIPELINE: A summary description of the pipeline being evaluated.\n",
      "DURATION: Time taken for the current iteration.\n",
      "METRIC: The result of computing score on the fitted pipeline.\n",
      "BEST: The best observed score thus far.\n",
      "****************************************************************************************************\n",
      "\n",
      " ITERATION   PIPELINE                                       DURATION      METRIC      BEST\n",
      "         2   MinMaxScaler RandomForest                      0:00:41       0.8800    0.8800\n",
      "         1   MaxAbsScaler XGBoostClassifier                 0:00:42       0.8700    0.8800\n",
      "         5   MinMaxScaler RandomForest                      0:00:42       0.8962    0.8962\n",
      "         3   RobustScaler ExtremeRandomTrees                0:01:44       0.8793    0.8962\n",
      "         4   MinMaxScaler RandomForest                      0:01:54       0.8981    0.8981\n",
      "         6   StandardScalerWrapper RandomForest             0:00:40       0.8569    0.8981\n",
      "         0   MaxAbsScaler LightGBM                          0:01:57       0.8821    0.8981\n",
      "         7   MinMaxScaler ExtremeRandomTrees                0:00:43       0.8813    0.8981\n",
      "         8   MinMaxScaler ExtremeRandomTrees                0:00:42       0.8555    0.8981\n",
      "        10   MinMaxScaler ExtremeRandomTrees                0:00:43       0.8636    0.8981\n",
      "         9   SparseNormalizer KNN                           0:00:30       0.7225    0.8981\n",
      "        11   RobustScaler ExtremeRandomTrees                0:00:26       0.9102    0.9102\n",
      "        12   StandardScalerWrapper RandomForest             0:00:40       0.8906    0.9102\n",
      "        13   StandardScalerWrapper SGD                      0:00:37       0.8473    0.9102\n",
      "        14   RobustScaler RandomForest                      0:00:42       0.9075    0.9102\n",
      "        15   StandardScalerWrapper KNN                      0:00:43       0.5320    0.9102\n",
      "        16   MinMaxScaler RandomForest                      0:00:48       0.8696    0.9102\n",
      "        17   MinMaxScaler ExtremeRandomTrees                0:00:40       0.8361    0.9102\n",
      "        18   MaxAbsScaler RandomForest                      0:00:34       0.8837    0.9102\n",
      "        19   StandardScalerWrapper XGBoostClassifier        0:00:51       0.8921    0.9102\n",
      "        20   MaxAbsScaler RandomForest                      0:00:42       0.8654    0.9102\n",
      "        21   MaxAbsScaler ExtremeRandomTrees                0:00:45       0.8493    0.9102\n",
      "        22   MaxAbsScaler ExtremeRandomTrees                0:00:43       0.8558    0.9102\n",
      "        23   StandardScalerWrapper RandomForest             0:00:37       0.8898    0.9102\n",
      "        24   SparseNormalizer XGBoostClassifier             0:00:48       0.8877    0.9102\n",
      "        25   PCA ExtremeRandomTrees                         0:00:46       0.5715    0.9102\n",
      "        26   SparseNormalizer XGBoostClassifier             0:00:40       0.8863    0.9102\n",
      "        27   StandardScalerWrapper LightGBM                 0:00:40       0.8397    0.9102\n",
      "        28   MaxAbsScaler LightGBM                          0:00:36       0.8252    0.9102\n",
      "        29   MaxAbsScaler ExtremeRandomTrees                0:00:44       0.8470    0.9102\n",
      "        30   StandardScalerWrapper XGBoostClassifier        0:00:48       0.8905    0.9102\n",
      "        31   StandardScalerWrapper XGBoostClassifier        0:00:38       0.8982    0.9102\n",
      "        32   StandardScalerWrapper XGBoostClassifier        0:00:39       0.8896    0.9102\n",
      "        33   RobustScaler LightGBM                          0:00:37       0.8877    0.9102\n",
      "        34   StandardScalerWrapper LightGBM                 0:00:54       0.9025    0.9102\n",
      "        35                                                  0:00:24          nan    0.9102\n",
      "        36    VotingEnsemble                                0:00:54       0.9302    0.9302\n",
      "        37    StackEnsemble                                 0:01:12       0.9203    0.9302\n"
     ]
    }
   ],
   "source": [
    "remote_run = experiment.submit(automl_config, show_output = True)"
   ]
  },
  {
   "cell_type": "markdown",
   "metadata": {},
   "source": [
    "## Run Details\n",
    "As we could see, the ensemble algorithm (both stack and voting) was the algorithm which obtained the highest value for the selected metric.\n",
    "\n",
    "We could have probably improved the results if we would have selected a longer experiment timeout in minutes."
   ]
  },
  {
   "cell_type": "code",
   "execution_count": 9,
   "metadata": {
    "gather": {
     "logged": 1617703862041
    },
    "jupyter": {
     "outputs_hidden": false,
     "source_hidden": false
    },
    "nteract": {
     "transient": {
      "deleting": false
     }
    }
   },
   "outputs": [
    {
     "data": {
      "application/vnd.jupyter.widget-view+json": {
       "model_id": "dd2c34ecf30e4f8fb112c0c1c37c1edf",
       "version_major": 2,
       "version_minor": 0
      },
      "text/plain": [
       "_AutoMLWidget(widget_settings={'childWidgetDisplay': 'popup', 'send_telemetry': False, 'log_level': 'INFO', 's…"
      ]
     },
     "metadata": {},
     "output_type": "display_data"
    },
    {
     "data": {
      "application/aml.mini.widget.v1": "{\"status\": \"Completed\", \"workbench_run_details_uri\": \"https://ml.azure.com/experiments/automl-exp/runs/AutoML_1b04273f-3366-4b1f-a919-64b4803b236f?wsid=/subscriptions/9e65f93e-bdd8-437b-b1e8-0647cd6098f7/resourcegroups/aml-quickstarts-142113/workspaces/quick-starts-ws-142113\", \"run_id\": \"AutoML_1b04273f-3366-4b1f-a919-64b4803b236f\", \"run_properties\": {\"run_id\": \"AutoML_1b04273f-3366-4b1f-a919-64b4803b236f\", \"created_utc\": \"2021-04-06T16:12:24.094572Z\", \"properties\": {\"num_iterations\": \"1000\", \"training_type\": \"TrainFull\", \"acquisition_function\": \"EI\", \"primary_metric\": \"AUC_weighted\", \"train_split\": \"0\", \"acquisition_parameter\": \"0\", \"num_cross_validation\": \"5\", \"target\": \"cpu-cluster2\", \"AMLSettingsJsonString\": \"{\\\"path\\\":null,\\\"name\\\":\\\"automl-exp\\\",\\\"subscription_id\\\":\\\"9e65f93e-bdd8-437b-b1e8-0647cd6098f7\\\",\\\"resource_group\\\":\\\"aml-quickstarts-142113\\\",\\\"workspace_name\\\":\\\"quick-starts-ws-142113\\\",\\\"region\\\":\\\"southcentralus\\\",\\\"compute_target\\\":\\\"cpu-cluster2\\\",\\\"spark_service\\\":null,\\\"azure_service\\\":\\\"remote\\\",\\\"many_models\\\":false,\\\"pipeline_fetch_max_batch_size\\\":1,\\\"enable_batch_run\\\":false,\\\"iterations\\\":1000,\\\"primary_metric\\\":\\\"AUC_weighted\\\",\\\"task_type\\\":\\\"classification\\\",\\\"data_script\\\":null,\\\"validation_size\\\":0.0,\\\"n_cross_validations\\\":5,\\\"y_min\\\":null,\\\"y_max\\\":null,\\\"num_classes\\\":null,\\\"featurization\\\":\\\"auto\\\",\\\"_ignore_package_version_incompatibilities\\\":false,\\\"is_timeseries\\\":false,\\\"max_cores_per_iteration\\\":1,\\\"max_concurrent_iterations\\\":4,\\\"iteration_timeout_minutes\\\":null,\\\"mem_in_mb\\\":null,\\\"enforce_time_on_windows\\\":false,\\\"experiment_timeout_minutes\\\":20,\\\"experiment_exit_score\\\":null,\\\"whitelist_models\\\":null,\\\"blacklist_algos\\\":[\\\"TensorFlowLinearClassifier\\\",\\\"TensorFlowDNN\\\"],\\\"supported_models\\\":[\\\"RandomForest\\\",\\\"BernoulliNaiveBayes\\\",\\\"ExtremeRandomTrees\\\",\\\"GradientBoosting\\\",\\\"LogisticRegression\\\",\\\"TensorFlowDNN\\\",\\\"DecisionTree\\\",\\\"AveragedPerceptronClassifier\\\",\\\"SGD\\\",\\\"LinearSVM\\\",\\\"XGBoostClassifier\\\",\\\"SVM\\\",\\\"MultinomialNaiveBayes\\\",\\\"LightGBM\\\",\\\"TensorFlowLinearClassifier\\\",\\\"KNN\\\"],\\\"private_models\\\":[],\\\"auto_blacklist\\\":true,\\\"blacklist_samples_reached\\\":false,\\\"exclude_nan_labels\\\":true,\\\"verbosity\\\":20,\\\"_debug_log\\\":\\\"azureml_automl.log\\\",\\\"show_warnings\\\":false,\\\"model_explainability\\\":true,\\\"service_url\\\":null,\\\"sdk_url\\\":null,\\\"sdk_packages\\\":null,\\\"enable_onnx_compatible_models\\\":false,\\\"enable_split_onnx_featurizer_estimator_models\\\":false,\\\"vm_type\\\":\\\"STANDARD_D12_V2\\\",\\\"telemetry_verbosity\\\":20,\\\"send_telemetry\\\":true,\\\"enable_dnn\\\":false,\\\"scenario\\\":\\\"SDK-1.13.0\\\",\\\"environment_label\\\":null,\\\"save_mlflow\\\":false,\\\"force_text_dnn\\\":false,\\\"enable_feature_sweeping\\\":true,\\\"enable_early_stopping\\\":true,\\\"early_stopping_n_iters\\\":10,\\\"metrics\\\":null,\\\"enable_metric_confidence\\\":false,\\\"enable_ensembling\\\":true,\\\"enable_stack_ensembling\\\":true,\\\"ensemble_iterations\\\":15,\\\"enable_tf\\\":false,\\\"enable_subsampling\\\":null,\\\"subsample_seed\\\":null,\\\"enable_nimbusml\\\":false,\\\"enable_streaming\\\":false,\\\"force_streaming\\\":false,\\\"track_child_runs\\\":true,\\\"allowed_private_models\\\":[],\\\"label_column_name\\\":\\\"DEATH_EVENT\\\",\\\"weight_column_name\\\":null,\\\"cv_split_column_names\\\":null,\\\"enable_local_managed\\\":false,\\\"_local_managed_run_id\\\":null,\\\"cost_mode\\\":1,\\\"lag_length\\\":0,\\\"metric_operation\\\":\\\"maximize\\\",\\\"preprocess\\\":true}\", \"DataPrepJsonString\": \"{\\\\\\\"training_data\\\\\\\": \\\\\\\"{\\\\\\\\\\\\\\\"blocks\\\\\\\\\\\\\\\": [{\\\\\\\\\\\\\\\"id\\\\\\\\\\\\\\\": \\\\\\\\\\\\\\\"29b970b0-0e7e-43a8-9f54-2d6c5f4b65c5\\\\\\\\\\\\\\\", \\\\\\\\\\\\\\\"type\\\\\\\\\\\\\\\": \\\\\\\\\\\\\\\"Microsoft.DPrep.GetDatastoreFilesBlock\\\\\\\\\\\\\\\", \\\\\\\\\\\\\\\"arguments\\\\\\\\\\\\\\\": {\\\\\\\\\\\\\\\"datastores\\\\\\\\\\\\\\\": [{\\\\\\\\\\\\\\\"datastoreName\\\\\\\\\\\\\\\": \\\\\\\\\\\\\\\"workspaceblobstore\\\\\\\\\\\\\\\", \\\\\\\\\\\\\\\"path\\\\\\\\\\\\\\\": \\\\\\\\\\\\\\\"UI/04-06-2021_040526_UTC/heart_failure_clinical_records_dataset.csv\\\\\\\\\\\\\\\", \\\\\\\\\\\\\\\"resourceGroup\\\\\\\\\\\\\\\": \\\\\\\\\\\\\\\"aml-quickstarts-142113\\\\\\\\\\\\\\\", \\\\\\\\\\\\\\\"subscription\\\\\\\\\\\\\\\": \\\\\\\\\\\\\\\"9e65f93e-bdd8-437b-b1e8-0647cd6098f7\\\\\\\\\\\\\\\", \\\\\\\\\\\\\\\"workspaceName\\\\\\\\\\\\\\\": \\\\\\\\\\\\\\\"quick-starts-ws-142113\\\\\\\\\\\\\\\"}]}, \\\\\\\\\\\\\\\"localData\\\\\\\\\\\\\\\": {}, \\\\\\\\\\\\\\\"isEnabled\\\\\\\\\\\\\\\": true, \\\\\\\\\\\\\\\"name\\\\\\\\\\\\\\\": null, \\\\\\\\\\\\\\\"annotation\\\\\\\\\\\\\\\": null}, {\\\\\\\\\\\\\\\"id\\\\\\\\\\\\\\\": \\\\\\\\\\\\\\\"d50da2bb-40ce-403e-85a3-26f77ff070cf\\\\\\\\\\\\\\\", \\\\\\\\\\\\\\\"type\\\\\\\\\\\\\\\": \\\\\\\\\\\\\\\"Microsoft.DPrep.ParseDelimitedBlock\\\\\\\\\\\\\\\", \\\\\\\\\\\\\\\"arguments\\\\\\\\\\\\\\\": {\\\\\\\\\\\\\\\"columnHeadersMode\\\\\\\\\\\\\\\": 1, \\\\\\\\\\\\\\\"fileEncoding\\\\\\\\\\\\\\\": 0, \\\\\\\\\\\\\\\"handleQuotedLineBreaks\\\\\\\\\\\\\\\": false, \\\\\\\\\\\\\\\"preview\\\\\\\\\\\\\\\": false, \\\\\\\\\\\\\\\"separator\\\\\\\\\\\\\\\": \\\\\\\\\\\\\\\",\\\\\\\\\\\\\\\", \\\\\\\\\\\\\\\"skipRows\\\\\\\\\\\\\\\": 0, \\\\\\\\\\\\\\\"skipRowsMode\\\\\\\\\\\\\\\": 0}, \\\\\\\\\\\\\\\"localData\\\\\\\\\\\\\\\": {}, \\\\\\\\\\\\\\\"isEnabled\\\\\\\\\\\\\\\": true, \\\\\\\\\\\\\\\"name\\\\\\\\\\\\\\\": null, \\\\\\\\\\\\\\\"annotation\\\\\\\\\\\\\\\": null}, {\\\\\\\\\\\\\\\"id\\\\\\\\\\\\\\\": \\\\\\\\\\\\\\\"67d64904-25b6-44a5-92e6-8bf6ba454962\\\\\\\\\\\\\\\", \\\\\\\\\\\\\\\"type\\\\\\\\\\\\\\\": \\\\\\\\\\\\\\\"Microsoft.DPrep.DropColumnsBlock\\\\\\\\\\\\\\\", \\\\\\\\\\\\\\\"arguments\\\\\\\\\\\\\\\": {\\\\\\\\\\\\\\\"columns\\\\\\\\\\\\\\\": {\\\\\\\\\\\\\\\"type\\\\\\\\\\\\\\\": 0, \\\\\\\\\\\\\\\"details\\\\\\\\\\\\\\\": {\\\\\\\\\\\\\\\"selectedColumns\\\\\\\\\\\\\\\": [\\\\\\\\\\\\\\\"Path\\\\\\\\\\\\\\\"]}}}, \\\\\\\\\\\\\\\"localData\\\\\\\\\\\\\\\": {}, \\\\\\\\\\\\\\\"isEnabled\\\\\\\\\\\\\\\": true, \\\\\\\\\\\\\\\"name\\\\\\\\\\\\\\\": null, \\\\\\\\\\\\\\\"annotation\\\\\\\\\\\\\\\": null}, {\\\\\\\\\\\\\\\"id\\\\\\\\\\\\\\\": \\\\\\\\\\\\\\\"c496e791-19f1-4dcb-9a58-38cdc30d2292\\\\\\\\\\\\\\\", \\\\\\\\\\\\\\\"type\\\\\\\\\\\\\\\": \\\\\\\\\\\\\\\"Microsoft.DPrep.SetColumnTypesBlock\\\\\\\\\\\\\\\", \\\\\\\\\\\\\\\"arguments\\\\\\\\\\\\\\\": {\\\\\\\\\\\\\\\"columnConversion\\\\\\\\\\\\\\\": [{\\\\\\\\\\\\\\\"column\\\\\\\\\\\\\\\": {\\\\\\\\\\\\\\\"type\\\\\\\\\\\\\\\": 2, \\\\\\\\\\\\\\\"details\\\\\\\\\\\\\\\": {\\\\\\\\\\\\\\\"selectedColumn\\\\\\\\\\\\\\\": \\\\\\\\\\\\\\\"Path\\\\\\\\\\\\\\\"}}, \\\\\\\\\\\\\\\"typeProperty\\\\\\\\\\\\\\\": 0}, {\\\\\\\\\\\\\\\"column\\\\\\\\\\\\\\\": {\\\\\\\\\\\\\\\"type\\\\\\\\\\\\\\\": 2, \\\\\\\\\\\\\\\"details\\\\\\\\\\\\\\\": {\\\\\\\\\\\\\\\"selectedColumn\\\\\\\\\\\\\\\": \\\\\\\\\\\\\\\"age\\\\\\\\\\\\\\\"}}, \\\\\\\\\\\\\\\"typeProperty\\\\\\\\\\\\\\\": 3}, {\\\\\\\\\\\\\\\"column\\\\\\\\\\\\\\\": {\\\\\\\\\\\\\\\"type\\\\\\\\\\\\\\\": 2, \\\\\\\\\\\\\\\"details\\\\\\\\\\\\\\\": {\\\\\\\\\\\\\\\"selectedColumn\\\\\\\\\\\\\\\": \\\\\\\\\\\\\\\"anaemia\\\\\\\\\\\\\\\"}}, \\\\\\\\\\\\\\\"typeProperty\\\\\\\\\\\\\\\": 2}, {\\\\\\\\\\\\\\\"column\\\\\\\\\\\\\\\": {\\\\\\\\\\\\\\\"type\\\\\\\\\\\\\\\": 2, \\\\\\\\\\\\\\\"details\\\\\\\\\\\\\\\": {\\\\\\\\\\\\\\\"selectedColumn\\\\\\\\\\\\\\\": \\\\\\\\\\\\\\\"creatinine_phosphokinase\\\\\\\\\\\\\\\"}}, \\\\\\\\\\\\\\\"typeProperty\\\\\\\\\\\\\\\": 2}, {\\\\\\\\\\\\\\\"column\\\\\\\\\\\\\\\": {\\\\\\\\\\\\\\\"type\\\\\\\\\\\\\\\": 2, \\\\\\\\\\\\\\\"details\\\\\\\\\\\\\\\": {\\\\\\\\\\\\\\\"selectedColumn\\\\\\\\\\\\\\\": \\\\\\\\\\\\\\\"diabetes\\\\\\\\\\\\\\\"}}, \\\\\\\\\\\\\\\"typeProperty\\\\\\\\\\\\\\\": 2}, {\\\\\\\\\\\\\\\"column\\\\\\\\\\\\\\\": {\\\\\\\\\\\\\\\"type\\\\\\\\\\\\\\\": 2, \\\\\\\\\\\\\\\"details\\\\\\\\\\\\\\\": {\\\\\\\\\\\\\\\"selectedColumn\\\\\\\\\\\\\\\": \\\\\\\\\\\\\\\"ejection_fraction\\\\\\\\\\\\\\\"}}, \\\\\\\\\\\\\\\"typeProperty\\\\\\\\\\\\\\\": 2}, {\\\\\\\\\\\\\\\"column\\\\\\\\\\\\\\\": {\\\\\\\\\\\\\\\"type\\\\\\\\\\\\\\\": 2, \\\\\\\\\\\\\\\"details\\\\\\\\\\\\\\\": {\\\\\\\\\\\\\\\"selectedColumn\\\\\\\\\\\\\\\": \\\\\\\\\\\\\\\"high_blood_pressure\\\\\\\\\\\\\\\"}}, \\\\\\\\\\\\\\\"typeProperty\\\\\\\\\\\\\\\": 2}, {\\\\\\\\\\\\\\\"column\\\\\\\\\\\\\\\": {\\\\\\\\\\\\\\\"type\\\\\\\\\\\\\\\": 2, \\\\\\\\\\\\\\\"details\\\\\\\\\\\\\\\": {\\\\\\\\\\\\\\\"selectedColumn\\\\\\\\\\\\\\\": \\\\\\\\\\\\\\\"platelets\\\\\\\\\\\\\\\"}}, \\\\\\\\\\\\\\\"typeProperty\\\\\\\\\\\\\\\": 3}, {\\\\\\\\\\\\\\\"column\\\\\\\\\\\\\\\": {\\\\\\\\\\\\\\\"type\\\\\\\\\\\\\\\": 2, \\\\\\\\\\\\\\\"details\\\\\\\\\\\\\\\": {\\\\\\\\\\\\\\\"selectedColumn\\\\\\\\\\\\\\\": \\\\\\\\\\\\\\\"serum_creatinine\\\\\\\\\\\\\\\"}}, \\\\\\\\\\\\\\\"typeProperty\\\\\\\\\\\\\\\": 3}, {\\\\\\\\\\\\\\\"column\\\\\\\\\\\\\\\": {\\\\\\\\\\\\\\\"type\\\\\\\\\\\\\\\": 2, \\\\\\\\\\\\\\\"details\\\\\\\\\\\\\\\": {\\\\\\\\\\\\\\\"selectedColumn\\\\\\\\\\\\\\\": \\\\\\\\\\\\\\\"serum_sodium\\\\\\\\\\\\\\\"}}, \\\\\\\\\\\\\\\"typeProperty\\\\\\\\\\\\\\\": 2}, {\\\\\\\\\\\\\\\"column\\\\\\\\\\\\\\\": {\\\\\\\\\\\\\\\"type\\\\\\\\\\\\\\\": 2, \\\\\\\\\\\\\\\"details\\\\\\\\\\\\\\\": {\\\\\\\\\\\\\\\"selectedColumn\\\\\\\\\\\\\\\": \\\\\\\\\\\\\\\"sex\\\\\\\\\\\\\\\"}}, \\\\\\\\\\\\\\\"typeProperty\\\\\\\\\\\\\\\": 2}, {\\\\\\\\\\\\\\\"column\\\\\\\\\\\\\\\": {\\\\\\\\\\\\\\\"type\\\\\\\\\\\\\\\": 2, \\\\\\\\\\\\\\\"details\\\\\\\\\\\\\\\": {\\\\\\\\\\\\\\\"selectedColumn\\\\\\\\\\\\\\\": \\\\\\\\\\\\\\\"smoking\\\\\\\\\\\\\\\"}}, \\\\\\\\\\\\\\\"typeProperty\\\\\\\\\\\\\\\": 2}, {\\\\\\\\\\\\\\\"column\\\\\\\\\\\\\\\": {\\\\\\\\\\\\\\\"type\\\\\\\\\\\\\\\": 2, \\\\\\\\\\\\\\\"details\\\\\\\\\\\\\\\": {\\\\\\\\\\\\\\\"selectedColumn\\\\\\\\\\\\\\\": \\\\\\\\\\\\\\\"time\\\\\\\\\\\\\\\"}}, \\\\\\\\\\\\\\\"typeProperty\\\\\\\\\\\\\\\": 2}, {\\\\\\\\\\\\\\\"column\\\\\\\\\\\\\\\": {\\\\\\\\\\\\\\\"type\\\\\\\\\\\\\\\": 2, \\\\\\\\\\\\\\\"details\\\\\\\\\\\\\\\": {\\\\\\\\\\\\\\\"selectedColumn\\\\\\\\\\\\\\\": \\\\\\\\\\\\\\\"DEATH_EVENT\\\\\\\\\\\\\\\"}}, \\\\\\\\\\\\\\\"typeProperty\\\\\\\\\\\\\\\": 2}]}, \\\\\\\\\\\\\\\"localData\\\\\\\\\\\\\\\": {}, \\\\\\\\\\\\\\\"isEnabled\\\\\\\\\\\\\\\": true, \\\\\\\\\\\\\\\"name\\\\\\\\\\\\\\\": null, \\\\\\\\\\\\\\\"annotation\\\\\\\\\\\\\\\": null}, {\\\\\\\\\\\\\\\"id\\\\\\\\\\\\\\\": \\\\\\\\\\\\\\\"0d432d15-83df-4aa6-a250-f71344961c67\\\\\\\\\\\\\\\", \\\\\\\\\\\\\\\"type\\\\\\\\\\\\\\\": \\\\\\\\\\\\\\\"Microsoft.DPrep.TakeSampleBlock\\\\\\\\\\\\\\\", \\\\\\\\\\\\\\\"arguments\\\\\\\\\\\\\\\": {\\\\\\\\\\\\\\\"probability\\\\\\\\\\\\\\\": 0.8, \\\\\\\\\\\\\\\"probabilityLowerBound\\\\\\\\\\\\\\\": 0.0, \\\\\\\\\\\\\\\"seed\\\\\\\\\\\\\\\": 322167146}, \\\\\\\\\\\\\\\"localData\\\\\\\\\\\\\\\": {}, \\\\\\\\\\\\\\\"isEnabled\\\\\\\\\\\\\\\": true, \\\\\\\\\\\\\\\"name\\\\\\\\\\\\\\\": null, \\\\\\\\\\\\\\\"annotation\\\\\\\\\\\\\\\": null}], \\\\\\\\\\\\\\\"inspectors\\\\\\\\\\\\\\\": [], \\\\\\\\\\\\\\\"meta\\\\\\\\\\\\\\\": {\\\\\\\\\\\\\\\"savedDatasetId\\\\\\\\\\\\\\\": \\\\\\\\\\\\\\\"eb17ef43-79a7-4697-9fde-52e6a478c474\\\\\\\\\\\\\\\", \\\\\\\\\\\\\\\"datasetType\\\\\\\\\\\\\\\": \\\\\\\\\\\\\\\"tabular\\\\\\\\\\\\\\\", \\\\\\\\\\\\\\\"subscriptionId\\\\\\\\\\\\\\\": \\\\\\\\\\\\\\\"9e65f93e-bdd8-437b-b1e8-0647cd6098f7\\\\\\\\\\\\\\\", \\\\\\\\\\\\\\\"workspaceId\\\\\\\\\\\\\\\": \\\\\\\\\\\\\\\"98150cd8-9498-4505-a3d7-6d3091ee12a9\\\\\\\\\\\\\\\", \\\\\\\\\\\\\\\"workspaceLocation\\\\\\\\\\\\\\\": \\\\\\\\\\\\\\\"southcentralus\\\\\\\\\\\\\\\", \\\\\\\\\\\\\\\"partition_keys\\\\\\\\\\\\\\\": \\\\\\\\\\\\\\\"true\\\\\\\\\\\\\\\"}}\\\\\\\", \\\\\\\"activities\\\\\\\": 0}\", \"EnableSubsampling\": null, \"runTemplate\": \"AutoML\", \"azureml.runsource\": \"automl\", \"display_task_type\": \"classification\", \"dependencies_versions\": \"{\\\"azureml-widgets\\\": \\\"1.24.0\\\", \\\"azureml-train\\\": \\\"1.24.0\\\", \\\"azureml-train-restclients-hyperdrive\\\": \\\"1.24.0\\\", \\\"azureml-train-core\\\": \\\"1.24.0\\\", \\\"azureml-train-automl\\\": \\\"1.24.0\\\", \\\"azureml-train-automl-runtime\\\": \\\"1.24.0\\\", \\\"azureml-train-automl-client\\\": \\\"1.24.0\\\", \\\"azureml-tensorboard\\\": \\\"1.24.0\\\", \\\"azureml-telemetry\\\": \\\"1.24.0\\\", \\\"azureml-sdk\\\": \\\"1.24.0\\\", \\\"azureml-samples\\\": \\\"0+unknown\\\", \\\"azureml-pipeline\\\": \\\"1.24.0\\\", \\\"azureml-pipeline-steps\\\": \\\"1.24.0\\\", \\\"azureml-pipeline-core\\\": \\\"1.24.0\\\", \\\"azureml-opendatasets\\\": \\\"1.24.0\\\", \\\"azureml-model-management-sdk\\\": \\\"1.0.1b6.post1\\\", \\\"azureml-mlflow\\\": \\\"1.24.0\\\", \\\"azureml-interpret\\\": \\\"1.24.0\\\", \\\"azureml-explain-model\\\": \\\"1.24.0\\\", \\\"azureml-defaults\\\": \\\"1.24.0\\\", \\\"azureml-dataset-runtime\\\": \\\"1.24.0\\\", \\\"azureml-dataprep\\\": \\\"2.11.1\\\", \\\"azureml-dataprep-rslex\\\": \\\"1.9.0\\\", \\\"azureml-dataprep-native\\\": \\\"30.0.0\\\", \\\"azureml-datadrift\\\": \\\"1.24.0\\\", \\\"azureml-core\\\": \\\"1.24.0\\\", \\\"azureml-contrib-services\\\": \\\"1.24.0\\\", \\\"azureml-contrib-server\\\": \\\"1.24.0\\\", \\\"azureml-contrib-reinforcementlearning\\\": \\\"1.24.0\\\", \\\"azureml-contrib-pipeline-steps\\\": \\\"1.24.0\\\", \\\"azureml-contrib-notebook\\\": \\\"1.24.0\\\", \\\"azureml-contrib-gbdt\\\": \\\"1.24.0\\\", \\\"azureml-contrib-fairness\\\": \\\"1.24.0\\\", \\\"azureml-contrib-dataset\\\": \\\"1.24.0\\\", \\\"azureml-cli-common\\\": \\\"1.24.0\\\", \\\"azureml-automl-runtime\\\": \\\"1.24.0\\\", \\\"azureml-automl-dnn-nlp\\\": \\\"1.24.0\\\", \\\"azureml-automl-core\\\": \\\"1.24.0\\\", \\\"azureml-accel-models\\\": \\\"1.24.0\\\"}\", \"_aml_system_scenario_identification\": \"Remote.Parent\", \"ClientType\": \"SDK\", \"environment_cpu_name\": \"AzureML-AutoML\", \"environment_cpu_label\": \"prod\", \"environment_gpu_name\": \"AzureML-AutoML-GPU\", \"environment_gpu_label\": \"prod\", \"root_attribution\": \"automl\", \"attribution\": \"AutoML\", \"Orchestrator\": \"AutoML\", \"CancelUri\": \"https://southcentralus.experiments.azureml.net/jasmine/v1.0/subscriptions/9e65f93e-bdd8-437b-b1e8-0647cd6098f7/resourceGroups/aml-quickstarts-142113/providers/Microsoft.MachineLearningServices/workspaces/quick-starts-ws-142113/experimentids/88d8d391-b0bb-4ceb-9438-3f54dbc585c7/cancel/AutoML_1b04273f-3366-4b1f-a919-64b4803b236f\", \"ClientSdkVersion\": \"1.24.0\", \"snapshotId\": \"00000000-0000-0000-0000-000000000000\", \"SetupRunId\": \"AutoML_1b04273f-3366-4b1f-a919-64b4803b236f_setup\", \"SetupRunContainerId\": \"dcid.AutoML_1b04273f-3366-4b1f-a919-64b4803b236f_setup\", \"FeaturizationRunJsonPath\": \"featurizer_container.json\", \"FeaturizationRunId\": \"AutoML_1b04273f-3366-4b1f-a919-64b4803b236f_featurize\", \"ProblemInfoJsonString\": \"{\\\"dataset_num_categorical\\\": 0, \\\"is_sparse\\\": false, \\\"subsampling\\\": false, \\\"dataset_classes\\\": 2, \\\"dataset_features\\\": 12, \\\"dataset_samples\\\": 244, \\\"single_frequency_class_detected\\\": false}\", \"ModelExplainRunId\": \"AutoML_1b04273f-3366-4b1f-a919-64b4803b236f_ModelExplain\"}, \"tags\": {\"model_explain_run\": \"best_run\", \"_aml_system_azureml.automlComponent\": \"AutoML\", \"pipeline_id\": \"\", \"score\": \"\", \"predicted_cost\": \"\", \"fit_time\": \"\", \"training_percent\": \"\", \"iteration\": \"\", \"run_preprocessor\": \"\", \"run_algorithm\": \"\", \"dynamic_whitelisting_iterations\": \"<25>;<29>;<35>;\", \"automl_best_child_run_id\": \"AutoML_1b04273f-3366-4b1f-a919-64b4803b236f_36\", \"model_explain_best_run_child_id\": \"AutoML_1b04273f-3366-4b1f-a919-64b4803b236f_36\"}, \"end_time_utc\": \"2021-04-06T16:32:45.710531Z\", \"status\": \"Completed\", \"log_files\": {}, \"log_groups\": [], \"run_duration\": \"0:20:21\", \"run_number\": \"1\", \"run_queued_details\": {\"status\": \"Completed\", \"details\": null}}, \"child_runs\": [{\"run_id\": \"AutoML_1b04273f-3366-4b1f-a919-64b4803b236f_0\", \"run_number\": 5, \"metric\": null, \"status\": \"Completed\", \"run_type\": \"azureml.scriptrun\", \"training_percent\": \"100\", \"start_time\": \"2021-04-06T16:21:56.653075Z\", \"end_time\": \"2021-04-06T16:23:54.015612Z\", \"created_time\": \"2021-04-06T16:19:56.701331Z\", \"created_time_dt\": \"2021-04-06T16:19:56.701331Z\", \"duration\": \"0:03:57\", \"iteration\": \"0\", \"goal\": \"AUC_weighted_max\", \"run_name\": \"MaxAbsScaler, LightGBM\", \"run_properties\": \"copy=True\", \"primary_metric\": 0.88209083, \"best_metric\": 0.88209083}, {\"run_id\": \"AutoML_1b04273f-3366-4b1f-a919-64b4803b236f_2\", \"run_number\": 6, \"metric\": null, \"status\": \"Completed\", \"run_type\": \"azureml.scriptrun\", \"training_percent\": \"100\", \"start_time\": \"2021-04-06T16:20:11.729355Z\", \"end_time\": \"2021-04-06T16:20:52.657293Z\", \"created_time\": \"2021-04-06T16:19:56.821064Z\", \"created_time_dt\": \"2021-04-06T16:19:56.821064Z\", \"duration\": \"0:00:55\", \"iteration\": \"2\", \"goal\": \"AUC_weighted_max\", \"run_name\": \"MinMaxScaler, RandomForest\", \"run_properties\": \"copy=True, feature_range=(0, 1\", \"primary_metric\": 0.88002326, \"best_metric\": 0.88209083}, {\"run_id\": \"AutoML_1b04273f-3366-4b1f-a919-64b4803b236f_3\", \"run_number\": 7, \"metric\": null, \"status\": \"Completed\", \"run_type\": \"azureml.scriptrun\", \"training_percent\": \"100\", \"start_time\": \"2021-04-06T16:21:54.939634Z\", \"end_time\": \"2021-04-06T16:23:39.379711Z\", \"created_time\": \"2021-04-06T16:19:56.819206Z\", \"created_time_dt\": \"2021-04-06T16:19:56.819206Z\", \"duration\": \"0:03:42\", \"iteration\": \"3\", \"goal\": \"AUC_weighted_max\", \"run_name\": \"RobustScaler, ExtremeRandomTrees\", \"run_properties\": \"copy=True, quantile_range=[10, 90], with_centering=False,\\n             with_scaling=False\", \"primary_metric\": 0.87933052, \"best_metric\": 0.88209083}, {\"run_id\": \"AutoML_1b04273f-3366-4b1f-a919-64b4803b236f_1\", \"run_number\": 8, \"metric\": null, \"status\": \"Completed\", \"run_type\": \"azureml.scriptrun\", \"training_percent\": \"100\", \"start_time\": \"2021-04-06T16:21:08.066864Z\", \"end_time\": \"2021-04-06T16:21:49.636422Z\", \"created_time\": \"2021-04-06T16:19:56.865941Z\", \"created_time_dt\": \"2021-04-06T16:19:56.865941Z\", \"duration\": \"0:01:52\", \"iteration\": \"1\", \"goal\": \"AUC_weighted_max\", \"run_name\": \"MaxAbsScaler, XGBoostClassifier\", \"run_properties\": \"copy=True\", \"primary_metric\": 0.87001836, \"best_metric\": 0.88209083}, {\"run_id\": \"AutoML_1b04273f-3366-4b1f-a919-64b4803b236f_4\", \"run_number\": 9, \"metric\": null, \"status\": \"Completed\", \"run_type\": \"azureml.scriptrun\", \"training_percent\": \"100\", \"start_time\": \"2021-04-06T16:21:51.497508Z\", \"end_time\": \"2021-04-06T16:23:45.988428Z\", \"created_time\": \"2021-04-06T16:20:55.864817Z\", \"created_time_dt\": \"2021-04-06T16:20:55.864817Z\", \"duration\": \"0:02:50\", \"iteration\": \"4\", \"goal\": \"AUC_weighted_max\", \"run_name\": \"MinMaxScaler, RandomForest\", \"run_properties\": \"copy=True, feature_range=(0, 1\", \"primary_metric\": 0.89809124, \"best_metric\": 0.89809124}, {\"run_id\": \"AutoML_1b04273f-3366-4b1f-a919-64b4803b236f_5\", \"run_number\": 10, \"metric\": null, \"status\": \"Completed\", \"run_type\": \"azureml.scriptrun\", \"training_percent\": \"100\", \"start_time\": \"2021-04-06T16:22:06.27159Z\", \"end_time\": \"2021-04-06T16:22:48.685955Z\", \"created_time\": \"2021-04-06T16:21:53.557793Z\", \"created_time_dt\": \"2021-04-06T16:21:53.557793Z\", \"duration\": \"0:00:55\", \"iteration\": \"5\", \"goal\": \"AUC_weighted_max\", \"run_name\": \"MinMaxScaler, RandomForest\", \"run_properties\": \"copy=True, feature_range=(0, 1\", \"primary_metric\": 0.89617915, \"best_metric\": 0.89809124}, {\"run_id\": \"AutoML_1b04273f-3366-4b1f-a919-64b4803b236f_6\", \"run_number\": 11, \"metric\": null, \"status\": \"Completed\", \"run_type\": \"azureml.scriptrun\", \"training_percent\": \"100\", \"start_time\": \"2021-04-06T16:23:05.097773Z\", \"end_time\": \"2021-04-06T16:23:45.123006Z\", \"created_time\": \"2021-04-06T16:22:52.532589Z\", \"created_time_dt\": \"2021-04-06T16:22:52.532589Z\", \"duration\": \"0:00:52\", \"iteration\": \"6\", \"goal\": \"AUC_weighted_max\", \"run_name\": \"StandardScalerWrapper, RandomForest\", \"run_properties\": \"<azureml.automl.runtime.shared.model_wrappers.StandardScalerWrapper object at 0x7f7624c585f8\", \"primary_metric\": 0.85685643, \"best_metric\": 0.89809124}, {\"run_id\": \"AutoML_1b04273f-3366-4b1f-a919-64b4803b236f_7\", \"run_number\": 12, \"metric\": null, \"status\": \"Completed\", \"run_type\": \"azureml.scriptrun\", \"training_percent\": \"100\", \"start_time\": \"2021-04-06T16:23:55.332625Z\", \"end_time\": \"2021-04-06T16:24:38.350285Z\", \"created_time\": \"2021-04-06T16:23:42.838538Z\", \"created_time_dt\": \"2021-04-06T16:23:42.838538Z\", \"duration\": \"0:00:55\", \"iteration\": \"7\", \"goal\": \"AUC_weighted_max\", \"run_name\": \"MinMaxScaler, ExtremeRandomTrees\", \"run_properties\": \"copy=True, feature_range=(0, 1\", \"primary_metric\": 0.8813249, \"best_metric\": 0.89809124}, {\"run_id\": \"AutoML_1b04273f-3366-4b1f-a919-64b4803b236f_8\", \"run_number\": 13, \"metric\": null, \"status\": \"Completed\", \"run_type\": \"azureml.scriptrun\", \"training_percent\": \"100\", \"start_time\": \"2021-04-06T16:23:59.012375Z\", \"end_time\": \"2021-04-06T16:24:41.457001Z\", \"created_time\": \"2021-04-06T16:23:48.808336Z\", \"created_time_dt\": \"2021-04-06T16:23:48.808336Z\", \"duration\": \"0:00:52\", \"iteration\": \"8\", \"goal\": \"AUC_weighted_max\", \"run_name\": \"MinMaxScaler, ExtremeRandomTrees\", \"run_properties\": \"copy=True, feature_range=(0, 1\", \"primary_metric\": 0.85550987, \"best_metric\": 0.89809124}, {\"run_id\": \"AutoML_1b04273f-3366-4b1f-a919-64b4803b236f_9\", \"run_number\": 14, \"metric\": null, \"status\": \"Completed\", \"run_type\": \"azureml.scriptrun\", \"training_percent\": \"100\", \"start_time\": \"2021-04-06T16:24:23.476725Z\", \"end_time\": \"2021-04-06T16:24:53.132104Z\", \"created_time\": \"2021-04-06T16:23:54.01302Z\", \"created_time_dt\": \"2021-04-06T16:23:54.01302Z\", \"duration\": \"0:00:59\", \"iteration\": \"9\", \"goal\": \"AUC_weighted_max\", \"run_name\": \"SparseNormalizer, KNN\", \"run_properties\": \"<azureml.automl.runtime.shared.model_wrappers.SparseNormalizer object at 0x7efc23866da0\", \"primary_metric\": 0.72250765, \"best_metric\": 0.89809124}, {\"run_id\": \"AutoML_1b04273f-3366-4b1f-a919-64b4803b236f_10\", \"run_number\": 15, \"metric\": null, \"status\": \"Completed\", \"run_type\": \"azureml.scriptrun\", \"training_percent\": \"100\", \"start_time\": \"2021-04-06T16:24:12.844068Z\", \"end_time\": \"2021-04-06T16:24:55.513862Z\", \"created_time\": \"2021-04-06T16:24:00.042032Z\", \"created_time_dt\": \"2021-04-06T16:24:00.042032Z\", \"duration\": \"0:00:55\", \"iteration\": \"10\", \"goal\": \"AUC_weighted_max\", \"run_name\": \"MinMaxScaler, ExtremeRandomTrees\", \"run_properties\": \"copy=True, feature_range=(0, 1\", \"primary_metric\": 0.86361796, \"best_metric\": 0.89809124}, {\"run_id\": \"AutoML_1b04273f-3366-4b1f-a919-64b4803b236f_11\", \"run_number\": 16, \"metric\": null, \"status\": \"Completed\", \"run_type\": \"azureml.scriptrun\", \"training_percent\": \"100\", \"start_time\": \"2021-04-06T16:25:07.853492Z\", \"end_time\": \"2021-04-06T16:25:33.954013Z\", \"created_time\": \"2021-04-06T16:24:42.118897Z\", \"created_time_dt\": \"2021-04-06T16:24:42.118897Z\", \"duration\": \"0:00:51\", \"iteration\": \"11\", \"goal\": \"AUC_weighted_max\", \"run_name\": \"RobustScaler, ExtremeRandomTrees\", \"run_properties\": \"copy=True, quantile_range=[10, 90], with_centering=True,\\n             with_scaling=False\", \"primary_metric\": 0.91017738, \"best_metric\": 0.91017738}, {\"run_id\": \"AutoML_1b04273f-3366-4b1f-a919-64b4803b236f_12\", \"run_number\": 17, \"metric\": null, \"status\": \"Completed\", \"run_type\": \"azureml.scriptrun\", \"training_percent\": \"100\", \"start_time\": \"2021-04-06T16:24:58.815239Z\", \"end_time\": \"2021-04-06T16:25:38.678179Z\", \"created_time\": \"2021-04-06T16:24:47.553961Z\", \"created_time_dt\": \"2021-04-06T16:24:47.553961Z\", \"duration\": \"0:00:51\", \"iteration\": \"12\", \"goal\": \"AUC_weighted_max\", \"run_name\": \"StandardScalerWrapper, RandomForest\", \"run_properties\": \"<azureml.automl.runtime.shared.model_wrappers.StandardScalerWrapper object at 0x7f340639cb00\", \"primary_metric\": 0.89061795, \"best_metric\": 0.91017738}, {\"run_id\": \"AutoML_1b04273f-3366-4b1f-a919-64b4803b236f_13\", \"run_number\": 18, \"metric\": null, \"status\": \"Completed\", \"run_type\": \"azureml.scriptrun\", \"training_percent\": \"100\", \"start_time\": \"2021-04-06T16:25:12.561122Z\", \"end_time\": \"2021-04-06T16:25:50.024021Z\", \"created_time\": \"2021-04-06T16:24:56.871072Z\", \"created_time_dt\": \"2021-04-06T16:24:56.871072Z\", \"duration\": \"0:00:53\", \"iteration\": \"13\", \"goal\": \"AUC_weighted_max\", \"run_name\": \"StandardScalerWrapper, SGD\", \"run_properties\": \"<azureml.automl.runtime.shared.model_wrappers.StandardScalerWrapper object at 0x7fc738ae0978\", \"primary_metric\": 0.84729979, \"best_metric\": 0.91017738}, {\"run_id\": \"AutoML_1b04273f-3366-4b1f-a919-64b4803b236f_14\", \"run_number\": 19, \"metric\": null, \"status\": \"Completed\", \"run_type\": \"azureml.scriptrun\", \"training_percent\": \"100\", \"start_time\": \"2021-04-06T16:25:14.058416Z\", \"end_time\": \"2021-04-06T16:25:56.277276Z\", \"created_time\": \"2021-04-06T16:25:01.978284Z\", \"created_time_dt\": \"2021-04-06T16:25:01.978284Z\", \"duration\": \"0:00:54\", \"iteration\": \"14\", \"goal\": \"AUC_weighted_max\", \"run_name\": \"RobustScaler, RandomForest\", \"run_properties\": \"copy=True, quantile_range=[10, 90], with_centering=True,\\n             with_scaling=False\", \"primary_metric\": 0.90747352, \"best_metric\": 0.91017738}, {\"run_id\": \"AutoML_1b04273f-3366-4b1f-a919-64b4803b236f_15\", \"run_number\": 20, \"metric\": null, \"status\": \"Completed\", \"run_type\": \"azureml.scriptrun\", \"training_percent\": \"100\", \"start_time\": \"2021-04-06T16:25:49.383364Z\", \"end_time\": \"2021-04-06T16:26:32.263419Z\", \"created_time\": \"2021-04-06T16:25:37.473345Z\", \"created_time_dt\": \"2021-04-06T16:25:37.473345Z\", \"duration\": \"0:00:54\", \"iteration\": \"15\", \"goal\": \"AUC_weighted_max\", \"run_name\": \"StandardScalerWrapper, KNN\", \"run_properties\": \"<azureml.automl.runtime.shared.model_wrappers.StandardScalerWrapper object at 0x7f2304a40a90\", \"primary_metric\": 0.53195369, \"best_metric\": 0.91017738}, {\"run_id\": \"AutoML_1b04273f-3366-4b1f-a919-64b4803b236f_16\", \"run_number\": 21, \"metric\": null, \"status\": \"Completed\", \"run_type\": \"azureml.scriptrun\", \"training_percent\": \"100\", \"start_time\": \"2021-04-06T16:25:53.047863Z\", \"end_time\": \"2021-04-06T16:26:40.94079Z\", \"created_time\": \"2021-04-06T16:25:42.583186Z\", \"created_time_dt\": \"2021-04-06T16:25:42.583186Z\", \"duration\": \"0:00:58\", \"iteration\": \"16\", \"goal\": \"AUC_weighted_max\", \"run_name\": \"MinMaxScaler, RandomForest\", \"run_properties\": \"copy=True, feature_range=(0, 1\", \"primary_metric\": 0.86963087, \"best_metric\": 0.91017738}, {\"run_id\": \"AutoML_1b04273f-3366-4b1f-a919-64b4803b236f_17\", \"run_number\": 22, \"metric\": null, \"status\": \"Completed\", \"run_type\": \"azureml.scriptrun\", \"training_percent\": \"100\", \"start_time\": \"2021-04-06T16:26:06.372778Z\", \"end_time\": \"2021-04-06T16:26:46.783764Z\", \"created_time\": \"2021-04-06T16:25:53.208541Z\", \"created_time_dt\": \"2021-04-06T16:25:53.208541Z\", \"duration\": \"0:00:53\", \"iteration\": \"17\", \"goal\": \"AUC_weighted_max\", \"run_name\": \"MinMaxScaler, ExtremeRandomTrees\", \"run_properties\": \"copy=True, feature_range=(0, 1\", \"primary_metric\": 0.83610067, \"best_metric\": 0.91017738}, {\"run_id\": \"AutoML_1b04273f-3366-4b1f-a919-64b4803b236f_18\", \"run_number\": 23, \"metric\": null, \"status\": \"Completed\", \"run_type\": \"azureml.scriptrun\", \"training_percent\": \"100\", \"start_time\": \"2021-04-06T16:26:24.529289Z\", \"end_time\": \"2021-04-06T16:26:58.967458Z\", \"created_time\": \"2021-04-06T16:25:59.536519Z\", \"created_time_dt\": \"2021-04-06T16:25:59.536519Z\", \"duration\": \"0:00:59\", \"iteration\": \"18\", \"goal\": \"AUC_weighted_max\", \"run_name\": \"MaxAbsScaler, RandomForest\", \"run_properties\": \"copy=True\", \"primary_metric\": 0.88371081, \"best_metric\": 0.91017738}, {\"run_id\": \"AutoML_1b04273f-3366-4b1f-a919-64b4803b236f_19\", \"run_number\": 24, \"metric\": null, \"status\": \"Completed\", \"run_type\": \"azureml.scriptrun\", \"training_percent\": \"100\", \"start_time\": \"2021-04-06T16:26:49.69196Z\", \"end_time\": \"2021-04-06T16:27:40.471355Z\", \"created_time\": \"2021-04-06T16:26:35.594294Z\", \"created_time_dt\": \"2021-04-06T16:26:35.594294Z\", \"duration\": \"0:01:04\", \"iteration\": \"19\", \"goal\": \"AUC_weighted_max\", \"run_name\": \"StandardScalerWrapper, XGBoostClassifier\", \"run_properties\": \"<azureml.automl.runtime.shared.model_wrappers.StandardScalerWrapper object at 0x7f6fbcbd8240\", \"primary_metric\": 0.89208585, \"best_metric\": 0.91017738}, {\"run_id\": \"AutoML_1b04273f-3366-4b1f-a919-64b4803b236f_20\", \"run_number\": 25, \"metric\": null, \"status\": \"Completed\", \"run_type\": \"azureml.scriptrun\", \"training_percent\": \"100\", \"start_time\": \"2021-04-06T16:26:57.041058Z\", \"end_time\": \"2021-04-06T16:27:39.038228Z\", \"created_time\": \"2021-04-06T16:26:45.032845Z\", \"created_time_dt\": \"2021-04-06T16:26:45.032845Z\", \"duration\": \"0:00:54\", \"iteration\": \"20\", \"goal\": \"AUC_weighted_max\", \"run_name\": \"MaxAbsScaler, RandomForest\", \"run_properties\": \"copy=True\", \"primary_metric\": 0.86543603, \"best_metric\": 0.91017738}, {\"run_id\": \"AutoML_1b04273f-3366-4b1f-a919-64b4803b236f_21\", \"run_number\": 26, \"metric\": null, \"status\": \"Completed\", \"run_type\": \"azureml.scriptrun\", \"training_percent\": \"100\", \"start_time\": \"2021-04-06T16:27:03.010174Z\", \"end_time\": \"2021-04-06T16:27:48.39403Z\", \"created_time\": \"2021-04-06T16:26:51.16522Z\", \"created_time_dt\": \"2021-04-06T16:26:51.16522Z\", \"duration\": \"0:00:57\", \"iteration\": \"21\", \"goal\": \"AUC_weighted_max\", \"run_name\": \"MaxAbsScaler, ExtremeRandomTrees\", \"run_properties\": \"copy=True\", \"primary_metric\": 0.84926543, \"best_metric\": 0.91017738}, {\"run_id\": \"AutoML_1b04273f-3366-4b1f-a919-64b4803b236f_22\", \"run_number\": 27, \"metric\": null, \"status\": \"Completed\", \"run_type\": \"azureml.scriptrun\", \"training_percent\": \"100\", \"start_time\": \"2021-04-06T16:27:13.878107Z\", \"end_time\": \"2021-04-06T16:27:57.169228Z\", \"created_time\": \"2021-04-06T16:27:03.060594Z\", \"created_time_dt\": \"2021-04-06T16:27:03.060594Z\", \"duration\": \"0:00:54\", \"iteration\": \"22\", \"goal\": \"AUC_weighted_max\", \"run_name\": \"MaxAbsScaler, ExtremeRandomTrees\", \"run_properties\": \"copy=True\", \"primary_metric\": 0.85579553, \"best_metric\": 0.91017738}, {\"run_id\": \"AutoML_1b04273f-3366-4b1f-a919-64b4803b236f_23\", \"run_number\": 28, \"metric\": null, \"status\": \"Completed\", \"run_type\": \"azureml.scriptrun\", \"training_percent\": \"100\", \"start_time\": \"2021-04-06T16:28:08.606677Z\", \"end_time\": \"2021-04-06T16:28:45.481859Z\", \"created_time\": \"2021-04-06T16:27:43.430491Z\", \"created_time_dt\": \"2021-04-06T16:27:43.430491Z\", \"duration\": \"0:01:02\", \"iteration\": \"23\", \"goal\": \"AUC_weighted_max\", \"run_name\": \"StandardScalerWrapper, RandomForest\", \"run_properties\": \"<azureml.automl.runtime.shared.model_wrappers.StandardScalerWrapper object at 0x7fba0c5b5828\", \"primary_metric\": 0.88980881, \"best_metric\": 0.91017738}, {\"run_id\": \"AutoML_1b04273f-3366-4b1f-a919-64b4803b236f_24\", \"run_number\": 29, \"metric\": null, \"status\": \"Completed\", \"run_type\": \"azureml.scriptrun\", \"training_percent\": \"100\", \"start_time\": \"2021-04-06T16:27:58.394195Z\", \"end_time\": \"2021-04-06T16:28:46.756743Z\", \"created_time\": \"2021-04-06T16:27:48.401987Z\", \"created_time_dt\": \"2021-04-06T16:27:48.401987Z\", \"duration\": \"0:00:58\", \"iteration\": \"24\", \"goal\": \"AUC_weighted_max\", \"run_name\": \"SparseNormalizer, XGBoostClassifier\", \"run_properties\": \"<azureml.automl.runtime.shared.model_wrappers.SparseNormalizer object at 0x7f45a5c85208\", \"primary_metric\": 0.88772258, \"best_metric\": 0.91017738}, {\"run_id\": \"AutoML_1b04273f-3366-4b1f-a919-64b4803b236f_25\", \"run_number\": 30, \"metric\": null, \"status\": \"Completed\", \"run_type\": \"azureml.scriptrun\", \"training_percent\": \"100\", \"start_time\": \"2021-04-06T16:28:10.826917Z\", \"end_time\": \"2021-04-06T16:28:57.157462Z\", \"created_time\": \"2021-04-06T16:27:54.484006Z\", \"created_time_dt\": \"2021-04-06T16:27:54.484006Z\", \"duration\": \"0:01:02\", \"iteration\": \"25\", \"goal\": \"AUC_weighted_max\", \"run_name\": \"PCA, ExtremeRandomTrees\", \"run_properties\": \"copy=True, iterated_power='auto', n_components=0.5047368421052632,\\n    random_state=None, svd_solver='auto', tol=0.0, whiten=True\", \"primary_metric\": 0.57148584, \"best_metric\": 0.91017738}, {\"run_id\": \"AutoML_1b04273f-3366-4b1f-a919-64b4803b236f_26\", \"run_number\": 31, \"metric\": null, \"status\": \"Completed\", \"run_type\": \"azureml.scriptrun\", \"training_percent\": \"100\", \"start_time\": \"2021-04-06T16:28:14.944805Z\", \"end_time\": \"2021-04-06T16:28:55.117707Z\", \"created_time\": \"2021-04-06T16:28:01.597903Z\", \"created_time_dt\": \"2021-04-06T16:28:01.597903Z\", \"duration\": \"0:00:53\", \"iteration\": \"26\", \"goal\": \"AUC_weighted_max\", \"run_name\": \"SparseNormalizer, XGBoostClassifier\", \"run_properties\": \"<azureml.automl.runtime.shared.model_wrappers.SparseNormalizer object at 0x7f722a73ab38\", \"primary_metric\": 0.88628108, \"best_metric\": 0.91017738}, {\"run_id\": \"AutoML_1b04273f-3366-4b1f-a919-64b4803b236f_27\", \"run_number\": 32, \"metric\": null, \"status\": \"Completed\", \"run_type\": \"azureml.scriptrun\", \"training_percent\": \"100\", \"start_time\": \"2021-04-06T16:29:03.35885Z\", \"end_time\": \"2021-04-06T16:29:43.755011Z\", \"created_time\": \"2021-04-06T16:28:48.450635Z\", \"created_time_dt\": \"2021-04-06T16:28:48.450635Z\", \"duration\": \"0:00:55\", \"iteration\": \"27\", \"goal\": \"AUC_weighted_max\", \"run_name\": \"StandardScalerWrapper, LightGBM\", \"run_properties\": \"<azureml.automl.runtime.shared.model_wrappers.StandardScalerWrapper object at 0x7fd501f52b70\", \"primary_metric\": 0.83972744, \"best_metric\": 0.91017738}, {\"run_id\": \"AutoML_1b04273f-3366-4b1f-a919-64b4803b236f_28\", \"run_number\": 33, \"metric\": null, \"status\": \"Completed\", \"run_type\": \"azureml.scriptrun\", \"training_percent\": \"100\", \"start_time\": \"2021-04-06T16:29:03.873531Z\", \"end_time\": \"2021-04-06T16:29:40.003623Z\", \"created_time\": \"2021-04-06T16:28:55.117355Z\", \"created_time_dt\": \"2021-04-06T16:28:55.117355Z\", \"duration\": \"0:00:44\", \"iteration\": \"28\", \"goal\": \"AUC_weighted_max\", \"run_name\": \"MaxAbsScaler, LightGBM\", \"run_properties\": \"copy=True\", \"primary_metric\": 0.8252023, \"best_metric\": 0.91017738}, {\"run_id\": \"AutoML_1b04273f-3366-4b1f-a919-64b4803b236f_29\", \"run_number\": 34, \"metric\": null, \"status\": \"Completed\", \"run_type\": \"azureml.scriptrun\", \"training_percent\": \"100\", \"start_time\": \"2021-04-06T16:29:14.263633Z\", \"end_time\": \"2021-04-06T16:29:58.652684Z\", \"created_time\": \"2021-04-06T16:29:00.220337Z\", \"created_time_dt\": \"2021-04-06T16:29:00.220337Z\", \"duration\": \"0:00:58\", \"iteration\": \"29\", \"goal\": \"AUC_weighted_max\", \"run_name\": \"MaxAbsScaler, ExtremeRandomTrees\", \"run_properties\": \"copy=True\", \"primary_metric\": 0.84702891, \"best_metric\": 0.91017738}, {\"run_id\": \"AutoML_1b04273f-3366-4b1f-a919-64b4803b236f_30\", \"run_number\": 35, \"metric\": null, \"status\": \"Completed\", \"run_type\": \"azureml.scriptrun\", \"training_percent\": \"100\", \"start_time\": \"2021-04-06T16:29:10.513941Z\", \"end_time\": \"2021-04-06T16:29:58.221431Z\", \"created_time\": \"2021-04-06T16:29:00.353388Z\", \"created_time_dt\": \"2021-04-06T16:29:00.353388Z\", \"duration\": \"0:00:57\", \"iteration\": \"30\", \"goal\": \"AUC_weighted_max\", \"run_name\": \"StandardScalerWrapper, XGBoostClassifier\", \"run_properties\": \"<azureml.automl.runtime.shared.model_wrappers.StandardScalerWrapper object at 0x7f0abcd97048\", \"primary_metric\": 0.89054312, \"best_metric\": 0.91017738}, {\"run_id\": \"AutoML_1b04273f-3366-4b1f-a919-64b4803b236f_31\", \"run_number\": 36, \"metric\": null, \"status\": \"Completed\", \"run_type\": \"azureml.scriptrun\", \"training_percent\": \"100\", \"start_time\": \"2021-04-06T16:29:55.74635Z\", \"end_time\": \"2021-04-06T16:30:33.779435Z\", \"created_time\": \"2021-04-06T16:29:42.793577Z\", \"created_time_dt\": \"2021-04-06T16:29:42.793577Z\", \"duration\": \"0:00:50\", \"iteration\": \"31\", \"goal\": \"AUC_weighted_max\", \"run_name\": \"StandardScalerWrapper, XGBoostClassifier\", \"run_properties\": \"<azureml.automl.runtime.shared.model_wrappers.StandardScalerWrapper object at 0x7f5d2e55dc88\", \"primary_metric\": 0.89817074, \"best_metric\": 0.91017738}, {\"run_id\": \"AutoML_1b04273f-3366-4b1f-a919-64b4803b236f_32\", \"run_number\": 37, \"metric\": null, \"status\": \"Completed\", \"run_type\": \"azureml.scriptrun\", \"training_percent\": \"100\", \"start_time\": \"2021-04-06T16:29:57.499481Z\", \"end_time\": \"2021-04-06T16:30:36.714928Z\", \"created_time\": \"2021-04-06T16:29:47.592055Z\", \"created_time_dt\": \"2021-04-06T16:29:47.592055Z\", \"duration\": \"0:00:49\", \"iteration\": \"32\", \"goal\": \"AUC_weighted_max\", \"run_name\": \"StandardScalerWrapper, XGBoostClassifier\", \"run_properties\": \"<azureml.automl.runtime.shared.model_wrappers.StandardScalerWrapper object at 0x7f23a6e338d0\", \"primary_metric\": 0.88961319, \"best_metric\": 0.91017738}, {\"run_id\": \"AutoML_1b04273f-3366-4b1f-a919-64b4803b236f_33\", \"run_number\": 38, \"metric\": null, \"status\": \"Canceled\", \"run_type\": \"azureml.scriptrun\", \"training_percent\": \"100\", \"start_time\": \"2021-04-06T16:30:13.872292Z\", \"end_time\": \"2021-04-06T16:30:50.55105Z\", \"created_time\": \"2021-04-06T16:30:00.5785Z\", \"created_time_dt\": \"2021-04-06T16:30:00.5785Z\", \"duration\": \"0:00:49\", \"iteration\": \"33\", \"goal\": \"AUC_weighted_max\", \"run_name\": \"RobustScaler, LightGBM\", \"run_properties\": \"copy=True, quantile_range=[25, 75], with_centering=True,\\n             with_scaling=True\", \"primary_metric\": 0.88770409, \"best_metric\": 0.91017738}, {\"run_id\": \"AutoML_1b04273f-3366-4b1f-a919-64b4803b236f_34\", \"run_number\": 39, \"metric\": null, \"status\": \"Canceled\", \"run_type\": \"azureml.scriptrun\", \"training_percent\": \"100\", \"start_time\": \"2021-04-06T16:30:14.542647Z\", \"end_time\": \"2021-04-06T16:31:08.197937Z\", \"created_time\": \"2021-04-06T16:30:05.574762Z\", \"created_time_dt\": \"2021-04-06T16:30:05.574762Z\", \"duration\": \"0:01:02\", \"iteration\": \"34\", \"goal\": \"AUC_weighted_max\", \"run_name\": \"StandardScalerWrapper, LightGBM\", \"run_properties\": \"<azureml.automl.runtime.shared.model_wrappers.StandardScalerWrapper object at 0x7f6efa97d240\", \"primary_metric\": 0.90248037, \"best_metric\": 0.91017738}, {\"run_id\": \"AutoML_1b04273f-3366-4b1f-a919-64b4803b236f_35\", \"run_number\": 40, \"metric\": null, \"status\": \"Canceled\", \"run_type\": \"azureml.scriptrun\", \"training_percent\": \"100\", \"start_time\": \"2021-04-06T16:30:49.650603Z\", \"end_time\": \"2021-04-06T16:31:13.749429Z\", \"created_time\": \"2021-04-06T16:30:37.812893Z\", \"created_time_dt\": \"2021-04-06T16:30:37.812893Z\", \"duration\": \"0:00:35\", \"iteration\": \"35\", \"goal\": null, \"run_name\": \"Canceled\", \"run_properties\": null}, {\"run_id\": \"AutoML_1b04273f-3366-4b1f-a919-64b4803b236f_36\", \"run_number\": 41, \"metric\": null, \"status\": \"Completed\", \"run_type\": \"azureml.scriptrun\", \"training_percent\": \"100\", \"start_time\": \"2021-04-06T16:31:42.34807Z\", \"end_time\": \"2021-04-06T16:32:35.980Z\", \"created_time\": \"2021-04-06T16:31:15.804676Z\", \"created_time_dt\": \"2021-04-06T16:31:15.804676Z\", \"duration\": \"0:01:20\", \"iteration\": \"36\", \"goal\": \"AUC_weighted_max\", \"run_name\": \"VotingEnsemble\", \"run_properties\": \"classification_labels=None,\\n                              estimators=[('11',\\n                                           Pipeline(memory=None,\\n                                                    steps=[('robustscaler',\\n                                                            RobustScaler(copy=True,\\n                                                                         quantile_range=[10,\\n                                                                                         90],\\n                                                                         with_centering=True,\\n                                                                         with_scaling=False\", \"primary_metric\": 0.93017602, \"best_metric\": 0.93017602}, {\"run_id\": \"AutoML_1b04273f-3366-4b1f-a919-64b4803b236f_37\", \"run_number\": 42, \"metric\": null, \"status\": \"Completed\", \"run_type\": \"azureml.scriptrun\", \"training_percent\": \"100\", \"start_time\": \"2021-04-06T16:31:26.744376Z\", \"end_time\": \"2021-04-06T16:32:38.416623Z\", \"created_time\": \"2021-04-06T16:31:15.929622Z\", \"created_time_dt\": \"2021-04-06T16:31:15.929622Z\", \"duration\": \"0:01:22\", \"iteration\": \"37\", \"goal\": \"AUC_weighted_max\", \"run_name\": \"StackEnsemble\", \"run_properties\": \"base_learners=[('11',\\n                                        Pipeline(memory=None,\\n                                                 steps=[('robustscaler',\\n                                                         RobustScaler(copy=True,\\n                                                                      quantile_range=[10,\\n                                                                                      90],\\n                                                                      with_centering=True,\\n                                                                      with_scaling=False\", \"primary_metric\": 0.92029488, \"best_metric\": 0.93017602}], \"children_metrics\": {\"categories\": [0], \"series\": {\"recall_score_micro\": [{\"categories\": [\"0\", \"1\", \"2\", \"3\", \"4\", \"5\", \"6\", \"7\", \"8\", \"9\", \"10\", \"11\", \"12\", \"13\", \"14\", \"15\", \"16\", \"17\", \"18\", \"19\", \"20\", \"21\", \"22\", \"23\", \"24\", \"25\", \"26\", \"27\", \"28\", \"29\", \"30\", \"31\", \"32\", \"33\", \"34\", \"36\", \"37\"], \"mode\": \"markers\", \"name\": \"recall_score_micro\", \"stepped\": false, \"type\": \"scatter\", \"data\": [0.8317176870748298, 0.8152210884353742, 0.7865646258503401, 0.7578231292517006, 0.8277210884353743, 0.8360544217687075, 0.835969387755102, 0.8150510204081632, 0.7782312925170067, 0.7375, 0.782312925170068, 0.8193027210884354, 0.8110544217687075, 0.7947278911564626, 0.8319727891156463, 0.6062925170068026, 0.7908163265306122, 0.7864795918367348, 0.8148809523809524, 0.8400510204081633, 0.8153061224489797, 0.8070578231292517, 0.8153911564625851, 0.8193027210884354, 0.8562925170068028, 0.5530612244897959, 0.8112244897959183, 0.7006802721088434, 0.7047619047619047, 0.8032312925170068, 0.8029761904761905, 0.8274659863945578, 0.819047619047619, 0.8029761904761905, 0.8563775510204081, 0.8523809523809524, 0.8443027210884354]}, {\"categories\": [\"0\", \"1\", \"2\", \"3\", \"4\", \"5\", \"6\", \"7\", \"8\", \"9\", \"10\", \"11\", \"12\", \"13\", \"14\", \"15\", \"16\", \"17\", \"18\", \"19\", \"20\", \"21\", \"22\", \"23\", \"24\", \"25\", \"26\", \"27\", \"28\", \"29\", \"30\", \"31\", \"32\", \"33\", \"34\", \"36\", \"37\"], \"mode\": \"lines\", \"name\": \"recall_score_micro_max\", \"stepped\": true, \"type\": \"scatter\", \"data\": [0.8317176870748298, 0.8317176870748298, 0.8317176870748298, 0.8317176870748298, 0.8317176870748298, 0.8360544217687075, 0.8360544217687075, 0.8360544217687075, 0.8360544217687075, 0.8360544217687075, 0.8360544217687075, 0.8360544217687075, 0.8360544217687075, 0.8360544217687075, 0.8360544217687075, 0.8360544217687075, 0.8360544217687075, 0.8360544217687075, 0.8360544217687075, 0.8400510204081633, 0.8400510204081633, 0.8400510204081633, 0.8400510204081633, 0.8400510204081633, 0.8562925170068028, 0.8562925170068028, 0.8562925170068028, 0.8562925170068028, 0.8562925170068028, 0.8562925170068028, 0.8562925170068028, 0.8562925170068028, 0.8562925170068028, 0.8562925170068028, 0.8563775510204081, 0.8563775510204081, 0.8563775510204081]}], \"recall_score_weighted\": [{\"categories\": [\"0\", \"1\", \"2\", \"3\", \"4\", \"5\", \"6\", \"7\", \"8\", \"9\", \"10\", \"11\", \"12\", \"13\", \"14\", \"15\", \"16\", \"17\", \"18\", \"19\", \"20\", \"21\", \"22\", \"23\", \"24\", \"25\", \"26\", \"27\", \"28\", \"29\", \"30\", \"31\", \"32\", \"33\", \"34\", \"36\", \"37\"], \"mode\": \"markers\", \"name\": \"recall_score_weighted\", \"stepped\": false, \"type\": \"scatter\", \"data\": [0.8317176870748298, 0.8152210884353742, 0.7865646258503401, 0.7578231292517006, 0.8277210884353743, 0.8360544217687075, 0.835969387755102, 0.8150510204081632, 0.7782312925170067, 0.7375, 0.782312925170068, 0.8193027210884354, 0.8110544217687075, 0.7947278911564626, 0.8319727891156463, 0.6062925170068026, 0.7908163265306122, 0.7864795918367348, 0.8148809523809524, 0.8400510204081633, 0.8153061224489797, 0.8070578231292517, 0.8153911564625851, 0.8193027210884354, 0.8562925170068028, 0.5530612244897959, 0.8112244897959183, 0.7006802721088434, 0.7047619047619047, 0.8032312925170068, 0.8029761904761905, 0.8274659863945578, 0.819047619047619, 0.8029761904761905, 0.8563775510204081, 0.8523809523809524, 0.8443027210884354]}, {\"categories\": [\"0\", \"1\", \"2\", \"3\", \"4\", \"5\", \"6\", \"7\", \"8\", \"9\", \"10\", \"11\", \"12\", \"13\", \"14\", \"15\", \"16\", \"17\", \"18\", \"19\", \"20\", \"21\", \"22\", \"23\", \"24\", \"25\", \"26\", \"27\", \"28\", \"29\", \"30\", \"31\", \"32\", \"33\", \"34\", \"36\", \"37\"], \"mode\": \"lines\", \"name\": \"recall_score_weighted_max\", \"stepped\": true, \"type\": \"scatter\", \"data\": [0.8317176870748298, 0.8317176870748298, 0.8317176870748298, 0.8317176870748298, 0.8317176870748298, 0.8360544217687075, 0.8360544217687075, 0.8360544217687075, 0.8360544217687075, 0.8360544217687075, 0.8360544217687075, 0.8360544217687075, 0.8360544217687075, 0.8360544217687075, 0.8360544217687075, 0.8360544217687075, 0.8360544217687075, 0.8360544217687075, 0.8360544217687075, 0.8400510204081633, 0.8400510204081633, 0.8400510204081633, 0.8400510204081633, 0.8400510204081633, 0.8562925170068028, 0.8562925170068028, 0.8562925170068028, 0.8562925170068028, 0.8562925170068028, 0.8562925170068028, 0.8562925170068028, 0.8562925170068028, 0.8562925170068028, 0.8562925170068028, 0.8563775510204081, 0.8563775510204081, 0.8563775510204081]}], \"f1_score_micro\": [{\"categories\": [\"0\", \"1\", \"2\", \"3\", \"4\", \"5\", \"6\", \"7\", \"8\", \"9\", \"10\", \"11\", \"12\", \"13\", \"14\", \"15\", \"16\", \"17\", \"18\", \"19\", \"20\", \"21\", \"22\", \"23\", \"24\", \"25\", \"26\", \"27\", \"28\", \"29\", \"30\", \"31\", \"32\", \"33\", \"34\", \"36\", \"37\"], \"mode\": \"markers\", \"name\": \"f1_score_micro\", \"stepped\": false, \"type\": \"scatter\", \"data\": [0.8317176870748298, 0.8152210884353742, 0.7865646258503401, 0.7578231292517006, 0.8277210884353743, 0.8360544217687075, 0.835969387755102, 0.8150510204081632, 0.7782312925170067, 0.7375, 0.782312925170068, 0.8193027210884353, 0.8110544217687075, 0.7947278911564626, 0.8319727891156463, 0.6062925170068026, 0.7908163265306122, 0.7864795918367347, 0.8148809523809524, 0.8400510204081633, 0.8153061224489795, 0.8070578231292516, 0.8153911564625849, 0.8193027210884353, 0.8562925170068028, 0.5530612244897959, 0.8112244897959183, 0.7006802721088434, 0.7047619047619047, 0.8032312925170068, 0.8029761904761905, 0.8274659863945578, 0.819047619047619, 0.8029761904761905, 0.8563775510204081, 0.8523809523809524, 0.8443027210884354]}, {\"categories\": [\"0\", \"1\", \"2\", \"3\", \"4\", \"5\", \"6\", \"7\", \"8\", \"9\", \"10\", \"11\", \"12\", \"13\", \"14\", \"15\", \"16\", \"17\", \"18\", \"19\", \"20\", \"21\", \"22\", \"23\", \"24\", \"25\", \"26\", \"27\", \"28\", \"29\", \"30\", \"31\", \"32\", \"33\", \"34\", \"36\", \"37\"], \"mode\": \"lines\", \"name\": \"f1_score_micro_max\", \"stepped\": true, \"type\": \"scatter\", \"data\": [0.8317176870748298, 0.8317176870748298, 0.8317176870748298, 0.8317176870748298, 0.8317176870748298, 0.8360544217687075, 0.8360544217687075, 0.8360544217687075, 0.8360544217687075, 0.8360544217687075, 0.8360544217687075, 0.8360544217687075, 0.8360544217687075, 0.8360544217687075, 0.8360544217687075, 0.8360544217687075, 0.8360544217687075, 0.8360544217687075, 0.8360544217687075, 0.8400510204081633, 0.8400510204081633, 0.8400510204081633, 0.8400510204081633, 0.8400510204081633, 0.8562925170068028, 0.8562925170068028, 0.8562925170068028, 0.8562925170068028, 0.8562925170068028, 0.8562925170068028, 0.8562925170068028, 0.8562925170068028, 0.8562925170068028, 0.8562925170068028, 0.8563775510204081, 0.8563775510204081, 0.8563775510204081]}], \"balanced_accuracy\": [{\"categories\": [\"0\", \"1\", \"2\", \"3\", \"4\", \"5\", \"6\", \"7\", \"8\", \"9\", \"10\", \"11\", \"12\", \"13\", \"14\", \"15\", \"16\", \"17\", \"18\", \"19\", \"20\", \"21\", \"22\", \"23\", \"24\", \"25\", \"26\", \"27\", \"28\", \"29\", \"30\", \"31\", \"32\", \"33\", \"34\", \"36\", \"37\"], \"mode\": \"markers\", \"name\": \"balanced_accuracy\", \"stepped\": false, \"type\": \"scatter\", \"data\": [0.7970417109661092, 0.7767480073107758, 0.7394140414663735, 0.6566562943697669, 0.7984630043104026, 0.7706244081606111, 0.7981534572266622, 0.7489671934643471, 0.6914330135392754, 0.648576277800786, 0.679254779586848, 0.7463967879053268, 0.7984313787569555, 0.7368511921293306, 0.7958782234998154, 0.4873273718524892, 0.682517261359766, 0.7460765922715389, 0.799681596907703, 0.7927558082806261, 0.7639186249018467, 0.7848616611924312, 0.7558495847395278, 0.801966732292309, 0.8219080812659161, 0.5202669687913871, 0.7796010795910926, 0.5282211252799487, 0.541488413547237, 0.7029226729416482, 0.7168441457340887, 0.7804218424362237, 0.7767057894667003, 0.751321910110485, 0.817043016960624, 0.8040969835561865, 0.8105790056454193]}, {\"categories\": [\"0\", \"1\", \"2\", \"3\", \"4\", \"5\", \"6\", \"7\", \"8\", \"9\", \"10\", \"11\", \"12\", \"13\", \"14\", \"15\", \"16\", \"17\", \"18\", \"19\", \"20\", \"21\", \"22\", \"23\", \"24\", \"25\", \"26\", \"27\", \"28\", \"29\", \"30\", \"31\", \"32\", \"33\", \"34\", \"36\", \"37\"], \"mode\": \"lines\", \"name\": \"balanced_accuracy_max\", \"stepped\": true, \"type\": \"scatter\", \"data\": [0.7970417109661092, 0.7970417109661092, 0.7970417109661092, 0.7970417109661092, 0.7984630043104026, 0.7984630043104026, 0.7984630043104026, 0.7984630043104026, 0.7984630043104026, 0.7984630043104026, 0.7984630043104026, 0.7984630043104026, 0.7984630043104026, 0.7984630043104026, 0.7984630043104026, 0.7984630043104026, 0.7984630043104026, 0.7984630043104026, 0.799681596907703, 0.799681596907703, 0.799681596907703, 0.799681596907703, 0.799681596907703, 0.801966732292309, 0.8219080812659161, 0.8219080812659161, 0.8219080812659161, 0.8219080812659161, 0.8219080812659161, 0.8219080812659161, 0.8219080812659161, 0.8219080812659161, 0.8219080812659161, 0.8219080812659161, 0.8219080812659161, 0.8219080812659161, 0.8219080812659161]}], \"precision_score_macro\": [{\"categories\": [\"0\", \"1\", \"2\", \"3\", \"4\", \"5\", \"6\", \"7\", \"8\", \"9\", \"10\", \"11\", \"12\", \"13\", \"14\", \"15\", \"16\", \"17\", \"18\", \"19\", \"20\", \"21\", \"22\", \"23\", \"24\", \"25\", \"26\", \"27\", \"28\", \"29\", \"30\", \"31\", \"32\", \"33\", \"34\", \"36\", \"37\"], \"mode\": \"markers\", \"name\": \"precision_score_macro\", \"stepped\": false, \"type\": \"scatter\", \"data\": [0.8095041588708571, 0.7947596484612738, 0.7826346801346801, 0.7655118266746175, 0.8158805737031545, 0.8465258352758351, 0.825539396558048, 0.8219390331906169, 0.7838691781544872, 0.7182059314954052, 0.8065069686411149, 0.8274631864649231, 0.7980064206019978, 0.7695704864125917, 0.8228445346923609, 0.46814830891203885, 0.837997828695503, 0.7500581081714983, 0.7880472336354689, 0.8376215842037343, 0.8062410913446458, 0.7788222724987429, 0.8114390080773781, 0.8117075267075267, 0.8492315505715586, 0.5172525233221144, 0.7977898795668196, 0.7479727529309596, 0.6507055620583108, 0.8382059924122613, 0.829750830564784, 0.8216144104630947, 0.8075140064613748, 0.7822809858020958, 0.8536472308221535, 0.863977610097636, 0.8571252827189927]}, {\"categories\": [\"0\", \"1\", \"2\", \"3\", \"4\", \"5\", \"6\", \"7\", \"8\", \"9\", \"10\", \"11\", \"12\", \"13\", \"14\", \"15\", \"16\", \"17\", \"18\", \"19\", \"20\", \"21\", \"22\", \"23\", \"24\", \"25\", \"26\", \"27\", \"28\", \"29\", \"30\", \"31\", \"32\", \"33\", \"34\", \"36\", \"37\"], \"mode\": \"lines\", \"name\": \"precision_score_macro_max\", \"stepped\": true, \"type\": \"scatter\", \"data\": [0.8095041588708571, 0.8095041588708571, 0.8095041588708571, 0.8095041588708571, 0.8158805737031545, 0.8465258352758351, 0.8465258352758351, 0.8465258352758351, 0.8465258352758351, 0.8465258352758351, 0.8465258352758351, 0.8465258352758351, 0.8465258352758351, 0.8465258352758351, 0.8465258352758351, 0.8465258352758351, 0.8465258352758351, 0.8465258352758351, 0.8465258352758351, 0.8465258352758351, 0.8465258352758351, 0.8465258352758351, 0.8465258352758351, 0.8465258352758351, 0.8492315505715586, 0.8492315505715586, 0.8492315505715586, 0.8492315505715586, 0.8492315505715586, 0.8492315505715586, 0.8492315505715586, 0.8492315505715586, 0.8492315505715586, 0.8492315505715586, 0.8536472308221535, 0.863977610097636, 0.863977610097636]}], \"log_loss\": [{\"categories\": [\"0\", \"1\", \"2\", \"3\", \"4\", \"5\", \"6\", \"7\", \"8\", \"9\", \"10\", \"11\", \"12\", \"13\", \"14\", \"15\", \"16\", \"17\", \"18\", \"19\", \"20\", \"21\", \"22\", \"23\", \"24\", \"25\", \"26\", \"27\", \"28\", \"29\", \"30\", \"31\", \"32\", \"33\", \"34\", \"36\", \"37\"], \"mode\": \"markers\", \"name\": \"log_loss\", \"stepped\": false, \"type\": \"scatter\", \"data\": [0.46872309524466227, 0.44542192975390626, 0.4100143782180239, 0.46765800041259353, 0.38903515392967003, 0.3992599887109097, 0.7984718109159361, 0.4209470404746364, 0.4780594522095571, 1.3395760825535508, 0.46987714939402503, 0.4268807303160364, 0.4238756888109007, 0.4434266756454197, 0.4228722681953199, 0.7671264757731955, 0.47640128135194904, 0.6246342923651698, 0.5325468313417249, 0.4821858540503753, 0.557553538197625, 0.5183497083043911, 0.4764340665715065, 0.42868385670429615, 0.39324609966706187, 0.6901064737990439, 0.4602585619131885, 0.5493716535344066, 0.5554140578499934, 0.4877226196177625, 0.5055718296549548, 0.3813067646550068, 0.394459535288085, 0.41510754172627184, 0.372767770305393, 0.4312372952968878, 0.35421458263598743]}, {\"categories\": [\"0\", \"1\", \"2\", \"3\", \"4\", \"5\", \"6\", \"7\", \"8\", \"9\", \"10\", \"11\", \"12\", \"13\", \"14\", \"15\", \"16\", \"17\", \"18\", \"19\", \"20\", \"21\", \"22\", \"23\", \"24\", \"25\", \"26\", \"27\", \"28\", \"29\", \"30\", \"31\", \"32\", \"33\", \"34\", \"36\", \"37\"], \"mode\": \"lines\", \"name\": \"log_loss_min\", \"stepped\": true, \"type\": \"scatter\", \"data\": [0.46872309524466227, 0.44542192975390626, 0.4100143782180239, 0.4100143782180239, 0.38903515392967003, 0.38903515392967003, 0.38903515392967003, 0.38903515392967003, 0.38903515392967003, 0.38903515392967003, 0.38903515392967003, 0.38903515392967003, 0.38903515392967003, 0.38903515392967003, 0.38903515392967003, 0.38903515392967003, 0.38903515392967003, 0.38903515392967003, 0.38903515392967003, 0.38903515392967003, 0.38903515392967003, 0.38903515392967003, 0.38903515392967003, 0.38903515392967003, 0.38903515392967003, 0.38903515392967003, 0.38903515392967003, 0.38903515392967003, 0.38903515392967003, 0.38903515392967003, 0.38903515392967003, 0.3813067646550068, 0.3813067646550068, 0.3813067646550068, 0.372767770305393, 0.372767770305393, 0.35421458263598743]}], \"AUC_micro\": [{\"categories\": [\"0\", \"1\", \"2\", \"3\", \"4\", \"5\", \"6\", \"7\", \"8\", \"9\", \"10\", \"11\", \"12\", \"13\", \"14\", \"15\", \"16\", \"17\", \"18\", \"19\", \"20\", \"21\", \"22\", \"23\", \"24\", \"25\", \"26\", \"27\", \"28\", \"29\", \"30\", \"31\", \"32\", \"33\", \"34\", \"36\", \"37\"], \"mode\": \"markers\", \"name\": \"AUC_micro\", \"stepped\": false, \"type\": \"scatter\", \"data\": [0.8974630434656856, 0.8902765846985053, 0.88778901441529, 0.8753319652691008, 0.9050975577305753, 0.9057674175112223, 0.8844425716715257, 0.8901450567471887, 0.8675010267712526, 0.7966218141168031, 0.8733275197834235, 0.9051554401522515, 0.900473182470267, 0.8695843601045861, 0.9169723841917718, 0.6543057869406266, 0.8745234913693368, 0.8591536295640705, 0.8842247804734139, 0.9002136334976167, 0.8804083006501919, 0.8660857816766162, 0.8756808867254385, 0.8851427284349114, 0.9037726612753945, 0.5806953266000278, 0.9016638755842472, 0.8299263327780093, 0.8238385192512379, 0.8646881073858115, 0.8919092232981628, 0.9083891911356379, 0.9022619336850386, 0.89917196683095, 0.9115851974293119, 0.9303887413809061, 0.9229164135892451]}, {\"categories\": [\"0\", \"1\", \"2\", \"3\", \"4\", \"5\", \"6\", \"7\", \"8\", \"9\", \"10\", \"11\", \"12\", \"13\", \"14\", \"15\", \"16\", \"17\", \"18\", \"19\", \"20\", \"21\", \"22\", \"23\", \"24\", \"25\", \"26\", \"27\", \"28\", \"29\", \"30\", \"31\", \"32\", \"33\", \"34\", \"36\", \"37\"], \"mode\": \"lines\", \"name\": \"AUC_micro_max\", \"stepped\": true, \"type\": \"scatter\", \"data\": [0.8974630434656856, 0.8974630434656856, 0.8974630434656856, 0.8974630434656856, 0.9050975577305753, 0.9057674175112223, 0.9057674175112223, 0.9057674175112223, 0.9057674175112223, 0.9057674175112223, 0.9057674175112223, 0.9057674175112223, 0.9057674175112223, 0.9057674175112223, 0.9169723841917718, 0.9169723841917718, 0.9169723841917718, 0.9169723841917718, 0.9169723841917718, 0.9169723841917718, 0.9169723841917718, 0.9169723841917718, 0.9169723841917718, 0.9169723841917718, 0.9169723841917718, 0.9169723841917718, 0.9169723841917718, 0.9169723841917718, 0.9169723841917718, 0.9169723841917718, 0.9169723841917718, 0.9169723841917718, 0.9169723841917718, 0.9169723841917718, 0.9169723841917718, 0.9303887413809061, 0.9303887413809061]}], \"precision_score_weighted\": [{\"categories\": [\"0\", \"1\", \"2\", \"3\", \"4\", \"5\", \"6\", \"7\", \"8\", \"9\", \"10\", \"11\", \"12\", \"13\", \"14\", \"15\", \"16\", \"17\", \"18\", \"19\", \"20\", \"21\", \"22\", \"23\", \"24\", \"25\", \"26\", \"27\", \"28\", \"29\", \"30\", \"31\", \"32\", \"33\", \"34\", \"36\", \"37\"], \"mode\": \"markers\", \"name\": \"precision_score_weighted\", \"stepped\": false, \"type\": \"scatter\", \"data\": [0.8345568182317882, 0.8181639701680268, 0.8014000549714835, 0.7675927886559115, 0.8385935216185381, 0.8478686392972108, 0.8434183520466204, 0.8248209517415063, 0.7872774843123392, 0.7441215830431056, 0.7984705333933806, 0.8281557029143451, 0.8311217382867271, 0.7927537858418632, 0.8396398858954315, 0.5537692748088302, 0.8194477711089008, 0.7883933217425727, 0.8218871960529561, 0.8479362212421471, 0.8240535075818946, 0.8161918412053467, 0.8209338455135985, 0.8371788547681402, 0.8625283446712018, 0.5896955121620857, 0.8254369928721129, 0.7222178037519827, 0.6731726861674836, 0.8256987579109492, 0.8176316991359112, 0.8344276218518465, 0.8217083835128948, 0.8056781236991133, 0.8643765561780267, 0.8654416105676226, 0.8660655353436688]}, {\"categories\": [\"0\", \"1\", \"2\", \"3\", \"4\", \"5\", \"6\", \"7\", \"8\", \"9\", \"10\", \"11\", \"12\", \"13\", \"14\", \"15\", \"16\", \"17\", \"18\", \"19\", \"20\", \"21\", \"22\", \"23\", \"24\", \"25\", \"26\", \"27\", \"28\", \"29\", \"30\", \"31\", \"32\", \"33\", \"34\", \"36\", \"37\"], \"mode\": \"lines\", \"name\": \"precision_score_weighted_max\", \"stepped\": true, \"type\": \"scatter\", \"data\": [0.8345568182317882, 0.8345568182317882, 0.8345568182317882, 0.8345568182317882, 0.8385935216185381, 0.8478686392972108, 0.8478686392972108, 0.8478686392972108, 0.8478686392972108, 0.8478686392972108, 0.8478686392972108, 0.8478686392972108, 0.8478686392972108, 0.8478686392972108, 0.8478686392972108, 0.8478686392972108, 0.8478686392972108, 0.8478686392972108, 0.8478686392972108, 0.8479362212421471, 0.8479362212421471, 0.8479362212421471, 0.8479362212421471, 0.8479362212421471, 0.8625283446712018, 0.8625283446712018, 0.8625283446712018, 0.8625283446712018, 0.8625283446712018, 0.8625283446712018, 0.8625283446712018, 0.8625283446712018, 0.8625283446712018, 0.8625283446712018, 0.8643765561780267, 0.8654416105676226, 0.8660655353436688]}], \"average_precision_score_weighted\": [{\"categories\": [\"0\", \"1\", \"2\", \"3\", \"4\", \"5\", \"6\", \"7\", \"8\", \"9\", \"10\", \"11\", \"12\", \"13\", \"14\", \"15\", \"16\", \"17\", \"18\", \"19\", \"20\", \"21\", \"22\", \"23\", \"24\", \"25\", \"26\", \"27\", \"28\", \"29\", \"30\", \"31\", \"32\", \"33\", \"34\", \"36\", \"37\"], \"mode\": \"markers\", \"name\": \"average_precision_score_weighted\", \"stepped\": false, \"type\": \"scatter\", \"data\": [0.894734467365722, 0.8850221377375332, 0.8985388758810059, 0.894336817231171, 0.9109597659530996, 0.9131243278074794, 0.8679374140719786, 0.8985924647815923, 0.8736536422610044, 0.76133471658191, 0.8827201174705195, 0.9185348181448273, 0.9119431385614778, 0.8682692535262913, 0.9234200019153788, 0.6189453625672988, 0.889683052183974, 0.8540038821184741, 0.8959423442359039, 0.9000307737021908, 0.8757447138027048, 0.869982468133597, 0.8771343414940628, 0.9065352941123821, 0.9009347450032198, 0.6383754623507075, 0.9010966274531949, 0.8655871478236896, 0.8550065961003117, 0.874080256587621, 0.9042277054692353, 0.9117773646503602, 0.9071333511143059, 0.9030254178200761, 0.9141538199315666, 0.9406513988674512, 0.9340771845734028]}, {\"categories\": [\"0\", \"1\", \"2\", \"3\", \"4\", \"5\", \"6\", \"7\", \"8\", \"9\", \"10\", \"11\", \"12\", \"13\", \"14\", \"15\", \"16\", \"17\", \"18\", \"19\", \"20\", \"21\", \"22\", \"23\", \"24\", \"25\", \"26\", \"27\", \"28\", \"29\", \"30\", \"31\", \"32\", \"33\", \"34\", \"36\", \"37\"], \"mode\": \"lines\", \"name\": \"average_precision_score_weighted_max\", \"stepped\": true, \"type\": \"scatter\", \"data\": [0.894734467365722, 0.894734467365722, 0.8985388758810059, 0.8985388758810059, 0.9109597659530996, 0.9131243278074794, 0.9131243278074794, 0.9131243278074794, 0.9131243278074794, 0.9131243278074794, 0.9131243278074794, 0.9185348181448273, 0.9185348181448273, 0.9185348181448273, 0.9234200019153788, 0.9234200019153788, 0.9234200019153788, 0.9234200019153788, 0.9234200019153788, 0.9234200019153788, 0.9234200019153788, 0.9234200019153788, 0.9234200019153788, 0.9234200019153788, 0.9234200019153788, 0.9234200019153788, 0.9234200019153788, 0.9234200019153788, 0.9234200019153788, 0.9234200019153788, 0.9234200019153788, 0.9234200019153788, 0.9234200019153788, 0.9234200019153788, 0.9234200019153788, 0.9406513988674512, 0.9406513988674512]}], \"f1_score_macro\": [{\"categories\": [\"0\", \"1\", \"2\", \"3\", \"4\", \"5\", \"6\", \"7\", \"8\", \"9\", \"10\", \"11\", \"12\", \"13\", \"14\", \"15\", \"16\", \"17\", \"18\", \"19\", \"20\", \"21\", \"22\", \"23\", \"24\", \"25\", \"26\", \"27\", \"28\", \"29\", \"30\", \"31\", \"32\", \"33\", \"34\", \"36\", \"37\"], \"mode\": \"markers\", \"name\": \"f1_score_macro\", \"stepped\": false, \"type\": \"scatter\", \"data\": [0.7999516601951675, 0.7819835122025388, 0.7432549480614766, 0.6685309239024825, 0.7993324805422134, 0.7881424376147368, 0.8036361907580266, 0.7653984967710457, 0.7041847006848773, 0.6510193167240014, 0.6874999439544462, 0.7643785835090183, 0.790355599391144, 0.7475338126823923, 0.802531785440204, 0.4711351749787679, 0.6983470366900901, 0.7464170258074946, 0.7910648083649894, 0.8032692612541951, 0.7718467701389903, 0.7776163303518334, 0.7694198512586808, 0.7978787361708085, 0.8288687297266455, 0.5097997544572569, 0.776126488577364, 0.46214437873591463, 0.48425213675213674, 0.7188487043913557, 0.7373106828822797, 0.7901104492933013, 0.7856131803109954, 0.7603286267308895, 0.8257272889665795, 0.8176638154098702, 0.8150853005449111]}, {\"categories\": [\"0\", \"1\", \"2\", \"3\", \"4\", \"5\", \"6\", \"7\", \"8\", \"9\", \"10\", \"11\", \"12\", \"13\", \"14\", \"15\", \"16\", \"17\", \"18\", \"19\", \"20\", \"21\", \"22\", \"23\", \"24\", \"25\", \"26\", \"27\", \"28\", \"29\", \"30\", \"31\", \"32\", \"33\", \"34\", \"36\", \"37\"], \"mode\": \"lines\", \"name\": \"f1_score_macro_max\", \"stepped\": true, \"type\": \"scatter\", \"data\": [0.7999516601951675, 0.7999516601951675, 0.7999516601951675, 0.7999516601951675, 0.7999516601951675, 0.7999516601951675, 0.8036361907580266, 0.8036361907580266, 0.8036361907580266, 0.8036361907580266, 0.8036361907580266, 0.8036361907580266, 0.8036361907580266, 0.8036361907580266, 0.8036361907580266, 0.8036361907580266, 0.8036361907580266, 0.8036361907580266, 0.8036361907580266, 0.8036361907580266, 0.8036361907580266, 0.8036361907580266, 0.8036361907580266, 0.8036361907580266, 0.8288687297266455, 0.8288687297266455, 0.8288687297266455, 0.8288687297266455, 0.8288687297266455, 0.8288687297266455, 0.8288687297266455, 0.8288687297266455, 0.8288687297266455, 0.8288687297266455, 0.8288687297266455, 0.8288687297266455, 0.8288687297266455]}], \"weighted_accuracy\": [{\"categories\": [\"0\", \"1\", \"2\", \"3\", \"4\", \"5\", \"6\", \"7\", \"8\", \"9\", \"10\", \"11\", \"12\", \"13\", \"14\", \"15\", \"16\", \"17\", \"18\", \"19\", \"20\", \"21\", \"22\", \"23\", \"24\", \"25\", \"26\", \"27\", \"28\", \"29\", \"30\", \"31\", \"32\", \"33\", \"34\", \"36\", \"37\"], \"mode\": \"markers\", \"name\": \"weighted_accuracy\", \"stepped\": false, \"type\": \"scatter\", \"data\": [0.8563500596545163, 0.8418850865151926, 0.8204221747344725, 0.8284025767750498, 0.8483349960781466, 0.8833881082546118, 0.8617185968152606, 0.8601140398603893, 0.8407421621960818, 0.8018652331853421, 0.8546980342058939, 0.8712537171673912, 0.8179820647757735, 0.8328938699073237, 0.8567495711833908, 0.6864970278914276, 0.8674425135739577, 0.8127197564789286, 0.8267847099485248, 0.8734509037022153, 0.8514409397106302, 0.8237755228704498, 0.8571826116043841, 0.8307769466617321, 0.880228407321025, 0.5759454748361772, 0.834294301848772, 0.8230710889769632, 0.821994727199419, 0.8719791640594874, 0.8636090818917035, 0.8606758064259508, 0.8495997651852015, 0.8372090678462619, 0.8847537315531071, 0.8871921047172853, 0.8690677600206677]}, {\"categories\": [\"0\", \"1\", \"2\", \"3\", \"4\", \"5\", \"6\", \"7\", \"8\", \"9\", \"10\", \"11\", \"12\", \"13\", \"14\", \"15\", \"16\", \"17\", \"18\", \"19\", \"20\", \"21\", \"22\", \"23\", \"24\", \"25\", \"26\", \"27\", \"28\", \"29\", \"30\", \"31\", \"32\", \"33\", \"34\", \"36\", \"37\"], \"mode\": \"lines\", \"name\": \"weighted_accuracy_max\", \"stepped\": true, \"type\": \"scatter\", \"data\": [0.8563500596545163, 0.8563500596545163, 0.8563500596545163, 0.8563500596545163, 0.8563500596545163, 0.8833881082546118, 0.8833881082546118, 0.8833881082546118, 0.8833881082546118, 0.8833881082546118, 0.8833881082546118, 0.8833881082546118, 0.8833881082546118, 0.8833881082546118, 0.8833881082546118, 0.8833881082546118, 0.8833881082546118, 0.8833881082546118, 0.8833881082546118, 0.8833881082546118, 0.8833881082546118, 0.8833881082546118, 0.8833881082546118, 0.8833881082546118, 0.8833881082546118, 0.8833881082546118, 0.8833881082546118, 0.8833881082546118, 0.8833881082546118, 0.8833881082546118, 0.8833881082546118, 0.8833881082546118, 0.8833881082546118, 0.8833881082546118, 0.8847537315531071, 0.8871921047172853, 0.8871921047172853]}], \"average_precision_score_macro\": [{\"categories\": [\"0\", \"1\", \"2\", \"3\", \"4\", \"5\", \"6\", \"7\", \"8\", \"9\", \"10\", \"11\", \"12\", \"13\", \"14\", \"15\", \"16\", \"17\", \"18\", \"19\", \"20\", \"21\", \"22\", \"23\", \"24\", \"25\", \"26\", \"27\", \"28\", \"29\", \"30\", \"31\", \"32\", \"33\", \"34\", \"36\", \"37\"], \"mode\": \"markers\", \"name\": \"average_precision_score_macro\", \"stepped\": false, \"type\": \"scatter\", \"data\": [0.8660851610841391, 0.8533758835027887, 0.8704872510873353, 0.8656219581781448, 0.8859374409620665, 0.8905836641637433, 0.8393594383091203, 0.8689157310723509, 0.8473485088799009, 0.7224103979743985, 0.8511500482755278, 0.8937721431727417, 0.8902301963220832, 0.8349364371307739, 0.9023495059248743, 0.5500030875309652, 0.8595868587561141, 0.8078951391531357, 0.8645796415714964, 0.8727955081789137, 0.8442199822997385, 0.8402037641403325, 0.8437859830997556, 0.8838237868037767, 0.8737435390329946, 0.5823795291553905, 0.8796941415569639, 0.8292054226084755, 0.81510759167532, 0.8469969892567102, 0.8845570675488947, 0.8887327166761795, 0.8837987380388661, 0.8748952309003846, 0.8889628738876876, 0.9233174078711418, 0.9142152531110614]}, {\"categories\": [\"0\", \"1\", \"2\", \"3\", \"4\", \"5\", \"6\", \"7\", \"8\", \"9\", \"10\", \"11\", \"12\", \"13\", \"14\", \"15\", \"16\", \"17\", \"18\", \"19\", \"20\", \"21\", \"22\", \"23\", \"24\", \"25\", \"26\", \"27\", \"28\", \"29\", \"30\", \"31\", \"32\", \"33\", \"34\", \"36\", \"37\"], \"mode\": \"lines\", \"name\": \"average_precision_score_macro_max\", \"stepped\": true, \"type\": \"scatter\", \"data\": [0.8660851610841391, 0.8660851610841391, 0.8704872510873353, 0.8704872510873353, 0.8859374409620665, 0.8905836641637433, 0.8905836641637433, 0.8905836641637433, 0.8905836641637433, 0.8905836641637433, 0.8905836641637433, 0.8937721431727417, 0.8937721431727417, 0.8937721431727417, 0.9023495059248743, 0.9023495059248743, 0.9023495059248743, 0.9023495059248743, 0.9023495059248743, 0.9023495059248743, 0.9023495059248743, 0.9023495059248743, 0.9023495059248743, 0.9023495059248743, 0.9023495059248743, 0.9023495059248743, 0.9023495059248743, 0.9023495059248743, 0.9023495059248743, 0.9023495059248743, 0.9023495059248743, 0.9023495059248743, 0.9023495059248743, 0.9023495059248743, 0.9023495059248743, 0.9233174078711418, 0.9233174078711418]}], \"precision_score_micro\": [{\"categories\": [\"0\", \"1\", \"2\", \"3\", \"4\", \"5\", \"6\", \"7\", \"8\", \"9\", \"10\", \"11\", \"12\", \"13\", \"14\", \"15\", \"16\", \"17\", \"18\", \"19\", \"20\", \"21\", \"22\", \"23\", \"24\", \"25\", \"26\", \"27\", \"28\", \"29\", \"30\", \"31\", \"32\", \"33\", \"34\", \"36\", \"37\"], \"mode\": \"markers\", \"name\": \"precision_score_micro\", \"stepped\": false, \"type\": \"scatter\", \"data\": [0.8317176870748298, 0.8152210884353742, 0.7865646258503401, 0.7578231292517006, 0.8277210884353743, 0.8360544217687075, 0.835969387755102, 0.8150510204081632, 0.7782312925170067, 0.7375, 0.782312925170068, 0.8193027210884354, 0.8110544217687075, 0.7947278911564626, 0.8319727891156463, 0.6062925170068026, 0.7908163265306122, 0.7864795918367348, 0.8148809523809524, 0.8400510204081633, 0.8153061224489797, 0.8070578231292517, 0.8153911564625851, 0.8193027210884354, 0.8562925170068028, 0.5530612244897959, 0.8112244897959183, 0.7006802721088434, 0.7047619047619047, 0.8032312925170068, 0.8029761904761905, 0.8274659863945578, 0.819047619047619, 0.8029761904761905, 0.8563775510204081, 0.8523809523809524, 0.8443027210884354]}, {\"categories\": [\"0\", \"1\", \"2\", \"3\", \"4\", \"5\", \"6\", \"7\", \"8\", \"9\", \"10\", \"11\", \"12\", \"13\", \"14\", \"15\", \"16\", \"17\", \"18\", \"19\", \"20\", \"21\", \"22\", \"23\", \"24\", \"25\", \"26\", \"27\", \"28\", \"29\", \"30\", \"31\", \"32\", \"33\", \"34\", \"36\", \"37\"], \"mode\": \"lines\", \"name\": \"precision_score_micro_max\", \"stepped\": true, \"type\": \"scatter\", \"data\": [0.8317176870748298, 0.8317176870748298, 0.8317176870748298, 0.8317176870748298, 0.8317176870748298, 0.8360544217687075, 0.8360544217687075, 0.8360544217687075, 0.8360544217687075, 0.8360544217687075, 0.8360544217687075, 0.8360544217687075, 0.8360544217687075, 0.8360544217687075, 0.8360544217687075, 0.8360544217687075, 0.8360544217687075, 0.8360544217687075, 0.8360544217687075, 0.8400510204081633, 0.8400510204081633, 0.8400510204081633, 0.8400510204081633, 0.8400510204081633, 0.8562925170068028, 0.8562925170068028, 0.8562925170068028, 0.8562925170068028, 0.8562925170068028, 0.8562925170068028, 0.8562925170068028, 0.8562925170068028, 0.8562925170068028, 0.8562925170068028, 0.8563775510204081, 0.8563775510204081, 0.8563775510204081]}], \"AUC_macro\": [{\"categories\": [\"0\", \"1\", \"2\", \"3\", \"4\", \"5\", \"6\", \"7\", \"8\", \"9\", \"10\", \"11\", \"12\", \"13\", \"14\", \"15\", \"16\", \"17\", \"18\", \"19\", \"20\", \"21\", \"22\", \"23\", \"24\", \"25\", \"26\", \"27\", \"28\", \"29\", \"30\", \"31\", \"32\", \"33\", \"34\", \"36\", \"37\"], \"mode\": \"markers\", \"name\": \"AUC_macro\", \"stepped\": false, \"type\": \"scatter\", \"data\": [0.8820908343628808, 0.8700183584184383, 0.8800232580318468, 0.8793305183447997, 0.8980912420690709, 0.896179147372596, 0.8568326540687472, 0.8813248972916405, 0.8555098651473365, 0.7225076475950339, 0.8636179571064222, 0.9101773793524517, 0.8906179464753319, 0.8472997923212644, 0.9074735206314154, 0.5319536932989445, 0.8696308668195215, 0.8361006681989404, 0.8837108146356124, 0.8920858497783495, 0.8654597993082962, 0.8492654265849111, 0.8557955271977044, 0.889808811870132, 0.8877225845716806, 0.5714858426857827, 0.8862810805160748, 0.8397274413503316, 0.8252022991711396, 0.8470289148582367, 0.8905431214479451, 0.8981707424481818, 0.8896131920500242, 0.8877040888026606, 0.9024803652687403, 0.9301760198144899, 0.9202948754032345]}, {\"categories\": [\"0\", \"1\", \"2\", \"3\", \"4\", \"5\", \"6\", \"7\", \"8\", \"9\", \"10\", \"11\", \"12\", \"13\", \"14\", \"15\", \"16\", \"17\", \"18\", \"19\", \"20\", \"21\", \"22\", \"23\", \"24\", \"25\", \"26\", \"27\", \"28\", \"29\", \"30\", \"31\", \"32\", \"33\", \"34\", \"36\", \"37\"], \"mode\": \"lines\", \"name\": \"AUC_macro_max\", \"stepped\": true, \"type\": \"scatter\", \"data\": [0.8820908343628808, 0.8820908343628808, 0.8820908343628808, 0.8820908343628808, 0.8980912420690709, 0.8980912420690709, 0.8980912420690709, 0.8980912420690709, 0.8980912420690709, 0.8980912420690709, 0.8980912420690709, 0.9101773793524517, 0.9101773793524517, 0.9101773793524517, 0.9101773793524517, 0.9101773793524517, 0.9101773793524517, 0.9101773793524517, 0.9101773793524517, 0.9101773793524517, 0.9101773793524517, 0.9101773793524517, 0.9101773793524517, 0.9101773793524517, 0.9101773793524517, 0.9101773793524517, 0.9101773793524517, 0.9101773793524517, 0.9101773793524517, 0.9101773793524517, 0.9101773793524517, 0.9101773793524517, 0.9101773793524517, 0.9101773793524517, 0.9101773793524517, 0.9301760198144899, 0.9301760198144899]}], \"accuracy\": [{\"categories\": [\"0\", \"1\", \"2\", \"3\", \"4\", \"5\", \"6\", \"7\", \"8\", \"9\", \"10\", \"11\", \"12\", \"13\", \"14\", \"15\", \"16\", \"17\", \"18\", \"19\", \"20\", \"21\", \"22\", \"23\", \"24\", \"25\", \"26\", \"27\", \"28\", \"29\", \"30\", \"31\", \"32\", \"33\", \"34\", \"36\", \"37\"], \"mode\": \"markers\", \"name\": \"accuracy\", \"stepped\": false, \"type\": \"scatter\", \"data\": [0.8317176870748298, 0.8152210884353742, 0.7865646258503401, 0.7578231292517006, 0.8277210884353743, 0.8360544217687075, 0.835969387755102, 0.8150510204081632, 0.7782312925170067, 0.7375, 0.782312925170068, 0.8193027210884354, 0.8110544217687075, 0.7947278911564626, 0.8319727891156463, 0.6062925170068026, 0.7908163265306122, 0.7864795918367348, 0.8148809523809524, 0.8400510204081633, 0.8153061224489797, 0.8070578231292517, 0.8153911564625851, 0.8193027210884354, 0.8562925170068028, 0.5530612244897959, 0.8112244897959183, 0.7006802721088434, 0.7047619047619047, 0.8032312925170068, 0.8029761904761905, 0.8274659863945578, 0.819047619047619, 0.8029761904761905, 0.8563775510204081, 0.8523809523809524, 0.8443027210884354]}, {\"categories\": [\"0\", \"1\", \"2\", \"3\", \"4\", \"5\", \"6\", \"7\", \"8\", \"9\", \"10\", \"11\", \"12\", \"13\", \"14\", \"15\", \"16\", \"17\", \"18\", \"19\", \"20\", \"21\", \"22\", \"23\", \"24\", \"25\", \"26\", \"27\", \"28\", \"29\", \"30\", \"31\", \"32\", \"33\", \"34\", \"36\", \"37\"], \"mode\": \"lines\", \"name\": \"accuracy_max\", \"stepped\": true, \"type\": \"scatter\", \"data\": [0.8317176870748298, 0.8317176870748298, 0.8317176870748298, 0.8317176870748298, 0.8317176870748298, 0.8360544217687075, 0.8360544217687075, 0.8360544217687075, 0.8360544217687075, 0.8360544217687075, 0.8360544217687075, 0.8360544217687075, 0.8360544217687075, 0.8360544217687075, 0.8360544217687075, 0.8360544217687075, 0.8360544217687075, 0.8360544217687075, 0.8360544217687075, 0.8400510204081633, 0.8400510204081633, 0.8400510204081633, 0.8400510204081633, 0.8400510204081633, 0.8562925170068028, 0.8562925170068028, 0.8562925170068028, 0.8562925170068028, 0.8562925170068028, 0.8562925170068028, 0.8562925170068028, 0.8562925170068028, 0.8562925170068028, 0.8562925170068028, 0.8563775510204081, 0.8563775510204081, 0.8563775510204081]}], \"average_precision_score_micro\": [{\"categories\": [\"0\", \"1\", \"2\", \"3\", \"4\", \"5\", \"6\", \"7\", \"8\", \"9\", \"10\", \"11\", \"12\", \"13\", \"14\", \"15\", \"16\", \"17\", \"18\", \"19\", \"20\", \"21\", \"22\", \"23\", \"24\", \"25\", \"26\", \"27\", \"28\", \"29\", \"30\", \"31\", \"32\", \"33\", \"34\", \"36\", \"37\"], \"mode\": \"markers\", \"name\": \"average_precision_score_micro\", \"stepped\": false, \"type\": \"scatter\", \"data\": [0.8927280759852986, 0.8874938547925136, 0.8904428923041916, 0.8828700260921167, 0.9081912387647723, 0.9074340225640961, 0.8715468249429866, 0.8896468854321423, 0.8667290924483211, 0.773676254636847, 0.8765303532475428, 0.9096777283043895, 0.9049016651175229, 0.8752797637935151, 0.9227204804670548, 0.6441051308398201, 0.8768152083589076, 0.8648489024817211, 0.8895721656711497, 0.8983696164063077, 0.8753503341222842, 0.8652545041964708, 0.8793819648793704, 0.8792010984525014, 0.905445037118696, 0.5727277753006597, 0.8971878097397129, 0.8423162127646993, 0.8364438710959254, 0.864065724296799, 0.8930417828391892, 0.9129671076316015, 0.9074811860115174, 0.9040653480257983, 0.9135281470174089, 0.9344197153208056, 0.9289593260657405]}, {\"categories\": [\"0\", \"1\", \"2\", \"3\", \"4\", \"5\", \"6\", \"7\", \"8\", \"9\", \"10\", \"11\", \"12\", \"13\", \"14\", \"15\", \"16\", \"17\", \"18\", \"19\", \"20\", \"21\", \"22\", \"23\", \"24\", \"25\", \"26\", \"27\", \"28\", \"29\", \"30\", \"31\", \"32\", \"33\", \"34\", \"36\", \"37\"], \"mode\": \"lines\", \"name\": \"average_precision_score_micro_max\", \"stepped\": true, \"type\": \"scatter\", \"data\": [0.8927280759852986, 0.8927280759852986, 0.8927280759852986, 0.8927280759852986, 0.9081912387647723, 0.9081912387647723, 0.9081912387647723, 0.9081912387647723, 0.9081912387647723, 0.9081912387647723, 0.9081912387647723, 0.9096777283043895, 0.9096777283043895, 0.9096777283043895, 0.9227204804670548, 0.9227204804670548, 0.9227204804670548, 0.9227204804670548, 0.9227204804670548, 0.9227204804670548, 0.9227204804670548, 0.9227204804670548, 0.9227204804670548, 0.9227204804670548, 0.9227204804670548, 0.9227204804670548, 0.9227204804670548, 0.9227204804670548, 0.9227204804670548, 0.9227204804670548, 0.9227204804670548, 0.9227204804670548, 0.9227204804670548, 0.9227204804670548, 0.9227204804670548, 0.9344197153208056, 0.9344197153208056]}], \"recall_score_macro\": [{\"categories\": [\"0\", \"1\", \"2\", \"3\", \"4\", \"5\", \"6\", \"7\", \"8\", \"9\", \"10\", \"11\", \"12\", \"13\", \"14\", \"15\", \"16\", \"17\", \"18\", \"19\", \"20\", \"21\", \"22\", \"23\", \"24\", \"25\", \"26\", \"27\", \"28\", \"29\", \"30\", \"31\", \"32\", \"33\", \"34\", \"36\", \"37\"], \"mode\": \"markers\", \"name\": \"recall_score_macro\", \"stepped\": false, \"type\": \"scatter\", \"data\": [0.7970417109661092, 0.7767480073107758, 0.7394140414663735, 0.6566562943697669, 0.7984630043104026, 0.7706244081606111, 0.7981534572266622, 0.7489671934643471, 0.6914330135392754, 0.648576277800786, 0.679254779586848, 0.7463967879053268, 0.7984313787569555, 0.7368511921293306, 0.7958782234998154, 0.4873273718524892, 0.682517261359766, 0.7460765922715389, 0.799681596907703, 0.7927558082806261, 0.7639186249018467, 0.7848616611924312, 0.7558495847395278, 0.801966732292309, 0.8219080812659161, 0.5202669687913871, 0.7796010795910926, 0.5282211252799487, 0.541488413547237, 0.7029226729416482, 0.7168441457340887, 0.7804218424362237, 0.7767057894667003, 0.751321910110485, 0.817043016960624, 0.8040969835561865, 0.8105790056454193]}, {\"categories\": [\"0\", \"1\", \"2\", \"3\", \"4\", \"5\", \"6\", \"7\", \"8\", \"9\", \"10\", \"11\", \"12\", \"13\", \"14\", \"15\", \"16\", \"17\", \"18\", \"19\", \"20\", \"21\", \"22\", \"23\", \"24\", \"25\", \"26\", \"27\", \"28\", \"29\", \"30\", \"31\", \"32\", \"33\", \"34\", \"36\", \"37\"], \"mode\": \"lines\", \"name\": \"recall_score_macro_max\", \"stepped\": true, \"type\": \"scatter\", \"data\": [0.7970417109661092, 0.7970417109661092, 0.7970417109661092, 0.7970417109661092, 0.7984630043104026, 0.7984630043104026, 0.7984630043104026, 0.7984630043104026, 0.7984630043104026, 0.7984630043104026, 0.7984630043104026, 0.7984630043104026, 0.7984630043104026, 0.7984630043104026, 0.7984630043104026, 0.7984630043104026, 0.7984630043104026, 0.7984630043104026, 0.799681596907703, 0.799681596907703, 0.799681596907703, 0.799681596907703, 0.799681596907703, 0.801966732292309, 0.8219080812659161, 0.8219080812659161, 0.8219080812659161, 0.8219080812659161, 0.8219080812659161, 0.8219080812659161, 0.8219080812659161, 0.8219080812659161, 0.8219080812659161, 0.8219080812659161, 0.8219080812659161, 0.8219080812659161, 0.8219080812659161]}], \"matthews_correlation\": [{\"categories\": [\"0\", \"1\", \"2\", \"3\", \"4\", \"5\", \"6\", \"7\", \"8\", \"9\", \"10\", \"11\", \"12\", \"13\", \"14\", \"15\", \"16\", \"17\", \"18\", \"19\", \"20\", \"21\", \"22\", \"23\", \"24\", \"25\", \"26\", \"27\", \"28\", \"29\", \"30\", \"31\", \"32\", \"33\", \"34\", \"36\", \"37\"], \"mode\": \"markers\", \"name\": \"matthews_correlation\", \"stepped\": false, \"type\": \"scatter\", \"data\": [0.6058948023949899, 0.5705334920472961, 0.5159740795229807, 0.40335473894666185, 0.6125909324370568, 0.6106714477728991, 0.6214320407011675, 0.5625663314984531, 0.46346524840924397, 0.35497184743216204, 0.46012242280206106, 0.5661283386776196, 0.595324610798382, 0.5041670842260421, 0.6173417308995219, -0.039761130338225405, 0.4934608557481118, 0.4956954538745397, 0.5872480112000094, 0.6267443400019973, 0.5656818323521123, 0.5629269311310854, 0.5625827115219982, 0.6122874674340071, 0.6692006611384996, 0.037318101396476164, 0.5737785446988979, 0.17897128992467873, 0.17112105034433378, 0.5157137076585488, 0.5315756396022313, 0.5985616013877073, 0.5824315190023739, 0.5311553588489664, 0.6681018430807504, 0.662771566723111, 0.662231172471107]}, {\"categories\": [\"0\", \"1\", \"2\", \"3\", \"4\", \"5\", \"6\", \"7\", \"8\", \"9\", \"10\", \"11\", \"12\", \"13\", \"14\", \"15\", \"16\", \"17\", \"18\", \"19\", \"20\", \"21\", \"22\", \"23\", \"24\", \"25\", \"26\", \"27\", \"28\", \"29\", \"30\", \"31\", \"32\", \"33\", \"34\", \"36\", \"37\"], \"mode\": \"lines\", \"name\": \"matthews_correlation_max\", \"stepped\": true, \"type\": \"scatter\", \"data\": [0.6058948023949899, 0.6058948023949899, 0.6058948023949899, 0.6058948023949899, 0.6125909324370568, 0.6125909324370568, 0.6214320407011675, 0.6214320407011675, 0.6214320407011675, 0.6214320407011675, 0.6214320407011675, 0.6214320407011675, 0.6214320407011675, 0.6214320407011675, 0.6214320407011675, 0.6214320407011675, 0.6214320407011675, 0.6214320407011675, 0.6214320407011675, 0.6267443400019973, 0.6267443400019973, 0.6267443400019973, 0.6267443400019973, 0.6267443400019973, 0.6692006611384996, 0.6692006611384996, 0.6692006611384996, 0.6692006611384996, 0.6692006611384996, 0.6692006611384996, 0.6692006611384996, 0.6692006611384996, 0.6692006611384996, 0.6692006611384996, 0.6692006611384996, 0.6692006611384996, 0.6692006611384996]}], \"f1_score_weighted\": [{\"categories\": [\"0\", \"1\", \"2\", \"3\", \"4\", \"5\", \"6\", \"7\", \"8\", \"9\", \"10\", \"11\", \"12\", \"13\", \"14\", \"15\", \"16\", \"17\", \"18\", \"19\", \"20\", \"21\", \"22\", \"23\", \"24\", \"25\", \"26\", \"27\", \"28\", \"29\", \"30\", \"31\", \"32\", \"33\", \"34\", \"36\", \"37\"], \"mode\": \"markers\", \"name\": \"f1_score_weighted\", \"stepped\": false, \"type\": \"scatter\", \"data\": [0.8304991853584788, 0.8138329567598619, 0.7798266164398344, 0.7332960193867536, 0.8270627509629277, 0.8259494241146456, 0.833552282353798, 0.8059352531841528, 0.7578163170662979, 0.7150780567395036, 0.7512481997340228, 0.8067723624348883, 0.8148200353552981, 0.7901537789515631, 0.8302453773945857, 0.5737066525376152, 0.7607021296885532, 0.7863243432257427, 0.8162163632862514, 0.8345326701376419, 0.8091993720565149, 0.8083297351288999, 0.8078364401470605, 0.8205847716779958, 0.8541663061057386, 0.5636084930573694, 0.80841231521389, 0.5937162703887071, 0.6058934074240196, 0.7798856524251792, 0.7847266616828832, 0.8223427896977207, 0.8152842112121116, 0.8001092460639196, 0.8527896503991685, 0.8463251993332073, 0.8407984465772014]}, {\"categories\": [\"0\", \"1\", \"2\", \"3\", \"4\", \"5\", \"6\", \"7\", \"8\", \"9\", \"10\", \"11\", \"12\", \"13\", \"14\", \"15\", \"16\", \"17\", \"18\", \"19\", \"20\", \"21\", \"22\", \"23\", \"24\", \"25\", \"26\", \"27\", \"28\", \"29\", \"30\", \"31\", \"32\", \"33\", \"34\", \"36\", \"37\"], \"mode\": \"lines\", \"name\": \"f1_score_weighted_max\", \"stepped\": true, \"type\": \"scatter\", \"data\": [0.8304991853584788, 0.8304991853584788, 0.8304991853584788, 0.8304991853584788, 0.8304991853584788, 0.8304991853584788, 0.833552282353798, 0.833552282353798, 0.833552282353798, 0.833552282353798, 0.833552282353798, 0.833552282353798, 0.833552282353798, 0.833552282353798, 0.833552282353798, 0.833552282353798, 0.833552282353798, 0.833552282353798, 0.833552282353798, 0.8345326701376419, 0.8345326701376419, 0.8345326701376419, 0.8345326701376419, 0.8345326701376419, 0.8541663061057386, 0.8541663061057386, 0.8541663061057386, 0.8541663061057386, 0.8541663061057386, 0.8541663061057386, 0.8541663061057386, 0.8541663061057386, 0.8541663061057386, 0.8541663061057386, 0.8541663061057386, 0.8541663061057386, 0.8541663061057386]}], \"AUC_weighted\": [{\"categories\": [\"0\", \"1\", \"2\", \"3\", \"4\", \"5\", \"6\", \"7\", \"8\", \"9\", \"10\", \"11\", \"12\", \"13\", \"14\", \"15\", \"16\", \"17\", \"18\", \"19\", \"20\", \"21\", \"22\", \"23\", \"24\", \"25\", \"26\", \"27\", \"28\", \"29\", \"30\", \"31\", \"32\", \"33\", \"34\", \"36\", \"37\"], \"mode\": \"markers\", \"name\": \"AUC_weighted\", \"stepped\": false, \"type\": \"scatter\", \"data\": [0.8820908343628806, 0.8700183584184382, 0.8800232580318468, 0.8793305183447998, 0.8980912420690709, 0.896179147372596, 0.8568564270187874, 0.8813248972916405, 0.8555098651473365, 0.7225076475950339, 0.8636179571064222, 0.9101773793524517, 0.8906179464753319, 0.8472997923212645, 0.9074735206314154, 0.5319536932989445, 0.8696308668195215, 0.8361006681989405, 0.8837108146356124, 0.8920858497783495, 0.8654360263582561, 0.8492654265849111, 0.8557955271977044, 0.889808811870132, 0.8877225845716806, 0.5714858426857827, 0.886281080516075, 0.8397274413503316, 0.8252022991711396, 0.8470289148582367, 0.8905431214479453, 0.8981707424481818, 0.8896131920500242, 0.8877040888026606, 0.9024803652687403, 0.9301760198144899, 0.9202948754032345]}, {\"categories\": [\"0\", \"1\", \"2\", \"3\", \"4\", \"5\", \"6\", \"7\", \"8\", \"9\", \"10\", \"11\", \"12\", \"13\", \"14\", \"15\", \"16\", \"17\", \"18\", \"19\", \"20\", \"21\", \"22\", \"23\", \"24\", \"25\", \"26\", \"27\", \"28\", \"29\", \"30\", \"31\", \"32\", \"33\", \"34\", \"36\", \"37\"], \"mode\": \"lines\", \"name\": \"AUC_weighted_max\", \"stepped\": true, \"type\": \"scatter\", \"data\": [0.8820908343628806, 0.8820908343628806, 0.8820908343628806, 0.8820908343628806, 0.8980912420690709, 0.8980912420690709, 0.8980912420690709, 0.8980912420690709, 0.8980912420690709, 0.8980912420690709, 0.8980912420690709, 0.9101773793524517, 0.9101773793524517, 0.9101773793524517, 0.9101773793524517, 0.9101773793524517, 0.9101773793524517, 0.9101773793524517, 0.9101773793524517, 0.9101773793524517, 0.9101773793524517, 0.9101773793524517, 0.9101773793524517, 0.9101773793524517, 0.9101773793524517, 0.9101773793524517, 0.9101773793524517, 0.9101773793524517, 0.9101773793524517, 0.9101773793524517, 0.9101773793524517, 0.9101773793524517, 0.9101773793524517, 0.9101773793524517, 0.9101773793524517, 0.9301760198144899, 0.9301760198144899]}], \"norm_macro_recall\": [{\"categories\": [\"0\", \"1\", \"2\", \"3\", \"4\", \"5\", \"6\", \"7\", \"8\", \"9\", \"10\", \"11\", \"12\", \"13\", \"14\", \"15\", \"16\", \"17\", \"18\", \"19\", \"20\", \"21\", \"22\", \"23\", \"24\", \"25\", \"26\", \"27\", \"28\", \"29\", \"30\", \"31\", \"32\", \"33\", \"34\", \"36\", \"37\"], \"mode\": \"markers\", \"name\": \"norm_macro_recall\", \"stepped\": false, \"type\": \"scatter\", \"data\": [0.5940834219322184, 0.5534960146215514, 0.4788280829327469, 0.3133125887395337, 0.5969260086208054, 0.5412488163212222, 0.5963069144533242, 0.4979343869286943, 0.3828660270785508, 0.2971525556015719, 0.35850955917369587, 0.49279357581065364, 0.596862757513911, 0.47370238425866107, 0.5917564469996308, 0.028205128205128195, 0.3650345227195322, 0.49215318454307766, 0.5993631938154059, 0.5855116165612521, 0.5278372498036934, 0.5697233223848623, 0.5116991694790556, 0.6039334645846182, 0.643816162531832, 0.05595342216734407, 0.5592021591821851, 0.0564422505598976, 0.08853238265002972, 0.40584534588329657, 0.43368829146817767, 0.5608436848724475, 0.5534115789334006, 0.50264382022097, 0.6340860339212482, 0.6081939671123732, 0.6211580112908386]}, {\"categories\": [\"0\", \"1\", \"2\", \"3\", \"4\", \"5\", \"6\", \"7\", \"8\", \"9\", \"10\", \"11\", \"12\", \"13\", \"14\", \"15\", \"16\", \"17\", \"18\", \"19\", \"20\", \"21\", \"22\", \"23\", \"24\", \"25\", \"26\", \"27\", \"28\", \"29\", \"30\", \"31\", \"32\", \"33\", \"34\", \"36\", \"37\"], \"mode\": \"lines\", \"name\": \"norm_macro_recall_max\", \"stepped\": true, \"type\": \"scatter\", \"data\": [0.5940834219322184, 0.5940834219322184, 0.5940834219322184, 0.5940834219322184, 0.5969260086208054, 0.5969260086208054, 0.5969260086208054, 0.5969260086208054, 0.5969260086208054, 0.5969260086208054, 0.5969260086208054, 0.5969260086208054, 0.5969260086208054, 0.5969260086208054, 0.5969260086208054, 0.5969260086208054, 0.5969260086208054, 0.5969260086208054, 0.5993631938154059, 0.5993631938154059, 0.5993631938154059, 0.5993631938154059, 0.5993631938154059, 0.6039334645846182, 0.643816162531832, 0.643816162531832, 0.643816162531832, 0.643816162531832, 0.643816162531832, 0.643816162531832, 0.643816162531832, 0.643816162531832, 0.643816162531832, 0.643816162531832, 0.643816162531832, 0.643816162531832, 0.643816162531832]}]}, \"metricName\": null, \"primaryMetricName\": \"AUC_weighted\", \"showLegend\": false}, \"run_metrics\": [{\"name\": \"experiment_status\", \"run_id\": \"AutoML_1b04273f-3366-4b1f-a919-64b4803b236f\", \"categories\": [0, 1, 2, 3, 4, 5, 6, 7, 8, 9, 10, 11, 12, 13], \"series\": [{\"data\": [\"DatasetEvaluation\", \"FeaturesGeneration\", \"DatasetFeaturization\", \"DatasetFeaturizationCompleted\", \"DatasetCrossValidationSplit\", \"ModelSelection\", \"BestRunExplainModel\", \"ModelExplanationDataSetSetup\", \"PickSurrogateModel\", \"EngineeredFeatureExplanations\", \"EngineeredFeatureExplanations\", \"RawFeaturesExplanations\", \"RawFeaturesExplanations\", \"BestRunExplainModel\"]}]}, {\"name\": \"experiment_status_description\", \"run_id\": \"AutoML_1b04273f-3366-4b1f-a919-64b4803b236f\", \"categories\": [0, 1, 2, 3, 4, 5, 6, 7, 8, 9, 10, 11, 12, 13], \"series\": [{\"data\": [\"Gathering dataset statistics.\", \"Generating features for the dataset.\", \"Beginning to fit featurizers and featurize the dataset.\", \"Completed fit featurizers and featurizing the dataset.\", \"Generating individually featurized CV splits.\", \"Beginning model selection.\", \"Best run model explanations started\", \"Model explanations data setup completed\", \"Choosing LightGBM as the surrogate model for explanations\", \"Computation of engineered features started\", \"Computation of engineered features completed\", \"Computation of raw features started\", \"Computation of raw features completed\", \"Best run model explanations completed\"]}]}, {\"name\": \"precision_score_weighted\", \"run_id\": \"AutoML_1b04273f-3366-4b1f-a919-64b4803b236f\", \"categories\": [0], \"series\": [{\"data\": [0.8654416105676226]}]}, {\"name\": \"recall_score_micro\", \"run_id\": \"AutoML_1b04273f-3366-4b1f-a919-64b4803b236f\", \"categories\": [0], \"series\": [{\"data\": [0.8523809523809524]}]}, {\"name\": \"norm_macro_recall\", \"run_id\": \"AutoML_1b04273f-3366-4b1f-a919-64b4803b236f\", \"categories\": [0], \"series\": [{\"data\": [0.6081939671123732]}]}, {\"name\": \"f1_score_micro\", \"run_id\": \"AutoML_1b04273f-3366-4b1f-a919-64b4803b236f\", \"categories\": [0], \"series\": [{\"data\": [0.8523809523809524]}]}, {\"name\": \"recall_score_macro\", \"run_id\": \"AutoML_1b04273f-3366-4b1f-a919-64b4803b236f\", \"categories\": [0], \"series\": [{\"data\": [0.8040969835561865]}]}, {\"name\": \"AUC_weighted\", \"run_id\": \"AutoML_1b04273f-3366-4b1f-a919-64b4803b236f\", \"categories\": [0], \"series\": [{\"data\": [0.9301760198144899]}]}, {\"name\": \"precision_score_macro\", \"run_id\": \"AutoML_1b04273f-3366-4b1f-a919-64b4803b236f\", \"categories\": [0], \"series\": [{\"data\": [0.863977610097636]}]}, {\"name\": \"f1_score_weighted\", \"run_id\": \"AutoML_1b04273f-3366-4b1f-a919-64b4803b236f\", \"categories\": [0], \"series\": [{\"data\": [0.8463251993332073]}]}, {\"name\": \"balanced_accuracy\", \"run_id\": \"AutoML_1b04273f-3366-4b1f-a919-64b4803b236f\", \"categories\": [0], \"series\": [{\"data\": [0.8040969835561865]}]}, {\"name\": \"recall_score_weighted\", \"run_id\": \"AutoML_1b04273f-3366-4b1f-a919-64b4803b236f\", \"categories\": [0], \"series\": [{\"data\": [0.8523809523809524]}]}, {\"name\": \"log_loss\", \"run_id\": \"AutoML_1b04273f-3366-4b1f-a919-64b4803b236f\", \"categories\": [0], \"series\": [{\"data\": [0.4312372952968878]}]}, {\"name\": \"AUC_macro\", \"run_id\": \"AutoML_1b04273f-3366-4b1f-a919-64b4803b236f\", \"categories\": [0], \"series\": [{\"data\": [0.9301760198144899]}]}, {\"name\": \"AUC_micro\", \"run_id\": \"AutoML_1b04273f-3366-4b1f-a919-64b4803b236f\", \"categories\": [0], \"series\": [{\"data\": [0.9303887413809061]}]}, {\"name\": \"precision_score_micro\", \"run_id\": \"AutoML_1b04273f-3366-4b1f-a919-64b4803b236f\", \"categories\": [0], \"series\": [{\"data\": [0.8523809523809524]}]}, {\"name\": \"average_precision_score_macro\", \"run_id\": \"AutoML_1b04273f-3366-4b1f-a919-64b4803b236f\", \"categories\": [0], \"series\": [{\"data\": [0.9233174078711418]}]}, {\"name\": \"weighted_accuracy\", \"run_id\": \"AutoML_1b04273f-3366-4b1f-a919-64b4803b236f\", \"categories\": [0], \"series\": [{\"data\": [0.8871921047172853]}]}, {\"name\": \"accuracy\", \"run_id\": \"AutoML_1b04273f-3366-4b1f-a919-64b4803b236f\", \"categories\": [0], \"series\": [{\"data\": [0.8523809523809524]}]}, {\"name\": \"f1_score_macro\", \"run_id\": \"AutoML_1b04273f-3366-4b1f-a919-64b4803b236f\", \"categories\": [0], \"series\": [{\"data\": [0.8176638154098702]}]}, {\"name\": \"matthews_correlation\", \"run_id\": \"AutoML_1b04273f-3366-4b1f-a919-64b4803b236f\", \"categories\": [0], \"series\": [{\"data\": [0.662771566723111]}]}, {\"name\": \"average_precision_score_micro\", \"run_id\": \"AutoML_1b04273f-3366-4b1f-a919-64b4803b236f\", \"categories\": [0], \"series\": [{\"data\": [0.9344197153208056]}]}, {\"name\": \"average_precision_score_weighted\", \"run_id\": \"AutoML_1b04273f-3366-4b1f-a919-64b4803b236f\", \"categories\": [0], \"series\": [{\"data\": [0.9406513988674512]}]}], \"run_logs\": \"\\nRun is completed.\", \"graph\": {}, \"widget_settings\": {\"childWidgetDisplay\": \"popup\", \"send_telemetry\": false, \"log_level\": \"INFO\", \"sdk_version\": \"1.24.0\"}, \"loading\": false}"
     },
     "metadata": {},
     "output_type": "display_data"
    }
   ],
   "source": [
    "RunDetails(remote_run).show()"
   ]
  },
  {
   "cell_type": "code",
   "execution_count": 10,
   "metadata": {
    "gather": {
     "logged": 1617703870324
    },
    "jupyter": {
     "outputs_hidden": false,
     "source_hidden": false
    },
    "nteract": {
     "transient": {
      "deleting": false
     }
    }
   },
   "outputs": [
    {
     "data": {
      "text/plain": [
       "{'runId': 'AutoML_1b04273f-3366-4b1f-a919-64b4803b236f',\n",
       " 'target': 'cpu-cluster2',\n",
       " 'status': 'Completed',\n",
       " 'startTimeUtc': '2021-04-06T16:12:39.209151Z',\n",
       " 'endTimeUtc': '2021-04-06T16:32:45.710531Z',\n",
       " 'properties': {'num_iterations': '1000',\n",
       "  'training_type': 'TrainFull',\n",
       "  'acquisition_function': 'EI',\n",
       "  'primary_metric': 'AUC_weighted',\n",
       "  'train_split': '0',\n",
       "  'acquisition_parameter': '0',\n",
       "  'num_cross_validation': '5',\n",
       "  'target': 'cpu-cluster2',\n",
       "  'AMLSettingsJsonString': '{\"path\":null,\"name\":\"automl-exp\",\"subscription_id\":\"9e65f93e-bdd8-437b-b1e8-0647cd6098f7\",\"resource_group\":\"aml-quickstarts-142113\",\"workspace_name\":\"quick-starts-ws-142113\",\"region\":\"southcentralus\",\"compute_target\":\"cpu-cluster2\",\"spark_service\":null,\"azure_service\":\"remote\",\"many_models\":false,\"pipeline_fetch_max_batch_size\":1,\"enable_batch_run\":false,\"iterations\":1000,\"primary_metric\":\"AUC_weighted\",\"task_type\":\"classification\",\"data_script\":null,\"validation_size\":0.0,\"n_cross_validations\":5,\"y_min\":null,\"y_max\":null,\"num_classes\":null,\"featurization\":\"auto\",\"_ignore_package_version_incompatibilities\":false,\"is_timeseries\":false,\"max_cores_per_iteration\":1,\"max_concurrent_iterations\":4,\"iteration_timeout_minutes\":null,\"mem_in_mb\":null,\"enforce_time_on_windows\":false,\"experiment_timeout_minutes\":20,\"experiment_exit_score\":null,\"whitelist_models\":null,\"blacklist_algos\":[\"TensorFlowLinearClassifier\",\"TensorFlowDNN\"],\"supported_models\":[\"RandomForest\",\"BernoulliNaiveBayes\",\"ExtremeRandomTrees\",\"GradientBoosting\",\"LogisticRegression\",\"TensorFlowDNN\",\"DecisionTree\",\"AveragedPerceptronClassifier\",\"SGD\",\"LinearSVM\",\"XGBoostClassifier\",\"SVM\",\"MultinomialNaiveBayes\",\"LightGBM\",\"TensorFlowLinearClassifier\",\"KNN\"],\"private_models\":[],\"auto_blacklist\":true,\"blacklist_samples_reached\":false,\"exclude_nan_labels\":true,\"verbosity\":20,\"_debug_log\":\"azureml_automl.log\",\"show_warnings\":false,\"model_explainability\":true,\"service_url\":null,\"sdk_url\":null,\"sdk_packages\":null,\"enable_onnx_compatible_models\":false,\"enable_split_onnx_featurizer_estimator_models\":false,\"vm_type\":\"STANDARD_D12_V2\",\"telemetry_verbosity\":20,\"send_telemetry\":true,\"enable_dnn\":false,\"scenario\":\"SDK-1.13.0\",\"environment_label\":null,\"save_mlflow\":false,\"force_text_dnn\":false,\"enable_feature_sweeping\":true,\"enable_early_stopping\":true,\"early_stopping_n_iters\":10,\"metrics\":null,\"enable_metric_confidence\":false,\"enable_ensembling\":true,\"enable_stack_ensembling\":true,\"ensemble_iterations\":15,\"enable_tf\":false,\"enable_subsampling\":null,\"subsample_seed\":null,\"enable_nimbusml\":false,\"enable_streaming\":false,\"force_streaming\":false,\"track_child_runs\":true,\"allowed_private_models\":[],\"label_column_name\":\"DEATH_EVENT\",\"weight_column_name\":null,\"cv_split_column_names\":null,\"enable_local_managed\":false,\"_local_managed_run_id\":null,\"cost_mode\":1,\"lag_length\":0,\"metric_operation\":\"maximize\",\"preprocess\":true}',\n",
       "  'DataPrepJsonString': '{\\\\\"training_data\\\\\": \\\\\"{\\\\\\\\\\\\\"blocks\\\\\\\\\\\\\": [{\\\\\\\\\\\\\"id\\\\\\\\\\\\\": \\\\\\\\\\\\\"29b970b0-0e7e-43a8-9f54-2d6c5f4b65c5\\\\\\\\\\\\\", \\\\\\\\\\\\\"type\\\\\\\\\\\\\": \\\\\\\\\\\\\"Microsoft.DPrep.GetDatastoreFilesBlock\\\\\\\\\\\\\", \\\\\\\\\\\\\"arguments\\\\\\\\\\\\\": {\\\\\\\\\\\\\"datastores\\\\\\\\\\\\\": [{\\\\\\\\\\\\\"datastoreName\\\\\\\\\\\\\": \\\\\\\\\\\\\"workspaceblobstore\\\\\\\\\\\\\", \\\\\\\\\\\\\"path\\\\\\\\\\\\\": \\\\\\\\\\\\\"UI/04-06-2021_040526_UTC/heart_failure_clinical_records_dataset.csv\\\\\\\\\\\\\", \\\\\\\\\\\\\"resourceGroup\\\\\\\\\\\\\": \\\\\\\\\\\\\"aml-quickstarts-142113\\\\\\\\\\\\\", \\\\\\\\\\\\\"subscription\\\\\\\\\\\\\": \\\\\\\\\\\\\"9e65f93e-bdd8-437b-b1e8-0647cd6098f7\\\\\\\\\\\\\", \\\\\\\\\\\\\"workspaceName\\\\\\\\\\\\\": \\\\\\\\\\\\\"quick-starts-ws-142113\\\\\\\\\\\\\"}]}, \\\\\\\\\\\\\"localData\\\\\\\\\\\\\": {}, \\\\\\\\\\\\\"isEnabled\\\\\\\\\\\\\": true, \\\\\\\\\\\\\"name\\\\\\\\\\\\\": null, \\\\\\\\\\\\\"annotation\\\\\\\\\\\\\": null}, {\\\\\\\\\\\\\"id\\\\\\\\\\\\\": \\\\\\\\\\\\\"d50da2bb-40ce-403e-85a3-26f77ff070cf\\\\\\\\\\\\\", \\\\\\\\\\\\\"type\\\\\\\\\\\\\": \\\\\\\\\\\\\"Microsoft.DPrep.ParseDelimitedBlock\\\\\\\\\\\\\", \\\\\\\\\\\\\"arguments\\\\\\\\\\\\\": {\\\\\\\\\\\\\"columnHeadersMode\\\\\\\\\\\\\": 1, \\\\\\\\\\\\\"fileEncoding\\\\\\\\\\\\\": 0, \\\\\\\\\\\\\"handleQuotedLineBreaks\\\\\\\\\\\\\": false, \\\\\\\\\\\\\"preview\\\\\\\\\\\\\": false, \\\\\\\\\\\\\"separator\\\\\\\\\\\\\": \\\\\\\\\\\\\",\\\\\\\\\\\\\", \\\\\\\\\\\\\"skipRows\\\\\\\\\\\\\": 0, \\\\\\\\\\\\\"skipRowsMode\\\\\\\\\\\\\": 0}, \\\\\\\\\\\\\"localData\\\\\\\\\\\\\": {}, \\\\\\\\\\\\\"isEnabled\\\\\\\\\\\\\": true, \\\\\\\\\\\\\"name\\\\\\\\\\\\\": null, \\\\\\\\\\\\\"annotation\\\\\\\\\\\\\": null}, {\\\\\\\\\\\\\"id\\\\\\\\\\\\\": \\\\\\\\\\\\\"67d64904-25b6-44a5-92e6-8bf6ba454962\\\\\\\\\\\\\", \\\\\\\\\\\\\"type\\\\\\\\\\\\\": \\\\\\\\\\\\\"Microsoft.DPrep.DropColumnsBlock\\\\\\\\\\\\\", \\\\\\\\\\\\\"arguments\\\\\\\\\\\\\": {\\\\\\\\\\\\\"columns\\\\\\\\\\\\\": {\\\\\\\\\\\\\"type\\\\\\\\\\\\\": 0, \\\\\\\\\\\\\"details\\\\\\\\\\\\\": {\\\\\\\\\\\\\"selectedColumns\\\\\\\\\\\\\": [\\\\\\\\\\\\\"Path\\\\\\\\\\\\\"]}}}, \\\\\\\\\\\\\"localData\\\\\\\\\\\\\": {}, \\\\\\\\\\\\\"isEnabled\\\\\\\\\\\\\": true, \\\\\\\\\\\\\"name\\\\\\\\\\\\\": null, \\\\\\\\\\\\\"annotation\\\\\\\\\\\\\": null}, {\\\\\\\\\\\\\"id\\\\\\\\\\\\\": \\\\\\\\\\\\\"c496e791-19f1-4dcb-9a58-38cdc30d2292\\\\\\\\\\\\\", \\\\\\\\\\\\\"type\\\\\\\\\\\\\": \\\\\\\\\\\\\"Microsoft.DPrep.SetColumnTypesBlock\\\\\\\\\\\\\", \\\\\\\\\\\\\"arguments\\\\\\\\\\\\\": {\\\\\\\\\\\\\"columnConversion\\\\\\\\\\\\\": [{\\\\\\\\\\\\\"column\\\\\\\\\\\\\": {\\\\\\\\\\\\\"type\\\\\\\\\\\\\": 2, \\\\\\\\\\\\\"details\\\\\\\\\\\\\": {\\\\\\\\\\\\\"selectedColumn\\\\\\\\\\\\\": \\\\\\\\\\\\\"Path\\\\\\\\\\\\\"}}, \\\\\\\\\\\\\"typeProperty\\\\\\\\\\\\\": 0}, {\\\\\\\\\\\\\"column\\\\\\\\\\\\\": {\\\\\\\\\\\\\"type\\\\\\\\\\\\\": 2, \\\\\\\\\\\\\"details\\\\\\\\\\\\\": {\\\\\\\\\\\\\"selectedColumn\\\\\\\\\\\\\": \\\\\\\\\\\\\"age\\\\\\\\\\\\\"}}, \\\\\\\\\\\\\"typeProperty\\\\\\\\\\\\\": 3}, {\\\\\\\\\\\\\"column\\\\\\\\\\\\\": {\\\\\\\\\\\\\"type\\\\\\\\\\\\\": 2, \\\\\\\\\\\\\"details\\\\\\\\\\\\\": {\\\\\\\\\\\\\"selectedColumn\\\\\\\\\\\\\": \\\\\\\\\\\\\"anaemia\\\\\\\\\\\\\"}}, \\\\\\\\\\\\\"typeProperty\\\\\\\\\\\\\": 2}, {\\\\\\\\\\\\\"column\\\\\\\\\\\\\": {\\\\\\\\\\\\\"type\\\\\\\\\\\\\": 2, \\\\\\\\\\\\\"details\\\\\\\\\\\\\": {\\\\\\\\\\\\\"selectedColumn\\\\\\\\\\\\\": \\\\\\\\\\\\\"creatinine_phosphokinase\\\\\\\\\\\\\"}}, \\\\\\\\\\\\\"typeProperty\\\\\\\\\\\\\": 2}, {\\\\\\\\\\\\\"column\\\\\\\\\\\\\": {\\\\\\\\\\\\\"type\\\\\\\\\\\\\": 2, \\\\\\\\\\\\\"details\\\\\\\\\\\\\": {\\\\\\\\\\\\\"selectedColumn\\\\\\\\\\\\\": \\\\\\\\\\\\\"diabetes\\\\\\\\\\\\\"}}, \\\\\\\\\\\\\"typeProperty\\\\\\\\\\\\\": 2}, {\\\\\\\\\\\\\"column\\\\\\\\\\\\\": {\\\\\\\\\\\\\"type\\\\\\\\\\\\\": 2, \\\\\\\\\\\\\"details\\\\\\\\\\\\\": {\\\\\\\\\\\\\"selectedColumn\\\\\\\\\\\\\": \\\\\\\\\\\\\"ejection_fraction\\\\\\\\\\\\\"}}, \\\\\\\\\\\\\"typeProperty\\\\\\\\\\\\\": 2}, {\\\\\\\\\\\\\"column\\\\\\\\\\\\\": {\\\\\\\\\\\\\"type\\\\\\\\\\\\\": 2, \\\\\\\\\\\\\"details\\\\\\\\\\\\\": {\\\\\\\\\\\\\"selectedColumn\\\\\\\\\\\\\": \\\\\\\\\\\\\"high_blood_pressure\\\\\\\\\\\\\"}}, \\\\\\\\\\\\\"typeProperty\\\\\\\\\\\\\": 2}, {\\\\\\\\\\\\\"column\\\\\\\\\\\\\": {\\\\\\\\\\\\\"type\\\\\\\\\\\\\": 2, \\\\\\\\\\\\\"details\\\\\\\\\\\\\": {\\\\\\\\\\\\\"selectedColumn\\\\\\\\\\\\\": \\\\\\\\\\\\\"platelets\\\\\\\\\\\\\"}}, \\\\\\\\\\\\\"typeProperty\\\\\\\\\\\\\": 3}, {\\\\\\\\\\\\\"column\\\\\\\\\\\\\": {\\\\\\\\\\\\\"type\\\\\\\\\\\\\": 2, \\\\\\\\\\\\\"details\\\\\\\\\\\\\": {\\\\\\\\\\\\\"selectedColumn\\\\\\\\\\\\\": \\\\\\\\\\\\\"serum_creatinine\\\\\\\\\\\\\"}}, \\\\\\\\\\\\\"typeProperty\\\\\\\\\\\\\": 3}, {\\\\\\\\\\\\\"column\\\\\\\\\\\\\": {\\\\\\\\\\\\\"type\\\\\\\\\\\\\": 2, \\\\\\\\\\\\\"details\\\\\\\\\\\\\": {\\\\\\\\\\\\\"selectedColumn\\\\\\\\\\\\\": \\\\\\\\\\\\\"serum_sodium\\\\\\\\\\\\\"}}, \\\\\\\\\\\\\"typeProperty\\\\\\\\\\\\\": 2}, {\\\\\\\\\\\\\"column\\\\\\\\\\\\\": {\\\\\\\\\\\\\"type\\\\\\\\\\\\\": 2, \\\\\\\\\\\\\"details\\\\\\\\\\\\\": {\\\\\\\\\\\\\"selectedColumn\\\\\\\\\\\\\": \\\\\\\\\\\\\"sex\\\\\\\\\\\\\"}}, \\\\\\\\\\\\\"typeProperty\\\\\\\\\\\\\": 2}, {\\\\\\\\\\\\\"column\\\\\\\\\\\\\": {\\\\\\\\\\\\\"type\\\\\\\\\\\\\": 2, \\\\\\\\\\\\\"details\\\\\\\\\\\\\": {\\\\\\\\\\\\\"selectedColumn\\\\\\\\\\\\\": \\\\\\\\\\\\\"smoking\\\\\\\\\\\\\"}}, \\\\\\\\\\\\\"typeProperty\\\\\\\\\\\\\": 2}, {\\\\\\\\\\\\\"column\\\\\\\\\\\\\": {\\\\\\\\\\\\\"type\\\\\\\\\\\\\": 2, \\\\\\\\\\\\\"details\\\\\\\\\\\\\": {\\\\\\\\\\\\\"selectedColumn\\\\\\\\\\\\\": \\\\\\\\\\\\\"time\\\\\\\\\\\\\"}}, \\\\\\\\\\\\\"typeProperty\\\\\\\\\\\\\": 2}, {\\\\\\\\\\\\\"column\\\\\\\\\\\\\": {\\\\\\\\\\\\\"type\\\\\\\\\\\\\": 2, \\\\\\\\\\\\\"details\\\\\\\\\\\\\": {\\\\\\\\\\\\\"selectedColumn\\\\\\\\\\\\\": \\\\\\\\\\\\\"DEATH_EVENT\\\\\\\\\\\\\"}}, \\\\\\\\\\\\\"typeProperty\\\\\\\\\\\\\": 2}]}, \\\\\\\\\\\\\"localData\\\\\\\\\\\\\": {}, \\\\\\\\\\\\\"isEnabled\\\\\\\\\\\\\": true, \\\\\\\\\\\\\"name\\\\\\\\\\\\\": null, \\\\\\\\\\\\\"annotation\\\\\\\\\\\\\": null}, {\\\\\\\\\\\\\"id\\\\\\\\\\\\\": \\\\\\\\\\\\\"0d432d15-83df-4aa6-a250-f71344961c67\\\\\\\\\\\\\", \\\\\\\\\\\\\"type\\\\\\\\\\\\\": \\\\\\\\\\\\\"Microsoft.DPrep.TakeSampleBlock\\\\\\\\\\\\\", \\\\\\\\\\\\\"arguments\\\\\\\\\\\\\": {\\\\\\\\\\\\\"probability\\\\\\\\\\\\\": 0.8, \\\\\\\\\\\\\"probabilityLowerBound\\\\\\\\\\\\\": 0.0, \\\\\\\\\\\\\"seed\\\\\\\\\\\\\": 322167146}, \\\\\\\\\\\\\"localData\\\\\\\\\\\\\": {}, \\\\\\\\\\\\\"isEnabled\\\\\\\\\\\\\": true, \\\\\\\\\\\\\"name\\\\\\\\\\\\\": null, \\\\\\\\\\\\\"annotation\\\\\\\\\\\\\": null}], \\\\\\\\\\\\\"inspectors\\\\\\\\\\\\\": [], \\\\\\\\\\\\\"meta\\\\\\\\\\\\\": {\\\\\\\\\\\\\"savedDatasetId\\\\\\\\\\\\\": \\\\\\\\\\\\\"eb17ef43-79a7-4697-9fde-52e6a478c474\\\\\\\\\\\\\", \\\\\\\\\\\\\"datasetType\\\\\\\\\\\\\": \\\\\\\\\\\\\"tabular\\\\\\\\\\\\\", \\\\\\\\\\\\\"subscriptionId\\\\\\\\\\\\\": \\\\\\\\\\\\\"9e65f93e-bdd8-437b-b1e8-0647cd6098f7\\\\\\\\\\\\\", \\\\\\\\\\\\\"workspaceId\\\\\\\\\\\\\": \\\\\\\\\\\\\"98150cd8-9498-4505-a3d7-6d3091ee12a9\\\\\\\\\\\\\", \\\\\\\\\\\\\"workspaceLocation\\\\\\\\\\\\\": \\\\\\\\\\\\\"southcentralus\\\\\\\\\\\\\", \\\\\\\\\\\\\"partition_keys\\\\\\\\\\\\\": \\\\\\\\\\\\\"true\\\\\\\\\\\\\"}}\\\\\", \\\\\"activities\\\\\": 0}',\n",
       "  'EnableSubsampling': None,\n",
       "  'runTemplate': 'AutoML',\n",
       "  'azureml.runsource': 'automl',\n",
       "  'display_task_type': 'classification',\n",
       "  'dependencies_versions': '{\"azureml-widgets\": \"1.24.0\", \"azureml-train\": \"1.24.0\", \"azureml-train-restclients-hyperdrive\": \"1.24.0\", \"azureml-train-core\": \"1.24.0\", \"azureml-train-automl\": \"1.24.0\", \"azureml-train-automl-runtime\": \"1.24.0\", \"azureml-train-automl-client\": \"1.24.0\", \"azureml-tensorboard\": \"1.24.0\", \"azureml-telemetry\": \"1.24.0\", \"azureml-sdk\": \"1.24.0\", \"azureml-samples\": \"0+unknown\", \"azureml-pipeline\": \"1.24.0\", \"azureml-pipeline-steps\": \"1.24.0\", \"azureml-pipeline-core\": \"1.24.0\", \"azureml-opendatasets\": \"1.24.0\", \"azureml-model-management-sdk\": \"1.0.1b6.post1\", \"azureml-mlflow\": \"1.24.0\", \"azureml-interpret\": \"1.24.0\", \"azureml-explain-model\": \"1.24.0\", \"azureml-defaults\": \"1.24.0\", \"azureml-dataset-runtime\": \"1.24.0\", \"azureml-dataprep\": \"2.11.1\", \"azureml-dataprep-rslex\": \"1.9.0\", \"azureml-dataprep-native\": \"30.0.0\", \"azureml-datadrift\": \"1.24.0\", \"azureml-core\": \"1.24.0\", \"azureml-contrib-services\": \"1.24.0\", \"azureml-contrib-server\": \"1.24.0\", \"azureml-contrib-reinforcementlearning\": \"1.24.0\", \"azureml-contrib-pipeline-steps\": \"1.24.0\", \"azureml-contrib-notebook\": \"1.24.0\", \"azureml-contrib-gbdt\": \"1.24.0\", \"azureml-contrib-fairness\": \"1.24.0\", \"azureml-contrib-dataset\": \"1.24.0\", \"azureml-cli-common\": \"1.24.0\", \"azureml-automl-runtime\": \"1.24.0\", \"azureml-automl-dnn-nlp\": \"1.24.0\", \"azureml-automl-core\": \"1.24.0\", \"azureml-accel-models\": \"1.24.0\"}',\n",
       "  '_aml_system_scenario_identification': 'Remote.Parent',\n",
       "  'ClientType': 'SDK',\n",
       "  'environment_cpu_name': 'AzureML-AutoML',\n",
       "  'environment_cpu_label': 'prod',\n",
       "  'environment_gpu_name': 'AzureML-AutoML-GPU',\n",
       "  'environment_gpu_label': 'prod',\n",
       "  'root_attribution': 'automl',\n",
       "  'attribution': 'AutoML',\n",
       "  'Orchestrator': 'AutoML',\n",
       "  'CancelUri': 'https://southcentralus.experiments.azureml.net/jasmine/v1.0/subscriptions/9e65f93e-bdd8-437b-b1e8-0647cd6098f7/resourceGroups/aml-quickstarts-142113/providers/Microsoft.MachineLearningServices/workspaces/quick-starts-ws-142113/experimentids/88d8d391-b0bb-4ceb-9438-3f54dbc585c7/cancel/AutoML_1b04273f-3366-4b1f-a919-64b4803b236f',\n",
       "  'ClientSdkVersion': '1.24.0',\n",
       "  'snapshotId': '00000000-0000-0000-0000-000000000000',\n",
       "  'SetupRunId': 'AutoML_1b04273f-3366-4b1f-a919-64b4803b236f_setup',\n",
       "  'SetupRunContainerId': 'dcid.AutoML_1b04273f-3366-4b1f-a919-64b4803b236f_setup',\n",
       "  'FeaturizationRunJsonPath': 'featurizer_container.json',\n",
       "  'FeaturizationRunId': 'AutoML_1b04273f-3366-4b1f-a919-64b4803b236f_featurize',\n",
       "  'ProblemInfoJsonString': '{\"dataset_num_categorical\": 0, \"is_sparse\": false, \"subsampling\": false, \"dataset_classes\": 2, \"dataset_features\": 12, \"dataset_samples\": 244, \"single_frequency_class_detected\": false}',\n",
       "  'ModelExplainRunId': 'AutoML_1b04273f-3366-4b1f-a919-64b4803b236f_ModelExplain'},\n",
       " 'inputDatasets': [{'dataset': {'id': 'eb17ef43-79a7-4697-9fde-52e6a478c474'}, 'consumptionDetails': {'type': 'RunInput', 'inputName': 'training_data', 'mechanism': 'Direct'}}],\n",
       " 'outputDatasets': [],\n",
       " 'logFiles': {},\n",
       " 'submittedBy': 'ODL_User 142113'}"
      ]
     },
     "execution_count": 10,
     "metadata": {},
     "output_type": "execute_result"
    }
   ],
   "source": [
    "remote_run.wait_for_completion()"
   ]
  },
  {
   "cell_type": "code",
   "execution_count": 11,
   "metadata": {
    "gather": {
     "logged": 1617703874545
    },
    "jupyter": {
     "outputs_hidden": false,
     "source_hidden": false
    },
    "nteract": {
     "transient": {
      "deleting": false
     }
    }
   },
   "outputs": [
    {
     "data": {
      "text/html": [
       "<table style=\"width:100%\"><tr><th>Experiment</th><th>Id</th><th>Type</th><th>Status</th><th>Details Page</th><th>Docs Page</th></tr><tr><td>automl-exp</td><td>AutoML_1b04273f-3366-4b1f-a919-64b4803b236f</td><td>automl</td><td>Completed</td><td><a href=\"https://ml.azure.com/experiments/automl-exp/runs/AutoML_1b04273f-3366-4b1f-a919-64b4803b236f?wsid=/subscriptions/9e65f93e-bdd8-437b-b1e8-0647cd6098f7/resourcegroups/aml-quickstarts-142113/workspaces/quick-starts-ws-142113\" target=\"_blank\" rel=\"noopener\">Link to Azure Machine Learning studio</a></td><td><a href=\"https://docs.microsoft.com/en-us/python/api/overview/azure/ml/intro?view=azure-ml-py\" target=\"_blank\" rel=\"noopener\">Link to Documentation</a></td></tr></table>"
      ],
      "text/plain": [
       "Run(Experiment: automl-exp,\n",
       "Id: AutoML_1b04273f-3366-4b1f-a919-64b4803b236f,\n",
       "Type: automl,\n",
       "Status: Completed)"
      ]
     },
     "execution_count": 11,
     "metadata": {},
     "output_type": "execute_result"
    }
   ],
   "source": [
    "remote_run"
   ]
  },
  {
   "cell_type": "markdown",
   "metadata": {},
   "source": [
    "## Best Model\n",
    "\n"
   ]
  },
  {
   "cell_type": "code",
   "execution_count": 12,
   "metadata": {
    "gather": {
     "logged": 1617703885125
    },
    "jupyter": {
     "outputs_hidden": false,
     "source_hidden": false
    },
    "nteract": {
     "transient": {
      "deleting": false
     }
    }
   },
   "outputs": [
    {
     "data": {
      "text/html": [
       "<table style=\"width:100%\"><tr><th>Experiment</th><th>Id</th><th>Type</th><th>Status</th><th>Details Page</th><th>Docs Page</th></tr><tr><td>automl-exp</td><td>AutoML_1b04273f-3366-4b1f-a919-64b4803b236f_36</td><td>azureml.scriptrun</td><td>Completed</td><td><a href=\"https://ml.azure.com/experiments/automl-exp/runs/AutoML_1b04273f-3366-4b1f-a919-64b4803b236f_36?wsid=/subscriptions/9e65f93e-bdd8-437b-b1e8-0647cd6098f7/resourcegroups/aml-quickstarts-142113/workspaces/quick-starts-ws-142113\" target=\"_blank\" rel=\"noopener\">Link to Azure Machine Learning studio</a></td><td><a href=\"https://docs.microsoft.com/en-us/python/api/azureml-core/azureml.core.run.Run?view=azure-ml-py\" target=\"_blank\" rel=\"noopener\">Link to Documentation</a></td></tr></table>"
      ],
      "text/plain": [
       "Run(Experiment: automl-exp,\n",
       "Id: AutoML_1b04273f-3366-4b1f-a919-64b4803b236f_36,\n",
       "Type: azureml.scriptrun,\n",
       "Status: Completed)"
      ]
     },
     "execution_count": 12,
     "metadata": {},
     "output_type": "execute_result"
    }
   ],
   "source": [
    "best_run, fitted_model = remote_run.get_output()\n",
    "best_run_metrics = best_run.get_metrics()\n",
    "best_run"
   ]
  },
  {
   "cell_type": "code",
   "execution_count": 13,
   "metadata": {
    "gather": {
     "logged": 1617709866502
    },
    "jupyter": {
     "outputs_hidden": false,
     "source_hidden": false
    },
    "nteract": {
     "transient": {
      "deleting": false
     }
    }
   },
   "outputs": [
    {
     "data": {
      "text/plain": [
       "{'average_precision_score_weighted': 0.9406513988674512,\n",
       " 'AUC_micro': 0.9303887413809061,\n",
       " 'recall_score_micro': 0.8523809523809524,\n",
       " 'matthews_correlation': 0.662771566723111,\n",
       " 'AUC_macro': 0.9301760198144899,\n",
       " 'norm_macro_recall': 0.6081939671123732,\n",
       " 'log_loss': 0.4312372952968878,\n",
       " 'f1_score_micro': 0.8523809523809524,\n",
       " 'average_precision_score_micro': 0.9344197153208056,\n",
       " 'accuracy': 0.8523809523809524,\n",
       " 'weighted_accuracy': 0.8871921047172853,\n",
       " 'precision_score_micro': 0.8523809523809524,\n",
       " 'average_precision_score_macro': 0.9233174078711418,\n",
       " 'balanced_accuracy': 0.8040969835561865,\n",
       " 'precision_score_weighted': 0.8654416105676226,\n",
       " 'AUC_weighted': 0.9301760198144899,\n",
       " 'precision_score_macro': 0.863977610097636,\n",
       " 'f1_score_weighted': 0.8463251993332073,\n",
       " 'f1_score_macro': 0.8176638154098702,\n",
       " 'recall_score_weighted': 0.8523809523809524,\n",
       " 'recall_score_macro': 0.8040969835561865,\n",
       " 'confusion_matrix': 'aml://artifactId/ExperimentRun/dcid.AutoML_1b04273f-3366-4b1f-a919-64b4803b236f_36/confusion_matrix',\n",
       " 'accuracy_table': 'aml://artifactId/ExperimentRun/dcid.AutoML_1b04273f-3366-4b1f-a919-64b4803b236f_36/accuracy_table'}"
      ]
     },
     "execution_count": 13,
     "metadata": {},
     "output_type": "execute_result"
    }
   ],
   "source": [
    "best_run_metrics"
   ]
  },
  {
   "cell_type": "code",
   "execution_count": 14,
   "metadata": {
    "gather": {
     "logged": 1617703888819
    },
    "jupyter": {
     "outputs_hidden": false,
     "source_hidden": false
    },
    "nteract": {
     "transient": {
      "deleting": false
     }
    }
   },
   "outputs": [
    {
     "data": {
      "text/plain": [
       "Pipeline(memory=None,\n",
       "         steps=[('datatransformer',\n",
       "                 DataTransformer(enable_dnn=None, enable_feature_sweeping=None,\n",
       "                                 feature_sweeping_config=None,\n",
       "                                 feature_sweeping_timeout=None,\n",
       "                                 featurization_config=None, force_text_dnn=None,\n",
       "                                 is_cross_validation=None,\n",
       "                                 is_onnx_compatible=None, logger=None,\n",
       "                                 observer=None, task=None, working_dir=None)),\n",
       "                ('prefittedsoftvotingclassifier',...\n",
       "                                                                                               random_state=0,\n",
       "                                                                                               reg_alpha=0,\n",
       "                                                                                               reg_lambda=1.25,\n",
       "                                                                                               scale_pos_weight=1,\n",
       "                                                                                               seed=None,\n",
       "                                                                                               silent=None,\n",
       "                                                                                               subsample=0.6,\n",
       "                                                                                               tree_method='hist',\n",
       "                                                                                               verbose=-10,\n",
       "                                                                                               verbosity=0))],\n",
       "                                                                     verbose=False))],\n",
       "                                               flatten_transform=None,\n",
       "                                               weights=[0.16666666666666666,\n",
       "                                                        0.25,\n",
       "                                                        0.08333333333333333,\n",
       "                                                        0.08333333333333333,\n",
       "                                                        0.08333333333333333,\n",
       "                                                        0.08333333333333333,\n",
       "                                                        0.16666666666666666,\n",
       "                                                        0.08333333333333333]))],\n",
       "         verbose=False)"
      ]
     },
     "execution_count": 14,
     "metadata": {},
     "output_type": "execute_result"
    }
   ],
   "source": [
    "fitted_model"
   ]
  },
  {
   "cell_type": "code",
   "execution_count": 17,
   "metadata": {
    "gather": {
     "logged": 1617704158455
    },
    "jupyter": {
     "outputs_hidden": false,
     "source_hidden": false
    },
    "nteract": {
     "transient": {
      "deleting": false
     }
    }
   },
   "outputs": [
    {
     "name": "stdout",
     "output_type": "stream",
     "text": [
      "Best Run Id:  AutoML_1b04273f-3366-4b1f-a919-64b4803b236f_36\n",
      "\n",
      " AUC Weighted: 0.9301760198144899\n",
      "PreFittedSoftVotingClassifier(classification_labels=None,\n",
      "                              estimators=[('11',\n",
      "                                           Pipeline(memory=None,\n",
      "                                                    steps=[('robustscaler',\n",
      "                                                            RobustScaler(copy=True,\n",
      "                                                                         quantile_range=[10,\n",
      "                                                                                         90],\n",
      "                                                                         with_centering=True,\n",
      "                                                                         with_scaling=False)),\n",
      "                                                           ('extratreesclassifier',\n",
      "                                                            ExtraTreesClassifier(bootstrap=True,\n",
      "                                                                                 ccp_alpha=0.0,\n",
      "                                                                                 class_weight=None,\n",
      "                                                                                 criterion='entropy',\n",
      "                                                                                 max_depth=None,\n",
      "                                                                                 max_features=0.5,...\n",
      "                                                                              objective='reg:logistic',\n",
      "                                                                              random_state=0,\n",
      "                                                                              reg_alpha=0,\n",
      "                                                                              reg_lambda=1.25,\n",
      "                                                                              scale_pos_weight=1,\n",
      "                                                                              seed=None,\n",
      "                                                                              silent=None,\n",
      "                                                                              subsample=0.6,\n",
      "                                                                              tree_method='hist',\n",
      "                                                                              verbose=-10,\n",
      "                                                                              verbosity=0))],\n",
      "                                                    verbose=False))],\n",
      "                              flatten_transform=None,\n",
      "                              weights=[0.16666666666666666, 0.25,\n",
      "                                       0.08333333333333333, 0.08333333333333333,\n",
      "                                       0.08333333333333333, 0.08333333333333333,\n",
      "                                       0.16666666666666666,\n",
      "                                       0.08333333333333333])\n",
      "{'_aml_system_azureml.automlComponent': 'AutoML', 'mlflow.source.type': 'JOB', 'mlflow.source.name': 'automl_driver.py', '_aml_system_ComputeTargetStatus': '{\"AllocationState\":\"steady\",\"PreparingNodeCount\":0,\"RunningNodeCount\":3,\"CurrentNodeCount\":4}', 'ensembled_iterations': '[11, 14, 34, 31, 4, 5, 25, 26]', 'ensembled_algorithms': \"['ExtremeRandomTrees', 'RandomForest', 'LightGBM', 'XGBoostClassifier', 'RandomForest', 'RandomForest', 'ExtremeRandomTrees', 'XGBoostClassifier']\", 'ensemble_weights': '[0.16666666666666666, 0.25, 0.08333333333333333, 0.08333333333333333, 0.08333333333333333, 0.08333333333333333, 0.16666666666666666, 0.08333333333333333]', 'best_individual_pipeline_score': '0.9101773793524517', 'best_individual_iteration': '11', '_aml_system_automl_is_child_run_end_telemetry_event_logged': 'True', 'model_explain_run_id': 'AutoML_1b04273f-3366-4b1f-a919-64b4803b236f_ModelExplain', 'model_explanation': 'True'}\n"
     ]
    },
    {
     "data": {
      "text/plain": [
       "['outputs/conda_env_v_1_0_0.yml']"
      ]
     },
     "execution_count": 17,
     "metadata": {},
     "output_type": "execute_result"
    }
   ],
   "source": [
    "print('Best Run Id: ', best_run.id)\n",
    "print('\\n AUC Weighted:', best_run_metrics['AUC_weighted'])\n",
    "print(fitted_model._final_estimator)\n",
    "print(best_run.get_tags())\n",
    "\n",
    "os.makedirs('./outputs', exist_ok=True)\n",
    "\n",
    "joblib.dump(fitted_model, filename='outputs/automl.joblib')\n",
    "\n",
    "model_name = best_run.properties['model_name']\n",
    "env = best_run.get_environment()\n",
    "script_file = 'score.py'\n",
    "best_run.download_file('outputs/scoring_file_v_1_0_0.py', script_file)\n",
    "\n",
    "env_file_name = 'conda_env_v_1_0_0.yml'\n",
    "joblib.dump(value=fitted_model, filename=os.path.join(\"outputs/\", env_file_name))"
   ]
  },
  {
   "cell_type": "markdown",
   "metadata": {},
   "source": [
    "## Model Deployment\n",
    "\n",
    "We are going to deploy the model to a Container in an Azure Container Instance (ACI) and we will test the endpoint by getting a couple of "
   ]
  },
  {
   "cell_type": "code",
   "execution_count": 18,
   "metadata": {
    "gather": {
     "logged": 1617706896221
    },
    "jupyter": {
     "outputs_hidden": false,
     "source_hidden": false
    },
    "nteract": {
     "transient": {
      "deleting": false
     }
    }
   },
   "outputs": [
    {
     "name": "stdout",
     "output_type": "stream",
     "text": [
      "Tips: You can try get_logs(): https://aka.ms/debugimage#dockerlog or local deployment: https://aka.ms/debugimage#debug-locally to debug if deployment takes longer than 10 minutes.\n",
      "Running\n",
      "2021-04-06 16:45:18+00:00 Creating Container Registry if not exists.\n",
      "2021-04-06 16:45:19+00:00 Registering the environment.\n",
      "2021-04-06 16:45:22+00:00 Use the existing image.\n",
      "2021-04-06 16:45:22+00:00 Generating deployment configuration..\n",
      "2021-04-06 16:45:24+00:00 Submitting deployment to compute..\n",
      "2021-04-06 16:45:30+00:00 Checking the status of deployment automl-heart-failure..\n",
      "2021-04-06 16:49:08+00:00 Checking the status of inference endpoint automl-heart-failure.\n",
      "Succeeded\n",
      "ACI service creation operation finished, operation \"Succeeded\"\n",
      "State: Healthy\n",
      "Scoring URI: http://8f6cba36-a840-4245-9cad-dd425cc087f9.southcentralus.azurecontainer.io/score\n"
     ]
    }
   ],
   "source": [
    "model = remote_run.register_model(model_name = model_name,\n",
    "                                  description = 'heart failure model 2')\n",
    "\n",
    "inference_config = InferenceConfig(entry_script = script_file, environment = env)\n",
    "\n",
    "aci_config = AciWebservice.deploy_configuration(cpu_cores = 1, memory_gb = 1)\n",
    "\n",
    "aci_service_name = 'automl-heart-failure'\n",
    "service = Model.deploy(ws, aci_service_name, [model], inference_config, aci_config)\n",
    "service.wait_for_deployment(True)\n",
    "print(\"State: \" + service.state)\n",
    "print(\"Scoring URI: \" + service.scoring_uri)"
   ]
  },
  {
   "cell_type": "markdown",
   "metadata": {
    "collapsed": true,
    "gather": {
     "logged": 1598431657736
    },
    "jupyter": {
     "outputs_hidden": false,
     "source_hidden": false
    },
    "nteract": {
     "transient": {
      "deleting": false
     }
    }
   },
   "source": [
    "Now we send a request to the web service deployed to test it"
   ]
  },
  {
   "cell_type": "code",
   "execution_count": 20,
   "metadata": {
    "gather": {
     "logged": 1598432707604
    },
    "jupyter": {
     "outputs_hidden": false,
     "source_hidden": false
    },
    "nteract": {
     "transient": {
      "deleting": false
     }
    }
   },
   "outputs": [
    {
     "name": "stdout",
     "output_type": "stream",
     "text": [
      "{\"result\": [1, 0]}\n"
     ]
    }
   ],
   "source": [
    "%run endpoint.py"
   ]
  },
  {
   "cell_type": "markdown",
   "metadata": {
    "collapsed": true,
    "gather": {
     "logged": 1598432765711
    },
    "jupyter": {
     "outputs_hidden": false,
     "source_hidden": false
    },
    "nteract": {
     "transient": {
      "deleting": false
     }
    }
   },
   "source": [
    "Finally, we print the logs of the web service and delete the service"
   ]
  },
  {
   "cell_type": "code",
   "execution_count": 21,
   "metadata": {
    "gather": {
     "logged": 1617706374146
    },
    "jupyter": {
     "outputs_hidden": false,
     "source_hidden": false
    },
    "nteract": {
     "transient": {
      "deleting": false
     }
    }
   },
   "outputs": [
    {
     "data": {
      "text/plain": [
       "'2021-04-06T16:48:59,166543000+00:00 - gunicorn/run \\n2021-04-06T16:48:59,168393300+00:00 - iot-server/run \\n2021-04-06T16:48:59,201866600+00:00 - nginx/run \\n2021-04-06T16:48:59,190043600+00:00 - rsyslog/run \\n/usr/sbin/nginx: /azureml-envs/azureml_2b14f450572e78de640d54eaabed5e4d/lib/libcrypto.so.1.0.0: no version information available (required by /usr/sbin/nginx)\\n/usr/sbin/nginx: /azureml-envs/azureml_2b14f450572e78de640d54eaabed5e4d/lib/libcrypto.so.1.0.0: no version information available (required by /usr/sbin/nginx)\\n/usr/sbin/nginx: /azureml-envs/azureml_2b14f450572e78de640d54eaabed5e4d/lib/libssl.so.1.0.0: no version information available (required by /usr/sbin/nginx)\\n/usr/sbin/nginx: /azureml-envs/azureml_2b14f450572e78de640d54eaabed5e4d/lib/libssl.so.1.0.0: no version information available (required by /usr/sbin/nginx)\\n/usr/sbin/nginx: /azureml-envs/azureml_2b14f450572e78de640d54eaabed5e4d/lib/libssl.so.1.0.0: no version information available (required by /usr/sbin/nginx)\\nrsyslogd: /azureml-envs/azureml_2b14f450572e78de640d54eaabed5e4d/lib/libuuid.so.1: no version information available (required by rsyslogd)\\nEdgeHubConnectionString and IOTEDGE_IOTHUBHOSTNAME are not set. Exiting...\\n2021-04-06T16:49:00,892916500+00:00 - iot-server/finish 1 0\\n2021-04-06T16:49:00,906255600+00:00 - Exit code 1 is normal. Not restarting iot-server.\\nStarting gunicorn 19.9.0\\nListening at: http://127.0.0.1:31311 (66)\\nUsing worker: sync\\nworker timeout is set to 300\\nBooting worker with pid: 98\\nSPARK_HOME not set. Skipping PySpark Initialization.\\nGenerating new fontManager, this may take some time...\\nInitializing logger\\n2021-04-06 16:49:06,915 | root | INFO | Starting up app insights client\\n2021-04-06 16:49:06,916 | root | INFO | Starting up request id generator\\n2021-04-06 16:49:06,916 | root | INFO | Starting up app insight hooks\\n2021-04-06 16:49:06,917 | root | INFO | Invoking user\\'s init function\\n2021-04-06 16:49:18,099 | azureml.core | WARNING | Failure while loading azureml_run_type_providers. Failed to load entrypoint automl = azureml.train.automl.run:AutoMLRun._from_run_dto with exception (cryptography 3.2 (/azureml-envs/azureml_2b14f450572e78de640d54eaabed5e4d/lib/python3.6/site-packages), Requirement.parse(\\'cryptography<4.0.0,>=3.3.1; extra == \"crypto\"\\'), {\\'PyJWT\\'}).\\nFailure while loading azureml_run_type_providers. Failed to load entrypoint automl = azureml.train.automl.run:AutoMLRun._from_run_dto with exception (cryptography 3.2 (/azureml-envs/azureml_2b14f450572e78de640d54eaabed5e4d/lib/python3.6/site-packages), Requirement.parse(\\'cryptography<4.0.0,>=3.3.1; extra == \"crypto\"\\'), {\\'PyJWT\\'}).\\n2021-04-06 16:49:19,056 | root | INFO | Users\\'s init has completed successfully\\n2021-04-06 16:49:19,111 | root | INFO | Skipping middleware: dbg_model_info as it\\'s not enabled.\\n2021-04-06 16:49:19,111 | root | INFO | Skipping middleware: dbg_resource_usage as it\\'s not enabled.\\n2021-04-06 16:49:19,115 | root | INFO | Scoring timeout is found from os.environ: 60000 ms\\n2021-04-06 16:49:19,258 | root | INFO | 200\\n127.0.0.1 - - [06/Apr/2021:16:49:19 +0000] \"GET /swagger.json HTTP/1.0\" 200 2852 \"-\" \"Go-http-client/1.1\"\\n127.0.0.1 - - [06/Apr/2021:16:49:24 +0000] \"GET /login HTTP/1.0\" 404 232 \"-\" \"Mozilla/5.0 (Macintosh; Intel Mac OS X 10.14; rv:78.0) Gecko/20100101 Firefox/78.0\"\\n127.0.0.1 - - [06/Apr/2021:16:49:24 +0000] \"GET /jenkins/login HTTP/1.0\" 404 232 \"-\" \"Mozilla/5.0 (Macintosh; Intel Mac OS X 10.14; rv:78.0) Gecko/20100101 Firefox/78.0\"\\n127.0.0.1 - 8hYTSUFk [06/Apr/2021:16:49:24 +0000] \"GET /manager/html HTTP/1.0\" 404 232 \"-\" \"Mozilla/5.0 (Macintosh; Intel Mac OS X 10.14; rv:78.0) Gecko/20100101 Firefox/78.0\"\\n127.0.0.1 - - [06/Apr/2021:16:49:24 +0000] \"GET /wp-login.php HTTP/1.0\" 404 232 \"-\" \"Mozilla/5.0 (Macintosh; Intel Mac OS X 10.14; rv:78.0) Gecko/20100101 Firefox/78.0\"\\n127.0.0.1 - - [06/Apr/2021:16:49:24 +0000] \"GET /?function=call_user_func_array&s=%2FIndex%2F%5Cthink%5Capp%2Finvokefunction&vars%5B0%5D=md5&vars%5B1%5D%5B%5D=__HelloThinkPHP HTTP/1.0\" 200 7 \"-\" \"Mozilla/5.0 (Macintosh; Intel Mac OS X 10.14; rv:78.0) Gecko/20100101 Firefox/78.0\"\\n2021-04-06 16:49:24,809 | root | INFO | 200\\n127.0.0.1 - - [06/Apr/2021:16:49:24 +0000] \"GET /swagger.json HTTP/1.0\" 200 2852 \"-\" \"Go-http-client/1.1\"\\n2021-04-06 16:51:11,529 | root | INFO | Validation Request Content-Type\\n2021-04-06 16:51:11,529 | root | INFO | Scoring Timer is set to 60.0 seconds\\n2021-04-06 16:51:11,695 | root | INFO | 200\\n127.0.0.1 - - [06/Apr/2021:16:51:11 +0000] \"POST /score HTTP/1.0\" 200 22 \"-\" \"python-requests/2.25.1\"\\n'"
      ]
     },
     "execution_count": 21,
     "metadata": {},
     "output_type": "execute_result"
    }
   ],
   "source": [
    "service.get_logs()"
   ]
  },
  {
   "cell_type": "code",
   "execution_count": null,
   "metadata": {
    "gather": {
     "logged": 1617706377092
    },
    "jupyter": {
     "outputs_hidden": false,
     "source_hidden": false
    },
    "nteract": {
     "transient": {
      "deleting": false
     }
    }
   },
   "outputs": [],
   "source": [
    "service.delete()"
   ]
  },
  {
   "cell_type": "code",
   "execution_count": null,
   "metadata": {
    "jupyter": {
     "outputs_hidden": false,
     "source_hidden": false
    },
    "nteract": {
     "transient": {
      "deleting": false
     }
    }
   },
   "outputs": [],
   "source": []
  },
  {
   "cell_type": "code",
   "execution_count": null,
   "metadata": {
    "jupyter": {
     "outputs_hidden": false,
     "source_hidden": false
    },
    "nteract": {
     "transient": {
      "deleting": false
     }
    }
   },
   "outputs": [],
   "source": []
  },
  {
   "cell_type": "code",
   "execution_count": null,
   "metadata": {
    "jupyter": {
     "outputs_hidden": false,
     "source_hidden": false
    },
    "nteract": {
     "transient": {
      "deleting": false
     }
    }
   },
   "outputs": [],
   "source": []
  },
  {
   "cell_type": "code",
   "execution_count": null,
   "metadata": {
    "jupyter": {
     "outputs_hidden": false,
     "source_hidden": false
    },
    "nteract": {
     "transient": {
      "deleting": false
     }
    }
   },
   "outputs": [],
   "source": []
  },
  {
   "cell_type": "code",
   "execution_count": null,
   "metadata": {
    "jupyter": {
     "outputs_hidden": false,
     "source_hidden": false
    },
    "nteract": {
     "transient": {
      "deleting": false
     }
    }
   },
   "outputs": [],
   "source": []
  },
  {
   "cell_type": "code",
   "execution_count": null,
   "metadata": {
    "jupyter": {
     "outputs_hidden": false,
     "source_hidden": false
    },
    "nteract": {
     "transient": {
      "deleting": false
     }
    }
   },
   "outputs": [],
   "source": []
  },
  {
   "cell_type": "code",
   "execution_count": null,
   "metadata": {
    "jupyter": {
     "outputs_hidden": false,
     "source_hidden": false
    },
    "nteract": {
     "transient": {
      "deleting": false
     }
    }
   },
   "outputs": [],
   "source": []
  },
  {
   "cell_type": "code",
   "execution_count": null,
   "metadata": {
    "jupyter": {
     "outputs_hidden": false,
     "source_hidden": false
    },
    "nteract": {
     "transient": {
      "deleting": false
     }
    }
   },
   "outputs": [],
   "source": []
  }
 ],
 "metadata": {
  "kernel_info": {
   "name": "python3"
  },
  "kernelspec": {
   "display_name": "Python 3",
   "language": "python",
   "name": "python3"
  },
  "language_info": {
   "codemirror_mode": {
    "name": "ipython",
    "version": 3
   },
   "file_extension": ".py",
   "mimetype": "text/x-python",
   "name": "python",
   "nbconvert_exporter": "python",
   "pygments_lexer": "ipython3",
   "version": "3.6.9"
  },
  "microsoft": {
   "host": {
    "AzureML": {
     "notebookHasBeenCompleted": true
    }
   }
  },
  "nteract": {
   "version": "nteract-front-end@1.0.0"
  }
 },
 "nbformat": 4,
 "nbformat_minor": 2
}
