{
  "cells": [
    {
      "cell_type": "markdown",
      "source": [
        "# Automated ML\n",
        "\n",
        "Importing dependencies"
      ],
      "metadata": {}
    },
    {
      "cell_type": "code",
      "source": [
        "from sklearn.metrics import confusion_matrix\n",
        "from azureml.core import Dataset, Workspace, Experiment\n",
        "from azureml.core.compute import ComputeTarget, AmlCompute\n",
        "from azureml.core.compute_target import ComputeTargetException\n",
        "from azureml.widgets import RunDetails\n",
        "from azureml.train.automl import AutoMLConfig\n",
        "from azureml.core.model import InferenceConfig\n",
        "from azureml.core.webservice import AciWebservice, Webservice\n",
        "from azureml.core.model import Model\n",
        "from azureml.core.environment import Environment\n",
        "import os\n",
        "import pandas as pd\n",
        "import numpy as np\n",
        "import json\n",
        "import requests\n",
        "import joblib\n",
        "import itertools"
      ],
      "outputs": [],
      "execution_count": 33,
      "metadata": {
        "gather": {
          "logged": 1617706502047
        },
        "jupyter": {
          "outputs_hidden": false,
          "source_hidden": false
        },
        "nteract": {
          "transient": {
            "deleting": false
          }
        }
      }
    },
    {
      "cell_type": "code",
      "source": [
        "# This might be required if the AutoML best algo is XGBoost\n",
        "%pip install xgboost==0.90"
      ],
      "outputs": [],
      "execution_count": 2,
      "metadata": {
        "collapsed": true,
        "jupyter": {
          "source_hidden": false,
          "outputs_hidden": false
        },
        "nteract": {
          "transient": {
            "deleting": false
          }
        },
        "gather": {
          "logged": 1617701752143
        }
      }
    },
    {
      "cell_type": "markdown",
      "source": [
        "## Dataset\n",
        "The dataset we are using was obtained from the publication \"Machine learning can predict survival of patients with heart failure from serum creatinine and ejection fraction alone\". Davide Chicco, Giuseppe Jurman. BMC Medical Informatics and Decision Making 20, 16 (2020). ([link](https://doi.org/10.1186/s12911-020-1023-5))\n",
        "\n",
        "### Overview\n",
        "\n",
        "In the dataset we can find 12 features that can be used to predict heart failure mortality:\n",
        "* age\n",
        "* anemia (Decrease of red blood cells or hemoglobin\n",
        "* creatinine_phosphokinase (Level of the CPK enzyme in the blood)\n",
        "* diabetes (If the patient has diabetes)\n",
        "* ejection_fraction (Percentage of blood leaving the heart at each contraction)\n",
        "* high_blood_pressure (If the patient has hypertension)\n",
        "* platelets (Platelets in the blood measured in kiloplatelets/mL)\n",
        "* serum_creatinine (Level of serum creatinine in the blood measured in mg/dL)\n",
        "* serum_sodium (Level of serum sodium in the blood measured in mEq/L)\n",
        "* sex (Woman or man)\n",
        "* smoking (If the patient smokes or not)\n",
        "* time (Follow-up period in days)\n",
        "* DEATH_EVENT (If the patient deceased during the follow-up period)\n",
        "\n",
        "The target variable is DEATH_EVENT."
      ],
      "metadata": {}
    },
    {
      "cell_type": "code",
      "source": [
        "ws = Workspace.from_config()\n",
        "\n",
        "experiment_name = 'automl-exp'\n",
        "\n",
        "experiment = Experiment(ws, experiment_name)"
      ],
      "outputs": [],
      "execution_count": 34,
      "metadata": {
        "gather": {
          "logged": 1617706505843
        },
        "jupyter": {
          "outputs_hidden": false,
          "source_hidden": false
        },
        "nteract": {
          "transient": {
            "deleting": false
          }
        }
      }
    },
    {
      "cell_type": "code",
      "source": [
        "dataset = Dataset.get_by_name(ws, 'heart-disease-from-kaggle')\n",
        "data_train, data_test = dataset.random_split(0.8)"
      ],
      "outputs": [],
      "execution_count": 4,
      "metadata": {
        "collapsed": true,
        "jupyter": {
          "source_hidden": false,
          "outputs_hidden": false
        },
        "nteract": {
          "transient": {
            "deleting": false
          }
        },
        "gather": {
          "logged": 1617701760401
        }
      }
    },
    {
      "cell_type": "code",
      "source": [
        "df = dataset.to_pandas_dataframe()\n",
        "df['DEATH_EVENT'].value_counts()"
      ],
      "outputs": [
        {
          "output_type": "execute_result",
          "execution_count": 5,
          "data": {
            "text/plain": "0    203\n1     96\nName: DEATH_EVENT, dtype: int64"
          },
          "metadata": {}
        }
      ],
      "execution_count": 5,
      "metadata": {
        "collapsed": true,
        "jupyter": {
          "source_hidden": false,
          "outputs_hidden": false
        },
        "nteract": {
          "transient": {
            "deleting": false
          }
        },
        "gather": {
          "logged": 1617701763649
        }
      }
    },
    {
      "cell_type": "markdown",
      "source": [
        "Dataset is imbalanced! This means the metric \"accuracy\" should not be used, as it gives misleading results."
      ],
      "metadata": {
        "nteract": {
          "transient": {
            "deleting": false
          }
        }
      }
    },
    {
      "cell_type": "markdown",
      "source": [
        "### Compute cluster"
      ],
      "metadata": {
        "nteract": {
          "transient": {
            "deleting": false
          }
        }
      }
    },
    {
      "cell_type": "code",
      "source": [
        "cpu_cluster_name = \"cpu-cluster\"\n",
        "\n",
        "# Verify that cluster does not exist already\n",
        "try:\n",
        "    compute_target = ComputeTarget(workspace=ws, name=cpu_cluster_name)\n",
        "    print('Found existing cluster, use it.')\n",
        "except ComputeTargetException:\n",
        "    compute_config = AmlCompute.provisioning_configuration(vm_size='STANDARD_D12_V2',\n",
        "                                                           max_nodes=10)\n",
        "    compute_target = ComputeTarget.create(ws, cpu_cluster_name, compute_config)\n",
        "\n",
        "compute_target.wait_for_completion(show_output=True)"
      ],
      "outputs": [
        {
          "output_type": "stream",
          "name": "stdout",
          "text": [
            "Found existing cluster, use it.\n",
            "Succeeded\n",
            "AmlCompute wait for completion finished\n",
            "\n",
            "Minimum number of nodes requested have been provisioned\n"
          ]
        }
      ],
      "execution_count": 6,
      "metadata": {
        "collapsed": true,
        "jupyter": {
          "source_hidden": false,
          "outputs_hidden": false
        },
        "nteract": {
          "transient": {
            "deleting": false
          }
        },
        "gather": {
          "logged": 1617701766601
        }
      }
    },
    {
      "cell_type": "markdown",
      "source": [
        "## AutoML Configuration\n",
        "\n",
        "As part of the AutoML configuration, we are going to select:\n",
        "- Problem type: Classification\n",
        "- Experiment timeout: 20 minutes\n",
        "- Maximum concurrent iterations: 4\n",
        "- Primary metric: AUC weighted. This has been selected as we have seen that the dataset is imbalanced (203 cases in one class, versus 96 in the other class)\n",
        "- k value for k-fold Validation: 5. We split the data in train-test with 80-20 proportion, which combined with 5 cross-validations, we cover the whole dataset\n",
        "- Early stopping: enabled\n"
      ],
      "metadata": {}
    },
    {
      "cell_type": "code",
      "source": [
        "automl_settings = {\n",
        "    \"experiment_timeout_minutes\": 20,\n",
        "    \"max_concurrent_iterations\": 4,\n",
        "    \"primary_metric\" : 'AUC_weighted',\n",
        "    \"n_cross_validations\": 5\n",
        "}\n",
        "automl_config = AutoMLConfig(compute_target=compute_target,\n",
        "                             task = \"classification\",\n",
        "                             training_data=data_train,\n",
        "                             label_column_name=\"DEATH_EVENT\", \n",
        "                             enable_early_stopping= True,\n",
        "                             featurization= 'auto',\n",
        "                             **automl_settings\n",
        "                            )"
      ],
      "outputs": [],
      "execution_count": 7,
      "metadata": {
        "gather": {
          "logged": 1617701774089
        },
        "jupyter": {
          "outputs_hidden": false,
          "source_hidden": false
        },
        "nteract": {
          "transient": {
            "deleting": false
          }
        }
      }
    },
    {
      "cell_type": "code",
      "source": [
        "remote_run = experiment.submit(automl_config, show_output = True)"
      ],
      "outputs": [
        {
          "output_type": "stream",
          "name": "stdout",
          "text": [
            "Running on remote.\n",
            "No run_configuration provided, running on cpu-cluster with default configuration\n",
            "Running on remote compute: cpu-cluster\n",
            "Parent Run ID: AutoML_a0d5d70d-4760-46bd-9c0f-a0b8bc381771\n",
            "\n",
            "Current status: FeaturesGeneration. Generating features for the dataset.\n",
            "Current status: DatasetCrossValidationSplit. Generating individually featurized CV splits.\n",
            "Current status: ModelSelection. Beginning model selection.\n",
            "\n",
            "****************************************************************************************************\n",
            "DATA GUARDRAILS: \n",
            "\n",
            "TYPE:         Class balancing detection\n",
            "STATUS:       PASSED\n",
            "DESCRIPTION:  Your inputs were analyzed, and all classes are balanced in your training data.\n",
            "              Learn more about imbalanced data: https://aka.ms/AutomatedMLImbalancedData\n",
            "\n",
            "****************************************************************************************************\n",
            "\n",
            "TYPE:         Missing feature values imputation\n",
            "STATUS:       PASSED\n",
            "DESCRIPTION:  No feature missing values were detected in the training data.\n",
            "              Learn more about missing value imputation: https://aka.ms/AutomatedMLFeaturization\n",
            "\n",
            "****************************************************************************************************\n",
            "\n",
            "TYPE:         High cardinality feature detection\n",
            "STATUS:       PASSED\n",
            "DESCRIPTION:  Your inputs were analyzed, and no high cardinality features were detected.\n",
            "              Learn more about high cardinality feature handling: https://aka.ms/AutomatedMLFeaturization\n",
            "\n",
            "****************************************************************************************************\n",
            "\n",
            "****************************************************************************************************\n",
            "ITERATION: The iteration being evaluated.\n",
            "PIPELINE: A summary description of the pipeline being evaluated.\n",
            "DURATION: Time taken for the current iteration.\n",
            "METRIC: The result of computing score on the fitted pipeline.\n",
            "BEST: The best observed score thus far.\n",
            "****************************************************************************************************\n",
            "\n",
            " ITERATION   PIPELINE                                       DURATION      METRIC      BEST\n",
            "         0   MaxAbsScaler LightGBM                          0:00:40       0.9270    0.9270\n",
            "         1   MaxAbsScaler XGBoostClassifier                 0:00:40       0.9189    0.9270\n",
            "         2   MinMaxScaler RandomForest                      0:00:43       0.9217    0.9270\n",
            "         3   RobustScaler ExtremeRandomTrees                0:00:36       0.9248    0.9270\n",
            "         7   MinMaxScaler ExtremeRandomTrees                0:00:43       0.9097    0.9270\n",
            "         8   MinMaxScaler ExtremeRandomTrees                0:00:40       0.9050    0.9270\n",
            "         9   SparseNormalizer KNN                           0:00:40       0.7941    0.9270\n",
            "         4   MinMaxScaler RandomForest                      0:02:47       0.9127    0.9270\n",
            "         5   MinMaxScaler RandomForest                      0:03:18       0.9223    0.9270\n",
            "         6   StandardScalerWrapper RandomForest             0:03:19       0.9203    0.9270\n",
            "        11   RobustScaler ExtremeRandomTrees                0:00:42       0.9048    0.9270\n",
            "        10   MinMaxScaler ExtremeRandomTrees                0:00:49       0.9063    0.9270\n",
            "        12   StandardScalerWrapper RandomForest             0:00:43       0.9301    0.9301\n",
            "        13   StandardScalerWrapper SGD                      0:00:52       0.8945    0.9301\n",
            "        14   RobustScaler RandomForest                      0:00:46       0.8915    0.9301\n",
            "        15   StandardScalerWrapper KNN                      0:00:48       0.5728    0.9301\n",
            "        16   MinMaxScaler RandomForest                      0:00:40       0.9011    0.9301\n",
            "        17   MinMaxScaler ExtremeRandomTrees                0:00:47       0.8719    0.9301\n",
            "        18   MaxAbsScaler RandomForest                      0:00:42       0.9078    0.9301\n",
            "        19   StandardScalerWrapper XGBoostClassifier        0:00:42       0.9198    0.9301\n",
            "        20   MaxAbsScaler RandomForest                      0:00:46       0.9353    0.9353\n",
            "        21   MaxAbsScaler ExtremeRandomTrees                0:00:37       0.8763    0.9353\n",
            "        22   MaxAbsScaler ExtremeRandomTrees                0:00:47       0.9079    0.9353\n",
            "        23   MinMaxScaler ExtremeRandomTrees                0:00:48       0.9295    0.9353\n",
            "        24   MaxAbsScaler ExtremeRandomTrees                0:00:45       0.9264    0.9353\n",
            "        25   MinMaxScaler RandomForest                      0:00:50       0.8556    0.9353\n",
            "        26   StandardScalerWrapper LightGBM                 0:00:40       0.9111    0.9353\n",
            "        27   MaxAbsScaler LightGBM                          0:00:48       0.9405    0.9405\n",
            "        28   MaxAbsScaler ExtremeRandomTrees                0:00:48       0.9109    0.9405\n",
            "        29   StandardScalerWrapper XGBoostClassifier        0:00:42       0.9422    0.9422\n",
            "        30   PCA RandomForest                               0:00:45       0.5451    0.9422\n",
            "        31   StandardScalerWrapper XGBoostClassifier        0:00:43       0.9433    0.9433\n",
            "        32   StandardScalerWrapper XGBoostClassifier        0:00:40       0.9418    0.9433\n",
            "        34   StandardScalerWrapper SVM                      0:00:38       0.9002    0.9433\n",
            "        33   MinMaxScaler LightGBM                          0:00:53       0.9225    0.9433\n",
            "        35   StandardScalerWrapper XGBoostClassifier        0:00:48       0.9094    0.9433\n",
            "        36   StandardScalerWrapper SVM                      0:00:47       0.8824    0.9433\n",
            "        37   StandardScalerWrapper XGBoostClassifier        0:00:38       0.9287    0.9433\n",
            "        38   StandardScalerWrapper XGBoostClassifier        0:00:42       0.9469    0.9469\n",
            "        39   StandardScalerWrapper XGBoostClassifier        0:00:38       0.9449    0.9469\n",
            "        40   StandardScalerWrapper XGBoostClassifier        0:00:43       0.9396    0.9469\n",
            "        41   StandardScalerWrapper LightGBM                 0:00:46       0.9193    0.9469\n",
            "        42   RobustScaler LightGBM                          0:00:48       0.9384    0.9469\n",
            "        43   StandardScalerWrapper GradientBoosting         0:00:44       0.9466    0.9469\n",
            "        44   StandardScalerWrapper XGBoostClassifier        0:00:46       0.9302    0.9469\n",
            "        45   StandardScalerWrapper XGBoostClassifier        0:00:47       0.9372    0.9469\n",
            "        46   StandardScalerWrapper RandomForest             0:00:51       0.9391    0.9469\n",
            "        47   RobustScaler RandomForest                      0:00:42       0.9343    0.9469\n",
            "        48   StandardScalerWrapper GradientBoosting         0:00:48       0.9360    0.9469\n",
            "        49   RobustScaler LogisticRegression                0:00:48       0.8924    0.9469\n",
            "        50   StandardScalerWrapper XGBoostClassifier        0:00:51       0.9375    0.9469\n",
            "        51   StandardScalerWrapper GradientBoosting         0:00:49       0.9283    0.9469\n",
            "        53                                                  0:00:17          nan    0.9469\n",
            "        54                                                  0:00:08          nan    0.9469\n",
            "        52                                                  0:00:54          nan    0.9469\n",
            "        55    VotingEnsemble                                0:01:26       0.9571    0.9571\n",
            "        56    StackEnsemble                                 0:01:27       0.9553    0.9571\n"
          ]
        }
      ],
      "execution_count": 8,
      "metadata": {
        "gather": {
          "logged": 1617703543137
        },
        "jupyter": {
          "outputs_hidden": false,
          "source_hidden": false
        },
        "nteract": {
          "transient": {
            "deleting": false
          }
        }
      }
    },
    {
      "cell_type": "markdown",
      "source": [
        "## Run Details\n",
        "As we could see, the ensemble algorithm (both stack and voting) was the algorithm which obtained the highest value for the selected metric.\n",
        "\n",
        "We could have probably improved the results if we would have selected a longer experiment timeout in minutes."
      ],
      "metadata": {}
    },
    {
      "cell_type": "code",
      "source": [
        "RunDetails(remote_run).show()"
      ],
      "outputs": [
        {
          "output_type": "display_data",
          "data": {
            "text/plain": "_AutoMLWidget(widget_settings={'childWidgetDisplay': 'popup', 'send_telemetry': False, 'log_level': 'INFO', 's…",
            "application/vnd.jupyter.widget-view+json": {
              "version_major": 2,
              "version_minor": 0,
              "model_id": "18041465d1464edcab818ac940ddad6b"
            }
          },
          "metadata": {}
        },
        {
          "output_type": "display_data",
          "data": {
            "application/aml.mini.widget.v1": "{\"status\": \"Completed\", \"workbench_run_details_uri\": \"https://ml.azure.com/experiments/automl-exp/runs/AutoML_a0d5d70d-4760-46bd-9c0f-a0b8bc381771?wsid=/subscriptions/9b72f9e6-56c5-4c16-991b-19c652994860/resourcegroups/aml-quickstarts-142075/workspaces/quick-starts-ws-142075\", \"run_id\": \"AutoML_a0d5d70d-4760-46bd-9c0f-a0b8bc381771\", \"run_properties\": {\"run_id\": \"AutoML_a0d5d70d-4760-46bd-9c0f-a0b8bc381771\", \"created_utc\": \"2021-04-06T09:36:31.402798Z\", \"properties\": {\"num_iterations\": \"1000\", \"training_type\": \"TrainFull\", \"acquisition_function\": \"EI\", \"primary_metric\": \"AUC_weighted\", \"train_split\": \"0\", \"acquisition_parameter\": \"0\", \"num_cross_validation\": \"5\", \"target\": \"cpu-cluster\", \"AMLSettingsJsonString\": \"{\\\"path\\\":null,\\\"name\\\":\\\"automl-exp\\\",\\\"subscription_id\\\":\\\"9b72f9e6-56c5-4c16-991b-19c652994860\\\",\\\"resource_group\\\":\\\"aml-quickstarts-142075\\\",\\\"workspace_name\\\":\\\"quick-starts-ws-142075\\\",\\\"region\\\":\\\"southcentralus\\\",\\\"compute_target\\\":\\\"cpu-cluster\\\",\\\"spark_service\\\":null,\\\"azure_service\\\":\\\"remote\\\",\\\"many_models\\\":false,\\\"pipeline_fetch_max_batch_size\\\":1,\\\"enable_batch_run\\\":false,\\\"iterations\\\":1000,\\\"primary_metric\\\":\\\"AUC_weighted\\\",\\\"task_type\\\":\\\"classification\\\",\\\"data_script\\\":null,\\\"validation_size\\\":0.0,\\\"n_cross_validations\\\":5,\\\"y_min\\\":null,\\\"y_max\\\":null,\\\"num_classes\\\":null,\\\"featurization\\\":\\\"auto\\\",\\\"_ignore_package_version_incompatibilities\\\":false,\\\"is_timeseries\\\":false,\\\"max_cores_per_iteration\\\":1,\\\"max_concurrent_iterations\\\":4,\\\"iteration_timeout_minutes\\\":null,\\\"mem_in_mb\\\":null,\\\"enforce_time_on_windows\\\":false,\\\"experiment_timeout_minutes\\\":20,\\\"experiment_exit_score\\\":null,\\\"whitelist_models\\\":null,\\\"blacklist_algos\\\":[\\\"TensorFlowLinearClassifier\\\",\\\"TensorFlowDNN\\\"],\\\"supported_models\\\":[\\\"MultinomialNaiveBayes\\\",\\\"LogisticRegression\\\",\\\"ExtremeRandomTrees\\\",\\\"GradientBoosting\\\",\\\"XGBoostClassifier\\\",\\\"DecisionTree\\\",\\\"RandomForest\\\",\\\"AveragedPerceptronClassifier\\\",\\\"BernoulliNaiveBayes\\\",\\\"TensorFlowLinearClassifier\\\",\\\"SVM\\\",\\\"KNN\\\",\\\"LinearSVM\\\",\\\"TensorFlowDNN\\\",\\\"SGD\\\",\\\"LightGBM\\\"],\\\"private_models\\\":[],\\\"auto_blacklist\\\":true,\\\"blacklist_samples_reached\\\":false,\\\"exclude_nan_labels\\\":true,\\\"verbosity\\\":20,\\\"_debug_log\\\":\\\"azureml_automl.log\\\",\\\"show_warnings\\\":false,\\\"model_explainability\\\":true,\\\"service_url\\\":null,\\\"sdk_url\\\":null,\\\"sdk_packages\\\":null,\\\"enable_onnx_compatible_models\\\":false,\\\"enable_split_onnx_featurizer_estimator_models\\\":false,\\\"vm_type\\\":\\\"STANDARD_D12_V2\\\",\\\"telemetry_verbosity\\\":20,\\\"send_telemetry\\\":true,\\\"enable_dnn\\\":false,\\\"scenario\\\":\\\"SDK-1.13.0\\\",\\\"environment_label\\\":null,\\\"save_mlflow\\\":false,\\\"force_text_dnn\\\":false,\\\"enable_feature_sweeping\\\":true,\\\"enable_early_stopping\\\":true,\\\"early_stopping_n_iters\\\":10,\\\"metrics\\\":null,\\\"enable_metric_confidence\\\":false,\\\"enable_ensembling\\\":true,\\\"enable_stack_ensembling\\\":true,\\\"ensemble_iterations\\\":15,\\\"enable_tf\\\":false,\\\"enable_subsampling\\\":null,\\\"subsample_seed\\\":null,\\\"enable_nimbusml\\\":false,\\\"enable_streaming\\\":false,\\\"force_streaming\\\":false,\\\"track_child_runs\\\":true,\\\"allowed_private_models\\\":[],\\\"label_column_name\\\":\\\"DEATH_EVENT\\\",\\\"weight_column_name\\\":null,\\\"cv_split_column_names\\\":null,\\\"enable_local_managed\\\":false,\\\"_local_managed_run_id\\\":null,\\\"cost_mode\\\":1,\\\"lag_length\\\":0,\\\"metric_operation\\\":\\\"maximize\\\",\\\"preprocess\\\":true}\", \"DataPrepJsonString\": \"{\\\\\\\"training_data\\\\\\\": \\\\\\\"{\\\\\\\\\\\\\\\"blocks\\\\\\\\\\\\\\\": [{\\\\\\\\\\\\\\\"id\\\\\\\\\\\\\\\": \\\\\\\\\\\\\\\"e0e5047b-7382-4788-a6a5-12b8e76e18e3\\\\\\\\\\\\\\\", \\\\\\\\\\\\\\\"type\\\\\\\\\\\\\\\": \\\\\\\\\\\\\\\"Microsoft.DPrep.GetDatastoreFilesBlock\\\\\\\\\\\\\\\", \\\\\\\\\\\\\\\"arguments\\\\\\\\\\\\\\\": {\\\\\\\\\\\\\\\"datastores\\\\\\\\\\\\\\\": [{\\\\\\\\\\\\\\\"datastoreName\\\\\\\\\\\\\\\": \\\\\\\\\\\\\\\"workspaceblobstore\\\\\\\\\\\\\\\", \\\\\\\\\\\\\\\"path\\\\\\\\\\\\\\\": \\\\\\\\\\\\\\\"UI/04-06-2021_085517_UTC/heart_failure_clinical_records_dataset.csv\\\\\\\\\\\\\\\", \\\\\\\\\\\\\\\"resourceGroup\\\\\\\\\\\\\\\": \\\\\\\\\\\\\\\"aml-quickstarts-142075\\\\\\\\\\\\\\\", \\\\\\\\\\\\\\\"subscription\\\\\\\\\\\\\\\": \\\\\\\\\\\\\\\"9b72f9e6-56c5-4c16-991b-19c652994860\\\\\\\\\\\\\\\", \\\\\\\\\\\\\\\"workspaceName\\\\\\\\\\\\\\\": \\\\\\\\\\\\\\\"quick-starts-ws-142075\\\\\\\\\\\\\\\"}]}, \\\\\\\\\\\\\\\"localData\\\\\\\\\\\\\\\": {}, \\\\\\\\\\\\\\\"isEnabled\\\\\\\\\\\\\\\": true, \\\\\\\\\\\\\\\"name\\\\\\\\\\\\\\\": null, \\\\\\\\\\\\\\\"annotation\\\\\\\\\\\\\\\": null}, {\\\\\\\\\\\\\\\"id\\\\\\\\\\\\\\\": \\\\\\\\\\\\\\\"b8ac4c7f-6c51-447d-bc1d-ad961853eed5\\\\\\\\\\\\\\\", \\\\\\\\\\\\\\\"type\\\\\\\\\\\\\\\": \\\\\\\\\\\\\\\"Microsoft.DPrep.ParseDelimitedBlock\\\\\\\\\\\\\\\", \\\\\\\\\\\\\\\"arguments\\\\\\\\\\\\\\\": {\\\\\\\\\\\\\\\"columnHeadersMode\\\\\\\\\\\\\\\": 1, \\\\\\\\\\\\\\\"fileEncoding\\\\\\\\\\\\\\\": 0, \\\\\\\\\\\\\\\"handleQuotedLineBreaks\\\\\\\\\\\\\\\": false, \\\\\\\\\\\\\\\"preview\\\\\\\\\\\\\\\": false, \\\\\\\\\\\\\\\"separator\\\\\\\\\\\\\\\": \\\\\\\\\\\\\\\",\\\\\\\\\\\\\\\", \\\\\\\\\\\\\\\"skipRows\\\\\\\\\\\\\\\": 0, \\\\\\\\\\\\\\\"skipRowsMode\\\\\\\\\\\\\\\": 0}, \\\\\\\\\\\\\\\"localData\\\\\\\\\\\\\\\": {}, \\\\\\\\\\\\\\\"isEnabled\\\\\\\\\\\\\\\": true, \\\\\\\\\\\\\\\"name\\\\\\\\\\\\\\\": null, \\\\\\\\\\\\\\\"annotation\\\\\\\\\\\\\\\": null}, {\\\\\\\\\\\\\\\"id\\\\\\\\\\\\\\\": \\\\\\\\\\\\\\\"54f8a637-2dfa-42dd-ba8a-c96db7074b2d\\\\\\\\\\\\\\\", \\\\\\\\\\\\\\\"type\\\\\\\\\\\\\\\": \\\\\\\\\\\\\\\"Microsoft.DPrep.DropColumnsBlock\\\\\\\\\\\\\\\", \\\\\\\\\\\\\\\"arguments\\\\\\\\\\\\\\\": {\\\\\\\\\\\\\\\"columns\\\\\\\\\\\\\\\": {\\\\\\\\\\\\\\\"type\\\\\\\\\\\\\\\": 0, \\\\\\\\\\\\\\\"details\\\\\\\\\\\\\\\": {\\\\\\\\\\\\\\\"selectedColumns\\\\\\\\\\\\\\\": [\\\\\\\\\\\\\\\"Path\\\\\\\\\\\\\\\"]}}}, \\\\\\\\\\\\\\\"localData\\\\\\\\\\\\\\\": {}, \\\\\\\\\\\\\\\"isEnabled\\\\\\\\\\\\\\\": true, \\\\\\\\\\\\\\\"name\\\\\\\\\\\\\\\": null, \\\\\\\\\\\\\\\"annotation\\\\\\\\\\\\\\\": null}, {\\\\\\\\\\\\\\\"id\\\\\\\\\\\\\\\": \\\\\\\\\\\\\\\"8d37770f-a8c9-4e38-8db3-33c35c43b842\\\\\\\\\\\\\\\", \\\\\\\\\\\\\\\"type\\\\\\\\\\\\\\\": \\\\\\\\\\\\\\\"Microsoft.DPrep.SetColumnTypesBlock\\\\\\\\\\\\\\\", \\\\\\\\\\\\\\\"arguments\\\\\\\\\\\\\\\": {\\\\\\\\\\\\\\\"columnConversion\\\\\\\\\\\\\\\": [{\\\\\\\\\\\\\\\"column\\\\\\\\\\\\\\\": {\\\\\\\\\\\\\\\"type\\\\\\\\\\\\\\\": 2, \\\\\\\\\\\\\\\"details\\\\\\\\\\\\\\\": {\\\\\\\\\\\\\\\"selectedColumn\\\\\\\\\\\\\\\": \\\\\\\\\\\\\\\"Path\\\\\\\\\\\\\\\"}}, \\\\\\\\\\\\\\\"typeProperty\\\\\\\\\\\\\\\": 0}, {\\\\\\\\\\\\\\\"column\\\\\\\\\\\\\\\": {\\\\\\\\\\\\\\\"type\\\\\\\\\\\\\\\": 2, \\\\\\\\\\\\\\\"details\\\\\\\\\\\\\\\": {\\\\\\\\\\\\\\\"selectedColumn\\\\\\\\\\\\\\\": \\\\\\\\\\\\\\\"age\\\\\\\\\\\\\\\"}}, \\\\\\\\\\\\\\\"typeProperty\\\\\\\\\\\\\\\": 3}, {\\\\\\\\\\\\\\\"column\\\\\\\\\\\\\\\": {\\\\\\\\\\\\\\\"type\\\\\\\\\\\\\\\": 2, \\\\\\\\\\\\\\\"details\\\\\\\\\\\\\\\": {\\\\\\\\\\\\\\\"selectedColumn\\\\\\\\\\\\\\\": \\\\\\\\\\\\\\\"anaemia\\\\\\\\\\\\\\\"}}, \\\\\\\\\\\\\\\"typeProperty\\\\\\\\\\\\\\\": 2}, {\\\\\\\\\\\\\\\"column\\\\\\\\\\\\\\\": {\\\\\\\\\\\\\\\"type\\\\\\\\\\\\\\\": 2, \\\\\\\\\\\\\\\"details\\\\\\\\\\\\\\\": {\\\\\\\\\\\\\\\"selectedColumn\\\\\\\\\\\\\\\": \\\\\\\\\\\\\\\"creatinine_phosphokinase\\\\\\\\\\\\\\\"}}, \\\\\\\\\\\\\\\"typeProperty\\\\\\\\\\\\\\\": 2}, {\\\\\\\\\\\\\\\"column\\\\\\\\\\\\\\\": {\\\\\\\\\\\\\\\"type\\\\\\\\\\\\\\\": 2, \\\\\\\\\\\\\\\"details\\\\\\\\\\\\\\\": {\\\\\\\\\\\\\\\"selectedColumn\\\\\\\\\\\\\\\": \\\\\\\\\\\\\\\"diabetes\\\\\\\\\\\\\\\"}}, \\\\\\\\\\\\\\\"typeProperty\\\\\\\\\\\\\\\": 2}, {\\\\\\\\\\\\\\\"column\\\\\\\\\\\\\\\": {\\\\\\\\\\\\\\\"type\\\\\\\\\\\\\\\": 2, \\\\\\\\\\\\\\\"details\\\\\\\\\\\\\\\": {\\\\\\\\\\\\\\\"selectedColumn\\\\\\\\\\\\\\\": \\\\\\\\\\\\\\\"ejection_fraction\\\\\\\\\\\\\\\"}}, \\\\\\\\\\\\\\\"typeProperty\\\\\\\\\\\\\\\": 2}, {\\\\\\\\\\\\\\\"column\\\\\\\\\\\\\\\": {\\\\\\\\\\\\\\\"type\\\\\\\\\\\\\\\": 2, \\\\\\\\\\\\\\\"details\\\\\\\\\\\\\\\": {\\\\\\\\\\\\\\\"selectedColumn\\\\\\\\\\\\\\\": \\\\\\\\\\\\\\\"high_blood_pressure\\\\\\\\\\\\\\\"}}, \\\\\\\\\\\\\\\"typeProperty\\\\\\\\\\\\\\\": 2}, {\\\\\\\\\\\\\\\"column\\\\\\\\\\\\\\\": {\\\\\\\\\\\\\\\"type\\\\\\\\\\\\\\\": 2, \\\\\\\\\\\\\\\"details\\\\\\\\\\\\\\\": {\\\\\\\\\\\\\\\"selectedColumn\\\\\\\\\\\\\\\": \\\\\\\\\\\\\\\"platelets\\\\\\\\\\\\\\\"}}, \\\\\\\\\\\\\\\"typeProperty\\\\\\\\\\\\\\\": 3}, {\\\\\\\\\\\\\\\"column\\\\\\\\\\\\\\\": {\\\\\\\\\\\\\\\"type\\\\\\\\\\\\\\\": 2, \\\\\\\\\\\\\\\"details\\\\\\\\\\\\\\\": {\\\\\\\\\\\\\\\"selectedColumn\\\\\\\\\\\\\\\": \\\\\\\\\\\\\\\"serum_creatinine\\\\\\\\\\\\\\\"}}, \\\\\\\\\\\\\\\"typeProperty\\\\\\\\\\\\\\\": 3}, {\\\\\\\\\\\\\\\"column\\\\\\\\\\\\\\\": {\\\\\\\\\\\\\\\"type\\\\\\\\\\\\\\\": 2, \\\\\\\\\\\\\\\"details\\\\\\\\\\\\\\\": {\\\\\\\\\\\\\\\"selectedColumn\\\\\\\\\\\\\\\": \\\\\\\\\\\\\\\"serum_sodium\\\\\\\\\\\\\\\"}}, \\\\\\\\\\\\\\\"typeProperty\\\\\\\\\\\\\\\": 2}, {\\\\\\\\\\\\\\\"column\\\\\\\\\\\\\\\": {\\\\\\\\\\\\\\\"type\\\\\\\\\\\\\\\": 2, \\\\\\\\\\\\\\\"details\\\\\\\\\\\\\\\": {\\\\\\\\\\\\\\\"selectedColumn\\\\\\\\\\\\\\\": \\\\\\\\\\\\\\\"sex\\\\\\\\\\\\\\\"}}, \\\\\\\\\\\\\\\"typeProperty\\\\\\\\\\\\\\\": 2}, {\\\\\\\\\\\\\\\"column\\\\\\\\\\\\\\\": {\\\\\\\\\\\\\\\"type\\\\\\\\\\\\\\\": 2, \\\\\\\\\\\\\\\"details\\\\\\\\\\\\\\\": {\\\\\\\\\\\\\\\"selectedColumn\\\\\\\\\\\\\\\": \\\\\\\\\\\\\\\"smoking\\\\\\\\\\\\\\\"}}, \\\\\\\\\\\\\\\"typeProperty\\\\\\\\\\\\\\\": 2}, {\\\\\\\\\\\\\\\"column\\\\\\\\\\\\\\\": {\\\\\\\\\\\\\\\"type\\\\\\\\\\\\\\\": 2, \\\\\\\\\\\\\\\"details\\\\\\\\\\\\\\\": {\\\\\\\\\\\\\\\"selectedColumn\\\\\\\\\\\\\\\": \\\\\\\\\\\\\\\"time\\\\\\\\\\\\\\\"}}, \\\\\\\\\\\\\\\"typeProperty\\\\\\\\\\\\\\\": 2}, {\\\\\\\\\\\\\\\"column\\\\\\\\\\\\\\\": {\\\\\\\\\\\\\\\"type\\\\\\\\\\\\\\\": 2, \\\\\\\\\\\\\\\"details\\\\\\\\\\\\\\\": {\\\\\\\\\\\\\\\"selectedColumn\\\\\\\\\\\\\\\": \\\\\\\\\\\\\\\"DEATH_EVENT\\\\\\\\\\\\\\\"}}, \\\\\\\\\\\\\\\"typeProperty\\\\\\\\\\\\\\\": 2}]}, \\\\\\\\\\\\\\\"localData\\\\\\\\\\\\\\\": {}, \\\\\\\\\\\\\\\"isEnabled\\\\\\\\\\\\\\\": true, \\\\\\\\\\\\\\\"name\\\\\\\\\\\\\\\": null, \\\\\\\\\\\\\\\"annotation\\\\\\\\\\\\\\\": null}, {\\\\\\\\\\\\\\\"id\\\\\\\\\\\\\\\": \\\\\\\\\\\\\\\"e28d818a-d662-4cdd-91c7-ab2e13fe34d1\\\\\\\\\\\\\\\", \\\\\\\\\\\\\\\"type\\\\\\\\\\\\\\\": \\\\\\\\\\\\\\\"Microsoft.DPrep.TakeSampleBlock\\\\\\\\\\\\\\\", \\\\\\\\\\\\\\\"arguments\\\\\\\\\\\\\\\": {\\\\\\\\\\\\\\\"probability\\\\\\\\\\\\\\\": 0.8, \\\\\\\\\\\\\\\"probabilityLowerBound\\\\\\\\\\\\\\\": 0.0, \\\\\\\\\\\\\\\"seed\\\\\\\\\\\\\\\": 448792761}, \\\\\\\\\\\\\\\"localData\\\\\\\\\\\\\\\": {}, \\\\\\\\\\\\\\\"isEnabled\\\\\\\\\\\\\\\": true, \\\\\\\\\\\\\\\"name\\\\\\\\\\\\\\\": null, \\\\\\\\\\\\\\\"annotation\\\\\\\\\\\\\\\": null}], \\\\\\\\\\\\\\\"inspectors\\\\\\\\\\\\\\\": [], \\\\\\\\\\\\\\\"meta\\\\\\\\\\\\\\\": {\\\\\\\\\\\\\\\"savedDatasetId\\\\\\\\\\\\\\\": \\\\\\\\\\\\\\\"c646cd3d-8185-4175-8114-720009e61d66\\\\\\\\\\\\\\\", \\\\\\\\\\\\\\\"datasetType\\\\\\\\\\\\\\\": \\\\\\\\\\\\\\\"tabular\\\\\\\\\\\\\\\", \\\\\\\\\\\\\\\"subscriptionId\\\\\\\\\\\\\\\": \\\\\\\\\\\\\\\"9b72f9e6-56c5-4c16-991b-19c652994860\\\\\\\\\\\\\\\", \\\\\\\\\\\\\\\"workspaceId\\\\\\\\\\\\\\\": \\\\\\\\\\\\\\\"68be7b57-3873-4f7f-b3e0-bb30f117e477\\\\\\\\\\\\\\\", \\\\\\\\\\\\\\\"workspaceLocation\\\\\\\\\\\\\\\": \\\\\\\\\\\\\\\"southcentralus\\\\\\\\\\\\\\\", \\\\\\\\\\\\\\\"partition_keys\\\\\\\\\\\\\\\": \\\\\\\\\\\\\\\"true\\\\\\\\\\\\\\\"}}\\\\\\\", \\\\\\\"activities\\\\\\\": 0}\", \"EnableSubsampling\": null, \"runTemplate\": \"AutoML\", \"azureml.runsource\": \"automl\", \"display_task_type\": \"classification\", \"dependencies_versions\": \"{\\\"azureml-widgets\\\": \\\"1.24.0\\\", \\\"azureml-train\\\": \\\"1.24.0\\\", \\\"azureml-train-restclients-hyperdrive\\\": \\\"1.24.0\\\", \\\"azureml-train-core\\\": \\\"1.24.0\\\", \\\"azureml-train-automl\\\": \\\"1.24.0\\\", \\\"azureml-train-automl-runtime\\\": \\\"1.24.0\\\", \\\"azureml-train-automl-client\\\": \\\"1.24.0\\\", \\\"azureml-tensorboard\\\": \\\"1.24.0\\\", \\\"azureml-telemetry\\\": \\\"1.24.0\\\", \\\"azureml-sdk\\\": \\\"1.24.0\\\", \\\"azureml-samples\\\": \\\"0+unknown\\\", \\\"azureml-pipeline\\\": \\\"1.24.0\\\", \\\"azureml-pipeline-steps\\\": \\\"1.24.0\\\", \\\"azureml-pipeline-core\\\": \\\"1.24.0\\\", \\\"azureml-opendatasets\\\": \\\"1.24.0\\\", \\\"azureml-model-management-sdk\\\": \\\"1.0.1b6.post1\\\", \\\"azureml-mlflow\\\": \\\"1.24.0\\\", \\\"azureml-interpret\\\": \\\"1.24.0\\\", \\\"azureml-explain-model\\\": \\\"1.24.0\\\", \\\"azureml-defaults\\\": \\\"1.24.0\\\", \\\"azureml-dataset-runtime\\\": \\\"1.24.0\\\", \\\"azureml-dataprep\\\": \\\"2.11.1\\\", \\\"azureml-dataprep-rslex\\\": \\\"1.9.0\\\", \\\"azureml-dataprep-native\\\": \\\"30.0.0\\\", \\\"azureml-datadrift\\\": \\\"1.24.0\\\", \\\"azureml-core\\\": \\\"1.24.0\\\", \\\"azureml-contrib-services\\\": \\\"1.24.0\\\", \\\"azureml-contrib-server\\\": \\\"1.24.0\\\", \\\"azureml-contrib-reinforcementlearning\\\": \\\"1.24.0\\\", \\\"azureml-contrib-pipeline-steps\\\": \\\"1.24.0\\\", \\\"azureml-contrib-notebook\\\": \\\"1.24.0\\\", \\\"azureml-contrib-gbdt\\\": \\\"1.24.0\\\", \\\"azureml-contrib-fairness\\\": \\\"1.24.0\\\", \\\"azureml-contrib-dataset\\\": \\\"1.24.0\\\", \\\"azureml-cli-common\\\": \\\"1.24.0\\\", \\\"azureml-automl-runtime\\\": \\\"1.24.0\\\", \\\"azureml-automl-dnn-nlp\\\": \\\"1.24.0\\\", \\\"azureml-automl-core\\\": \\\"1.24.0\\\", \\\"azureml-accel-models\\\": \\\"1.24.0\\\"}\", \"_aml_system_scenario_identification\": \"Remote.Parent\", \"ClientType\": \"SDK\", \"environment_cpu_name\": \"AzureML-AutoML\", \"environment_cpu_label\": \"prod\", \"environment_gpu_name\": \"AzureML-AutoML-GPU\", \"environment_gpu_label\": \"prod\", \"root_attribution\": \"automl\", \"attribution\": \"AutoML\", \"Orchestrator\": \"AutoML\", \"CancelUri\": \"https://southcentralus.experiments.azureml.net/jasmine/v1.0/subscriptions/9b72f9e6-56c5-4c16-991b-19c652994860/resourceGroups/aml-quickstarts-142075/providers/Microsoft.MachineLearningServices/workspaces/quick-starts-ws-142075/experimentids/e1546892-9772-4df3-b036-ce8cae57b934/cancel/AutoML_a0d5d70d-4760-46bd-9c0f-a0b8bc381771\", \"ClientSdkVersion\": \"1.24.0\", \"snapshotId\": \"00000000-0000-0000-0000-000000000000\", \"SetupRunId\": \"AutoML_a0d5d70d-4760-46bd-9c0f-a0b8bc381771_setup\", \"SetupRunContainerId\": \"dcid.AutoML_a0d5d70d-4760-46bd-9c0f-a0b8bc381771_setup\", \"FeaturizationRunJsonPath\": \"featurizer_container.json\", \"FeaturizationRunId\": \"AutoML_a0d5d70d-4760-46bd-9c0f-a0b8bc381771_featurize\", \"ProblemInfoJsonString\": \"{\\\"dataset_num_categorical\\\": 0, \\\"is_sparse\\\": false, \\\"subsampling\\\": false, \\\"dataset_classes\\\": 2, \\\"dataset_features\\\": 12, \\\"dataset_samples\\\": 243, \\\"single_frequency_class_detected\\\": false}\", \"ModelExplainRunId\": \"AutoML_a0d5d70d-4760-46bd-9c0f-a0b8bc381771_ModelExplain\"}, \"tags\": {\"model_explain_run\": \"best_run\", \"_aml_system_azureml.automlComponent\": \"AutoML\", \"pipeline_id\": \"\", \"score\": \"\", \"predicted_cost\": \"\", \"fit_time\": \"\", \"training_percent\": \"\", \"iteration\": \"\", \"run_preprocessor\": \"\", \"run_algorithm\": \"\", \"dynamic_whitelisting_iterations\": \"<25>;<30>;<35>;<40>;<45>;<50>;\", \"automl_best_child_run_id\": \"AutoML_a0d5d70d-4760-46bd-9c0f-a0b8bc381771_55\", \"model_explain_best_run_child_id\": \"AutoML_a0d5d70d-4760-46bd-9c0f-a0b8bc381771_55\"}, \"end_time_utc\": \"2021-04-06T10:05:36.769567Z\", \"status\": \"Completed\", \"log_files\": {}, \"log_groups\": [], \"run_duration\": \"0:29:05\", \"run_number\": \"56\", \"run_queued_details\": {\"status\": \"Completed\", \"details\": null}}, \"child_runs\": [{\"run_id\": \"AutoML_a0d5d70d-4760-46bd-9c0f-a0b8bc381771_0\", \"run_number\": 60, \"metric\": null, \"status\": \"Completed\", \"run_type\": \"azureml.scriptrun\", \"training_percent\": \"100\", \"start_time\": \"2021-04-06T09:45:43.967381Z\", \"end_time\": \"2021-04-06T09:46:23.920873Z\", \"created_time\": \"2021-04-06T09:45:29.27395Z\", \"created_time_dt\": \"2021-04-06T09:45:29.27395Z\", \"duration\": \"0:00:54\", \"iteration\": \"0\", \"goal\": \"AUC_weighted_max\", \"run_name\": \"MaxAbsScaler, LightGBM\", \"run_properties\": \"copy=True\", \"primary_metric\": 0.92703574, \"best_metric\": 0.92703574}, {\"run_id\": \"AutoML_a0d5d70d-4760-46bd-9c0f-a0b8bc381771_3\", \"run_number\": 61, \"metric\": null, \"status\": \"Completed\", \"run_type\": \"azureml.scriptrun\", \"training_percent\": \"100\", \"start_time\": \"2021-04-06T09:48:36.618361Z\", \"end_time\": \"2021-04-06T09:49:12.670964Z\", \"created_time\": \"2021-04-06T09:45:29.413582Z\", \"created_time_dt\": \"2021-04-06T09:45:29.413582Z\", \"duration\": \"0:03:43\", \"iteration\": \"3\", \"goal\": \"AUC_weighted_max\", \"run_name\": \"RobustScaler, ExtremeRandomTrees\", \"run_properties\": \"copy=True, quantile_range=[10, 90], with_centering=False,\\n             with_scaling=False\", \"primary_metric\": 0.92480069, \"best_metric\": 0.92703574}, {\"run_id\": \"AutoML_a0d5d70d-4760-46bd-9c0f-a0b8bc381771_2\", \"run_number\": 62, \"metric\": null, \"status\": \"Completed\", \"run_type\": \"azureml.scriptrun\", \"training_percent\": \"100\", \"start_time\": \"2021-04-06T09:47:34.420015Z\", \"end_time\": \"2021-04-06T09:48:17.134918Z\", \"created_time\": \"2021-04-06T09:45:29.415894Z\", \"created_time_dt\": \"2021-04-06T09:45:29.415894Z\", \"duration\": \"0:02:47\", \"iteration\": \"2\", \"goal\": \"AUC_weighted_max\", \"run_name\": \"MinMaxScaler, RandomForest\", \"run_properties\": \"copy=True, feature_range=(0, 1\", \"primary_metric\": 0.92171735, \"best_metric\": 0.92703574}, {\"run_id\": \"AutoML_a0d5d70d-4760-46bd-9c0f-a0b8bc381771_1\", \"run_number\": 63, \"metric\": null, \"status\": \"Completed\", \"run_type\": \"azureml.scriptrun\", \"training_percent\": \"100\", \"start_time\": \"2021-04-06T09:46:38.6191Z\", \"end_time\": \"2021-04-06T09:47:18.690306Z\", \"created_time\": \"2021-04-06T09:45:29.647588Z\", \"created_time_dt\": \"2021-04-06T09:45:29.647588Z\", \"duration\": \"0:01:49\", \"iteration\": \"1\", \"goal\": \"AUC_weighted_max\", \"run_name\": \"MaxAbsScaler, XGBoostClassifier\", \"run_properties\": \"copy=True\", \"primary_metric\": 0.91887601, \"best_metric\": 0.92703574}, {\"run_id\": \"AutoML_a0d5d70d-4760-46bd-9c0f-a0b8bc381771_4\", \"run_number\": 64, \"metric\": null, \"status\": \"Completed\", \"run_type\": \"azureml.scriptrun\", \"training_percent\": \"100\", \"start_time\": \"2021-04-06T09:49:24.877814Z\", \"end_time\": \"2021-04-06T09:52:12.221889Z\", \"created_time\": \"2021-04-06T09:46:26.13063Z\", \"created_time_dt\": \"2021-04-06T09:46:26.13063Z\", \"duration\": \"0:05:46\", \"iteration\": \"4\", \"goal\": \"AUC_weighted_max\", \"run_name\": \"MinMaxScaler, RandomForest\", \"run_properties\": \"copy=True, feature_range=(0, 1\", \"primary_metric\": 0.91265997, \"best_metric\": 0.92703574}, {\"run_id\": \"AutoML_a0d5d70d-4760-46bd-9c0f-a0b8bc381771_5\", \"run_number\": 65, \"metric\": null, \"status\": \"Completed\", \"run_type\": \"azureml.scriptrun\", \"training_percent\": \"100\", \"start_time\": \"2021-04-06T09:49:27.078023Z\", \"end_time\": \"2021-04-06T09:52:44.625377Z\", \"created_time\": \"2021-04-06T09:47:20.29856Z\", \"created_time_dt\": \"2021-04-06T09:47:20.29856Z\", \"duration\": \"0:05:24\", \"iteration\": \"5\", \"goal\": \"AUC_weighted_max\", \"run_name\": \"MinMaxScaler, RandomForest\", \"run_properties\": \"copy=True, feature_range=(0, 1\", \"primary_metric\": 0.92233848, \"best_metric\": 0.92703574}, {\"run_id\": \"AutoML_a0d5d70d-4760-46bd-9c0f-a0b8bc381771_6\", \"run_number\": 66, \"metric\": null, \"status\": \"Completed\", \"run_type\": \"azureml.scriptrun\", \"training_percent\": \"100\", \"start_time\": \"2021-04-06T09:49:24.406176Z\", \"end_time\": \"2021-04-06T09:52:43.634875Z\", \"created_time\": \"2021-04-06T09:48:20.660082Z\", \"created_time_dt\": \"2021-04-06T09:48:20.660082Z\", \"duration\": \"0:04:22\", \"iteration\": \"6\", \"goal\": \"AUC_weighted_max\", \"run_name\": \"StandardScalerWrapper, RandomForest\", \"run_properties\": \"<azureml.automl.runtime.shared.model_wrappers.StandardScalerWrapper object at 0x7fccbcf86e48\", \"primary_metric\": 0.92030262, \"best_metric\": 0.92703574}, {\"run_id\": \"AutoML_a0d5d70d-4760-46bd-9c0f-a0b8bc381771_7\", \"run_number\": 67, \"metric\": null, \"status\": \"Completed\", \"run_type\": \"azureml.scriptrun\", \"training_percent\": \"100\", \"start_time\": \"2021-04-06T09:49:26.65251Z\", \"end_time\": \"2021-04-06T09:50:09.672824Z\", \"created_time\": \"2021-04-06T09:49:16.838561Z\", \"created_time_dt\": \"2021-04-06T09:49:16.838561Z\", \"duration\": \"0:00:52\", \"iteration\": \"7\", \"goal\": \"AUC_weighted_max\", \"run_name\": \"MinMaxScaler, ExtremeRandomTrees\", \"run_properties\": \"copy=True, feature_range=(0, 1\", \"primary_metric\": 0.90968402, \"best_metric\": 0.92703574}, {\"run_id\": \"AutoML_a0d5d70d-4760-46bd-9c0f-a0b8bc381771_8\", \"run_number\": 68, \"metric\": null, \"status\": \"Completed\", \"run_type\": \"azureml.scriptrun\", \"training_percent\": \"100\", \"start_time\": \"2021-04-06T09:50:24.896598Z\", \"end_time\": \"2021-04-06T09:51:04.874636Z\", \"created_time\": \"2021-04-06T09:50:13.777334Z\", \"created_time_dt\": \"2021-04-06T09:50:13.777334Z\", \"duration\": \"0:00:51\", \"iteration\": \"8\", \"goal\": \"AUC_weighted_max\", \"run_name\": \"MinMaxScaler, ExtremeRandomTrees\", \"run_properties\": \"copy=True, feature_range=(0, 1\", \"primary_metric\": 0.90502015, \"best_metric\": 0.92703574}, {\"run_id\": \"AutoML_a0d5d70d-4760-46bd-9c0f-a0b8bc381771_9\", \"run_number\": 69, \"metric\": null, \"status\": \"Completed\", \"run_type\": \"azureml.scriptrun\", \"training_percent\": \"100\", \"start_time\": \"2021-04-06T09:51:20.299246Z\", \"end_time\": \"2021-04-06T09:52:00.129254Z\", \"created_time\": \"2021-04-06T09:51:08.764851Z\", \"created_time_dt\": \"2021-04-06T09:51:08.764851Z\", \"duration\": \"0:00:51\", \"iteration\": \"9\", \"goal\": \"AUC_weighted_max\", \"run_name\": \"SparseNormalizer, KNN\", \"run_properties\": \"<azureml.automl.runtime.shared.model_wrappers.SparseNormalizer object at 0x7f8581a10f28\", \"primary_metric\": 0.79412564, \"best_metric\": 0.92703574}, {\"run_id\": \"AutoML_a0d5d70d-4760-46bd-9c0f-a0b8bc381771_10\", \"run_number\": 70, \"metric\": null, \"status\": \"Completed\", \"run_type\": \"azureml.scriptrun\", \"training_percent\": \"100\", \"start_time\": \"2021-04-06T09:52:20.006237Z\", \"end_time\": \"2021-04-06T09:53:09.137052Z\", \"created_time\": \"2021-04-06T09:52:03.701887Z\", \"created_time_dt\": \"2021-04-06T09:52:03.701887Z\", \"duration\": \"0:01:05\", \"iteration\": \"10\", \"goal\": \"AUC_weighted_max\", \"run_name\": \"MinMaxScaler, ExtremeRandomTrees\", \"run_properties\": \"copy=True, feature_range=(0, 1\", \"primary_metric\": 0.90629197, \"best_metric\": 0.92703574}, {\"run_id\": \"AutoML_a0d5d70d-4760-46bd-9c0f-a0b8bc381771_11\", \"run_number\": 71, \"metric\": null, \"status\": \"Completed\", \"run_type\": \"azureml.scriptrun\", \"training_percent\": \"100\", \"start_time\": \"2021-04-06T09:52:25.492635Z\", \"end_time\": \"2021-04-06T09:53:07.409934Z\", \"created_time\": \"2021-04-06T09:52:15.96082Z\", \"created_time_dt\": \"2021-04-06T09:52:15.96082Z\", \"duration\": \"0:00:51\", \"iteration\": \"11\", \"goal\": \"AUC_weighted_max\", \"run_name\": \"RobustScaler, ExtremeRandomTrees\", \"run_properties\": \"copy=True, quantile_range=[10, 90], with_centering=True,\\n             with_scaling=False\", \"primary_metric\": 0.90475124, \"best_metric\": 0.92703574}, {\"run_id\": \"AutoML_a0d5d70d-4760-46bd-9c0f-a0b8bc381771_12\", \"run_number\": 72, \"metric\": null, \"status\": \"Completed\", \"run_type\": \"azureml.scriptrun\", \"training_percent\": \"100\", \"start_time\": \"2021-04-06T09:52:59.343813Z\", \"end_time\": \"2021-04-06T09:53:42.257191Z\", \"created_time\": \"2021-04-06T09:52:46.941768Z\", \"created_time_dt\": \"2021-04-06T09:52:46.941768Z\", \"duration\": \"0:00:55\", \"iteration\": \"12\", \"goal\": \"AUC_weighted_max\", \"run_name\": \"StandardScalerWrapper, RandomForest\", \"run_properties\": \"<azureml.automl.runtime.shared.model_wrappers.StandardScalerWrapper object at 0x7f43846b2588\", \"primary_metric\": 0.9301479, \"best_metric\": 0.9301479}, {\"run_id\": \"AutoML_a0d5d70d-4760-46bd-9c0f-a0b8bc381771_13\", \"run_number\": 73, \"metric\": null, \"status\": \"Completed\", \"run_type\": \"azureml.scriptrun\", \"training_percent\": \"100\", \"start_time\": \"2021-04-06T09:53:05.824588Z\", \"end_time\": \"2021-04-06T09:53:57.654663Z\", \"created_time\": \"2021-04-06T09:52:52.983516Z\", \"created_time_dt\": \"2021-04-06T09:52:52.983516Z\", \"duration\": \"0:01:04\", \"iteration\": \"13\", \"goal\": \"AUC_weighted_max\", \"run_name\": \"StandardScalerWrapper, SGD\", \"run_properties\": \"<azureml.automl.runtime.shared.model_wrappers.StandardScalerWrapper object at 0x7fe3c3411b00\", \"primary_metric\": 0.89447256, \"best_metric\": 0.9301479}, {\"run_id\": \"AutoML_a0d5d70d-4760-46bd-9c0f-a0b8bc381771_14\", \"run_number\": 74, \"metric\": null, \"status\": \"Completed\", \"run_type\": \"azureml.scriptrun\", \"training_percent\": \"100\", \"start_time\": \"2021-04-06T09:53:23.75726Z\", \"end_time\": \"2021-04-06T09:54:09.561172Z\", \"created_time\": \"2021-04-06T09:53:11.266787Z\", \"created_time_dt\": \"2021-04-06T09:53:11.266787Z\", \"duration\": \"0:00:58\", \"iteration\": \"14\", \"goal\": \"AUC_weighted_max\", \"run_name\": \"RobustScaler, RandomForest\", \"run_properties\": \"copy=True, quantile_range=[10, 90], with_centering=True,\\n             with_scaling=False\", \"primary_metric\": 0.89151041, \"best_metric\": 0.9301479}, {\"run_id\": \"AutoML_a0d5d70d-4760-46bd-9c0f-a0b8bc381771_15\", \"run_number\": 75, \"metric\": null, \"status\": \"Completed\", \"run_type\": \"azureml.scriptrun\", \"training_percent\": \"100\", \"start_time\": \"2021-04-06T09:53:27.125265Z\", \"end_time\": \"2021-04-06T09:54:14.87373Z\", \"created_time\": \"2021-04-06T09:53:16.768753Z\", \"created_time_dt\": \"2021-04-06T09:53:16.768753Z\", \"duration\": \"0:00:58\", \"iteration\": \"15\", \"goal\": \"AUC_weighted_max\", \"run_name\": \"StandardScalerWrapper, KNN\", \"run_properties\": \"<azureml.automl.runtime.shared.model_wrappers.StandardScalerWrapper object at 0x7f3903db0940\", \"primary_metric\": 0.57281548, \"best_metric\": 0.9301479}, {\"run_id\": \"AutoML_a0d5d70d-4760-46bd-9c0f-a0b8bc381771_16\", \"run_number\": 76, \"metric\": null, \"status\": \"Completed\", \"run_type\": \"azureml.scriptrun\", \"training_percent\": \"100\", \"start_time\": \"2021-04-06T09:53:55.086254Z\", \"end_time\": \"2021-04-06T09:54:34.618072Z\", \"created_time\": \"2021-04-06T09:53:45.514527Z\", \"created_time_dt\": \"2021-04-06T09:53:45.514527Z\", \"duration\": \"0:00:49\", \"iteration\": \"16\", \"goal\": \"AUC_weighted_max\", \"run_name\": \"MinMaxScaler, RandomForest\", \"run_properties\": \"copy=True, feature_range=(0, 1\", \"primary_metric\": 0.90113164, \"best_metric\": 0.9301479}, {\"run_id\": \"AutoML_a0d5d70d-4760-46bd-9c0f-a0b8bc381771_17\", \"run_number\": 77, \"metric\": null, \"status\": \"Completed\", \"run_type\": \"azureml.scriptrun\", \"training_percent\": \"100\", \"start_time\": \"2021-04-06T09:54:12.204296Z\", \"end_time\": \"2021-04-06T09:54:59.438023Z\", \"created_time\": \"2021-04-06T09:54:01.157414Z\", \"created_time_dt\": \"2021-04-06T09:54:01.157414Z\", \"duration\": \"0:00:58\", \"iteration\": \"17\", \"goal\": \"AUC_weighted_max\", \"run_name\": \"MinMaxScaler, ExtremeRandomTrees\", \"run_properties\": \"copy=True, feature_range=(0, 1\", \"primary_metric\": 0.87186323, \"best_metric\": 0.9301479}, {\"run_id\": \"AutoML_a0d5d70d-4760-46bd-9c0f-a0b8bc381771_18\", \"run_number\": 78, \"metric\": null, \"status\": \"Completed\", \"run_type\": \"azureml.scriptrun\", \"training_percent\": \"100\", \"start_time\": \"2021-04-06T09:54:22.988148Z\", \"end_time\": \"2021-04-06T09:55:05.144256Z\", \"created_time\": \"2021-04-06T09:54:12.964357Z\", \"created_time_dt\": \"2021-04-06T09:54:12.964357Z\", \"duration\": \"0:00:52\", \"iteration\": \"18\", \"goal\": \"AUC_weighted_max\", \"run_name\": \"MaxAbsScaler, RandomForest\", \"run_properties\": \"copy=True\", \"primary_metric\": 0.907812, \"best_metric\": 0.9301479}, {\"run_id\": \"AutoML_a0d5d70d-4760-46bd-9c0f-a0b8bc381771_19\", \"run_number\": 79, \"metric\": null, \"status\": \"Completed\", \"run_type\": \"azureml.scriptrun\", \"training_percent\": \"100\", \"start_time\": \"2021-04-06T09:54:31.337504Z\", \"end_time\": \"2021-04-06T09:55:13.676961Z\", \"created_time\": \"2021-04-06T09:54:18.719155Z\", \"created_time_dt\": \"2021-04-06T09:54:18.719155Z\", \"duration\": \"0:00:54\", \"iteration\": \"19\", \"goal\": \"AUC_weighted_max\", \"run_name\": \"StandardScalerWrapper, XGBoostClassifier\", \"run_properties\": \"<azureml.automl.runtime.shared.model_wrappers.StandardScalerWrapper object at 0x7f9220825710\", \"primary_metric\": 0.91978235, \"best_metric\": 0.9301479}, {\"run_id\": \"AutoML_a0d5d70d-4760-46bd-9c0f-a0b8bc381771_20\", \"run_number\": 80, \"metric\": null, \"status\": \"Completed\", \"run_type\": \"azureml.scriptrun\", \"training_percent\": \"100\", \"start_time\": \"2021-04-06T09:54:51.195216Z\", \"end_time\": \"2021-04-06T09:55:37.04423Z\", \"created_time\": \"2021-04-06T09:54:38.050748Z\", \"created_time_dt\": \"2021-04-06T09:54:38.050748Z\", \"duration\": \"0:00:58\", \"iteration\": \"20\", \"goal\": \"AUC_weighted_max\", \"run_name\": \"MaxAbsScaler, RandomForest\", \"run_properties\": \"copy=True\", \"primary_metric\": 0.93525984, \"best_metric\": 0.93525984}, {\"run_id\": \"AutoML_a0d5d70d-4760-46bd-9c0f-a0b8bc381771_21\", \"run_number\": 81, \"metric\": null, \"status\": \"Completed\", \"run_type\": \"azureml.scriptrun\", \"training_percent\": \"100\", \"start_time\": \"2021-04-06T09:55:16.328837Z\", \"end_time\": \"2021-04-06T09:55:52.912298Z\", \"created_time\": \"2021-04-06T09:55:04.297907Z\", \"created_time_dt\": \"2021-04-06T09:55:04.297907Z\", \"duration\": \"0:00:48\", \"iteration\": \"21\", \"goal\": \"AUC_weighted_max\", \"run_name\": \"MaxAbsScaler, ExtremeRandomTrees\", \"run_properties\": \"copy=True\", \"primary_metric\": 0.87625634, \"best_metric\": 0.93525984}, {\"run_id\": \"AutoML_a0d5d70d-4760-46bd-9c0f-a0b8bc381771_22\", \"run_number\": 82, \"metric\": null, \"status\": \"Completed\", \"run_type\": \"azureml.scriptrun\", \"training_percent\": \"100\", \"start_time\": \"2021-04-06T09:55:21.194755Z\", \"end_time\": \"2021-04-06T09:56:08.546091Z\", \"created_time\": \"2021-04-06T09:55:09.46857Z\", \"created_time_dt\": \"2021-04-06T09:55:09.46857Z\", \"duration\": \"0:00:59\", \"iteration\": \"22\", \"goal\": \"AUC_weighted_max\", \"run_name\": \"MaxAbsScaler, ExtremeRandomTrees\", \"run_properties\": \"copy=True\", \"primary_metric\": 0.90785316, \"best_metric\": 0.93525984}, {\"run_id\": \"AutoML_a0d5d70d-4760-46bd-9c0f-a0b8bc381771_23\", \"run_number\": 83, \"metric\": null, \"status\": \"Completed\", \"run_type\": \"azureml.scriptrun\", \"training_percent\": \"100\", \"start_time\": \"2021-04-06T09:55:28.182083Z\", \"end_time\": \"2021-04-06T09:56:16.201625Z\", \"created_time\": \"2021-04-06T09:55:17.274099Z\", \"created_time_dt\": \"2021-04-06T09:55:17.274099Z\", \"duration\": \"0:00:58\", \"iteration\": \"23\", \"goal\": \"AUC_weighted_max\", \"run_name\": \"MinMaxScaler, ExtremeRandomTrees\", \"run_properties\": \"copy=True, feature_range=(0, 1\", \"primary_metric\": 0.92947207, \"best_metric\": 0.93525984}, {\"run_id\": \"AutoML_a0d5d70d-4760-46bd-9c0f-a0b8bc381771_24\", \"run_number\": 84, \"metric\": null, \"status\": \"Completed\", \"run_type\": \"azureml.scriptrun\", \"training_percent\": \"100\", \"start_time\": \"2021-04-06T09:55:51.721472Z\", \"end_time\": \"2021-04-06T09:56:36.427142Z\", \"created_time\": \"2021-04-06T09:55:40.623856Z\", \"created_time_dt\": \"2021-04-06T09:55:40.623856Z\", \"duration\": \"0:00:55\", \"iteration\": \"24\", \"goal\": \"AUC_weighted_max\", \"run_name\": \"MaxAbsScaler, ExtremeRandomTrees\", \"run_properties\": \"copy=True\", \"primary_metric\": 0.92638579, \"best_metric\": 0.93525984}, {\"run_id\": \"AutoML_a0d5d70d-4760-46bd-9c0f-a0b8bc381771_25\", \"run_number\": 85, \"metric\": null, \"status\": \"Completed\", \"run_type\": \"azureml.scriptrun\", \"training_percent\": \"100\", \"start_time\": \"2021-04-06T09:56:10.505217Z\", \"end_time\": \"2021-04-06T09:57:00.183148Z\", \"created_time\": \"2021-04-06T09:55:57.3537Z\", \"created_time_dt\": \"2021-04-06T09:55:57.3537Z\", \"duration\": \"0:01:02\", \"iteration\": \"25\", \"goal\": \"AUC_weighted_max\", \"run_name\": \"MinMaxScaler, RandomForest\", \"run_properties\": \"copy=True, feature_range=(0, 1\", \"primary_metric\": 0.85564486, \"best_metric\": 0.93525984}, {\"run_id\": \"AutoML_a0d5d70d-4760-46bd-9c0f-a0b8bc381771_26\", \"run_number\": 86, \"metric\": null, \"status\": \"Completed\", \"run_type\": \"azureml.scriptrun\", \"training_percent\": \"100\", \"start_time\": \"2021-04-06T09:56:24.635615Z\", \"end_time\": \"2021-04-06T09:57:04.29625Z\", \"created_time\": \"2021-04-06T09:56:11.654184Z\", \"created_time_dt\": \"2021-04-06T09:56:11.654184Z\", \"duration\": \"0:00:52\", \"iteration\": \"26\", \"goal\": \"AUC_weighted_max\", \"run_name\": \"StandardScalerWrapper, LightGBM\", \"run_properties\": \"<azureml.automl.runtime.shared.model_wrappers.StandardScalerWrapper object at 0x7f028d5da668\", \"primary_metric\": 0.91107989, \"best_metric\": 0.93525984}, {\"run_id\": \"AutoML_a0d5d70d-4760-46bd-9c0f-a0b8bc381771_27\", \"run_number\": 87, \"metric\": null, \"status\": \"Completed\", \"run_type\": \"azureml.scriptrun\", \"training_percent\": \"100\", \"start_time\": \"2021-04-06T09:56:32.077496Z\", \"end_time\": \"2021-04-06T09:57:20.193996Z\", \"created_time\": \"2021-04-06T09:56:19.478755Z\", \"created_time_dt\": \"2021-04-06T09:56:19.478755Z\", \"duration\": \"0:01:00\", \"iteration\": \"27\", \"goal\": \"AUC_weighted_max\", \"run_name\": \"MaxAbsScaler, LightGBM\", \"run_properties\": \"copy=True\", \"primary_metric\": 0.94050257, \"best_metric\": 0.94050257}, {\"run_id\": \"AutoML_a0d5d70d-4760-46bd-9c0f-a0b8bc381771_28\", \"run_number\": 88, \"metric\": null, \"status\": \"Completed\", \"run_type\": \"azureml.scriptrun\", \"training_percent\": \"100\", \"start_time\": \"2021-04-06T09:56:51.428729Z\", \"end_time\": \"2021-04-06T09:57:39.222637Z\", \"created_time\": \"2021-04-06T09:56:39.787797Z\", \"created_time_dt\": \"2021-04-06T09:56:39.787797Z\", \"duration\": \"0:00:59\", \"iteration\": \"28\", \"goal\": \"AUC_weighted_max\", \"run_name\": \"MaxAbsScaler, ExtremeRandomTrees\", \"run_properties\": \"copy=True\", \"primary_metric\": 0.91092562, \"best_metric\": 0.94050257}, {\"run_id\": \"AutoML_a0d5d70d-4760-46bd-9c0f-a0b8bc381771_29\", \"run_number\": 89, \"metric\": null, \"status\": \"Completed\", \"run_type\": \"azureml.scriptrun\", \"training_percent\": \"100\", \"start_time\": \"2021-04-06T09:57:15.852392Z\", \"end_time\": \"2021-04-06T09:57:57.707771Z\", \"created_time\": \"2021-04-06T09:57:02.485641Z\", \"created_time_dt\": \"2021-04-06T09:57:02.485641Z\", \"duration\": \"0:00:55\", \"iteration\": \"29\", \"goal\": \"AUC_weighted_max\", \"run_name\": \"StandardScalerWrapper, XGBoostClassifier\", \"run_properties\": \"<azureml.automl.runtime.shared.model_wrappers.StandardScalerWrapper object at 0x7f471e781080\", \"primary_metric\": 0.94219325, \"best_metric\": 0.94219325}, {\"run_id\": \"AutoML_a0d5d70d-4760-46bd-9c0f-a0b8bc381771_30\", \"run_number\": 90, \"metric\": null, \"status\": \"Completed\", \"run_type\": \"azureml.scriptrun\", \"training_percent\": \"100\", \"start_time\": \"2021-04-06T09:57:19.816657Z\", \"end_time\": \"2021-04-06T09:58:04.873669Z\", \"created_time\": \"2021-04-06T09:57:09.601486Z\", \"created_time_dt\": \"2021-04-06T09:57:09.601486Z\", \"duration\": \"0:00:55\", \"iteration\": \"30\", \"goal\": \"AUC_weighted_max\", \"run_name\": \"PCA, RandomForest\", \"run_properties\": \"copy=True, iterated_power='auto', n_components=0.05947368421052632,\\n    random_state=None, svd_solver='auto', tol=0.0, whiten=True\", \"primary_metric\": 0.54506028, \"best_metric\": 0.94219325}, {\"run_id\": \"AutoML_a0d5d70d-4760-46bd-9c0f-a0b8bc381771_31\", \"run_number\": 91, \"metric\": null, \"status\": \"Completed\", \"run_type\": \"azureml.scriptrun\", \"training_percent\": \"100\", \"start_time\": \"2021-04-06T09:57:38.125029Z\", \"end_time\": \"2021-04-06T09:58:21.449713Z\", \"created_time\": \"2021-04-06T09:57:22.798697Z\", \"created_time_dt\": \"2021-04-06T09:57:22.798697Z\", \"duration\": \"0:00:58\", \"iteration\": \"31\", \"goal\": \"AUC_weighted_max\", \"run_name\": \"StandardScalerWrapper, XGBoostClassifier\", \"run_properties\": \"<azureml.automl.runtime.shared.model_wrappers.StandardScalerWrapper object at 0x7ff06449f2e8\", \"primary_metric\": 0.94326558, \"best_metric\": 0.94326558}, {\"run_id\": \"AutoML_a0d5d70d-4760-46bd-9c0f-a0b8bc381771_32\", \"run_number\": 92, \"metric\": null, \"status\": \"Completed\", \"run_type\": \"azureml.scriptrun\", \"training_percent\": \"100\", \"start_time\": \"2021-04-06T09:57:53.953595Z\", \"end_time\": \"2021-04-06T09:58:33.774582Z\", \"created_time\": \"2021-04-06T09:57:41.839083Z\", \"created_time_dt\": \"2021-04-06T09:57:41.839083Z\", \"duration\": \"0:00:51\", \"iteration\": \"32\", \"goal\": \"AUC_weighted_max\", \"run_name\": \"StandardScalerWrapper, XGBoostClassifier\", \"run_properties\": \"<azureml.automl.runtime.shared.model_wrappers.StandardScalerWrapper object at 0x7f3d4411f240\", \"primary_metric\": 0.94175857, \"best_metric\": 0.94326558}, {\"run_id\": \"AutoML_a0d5d70d-4760-46bd-9c0f-a0b8bc381771_33\", \"run_number\": 93, \"metric\": null, \"status\": \"Completed\", \"run_type\": \"azureml.scriptrun\", \"training_percent\": \"100\", \"start_time\": \"2021-04-06T09:58:14.584988Z\", \"end_time\": \"2021-04-06T09:59:07.289215Z\", \"created_time\": \"2021-04-06T09:58:00.261088Z\", \"created_time_dt\": \"2021-04-06T09:58:00.261088Z\", \"duration\": \"0:01:07\", \"iteration\": \"33\", \"goal\": \"AUC_weighted_max\", \"run_name\": \"MinMaxScaler, LightGBM\", \"run_properties\": \"copy=True, feature_range=(0, 1\", \"primary_metric\": 0.92247625, \"best_metric\": 0.94326558}, {\"run_id\": \"AutoML_a0d5d70d-4760-46bd-9c0f-a0b8bc381771_34\", \"run_number\": 94, \"metric\": null, \"status\": \"Completed\", \"run_type\": \"azureml.scriptrun\", \"training_percent\": \"100\", \"start_time\": \"2021-04-06T09:58:23.889911Z\", \"end_time\": \"2021-04-06T09:59:02.217277Z\", \"created_time\": \"2021-04-06T09:58:07.030732Z\", \"created_time_dt\": \"2021-04-06T09:58:07.030732Z\", \"duration\": \"0:00:55\", \"iteration\": \"34\", \"goal\": \"AUC_weighted_max\", \"run_name\": \"StandardScalerWrapper, SVM\", \"run_properties\": \"<azureml.automl.runtime.shared.model_wrappers.StandardScalerWrapper object at 0x7fc08ee71320\", \"primary_metric\": 0.90022791, \"best_metric\": 0.94326558}, {\"run_id\": \"AutoML_a0d5d70d-4760-46bd-9c0f-a0b8bc381771_35\", \"run_number\": 95, \"metric\": null, \"status\": \"Completed\", \"run_type\": \"azureml.scriptrun\", \"training_percent\": \"100\", \"start_time\": \"2021-04-06T09:58:34.342456Z\", \"end_time\": \"2021-04-06T09:59:22.681087Z\", \"created_time\": \"2021-04-06T09:58:24.707501Z\", \"created_time_dt\": \"2021-04-06T09:58:24.707501Z\", \"duration\": \"0:00:57\", \"iteration\": \"35\", \"goal\": \"AUC_weighted_max\", \"run_name\": \"StandardScalerWrapper, XGBoostClassifier\", \"run_properties\": \"<azureml.automl.runtime.shared.model_wrappers.StandardScalerWrapper object at 0x7fe51f6c90f0\", \"primary_metric\": 0.90944799, \"best_metric\": 0.94326558}, {\"run_id\": \"AutoML_a0d5d70d-4760-46bd-9c0f-a0b8bc381771_36\", \"run_number\": 96, \"metric\": null, \"status\": \"Completed\", \"run_type\": \"azureml.scriptrun\", \"training_percent\": \"100\", \"start_time\": \"2021-04-06T09:58:46.070344Z\", \"end_time\": \"2021-04-06T09:59:33.559533Z\", \"created_time\": \"2021-04-06T09:58:36.191284Z\", \"created_time_dt\": \"2021-04-06T09:58:36.191284Z\", \"duration\": \"0:00:57\", \"iteration\": \"36\", \"goal\": \"AUC_weighted_max\", \"run_name\": \"StandardScalerWrapper, SVM\", \"run_properties\": \"<azureml.automl.runtime.shared.model_wrappers.StandardScalerWrapper object at 0x7fb540ca60b8\", \"primary_metric\": 0.88242128, \"best_metric\": 0.94326558}, {\"run_id\": \"AutoML_a0d5d70d-4760-46bd-9c0f-a0b8bc381771_37\", \"run_number\": 97, \"metric\": null, \"status\": \"Completed\", \"run_type\": \"azureml.scriptrun\", \"training_percent\": \"100\", \"start_time\": \"2021-04-06T09:59:18.531355Z\", \"end_time\": \"2021-04-06T09:59:56.060684Z\", \"created_time\": \"2021-04-06T09:59:05.657004Z\", \"created_time_dt\": \"2021-04-06T09:59:05.657004Z\", \"duration\": \"0:00:50\", \"iteration\": \"37\", \"goal\": \"AUC_weighted_max\", \"run_name\": \"StandardScalerWrapper, XGBoostClassifier\", \"run_properties\": \"<azureml.automl.runtime.shared.model_wrappers.StandardScalerWrapper object at 0x7f9c08169e10\", \"primary_metric\": 0.92868286, \"best_metric\": 0.94326558}, {\"run_id\": \"AutoML_a0d5d70d-4760-46bd-9c0f-a0b8bc381771_38\", \"run_number\": 98, \"metric\": null, \"status\": \"Completed\", \"run_type\": \"azureml.scriptrun\", \"training_percent\": \"100\", \"start_time\": \"2021-04-06T09:59:21.102256Z\", \"end_time\": \"2021-04-06T10:00:03.376436Z\", \"created_time\": \"2021-04-06T09:59:10.74072Z\", \"created_time_dt\": \"2021-04-06T09:59:10.74072Z\", \"duration\": \"0:00:52\", \"iteration\": \"38\", \"goal\": \"AUC_weighted_max\", \"run_name\": \"StandardScalerWrapper, XGBoostClassifier\", \"run_properties\": \"<azureml.automl.runtime.shared.model_wrappers.StandardScalerWrapper object at 0x7fad3491f9e8\", \"primary_metric\": 0.94685817, \"best_metric\": 0.94685817}, {\"run_id\": \"AutoML_a0d5d70d-4760-46bd-9c0f-a0b8bc381771_39\", \"run_number\": 99, \"metric\": null, \"status\": \"Completed\", \"run_type\": \"azureml.scriptrun\", \"training_percent\": \"100\", \"start_time\": \"2021-04-06T09:59:40.55364Z\", \"end_time\": \"2021-04-06T10:00:18.371183Z\", \"created_time\": \"2021-04-06T09:59:24.735786Z\", \"created_time_dt\": \"2021-04-06T09:59:24.735786Z\", \"duration\": \"0:00:53\", \"iteration\": \"39\", \"goal\": \"AUC_weighted_max\", \"run_name\": \"StandardScalerWrapper, XGBoostClassifier\", \"run_properties\": \"<azureml.automl.runtime.shared.model_wrappers.StandardScalerWrapper object at 0x7f2641fcdcf8\", \"primary_metric\": 0.94494073, \"best_metric\": 0.94685817}, {\"run_id\": \"AutoML_a0d5d70d-4760-46bd-9c0f-a0b8bc381771_40\", \"run_number\": 100, \"metric\": null, \"status\": \"Completed\", \"run_type\": \"azureml.scriptrun\", \"training_percent\": \"100\", \"start_time\": \"2021-04-06T09:59:52.211716Z\", \"end_time\": \"2021-04-06T10:00:35.32878Z\", \"created_time\": \"2021-04-06T09:59:37.572864Z\", \"created_time_dt\": \"2021-04-06T09:59:37.572864Z\", \"duration\": \"0:00:57\", \"iteration\": \"40\", \"goal\": \"AUC_weighted_max\", \"run_name\": \"StandardScalerWrapper, XGBoostClassifier\", \"run_properties\": \"<azureml.automl.runtime.shared.model_wrappers.StandardScalerWrapper object at 0x7fdb8e98d898\", \"primary_metric\": 0.93958601, \"best_metric\": 0.94685817}, {\"run_id\": \"AutoML_a0d5d70d-4760-46bd-9c0f-a0b8bc381771_41\", \"run_number\": 101, \"metric\": null, \"status\": \"Completed\", \"run_type\": \"azureml.scriptrun\", \"training_percent\": \"100\", \"start_time\": \"2021-04-06T10:00:11.462478Z\", \"end_time\": \"2021-04-06T10:00:56.967245Z\", \"created_time\": \"2021-04-06T09:59:59.176589Z\", \"created_time_dt\": \"2021-04-06T09:59:59.176589Z\", \"duration\": \"0:00:57\", \"iteration\": \"41\", \"goal\": \"AUC_weighted_max\", \"run_name\": \"StandardScalerWrapper, LightGBM\", \"run_properties\": \"<azureml.automl.runtime.shared.model_wrappers.StandardScalerWrapper object at 0x7f8fa0a453c8\", \"primary_metric\": 0.91934368, \"best_metric\": 0.94685817}, {\"run_id\": \"AutoML_a0d5d70d-4760-46bd-9c0f-a0b8bc381771_42\", \"run_number\": 102, \"metric\": null, \"status\": \"Completed\", \"run_type\": \"azureml.scriptrun\", \"training_percent\": \"100\", \"start_time\": \"2021-04-06T10:00:19.095468Z\", \"end_time\": \"2021-04-06T10:01:06.804617Z\", \"created_time\": \"2021-04-06T10:00:06.677442Z\", \"created_time_dt\": \"2021-04-06T10:00:06.677442Z\", \"duration\": \"0:01:00\", \"iteration\": \"42\", \"goal\": \"AUC_weighted_max\", \"run_name\": \"RobustScaler, LightGBM\", \"run_properties\": \"copy=True, quantile_range=[25, 75], with_centering=True,\\n             with_scaling=True\", \"primary_metric\": 0.93842626, \"best_metric\": 0.94685817}, {\"run_id\": \"AutoML_a0d5d70d-4760-46bd-9c0f-a0b8bc381771_43\", \"run_number\": 103, \"metric\": null, \"status\": \"Completed\", \"run_type\": \"azureml.scriptrun\", \"training_percent\": \"100\", \"start_time\": \"2021-04-06T10:00:35.513787Z\", \"end_time\": \"2021-04-06T10:01:19.197916Z\", \"created_time\": \"2021-04-06T10:00:20.9223Z\", \"created_time_dt\": \"2021-04-06T10:00:20.9223Z\", \"duration\": \"0:00:58\", \"iteration\": \"43\", \"goal\": \"AUC_weighted_max\", \"run_name\": \"StandardScalerWrapper, GradientBoosting\", \"run_properties\": \"<azureml.automl.runtime.shared.model_wrappers.StandardScalerWrapper object at 0x7fcf3e2996a0\", \"primary_metric\": 0.94664277, \"best_metric\": 0.94685817}, {\"run_id\": \"AutoML_a0d5d70d-4760-46bd-9c0f-a0b8bc381771_44\", \"run_number\": 104, \"metric\": null, \"status\": \"Completed\", \"run_type\": \"azureml.scriptrun\", \"training_percent\": \"100\", \"start_time\": \"2021-04-06T10:00:52.430187Z\", \"end_time\": \"2021-04-06T10:01:38.830495Z\", \"created_time\": \"2021-04-06T10:00:37.795013Z\", \"created_time_dt\": \"2021-04-06T10:00:37.795013Z\", \"duration\": \"0:01:01\", \"iteration\": \"44\", \"goal\": \"AUC_weighted_max\", \"run_name\": \"StandardScalerWrapper, XGBoostClassifier\", \"run_properties\": \"<azureml.automl.runtime.shared.model_wrappers.StandardScalerWrapper object at 0x7f93fd921a58\", \"primary_metric\": 0.93020019, \"best_metric\": 0.94685817}, {\"run_id\": \"AutoML_a0d5d70d-4760-46bd-9c0f-a0b8bc381771_45\", \"run_number\": 105, \"metric\": null, \"status\": \"Completed\", \"run_type\": \"azureml.scriptrun\", \"training_percent\": \"100\", \"start_time\": \"2021-04-06T10:01:10.784222Z\", \"end_time\": \"2021-04-06T10:01:58.084696Z\", \"created_time\": \"2021-04-06T10:01:00.64889Z\", \"created_time_dt\": \"2021-04-06T10:01:00.64889Z\", \"duration\": \"0:00:57\", \"iteration\": \"45\", \"goal\": \"AUC_weighted_max\", \"run_name\": \"StandardScalerWrapper, XGBoostClassifier\", \"run_properties\": \"<azureml.automl.runtime.shared.model_wrappers.StandardScalerWrapper object at 0x7f0e3be0fd30\", \"primary_metric\": 0.93721497, \"best_metric\": 0.94685817}, {\"run_id\": \"AutoML_a0d5d70d-4760-46bd-9c0f-a0b8bc381771_46\", \"run_number\": 106, \"metric\": null, \"status\": \"Completed\", \"run_type\": \"azureml.scriptrun\", \"training_percent\": \"100\", \"start_time\": \"2021-04-06T10:01:22.966322Z\", \"end_time\": \"2021-04-06T10:02:14.445807Z\", \"created_time\": \"2021-04-06T10:01:09.451651Z\", \"created_time_dt\": \"2021-04-06T10:01:09.451651Z\", \"duration\": \"0:01:04\", \"iteration\": \"46\", \"goal\": \"AUC_weighted_max\", \"run_name\": \"StandardScalerWrapper, RandomForest\", \"run_properties\": \"<azureml.automl.runtime.shared.model_wrappers.StandardScalerWrapper object at 0x7f671d769c88\", \"primary_metric\": 0.93913554, \"best_metric\": 0.94685817}, {\"run_id\": \"AutoML_a0d5d70d-4760-46bd-9c0f-a0b8bc381771_47\", \"run_number\": 107, \"metric\": null, \"status\": \"Completed\", \"run_type\": \"azureml.scriptrun\", \"training_percent\": \"100\", \"start_time\": \"2021-04-06T10:01:34.087195Z\", \"end_time\": \"2021-04-06T10:02:15.626484Z\", \"created_time\": \"2021-04-06T10:01:21.858896Z\", \"created_time_dt\": \"2021-04-06T10:01:21.858896Z\", \"duration\": \"0:00:53\", \"iteration\": \"47\", \"goal\": \"AUC_weighted_max\", \"run_name\": \"RobustScaler, RandomForest\", \"run_properties\": \"copy=True, quantile_range=[10, 90], with_centering=True,\\n             with_scaling=False\", \"primary_metric\": 0.93434722, \"best_metric\": 0.94685817}, {\"run_id\": \"AutoML_a0d5d70d-4760-46bd-9c0f-a0b8bc381771_48\", \"run_number\": 108, \"metric\": null, \"status\": \"Completed\", \"run_type\": \"azureml.scriptrun\", \"training_percent\": \"100\", \"start_time\": \"2021-04-06T10:01:53.165979Z\", \"end_time\": \"2021-04-06T10:02:40.756839Z\", \"created_time\": \"2021-04-06T10:01:42.240744Z\", \"created_time_dt\": \"2021-04-06T10:01:42.240744Z\", \"duration\": \"0:00:58\", \"iteration\": \"48\", \"goal\": \"AUC_weighted_max\", \"run_name\": \"StandardScalerWrapper, GradientBoosting\", \"run_properties\": \"<azureml.automl.runtime.shared.model_wrappers.StandardScalerWrapper object at 0x7fb110f36c50\", \"primary_metric\": 0.93604452, \"best_metric\": 0.94685817}, {\"run_id\": \"AutoML_a0d5d70d-4760-46bd-9c0f-a0b8bc381771_49\", \"run_number\": 109, \"metric\": null, \"status\": \"Completed\", \"run_type\": \"azureml.scriptrun\", \"training_percent\": \"100\", \"start_time\": \"2021-04-06T10:02:14.133705Z\", \"end_time\": \"2021-04-06T10:03:02.626139Z\", \"created_time\": \"2021-04-06T10:02:01.210648Z\", \"created_time_dt\": \"2021-04-06T10:02:01.210648Z\", \"duration\": \"0:01:01\", \"iteration\": \"49\", \"goal\": \"AUC_weighted_max\", \"run_name\": \"RobustScaler, LogisticRegression\", \"run_properties\": \"copy=True, quantile_range=[10, 90], with_centering=True,\\n             with_scaling=True\", \"primary_metric\": 0.89235075, \"best_metric\": 0.94685817}, {\"run_id\": \"AutoML_a0d5d70d-4760-46bd-9c0f-a0b8bc381771_50\", \"run_number\": 110, \"metric\": null, \"status\": \"Completed\", \"run_type\": \"azureml.scriptrun\", \"training_percent\": \"100\", \"start_time\": \"2021-04-06T10:02:30.636711Z\", \"end_time\": \"2021-04-06T10:03:21.455342Z\", \"created_time\": \"2021-04-06T10:02:17.591942Z\", \"created_time_dt\": \"2021-04-06T10:02:17.591942Z\", \"duration\": \"0:01:03\", \"iteration\": \"50\", \"goal\": \"AUC_weighted_max\", \"run_name\": \"StandardScalerWrapper, XGBoostClassifier\", \"run_properties\": \"<azureml.automl.runtime.shared.model_wrappers.StandardScalerWrapper object at 0x7f609399a2b0\", \"primary_metric\": 0.93745693, \"best_metric\": 0.94685817}, {\"run_id\": \"AutoML_a0d5d70d-4760-46bd-9c0f-a0b8bc381771_51\", \"run_number\": 111, \"metric\": null, \"status\": \"Completed\", \"run_type\": \"azureml.scriptrun\", \"training_percent\": \"100\", \"start_time\": \"2021-04-06T10:02:35.001029Z\", \"end_time\": \"2021-04-06T10:03:23.938879Z\", \"created_time\": \"2021-04-06T10:02:22.289146Z\", \"created_time_dt\": \"2021-04-06T10:02:22.289146Z\", \"duration\": \"0:01:01\", \"iteration\": \"51\", \"goal\": \"AUC_weighted_max\", \"run_name\": \"StandardScalerWrapper, GradientBoosting\", \"run_properties\": \"<azureml.automl.runtime.shared.model_wrappers.StandardScalerWrapper object at 0x7ff8ad7f69e8\", \"primary_metric\": 0.92832958, \"best_metric\": 0.94685817}, {\"run_id\": \"AutoML_a0d5d70d-4760-46bd-9c0f-a0b8bc381771_52\", \"run_number\": 112, \"metric\": null, \"status\": \"Canceled\", \"run_type\": \"azureml.scriptrun\", \"training_percent\": \"100\", \"start_time\": \"2021-04-06T10:02:55.081834Z\", \"end_time\": \"2021-04-06T10:03:49.571276Z\", \"created_time\": \"2021-04-06T10:02:43.069676Z\", \"created_time_dt\": \"2021-04-06T10:02:43.069676Z\", \"duration\": \"0:01:06\", \"iteration\": \"52\", \"goal\": null, \"run_name\": \"Canceled\", \"run_properties\": null}, {\"run_id\": \"AutoML_a0d5d70d-4760-46bd-9c0f-a0b8bc381771_53\", \"run_number\": 113, \"metric\": null, \"status\": \"Canceled\", \"run_type\": \"azureml.scriptrun\", \"training_percent\": \"100\", \"start_time\": \"2021-04-06T10:03:16.977093Z\", \"end_time\": \"2021-04-06T10:03:33.665522Z\", \"created_time\": \"2021-04-06T10:03:05.283141Z\", \"created_time_dt\": \"2021-04-06T10:03:05.283141Z\", \"duration\": \"0:00:28\", \"iteration\": \"53\", \"goal\": null, \"run_name\": \"Canceled\", \"run_properties\": null}, {\"run_id\": \"AutoML_a0d5d70d-4760-46bd-9c0f-a0b8bc381771_54\", \"run_number\": 114, \"metric\": null, \"status\": \"Canceled\", \"run_type\": \"azureml.scriptrun\", \"training_percent\": \"100\", \"start_time\": \"2021-04-06T10:03:33.403686Z\", \"end_time\": \"2021-04-06T10:03:40.923998Z\", \"created_time\": \"2021-04-06T10:03:23.765559Z\", \"created_time_dt\": \"2021-04-06T10:03:23.765559Z\", \"duration\": \"0:00:17\", \"iteration\": \"54\", \"goal\": null, \"run_name\": \"Canceled\", \"run_properties\": null}, {\"run_id\": \"AutoML_a0d5d70d-4760-46bd-9c0f-a0b8bc381771_56\", \"run_number\": 115, \"metric\": null, \"status\": \"Completed\", \"run_type\": \"azureml.scriptrun\", \"training_percent\": \"100\", \"start_time\": \"2021-04-06T10:03:59.231832Z\", \"end_time\": \"2021-04-06T10:05:26.316526Z\", \"created_time\": \"2021-04-06T10:03:50.810634Z\", \"created_time_dt\": \"2021-04-06T10:03:50.810634Z\", \"duration\": \"0:01:35\", \"iteration\": \"56\", \"goal\": \"AUC_weighted_max\", \"run_name\": \"StackEnsemble\", \"run_properties\": \"base_learners=[('38',\\n                                        Pipeline(memory=None,\\n                                                 steps=[('standardscalerwrapper',\\n                                                         <azureml.automl.runtime.shared.model_wrappers.StandardScalerWrapper object at 0x7f9c717f1a58>\", \"primary_metric\": 0.95526195, \"best_metric\": 0.95710019}, {\"run_id\": \"AutoML_a0d5d70d-4760-46bd-9c0f-a0b8bc381771_55\", \"run_number\": 116, \"metric\": null, \"status\": \"Completed\", \"run_type\": \"azureml.scriptrun\", \"training_percent\": \"100\", \"start_time\": \"2021-04-06T10:04:01.600265Z\", \"end_time\": \"2021-04-06T10:05:27.557413Z\", \"created_time\": \"2021-04-06T10:03:50.827548Z\", \"created_time_dt\": \"2021-04-06T10:03:50.827548Z\", \"duration\": \"0:01:36\", \"iteration\": \"55\", \"goal\": \"AUC_weighted_max\", \"run_name\": \"VotingEnsemble\", \"run_properties\": \"classification_labels=None,\\n                              estimators=[('38',\\n                                           Pipeline(memory=None,\\n                                                    steps=[('standardscalerwrapper',\\n                                                            <azureml.automl.runtime.shared.model_wrappers.StandardScalerWrapper object at 0x7f355c105710>\", \"primary_metric\": 0.95710019, \"best_metric\": 0.95710019}], \"children_metrics\": {\"categories\": [0], \"series\": {\"matthews_correlation\": [{\"categories\": [\"0\", \"1\", \"2\", \"3\", \"4\", \"5\", \"6\", \"7\", \"8\", \"9\", \"10\", \"11\", \"12\", \"13\", \"14\", \"15\", \"16\", \"17\", \"18\", \"19\", \"20\", \"21\", \"22\", \"23\", \"24\", \"25\", \"26\", \"27\", \"28\", \"29\", \"30\", \"31\", \"32\", \"33\", \"34\", \"35\", \"36\", \"37\", \"38\", \"39\", \"40\", \"41\", \"42\", \"43\", \"44\", \"45\", \"46\", \"47\", \"48\", \"49\", \"50\", \"51\", \"55\", \"56\"], \"mode\": \"markers\", \"name\": \"matthews_correlation\", \"stepped\": false, \"type\": \"scatter\", \"data\": [0.6430549157911759, 0.6605694396028913, 0.6218860705724774, 0.5783063273369043, 0.6175327979390659, 0.6600011820491061, 0.6180642217611865, 0.6591871540810726, 0.5287617880950192, 0.49589771144233746, 0.4582087007840802, 0.6036208229850365, 0.6446794986969671, 0.612447001536028, 0.5596467252461423, 0.1610315064572258, 0.4871901216956499, 0.6115291365257296, 0.6280197477960692, 0.6578100502613852, 0.644886290908559, 0.5891217653853574, 0.6687647450400112, 0.6569057314200407, 0.6204330868861854, 0.5319069015849907, 0.4757773888495648, 0.6592779325822742, 0.6790092620939787, 0.6868277247286894, 0.0525191742688915, 0.6450312769205991, 0.6871715602823152, 0.6746859772255789, 0.6022972922981346, 0.6755911855238155, 0.5995087919379565, 0.6596183612435752, 0.6903505543944007, 0.6834150726803377, 0.6337642736065588, 0.6772706533958605, 0.6757371405321944, 0.7267105295362495, 0.6643521115997638, 0.6652740802568173, 0.653552541233213, 0.6652936487039868, 0.6595328933260081, 0.5972199280700021, 0.6694930793130425, 0.6957865527082614, 0.6766057678182074, 0.0]}, {\"categories\": [\"0\", \"1\", \"2\", \"3\", \"4\", \"5\", \"6\", \"7\", \"8\", \"9\", \"10\", \"11\", \"12\", \"13\", \"14\", \"15\", \"16\", \"17\", \"18\", \"19\", \"20\", \"21\", \"22\", \"23\", \"24\", \"25\", \"26\", \"27\", \"28\", \"29\", \"30\", \"31\", \"32\", \"33\", \"34\", \"35\", \"36\", \"37\", \"38\", \"39\", \"40\", \"41\", \"42\", \"43\", \"44\", \"45\", \"46\", \"47\", \"48\", \"49\", \"50\", \"51\", \"55\", \"56\"], \"mode\": \"lines\", \"name\": \"matthews_correlation_max\", \"stepped\": true, \"type\": \"scatter\", \"data\": [0.6430549157911759, 0.6605694396028913, 0.6605694396028913, 0.6605694396028913, 0.6605694396028913, 0.6605694396028913, 0.6605694396028913, 0.6605694396028913, 0.6605694396028913, 0.6605694396028913, 0.6605694396028913, 0.6605694396028913, 0.6605694396028913, 0.6605694396028913, 0.6605694396028913, 0.6605694396028913, 0.6605694396028913, 0.6605694396028913, 0.6605694396028913, 0.6605694396028913, 0.6605694396028913, 0.6605694396028913, 0.6687647450400112, 0.6687647450400112, 0.6687647450400112, 0.6687647450400112, 0.6687647450400112, 0.6687647450400112, 0.6790092620939787, 0.6868277247286894, 0.6868277247286894, 0.6868277247286894, 0.6871715602823152, 0.6871715602823152, 0.6871715602823152, 0.6871715602823152, 0.6871715602823152, 0.6871715602823152, 0.6903505543944007, 0.6903505543944007, 0.6903505543944007, 0.6903505543944007, 0.6903505543944007, 0.7267105295362495, 0.7267105295362495, 0.7267105295362495, 0.7267105295362495, 0.7267105295362495, 0.7267105295362495, 0.7267105295362495, 0.7267105295362495, 0.7267105295362495, 0.7267105295362495, 0.7267105295362495]}], \"AUC_weighted\": [{\"categories\": [\"0\", \"1\", \"2\", \"3\", \"4\", \"5\", \"6\", \"7\", \"8\", \"9\", \"10\", \"11\", \"12\", \"13\", \"14\", \"15\", \"16\", \"17\", \"18\", \"19\", \"20\", \"21\", \"22\", \"23\", \"24\", \"25\", \"26\", \"27\", \"28\", \"29\", \"30\", \"31\", \"32\", \"33\", \"34\", \"35\", \"36\", \"37\", \"38\", \"39\", \"40\", \"41\", \"42\", \"43\", \"44\", \"45\", \"46\", \"47\", \"48\", \"49\", \"50\", \"51\", \"55\", \"56\"], \"mode\": \"markers\", \"name\": \"AUC_weighted\", \"stepped\": false, \"type\": \"scatter\", \"data\": [0.9270357446092738, 0.9188760091655312, 0.9217173522504405, 0.9248006940378264, 0.9126599723888326, 0.9223384783770815, 0.9203026207309952, 0.9096840187832835, 0.9050201460909182, 0.7941256383260059, 0.9062919680336959, 0.9047512426234853, 0.9301479016874239, 0.8944725558420412, 0.8915104140609657, 0.5728154779947059, 0.9011316363154599, 0.8718632285681917, 0.9078120026327747, 0.919782346009368, 0.9352598449027021, 0.8762563428877768, 0.9078531624487507, 0.9294720703774011, 0.9263857863352349, 0.8556448570350226, 0.911079888281175, 0.9405025738987135, 0.9109256221848134, 0.9421932492704552, 0.5450602772822443, 0.943265575549583, 0.9417585710646371, 0.9224762542455558, 0.9002279143087968, 0.9094479947444103, 0.8824212835701806, 0.9286828628234878, 0.9468581695511844, 0.9449407319444084, 0.9395860089702002, 0.9193436830109626, 0.9384262592626562, 0.946642770296263, 0.930200190292102, 0.9372149730651568, 0.9391355394434437, 0.9343472180788357, 0.9360445209709916, 0.8923507485915575, 0.9374569293686941, 0.9283295812845445, 0.957100185882355, 0.9552619505882374]}, {\"categories\": [\"0\", \"1\", \"2\", \"3\", \"4\", \"5\", \"6\", \"7\", \"8\", \"9\", \"10\", \"11\", \"12\", \"13\", \"14\", \"15\", \"16\", \"17\", \"18\", \"19\", \"20\", \"21\", \"22\", \"23\", \"24\", \"25\", \"26\", \"27\", \"28\", \"29\", \"30\", \"31\", \"32\", \"33\", \"34\", \"35\", \"36\", \"37\", \"38\", \"39\", \"40\", \"41\", \"42\", \"43\", \"44\", \"45\", \"46\", \"47\", \"48\", \"49\", \"50\", \"51\", \"55\", \"56\"], \"mode\": \"lines\", \"name\": \"AUC_weighted_max\", \"stepped\": true, \"type\": \"scatter\", \"data\": [0.9270357446092738, 0.9270357446092738, 0.9270357446092738, 0.9270357446092738, 0.9270357446092738, 0.9270357446092738, 0.9270357446092738, 0.9270357446092738, 0.9270357446092738, 0.9270357446092738, 0.9270357446092738, 0.9270357446092738, 0.9301479016874239, 0.9301479016874239, 0.9301479016874239, 0.9301479016874239, 0.9301479016874239, 0.9301479016874239, 0.9301479016874239, 0.9301479016874239, 0.9352598449027021, 0.9352598449027021, 0.9352598449027021, 0.9352598449027021, 0.9352598449027021, 0.9352598449027021, 0.9352598449027021, 0.9405025738987135, 0.9405025738987135, 0.9421932492704552, 0.9421932492704552, 0.943265575549583, 0.943265575549583, 0.943265575549583, 0.943265575549583, 0.943265575549583, 0.943265575549583, 0.943265575549583, 0.9468581695511844, 0.9468581695511844, 0.9468581695511844, 0.9468581695511844, 0.9468581695511844, 0.9468581695511844, 0.9468581695511844, 0.9468581695511844, 0.9468581695511844, 0.9468581695511844, 0.9468581695511844, 0.9468581695511844, 0.9468581695511844, 0.9468581695511844, 0.957100185882355, 0.957100185882355]}], \"precision_score_macro\": [{\"categories\": [\"0\", \"1\", \"2\", \"3\", \"4\", \"5\", \"6\", \"7\", \"8\", \"9\", \"10\", \"11\", \"12\", \"13\", \"14\", \"15\", \"16\", \"17\", \"18\", \"19\", \"20\", \"21\", \"22\", \"23\", \"24\", \"25\", \"26\", \"27\", \"28\", \"29\", \"30\", \"31\", \"32\", \"33\", \"34\", \"35\", \"36\", \"37\", \"38\", \"39\", \"40\", \"41\", \"42\", \"43\", \"44\", \"45\", \"46\", \"47\", \"48\", \"49\", \"50\", \"51\", \"55\", \"56\"], \"mode\": \"markers\", \"name\": \"precision_score_macro\", \"stepped\": false, \"type\": \"scatter\", \"data\": [0.8224817402390933, 0.8291236178832928, 0.8194579569082714, 0.8435904785289191, 0.8075913228464738, 0.8481649690009767, 0.8239534819140083, 0.8567438044411728, 0.8224151203306052, 0.8020858965595808, 0.8075441627880652, 0.8388147310206134, 0.8115402364401725, 0.8154220922755406, 0.7728626003626002, 0.5942062751609876, 0.8226805634335413, 0.8016934619914746, 0.8042958650544858, 0.8443850286464887, 0.8353444319988437, 0.7873857297386709, 0.8423403502260125, 0.8328292627582687, 0.8034532747953801, 0.7667684641570466, 0.8112253713388144, 0.8487668069247016, 0.8396491549717358, 0.8453708920519265, 0.5249001424832628, 0.8265932336984967, 0.8538658070237017, 0.8438112461641873, 0.8109205714128583, 0.8641592231575255, 0.8169387829065249, 0.8391893264113129, 0.8408992787398362, 0.8404883683289256, 0.8172538169326096, 0.8485252956305589, 0.8427676355902161, 0.8738359286237045, 0.83780038521974, 0.841398713306608, 0.8464220488878433, 0.8459480294664555, 0.8360960213379569, 0.8078884893975105, 0.8319142994239744, 0.8534472764078028, 0.8480435359272871, 0.34375]}, {\"categories\": [\"0\", \"1\", \"2\", \"3\", \"4\", \"5\", \"6\", \"7\", \"8\", \"9\", \"10\", \"11\", \"12\", \"13\", \"14\", \"15\", \"16\", \"17\", \"18\", \"19\", \"20\", \"21\", \"22\", \"23\", \"24\", \"25\", \"26\", \"27\", \"28\", \"29\", \"30\", \"31\", \"32\", \"33\", \"34\", \"35\", \"36\", \"37\", \"38\", \"39\", \"40\", \"41\", \"42\", \"43\", \"44\", \"45\", \"46\", \"47\", \"48\", \"49\", \"50\", \"51\", \"55\", \"56\"], \"mode\": \"lines\", \"name\": \"precision_score_macro_max\", \"stepped\": true, \"type\": \"scatter\", \"data\": [0.8224817402390933, 0.8291236178832928, 0.8291236178832928, 0.8435904785289191, 0.8435904785289191, 0.8481649690009767, 0.8481649690009767, 0.8567438044411728, 0.8567438044411728, 0.8567438044411728, 0.8567438044411728, 0.8567438044411728, 0.8567438044411728, 0.8567438044411728, 0.8567438044411728, 0.8567438044411728, 0.8567438044411728, 0.8567438044411728, 0.8567438044411728, 0.8567438044411728, 0.8567438044411728, 0.8567438044411728, 0.8567438044411728, 0.8567438044411728, 0.8567438044411728, 0.8567438044411728, 0.8567438044411728, 0.8567438044411728, 0.8567438044411728, 0.8567438044411728, 0.8567438044411728, 0.8567438044411728, 0.8567438044411728, 0.8567438044411728, 0.8567438044411728, 0.8641592231575255, 0.8641592231575255, 0.8641592231575255, 0.8641592231575255, 0.8641592231575255, 0.8641592231575255, 0.8641592231575255, 0.8641592231575255, 0.8738359286237045, 0.8738359286237045, 0.8738359286237045, 0.8738359286237045, 0.8738359286237045, 0.8738359286237045, 0.8738359286237045, 0.8738359286237045, 0.8738359286237045, 0.8738359286237045, 0.8738359286237045]}], \"average_precision_score_micro\": [{\"categories\": [\"0\", \"1\", \"2\", \"3\", \"4\", \"5\", \"6\", \"7\", \"8\", \"9\", \"10\", \"11\", \"12\", \"13\", \"14\", \"15\", \"16\", \"17\", \"18\", \"19\", \"20\", \"21\", \"22\", \"23\", \"24\", \"25\", \"26\", \"27\", \"28\", \"29\", \"30\", \"31\", \"32\", \"33\", \"34\", \"35\", \"36\", \"37\", \"38\", \"39\", \"40\", \"41\", \"42\", \"43\", \"44\", \"45\", \"46\", \"47\", \"48\", \"49\", \"50\", \"51\", \"55\", \"56\"], \"mode\": \"markers\", \"name\": \"average_precision_score_micro\", \"stepped\": false, \"type\": \"scatter\", \"data\": [0.9384225885812274, 0.9274633920007144, 0.9304125402553887, 0.9138307155981071, 0.918195246715127, 0.9347991961560386, 0.9255071842246265, 0.9163828974009908, 0.8964056749884959, 0.8171226874653396, 0.8973729154314336, 0.9092956253401058, 0.9281644693187907, 0.9094639363684778, 0.9114315503930733, 0.688312423167256, 0.8902848949030957, 0.8845329715840679, 0.9091645737612101, 0.9258507443999466, 0.9374000013402675, 0.8907297968434295, 0.9095252901108589, 0.9132145316492057, 0.9188153042616136, 0.870033142621622, 0.8966035132722728, 0.944297356301956, 0.9126824577778507, 0.9456972889395985, 0.5370183912565777, 0.9491212125568866, 0.9438421255447411, 0.9291073186357031, 0.9124004167124262, 0.9119124618177714, 0.8902236811322084, 0.9373806345750003, 0.9476840863500671, 0.948159570035734, 0.94417220222427, 0.9297442727633716, 0.9463174927152718, 0.9429796994644948, 0.9347623645252261, 0.9424290404102884, 0.9431767182970049, 0.9408494700895274, 0.9443607456689674, 0.9071391480769924, 0.9439710108413781, 0.9384220761416691, 0.9530286346479826, 0.8918423107851158]}, {\"categories\": [\"0\", \"1\", \"2\", \"3\", \"4\", \"5\", \"6\", \"7\", \"8\", \"9\", \"10\", \"11\", \"12\", \"13\", \"14\", \"15\", \"16\", \"17\", \"18\", \"19\", \"20\", \"21\", \"22\", \"23\", \"24\", \"25\", \"26\", \"27\", \"28\", \"29\", \"30\", \"31\", \"32\", \"33\", \"34\", \"35\", \"36\", \"37\", \"38\", \"39\", \"40\", \"41\", \"42\", \"43\", \"44\", \"45\", \"46\", \"47\", \"48\", \"49\", \"50\", \"51\", \"55\", \"56\"], \"mode\": \"lines\", \"name\": \"average_precision_score_micro_max\", \"stepped\": true, \"type\": \"scatter\", \"data\": [0.9384225885812274, 0.9384225885812274, 0.9384225885812274, 0.9384225885812274, 0.9384225885812274, 0.9384225885812274, 0.9384225885812274, 0.9384225885812274, 0.9384225885812274, 0.9384225885812274, 0.9384225885812274, 0.9384225885812274, 0.9384225885812274, 0.9384225885812274, 0.9384225885812274, 0.9384225885812274, 0.9384225885812274, 0.9384225885812274, 0.9384225885812274, 0.9384225885812274, 0.9384225885812274, 0.9384225885812274, 0.9384225885812274, 0.9384225885812274, 0.9384225885812274, 0.9384225885812274, 0.9384225885812274, 0.944297356301956, 0.944297356301956, 0.9456972889395985, 0.9456972889395985, 0.9491212125568866, 0.9491212125568866, 0.9491212125568866, 0.9491212125568866, 0.9491212125568866, 0.9491212125568866, 0.9491212125568866, 0.9491212125568866, 0.9491212125568866, 0.9491212125568866, 0.9491212125568866, 0.9491212125568866, 0.9491212125568866, 0.9491212125568866, 0.9491212125568866, 0.9491212125568866, 0.9491212125568866, 0.9491212125568866, 0.9491212125568866, 0.9491212125568866, 0.9491212125568866, 0.9530286346479826, 0.9530286346479826]}], \"precision_score_weighted\": [{\"categories\": [\"0\", \"1\", \"2\", \"3\", \"4\", \"5\", \"6\", \"7\", \"8\", \"9\", \"10\", \"11\", \"12\", \"13\", \"14\", \"15\", \"16\", \"17\", \"18\", \"19\", \"20\", \"21\", \"22\", \"23\", \"24\", \"25\", \"26\", \"27\", \"28\", \"29\", \"30\", \"31\", \"32\", \"33\", \"34\", \"35\", \"36\", \"37\", \"38\", \"39\", \"40\", \"41\", \"42\", \"43\", \"44\", \"45\", \"46\", \"47\", \"48\", \"49\", \"50\", \"51\", \"55\", \"56\"], \"mode\": \"markers\", \"name\": \"precision_score_weighted\", \"stepped\": false, \"type\": \"scatter\", \"data\": [0.8552885320502368, 0.8628585110747318, 0.8506565341458018, 0.8421457030436901, 0.8424710412497325, 0.868813398700846, 0.8529829944491599, 0.8651273882758845, 0.824583126794596, 0.8079443061115994, 0.8097481544029888, 0.8462011984280892, 0.8614770105738317, 0.8455738637388883, 0.8227307579986152, 0.6598236540081704, 0.8246148259833334, 0.8426880780042634, 0.8530008601141607, 0.8621593344267975, 0.8631779482127779, 0.8353837572324967, 0.863453353954229, 0.8627401594423836, 0.8492621792368032, 0.8082998514729185, 0.8164419249589473, 0.8633084609118443, 0.8711216752547397, 0.8723807298838085, 0.6091940895137825, 0.8557063922907103, 0.876976677233122, 0.8707831947747915, 0.839792512891424, 0.87296663887132, 0.8400010914757459, 0.8649702742678125, 0.8724435552448601, 0.8705158922090037, 0.8518419933565333, 0.8708676295424416, 0.8671620871752538, 0.8887033314662295, 0.8642481303837458, 0.8637089773837895, 0.867099701381207, 0.8694641236315045, 0.8587526325544758, 0.8388469768118686, 0.8680928038983102, 0.8768824712950654, 0.8704366892720425, 0.4804453945693924]}, {\"categories\": [\"0\", \"1\", \"2\", \"3\", \"4\", \"5\", \"6\", \"7\", \"8\", \"9\", \"10\", \"11\", \"12\", \"13\", \"14\", \"15\", \"16\", \"17\", \"18\", \"19\", \"20\", \"21\", \"22\", \"23\", \"24\", \"25\", \"26\", \"27\", \"28\", \"29\", \"30\", \"31\", \"32\", \"33\", \"34\", \"35\", \"36\", \"37\", \"38\", \"39\", \"40\", \"41\", \"42\", \"43\", \"44\", \"45\", \"46\", \"47\", \"48\", \"49\", \"50\", \"51\", \"55\", \"56\"], \"mode\": \"lines\", \"name\": \"precision_score_weighted_max\", \"stepped\": true, \"type\": \"scatter\", \"data\": [0.8552885320502368, 0.8628585110747318, 0.8628585110747318, 0.8628585110747318, 0.8628585110747318, 0.868813398700846, 0.868813398700846, 0.868813398700846, 0.868813398700846, 0.868813398700846, 0.868813398700846, 0.868813398700846, 0.868813398700846, 0.868813398700846, 0.868813398700846, 0.868813398700846, 0.868813398700846, 0.868813398700846, 0.868813398700846, 0.868813398700846, 0.868813398700846, 0.868813398700846, 0.868813398700846, 0.868813398700846, 0.868813398700846, 0.868813398700846, 0.868813398700846, 0.868813398700846, 0.8711216752547397, 0.8723807298838085, 0.8723807298838085, 0.8723807298838085, 0.876976677233122, 0.876976677233122, 0.876976677233122, 0.876976677233122, 0.876976677233122, 0.876976677233122, 0.876976677233122, 0.876976677233122, 0.876976677233122, 0.876976677233122, 0.876976677233122, 0.8887033314662295, 0.8887033314662295, 0.8887033314662295, 0.8887033314662295, 0.8887033314662295, 0.8887033314662295, 0.8887033314662295, 0.8887033314662295, 0.8887033314662295, 0.8887033314662295, 0.8887033314662295]}], \"recall_score_macro\": [{\"categories\": [\"0\", \"1\", \"2\", \"3\", \"4\", \"5\", \"6\", \"7\", \"8\", \"9\", \"10\", \"11\", \"12\", \"13\", \"14\", \"15\", \"16\", \"17\", \"18\", \"19\", \"20\", \"21\", \"22\", \"23\", \"24\", \"25\", \"26\", \"27\", \"28\", \"29\", \"30\", \"31\", \"32\", \"33\", \"34\", \"35\", \"36\", \"37\", \"38\", \"39\", \"40\", \"41\", \"42\", \"43\", \"44\", \"45\", \"46\", \"47\", \"48\", \"49\", \"50\", \"51\", \"55\", \"56\"], \"mode\": \"markers\", \"name\": \"recall_score_macro\", \"stepped\": false, \"type\": \"scatter\", \"data\": [0.8229802166934521, 0.8340702619011442, 0.8046134799443623, 0.7493312141841553, 0.8114729463626522, 0.8133124035697564, 0.7988091729635848, 0.8055857307327894, 0.7204513617381264, 0.7079519394960572, 0.6780242912595854, 0.7698170141552494, 0.8358341581503346, 0.8001480550377609, 0.7872998394321924, 0.5703980155083096, 0.6850479402685286, 0.812782897047603, 0.8258343421578715, 0.8154596935479288, 0.8139210351342705, 0.8031675409984235, 0.8276434592243417, 0.8256113481848777, 0.8184767004252299, 0.7665072729043316, 0.6852594699285876, 0.8122016035986623, 0.8408245727731023, 0.8423358678505737, 0.5274817644670586, 0.8201075579384403, 0.8352813547298841, 0.8324689577998402, 0.7956488967886026, 0.8148152399622987, 0.7863129308349897, 0.8232820917379741, 0.8510536196933256, 0.8450808199705258, 0.8189583997304586, 0.8299267083825906, 0.8338150195135489, 0.8537691169676463, 0.8280621033929858, 0.8251522069169127, 0.8108088297058884, 0.8222894446791505, 0.8245964259199553, 0.7924720903029727, 0.840374912139618, 0.8446654133051192, 0.8301750027485323, 0.5]}, {\"categories\": [\"0\", \"1\", \"2\", \"3\", \"4\", \"5\", \"6\", \"7\", \"8\", \"9\", \"10\", \"11\", \"12\", \"13\", \"14\", \"15\", \"16\", \"17\", \"18\", \"19\", \"20\", \"21\", \"22\", \"23\", \"24\", \"25\", \"26\", \"27\", \"28\", \"29\", \"30\", \"31\", \"32\", \"33\", \"34\", \"35\", \"36\", \"37\", \"38\", \"39\", \"40\", \"41\", \"42\", \"43\", \"44\", \"45\", \"46\", \"47\", \"48\", \"49\", \"50\", \"51\", \"55\", \"56\"], \"mode\": \"lines\", \"name\": \"recall_score_macro_max\", \"stepped\": true, \"type\": \"scatter\", \"data\": [0.8229802166934521, 0.8340702619011442, 0.8340702619011442, 0.8340702619011442, 0.8340702619011442, 0.8340702619011442, 0.8340702619011442, 0.8340702619011442, 0.8340702619011442, 0.8340702619011442, 0.8340702619011442, 0.8340702619011442, 0.8358341581503346, 0.8358341581503346, 0.8358341581503346, 0.8358341581503346, 0.8358341581503346, 0.8358341581503346, 0.8358341581503346, 0.8358341581503346, 0.8358341581503346, 0.8358341581503346, 0.8358341581503346, 0.8358341581503346, 0.8358341581503346, 0.8358341581503346, 0.8358341581503346, 0.8358341581503346, 0.8408245727731023, 0.8423358678505737, 0.8423358678505737, 0.8423358678505737, 0.8423358678505737, 0.8423358678505737, 0.8423358678505737, 0.8423358678505737, 0.8423358678505737, 0.8423358678505737, 0.8510536196933256, 0.8510536196933256, 0.8510536196933256, 0.8510536196933256, 0.8510536196933256, 0.8537691169676463, 0.8537691169676463, 0.8537691169676463, 0.8537691169676463, 0.8537691169676463, 0.8537691169676463, 0.8537691169676463, 0.8537691169676463, 0.8537691169676463, 0.8537691169676463, 0.8537691169676463]}], \"AUC_micro\": [{\"categories\": [\"0\", \"1\", \"2\", \"3\", \"4\", \"5\", \"6\", \"7\", \"8\", \"9\", \"10\", \"11\", \"12\", \"13\", \"14\", \"15\", \"16\", \"17\", \"18\", \"19\", \"20\", \"21\", \"22\", \"23\", \"24\", \"25\", \"26\", \"27\", \"28\", \"29\", \"30\", \"31\", \"32\", \"33\", \"34\", \"35\", \"36\", \"37\", \"38\", \"39\", \"40\", \"41\", \"42\", \"43\", \"44\", \"45\", \"46\", \"47\", \"48\", \"49\", \"50\", \"51\", \"55\", \"56\"], \"mode\": \"markers\", \"name\": \"AUC_micro\", \"stepped\": false, \"type\": \"scatter\", \"data\": [0.9331507560507195, 0.9236608589013837, 0.9272146443611458, 0.9092274197093804, 0.9198624560368366, 0.9316628054282938, 0.9254548524341709, 0.9138860327294184, 0.889308563561479, 0.8396118226202045, 0.8942547448401129, 0.9069318990351242, 0.9253154429288722, 0.9066934277962886, 0.9077280444490722, 0.6907003809176733, 0.8852409586283493, 0.8856566202161137, 0.9133336008723216, 0.923579331817761, 0.9347412934136241, 0.8928851621430886, 0.9116211705770743, 0.9263527349715396, 0.9239914503216253, 0.868921514183905, 0.8873076250057845, 0.9413631183766021, 0.9188103047341386, 0.9427064171757138, 0.5427131418043407, 0.9453254792563284, 0.9404670073811838, 0.9273505469364617, 0.9074233753875699, 0.9157563110278124, 0.8863523662015828, 0.9333243671618309, 0.9448029105349622, 0.9442724241056967, 0.9399066939701051, 0.9293804086260355, 0.9442785702716462, 0.9448686745106206, 0.9316171791845991, 0.93966207656532, 0.939839194606414, 0.9366799930006016, 0.941157077201629, 0.9042628722407329, 0.9400355826854551, 0.9354094720371142, 0.9495973899763988, 0.875539741832107]}, {\"categories\": [\"0\", \"1\", \"2\", \"3\", \"4\", \"5\", \"6\", \"7\", \"8\", \"9\", \"10\", \"11\", \"12\", \"13\", \"14\", \"15\", \"16\", \"17\", \"18\", \"19\", \"20\", \"21\", \"22\", \"23\", \"24\", \"25\", \"26\", \"27\", \"28\", \"29\", \"30\", \"31\", \"32\", \"33\", \"34\", \"35\", \"36\", \"37\", \"38\", \"39\", \"40\", \"41\", \"42\", \"43\", \"44\", \"45\", \"46\", \"47\", \"48\", \"49\", \"50\", \"51\", \"55\", \"56\"], \"mode\": \"lines\", \"name\": \"AUC_micro_max\", \"stepped\": true, \"type\": \"scatter\", \"data\": [0.9331507560507195, 0.9331507560507195, 0.9331507560507195, 0.9331507560507195, 0.9331507560507195, 0.9331507560507195, 0.9331507560507195, 0.9331507560507195, 0.9331507560507195, 0.9331507560507195, 0.9331507560507195, 0.9331507560507195, 0.9331507560507195, 0.9331507560507195, 0.9331507560507195, 0.9331507560507195, 0.9331507560507195, 0.9331507560507195, 0.9331507560507195, 0.9331507560507195, 0.9347412934136241, 0.9347412934136241, 0.9347412934136241, 0.9347412934136241, 0.9347412934136241, 0.9347412934136241, 0.9347412934136241, 0.9413631183766021, 0.9413631183766021, 0.9427064171757138, 0.9427064171757138, 0.9453254792563284, 0.9453254792563284, 0.9453254792563284, 0.9453254792563284, 0.9453254792563284, 0.9453254792563284, 0.9453254792563284, 0.9453254792563284, 0.9453254792563284, 0.9453254792563284, 0.9453254792563284, 0.9453254792563284, 0.9453254792563284, 0.9453254792563284, 0.9453254792563284, 0.9453254792563284, 0.9453254792563284, 0.9453254792563284, 0.9453254792563284, 0.9453254792563284, 0.9453254792563284, 0.9495973899763988, 0.9495973899763988]}], \"average_precision_score_weighted\": [{\"categories\": [\"0\", \"1\", \"2\", \"3\", \"4\", \"5\", \"6\", \"7\", \"8\", \"9\", \"10\", \"11\", \"12\", \"13\", \"14\", \"15\", \"16\", \"17\", \"18\", \"19\", \"20\", \"21\", \"22\", \"23\", \"24\", \"25\", \"26\", \"27\", \"28\", \"29\", \"30\", \"31\", \"32\", \"33\", \"34\", \"35\", \"36\", \"37\", \"38\", \"39\", \"40\", \"41\", \"42\", \"43\", \"44\", \"45\", \"46\", \"47\", \"48\", \"49\", \"50\", \"51\", \"55\", \"56\"], \"mode\": \"markers\", \"name\": \"average_precision_score_weighted\", \"stepped\": false, \"type\": \"scatter\", \"data\": [0.934535275429185, 0.925782629702476, 0.9311677114371435, 0.9355300515774922, 0.9209060883708785, 0.9308870258042596, 0.9269267916440945, 0.9249309233791358, 0.909410727260266, 0.821778260671044, 0.9194480953202531, 0.917788387456963, 0.9403015742039547, 0.9085389153320929, 0.9084856007581857, 0.6736548385931822, 0.9188185954659456, 0.8901178932030402, 0.918241934083498, 0.929390195366562, 0.9408828825002413, 0.8946739407882245, 0.9095523549062182, 0.929569640522573, 0.9341334400449742, 0.8726200143162762, 0.9240581789448671, 0.9498879807710873, 0.9240941842571075, 0.9484327910666973, 0.6270619104399754, 0.9476498223727902, 0.947676771608809, 0.9301804021504884, 0.9129559119680231, 0.918166351593578, 0.895922258733927, 0.9376598575503111, 0.9487517445563775, 0.9491732873742119, 0.9462749707714577, 0.9302179301792487, 0.9452283965059181, 0.9508720755247312, 0.9372239164838975, 0.9420657453658972, 0.9452052663772337, 0.944118620813396, 0.9435021193303081, 0.9083973371736824, 0.9429631450975625, 0.9389926655171598, 0.9621181406359242, 0.9601697073609603]}, {\"categories\": [\"0\", \"1\", \"2\", \"3\", \"4\", \"5\", \"6\", \"7\", \"8\", \"9\", \"10\", \"11\", \"12\", \"13\", \"14\", \"15\", \"16\", \"17\", \"18\", \"19\", \"20\", \"21\", \"22\", \"23\", \"24\", \"25\", \"26\", \"27\", \"28\", \"29\", \"30\", \"31\", \"32\", \"33\", \"34\", \"35\", \"36\", \"37\", \"38\", \"39\", \"40\", \"41\", \"42\", \"43\", \"44\", \"45\", \"46\", \"47\", \"48\", \"49\", \"50\", \"51\", \"55\", \"56\"], \"mode\": \"lines\", \"name\": \"average_precision_score_weighted_max\", \"stepped\": true, \"type\": \"scatter\", \"data\": [0.934535275429185, 0.934535275429185, 0.934535275429185, 0.9355300515774922, 0.9355300515774922, 0.9355300515774922, 0.9355300515774922, 0.9355300515774922, 0.9355300515774922, 0.9355300515774922, 0.9355300515774922, 0.9355300515774922, 0.9403015742039547, 0.9403015742039547, 0.9403015742039547, 0.9403015742039547, 0.9403015742039547, 0.9403015742039547, 0.9403015742039547, 0.9403015742039547, 0.9408828825002413, 0.9408828825002413, 0.9408828825002413, 0.9408828825002413, 0.9408828825002413, 0.9408828825002413, 0.9408828825002413, 0.9498879807710873, 0.9498879807710873, 0.9498879807710873, 0.9498879807710873, 0.9498879807710873, 0.9498879807710873, 0.9498879807710873, 0.9498879807710873, 0.9498879807710873, 0.9498879807710873, 0.9498879807710873, 0.9498879807710873, 0.9498879807710873, 0.9498879807710873, 0.9498879807710873, 0.9498879807710873, 0.9508720755247312, 0.9508720755247312, 0.9508720755247312, 0.9508720755247312, 0.9508720755247312, 0.9508720755247312, 0.9508720755247312, 0.9508720755247312, 0.9508720755247312, 0.9621181406359242, 0.9621181406359242]}], \"weighted_accuracy\": [{\"categories\": [\"0\", \"1\", \"2\", \"3\", \"4\", \"5\", \"6\", \"7\", \"8\", \"9\", \"10\", \"11\", \"12\", \"13\", \"14\", \"15\", \"16\", \"17\", \"18\", \"19\", \"20\", \"21\", \"22\", \"23\", \"24\", \"25\", \"26\", \"27\", \"28\", \"29\", \"30\", \"31\", \"32\", \"33\", \"34\", \"35\", \"36\", \"37\", \"38\", \"39\", \"40\", \"41\", \"42\", \"43\", \"44\", \"45\", \"46\", \"47\", \"48\", \"49\", \"50\", \"51\", \"55\", \"56\"], \"mode\": \"markers\", \"name\": \"weighted_accuracy\", \"stepped\": false, \"type\": \"scatter\", \"data\": [0.8618430929110541, 0.8612977201366364, 0.8642267486608375, 0.8689563662983831, 0.846209155774748, 0.9009172144308838, 0.8636016801766679, 0.8905647420930125, 0.8646791722424056, 0.8516490698087784, 0.8459846455289105, 0.8791375658586473, 0.8366337011177999, 0.8593772587808136, 0.8234879884493168, 0.7301690045985814, 0.864743797288777, 0.8392083768756953, 0.8360995946804465, 0.8846749230401978, 0.8678222783745977, 0.8373888662864507, 0.8829770782355727, 0.8769637491582344, 0.8469612191931398, 0.814101260052511, 0.8476566206907217, 0.8919698211630319, 0.8804902141949895, 0.8864595324477627, 0.6055709353917111, 0.8682110928579245, 0.8914108965760352, 0.8862090582786752, 0.8500319224516264, 0.8979740808188984, 0.8562949040182304, 0.8741521751477936, 0.8757017021104275, 0.8735108989356535, 0.8570771219387069, 0.8931092738618072, 0.8831463559491797, 0.9061955701077343, 0.8768323898756979, 0.8838220951770325, 0.8812267026572698, 0.8805078585735842, 0.8767863411210038, 0.8515786223348888, 0.8637951004890239, 0.8865659685835382, 0.8877210373726012, 0.8075968576821785]}, {\"categories\": [\"0\", \"1\", \"2\", \"3\", \"4\", \"5\", \"6\", \"7\", \"8\", \"9\", \"10\", \"11\", \"12\", \"13\", \"14\", \"15\", \"16\", \"17\", \"18\", \"19\", \"20\", \"21\", \"22\", \"23\", \"24\", \"25\", \"26\", \"27\", \"28\", \"29\", \"30\", \"31\", \"32\", \"33\", \"34\", \"35\", \"36\", \"37\", \"38\", \"39\", \"40\", \"41\", \"42\", \"43\", \"44\", \"45\", \"46\", \"47\", \"48\", \"49\", \"50\", \"51\", \"55\", \"56\"], \"mode\": \"lines\", \"name\": \"weighted_accuracy_max\", \"stepped\": true, \"type\": \"scatter\", \"data\": [0.8618430929110541, 0.8618430929110541, 0.8642267486608375, 0.8689563662983831, 0.8689563662983831, 0.9009172144308838, 0.9009172144308838, 0.9009172144308838, 0.9009172144308838, 0.9009172144308838, 0.9009172144308838, 0.9009172144308838, 0.9009172144308838, 0.9009172144308838, 0.9009172144308838, 0.9009172144308838, 0.9009172144308838, 0.9009172144308838, 0.9009172144308838, 0.9009172144308838, 0.9009172144308838, 0.9009172144308838, 0.9009172144308838, 0.9009172144308838, 0.9009172144308838, 0.9009172144308838, 0.9009172144308838, 0.9009172144308838, 0.9009172144308838, 0.9009172144308838, 0.9009172144308838, 0.9009172144308838, 0.9009172144308838, 0.9009172144308838, 0.9009172144308838, 0.9009172144308838, 0.9009172144308838, 0.9009172144308838, 0.9009172144308838, 0.9009172144308838, 0.9009172144308838, 0.9009172144308838, 0.9009172144308838, 0.9061955701077343, 0.9061955701077343, 0.9061955701077343, 0.9061955701077343, 0.9061955701077343, 0.9061955701077343, 0.9061955701077343, 0.9061955701077343, 0.9061955701077343, 0.9061955701077343, 0.9061955701077343]}], \"balanced_accuracy\": [{\"categories\": [\"0\", \"1\", \"2\", \"3\", \"4\", \"5\", \"6\", \"7\", \"8\", \"9\", \"10\", \"11\", \"12\", \"13\", \"14\", \"15\", \"16\", \"17\", \"18\", \"19\", \"20\", \"21\", \"22\", \"23\", \"24\", \"25\", \"26\", \"27\", \"28\", \"29\", \"30\", \"31\", \"32\", \"33\", \"34\", \"35\", \"36\", \"37\", \"38\", \"39\", \"40\", \"41\", \"42\", \"43\", \"44\", \"45\", \"46\", \"47\", \"48\", \"49\", \"50\", \"51\", \"55\", \"56\"], \"mode\": \"markers\", \"name\": \"balanced_accuracy\", \"stepped\": false, \"type\": \"scatter\", \"data\": [0.8229802166934521, 0.8340702619011442, 0.8046134799443623, 0.7493312141841553, 0.8114729463626522, 0.8133124035697564, 0.7988091729635848, 0.8055857307327894, 0.7204513617381264, 0.7079519394960572, 0.6780242912595854, 0.7698170141552494, 0.8358341581503346, 0.8001480550377609, 0.7872998394321924, 0.5703980155083096, 0.6850479402685286, 0.812782897047603, 0.8258343421578715, 0.8154596935479288, 0.8139210351342705, 0.8031675409984235, 0.8276434592243417, 0.8256113481848777, 0.8184767004252299, 0.7665072729043316, 0.6852594699285876, 0.8122016035986623, 0.8408245727731023, 0.8423358678505737, 0.5274817644670586, 0.8201075579384403, 0.8352813547298841, 0.8324689577998402, 0.7956488967886026, 0.8148152399622987, 0.7863129308349897, 0.8232820917379741, 0.8510536196933256, 0.8450808199705258, 0.8189583997304586, 0.8299267083825906, 0.8338150195135489, 0.8537691169676463, 0.8280621033929858, 0.8251522069169127, 0.8108088297058884, 0.8222894446791505, 0.8245964259199553, 0.7924720903029727, 0.840374912139618, 0.8446654133051192, 0.8301750027485323, 0.5]}, {\"categories\": [\"0\", \"1\", \"2\", \"3\", \"4\", \"5\", \"6\", \"7\", \"8\", \"9\", \"10\", \"11\", \"12\", \"13\", \"14\", \"15\", \"16\", \"17\", \"18\", \"19\", \"20\", \"21\", \"22\", \"23\", \"24\", \"25\", \"26\", \"27\", \"28\", \"29\", \"30\", \"31\", \"32\", \"33\", \"34\", \"35\", \"36\", \"37\", \"38\", \"39\", \"40\", \"41\", \"42\", \"43\", \"44\", \"45\", \"46\", \"47\", \"48\", \"49\", \"50\", \"51\", \"55\", \"56\"], \"mode\": \"lines\", \"name\": \"balanced_accuracy_max\", \"stepped\": true, \"type\": \"scatter\", \"data\": [0.8229802166934521, 0.8340702619011442, 0.8340702619011442, 0.8340702619011442, 0.8340702619011442, 0.8340702619011442, 0.8340702619011442, 0.8340702619011442, 0.8340702619011442, 0.8340702619011442, 0.8340702619011442, 0.8340702619011442, 0.8358341581503346, 0.8358341581503346, 0.8358341581503346, 0.8358341581503346, 0.8358341581503346, 0.8358341581503346, 0.8358341581503346, 0.8358341581503346, 0.8358341581503346, 0.8358341581503346, 0.8358341581503346, 0.8358341581503346, 0.8358341581503346, 0.8358341581503346, 0.8358341581503346, 0.8358341581503346, 0.8408245727731023, 0.8423358678505737, 0.8423358678505737, 0.8423358678505737, 0.8423358678505737, 0.8423358678505737, 0.8423358678505737, 0.8423358678505737, 0.8423358678505737, 0.8423358678505737, 0.8510536196933256, 0.8510536196933256, 0.8510536196933256, 0.8510536196933256, 0.8510536196933256, 0.8537691169676463, 0.8537691169676463, 0.8537691169676463, 0.8537691169676463, 0.8537691169676463, 0.8537691169676463, 0.8537691169676463, 0.8537691169676463, 0.8537691169676463, 0.8537691169676463, 0.8537691169676463]}], \"log_loss\": [{\"categories\": [\"0\", \"1\", \"2\", \"3\", \"4\", \"5\", \"6\", \"7\", \"8\", \"9\", \"10\", \"11\", \"12\", \"13\", \"14\", \"15\", \"16\", \"17\", \"18\", \"19\", \"20\", \"21\", \"22\", \"23\", \"24\", \"25\", \"26\", \"27\", \"28\", \"29\", \"30\", \"31\", \"32\", \"33\", \"34\", \"35\", \"36\", \"37\", \"38\", \"39\", \"40\", \"41\", \"42\", \"43\", \"44\", \"45\", \"46\", \"47\", \"48\", \"49\", \"50\", \"51\", \"55\", \"56\"], \"mode\": \"markers\", \"name\": \"log_loss\", \"stepped\": false, \"type\": \"scatter\", \"data\": [0.3690615369689739, 0.38189004915515523, 0.3418495687377616, 0.4266843337578357, 0.4942318530377522, 0.36322416416088904, 0.46133969043380596, 0.3913313711336795, 0.4495179291368663, 1.2773804269300946, 0.44944960985296945, 0.40997451573136773, 0.39452227079815183, 0.3870670348315357, 0.4362440179404074, 0.843497725781463, 0.4655351477385555, 0.6196186367415983, 0.5096139794809593, 0.44854787930291734, 0.32683296891146535, 0.4838739661488572, 0.4359281676815521, 0.3645196078567615, 0.39481120341025483, 0.4875597208989708, 0.4579590674385564, 0.3652686051698389, 0.41888147322645314, 0.3084198166826922, 0.6921583545239574, 0.307133310420347, 0.3332019169703594, 0.33766684699844685, 0.38991878854205375, 0.38839443334158813, 0.4241976362680303, 0.350035086829631, 0.30791133922782093, 0.3058303643278523, 0.3213298864572044, 0.33776059884764864, 0.29782333344450257, 0.306561283535132, 0.3564285032656491, 0.31543069736878737, 0.35239484550148475, 0.3273645704933166, 0.32773826150264457, 0.4027245743204825, 0.32955598676651005, 0.3263496465555743, 0.32092392486200255, 0.6290807260438789]}, {\"categories\": [\"0\", \"1\", \"2\", \"3\", \"4\", \"5\", \"6\", \"7\", \"8\", \"9\", \"10\", \"11\", \"12\", \"13\", \"14\", \"15\", \"16\", \"17\", \"18\", \"19\", \"20\", \"21\", \"22\", \"23\", \"24\", \"25\", \"26\", \"27\", \"28\", \"29\", \"30\", \"31\", \"32\", \"33\", \"34\", \"35\", \"36\", \"37\", \"38\", \"39\", \"40\", \"41\", \"42\", \"43\", \"44\", \"45\", \"46\", \"47\", \"48\", \"49\", \"50\", \"51\", \"55\", \"56\"], \"mode\": \"lines\", \"name\": \"log_loss_min\", \"stepped\": true, \"type\": \"scatter\", \"data\": [0.3690615369689739, 0.3690615369689739, 0.3418495687377616, 0.3418495687377616, 0.3418495687377616, 0.3418495687377616, 0.3418495687377616, 0.3418495687377616, 0.3418495687377616, 0.3418495687377616, 0.3418495687377616, 0.3418495687377616, 0.3418495687377616, 0.3418495687377616, 0.3418495687377616, 0.3418495687377616, 0.3418495687377616, 0.3418495687377616, 0.3418495687377616, 0.3418495687377616, 0.32683296891146535, 0.32683296891146535, 0.32683296891146535, 0.32683296891146535, 0.32683296891146535, 0.32683296891146535, 0.32683296891146535, 0.32683296891146535, 0.32683296891146535, 0.3084198166826922, 0.3084198166826922, 0.307133310420347, 0.307133310420347, 0.307133310420347, 0.307133310420347, 0.307133310420347, 0.307133310420347, 0.307133310420347, 0.307133310420347, 0.3058303643278523, 0.3058303643278523, 0.3058303643278523, 0.29782333344450257, 0.29782333344450257, 0.29782333344450257, 0.29782333344450257, 0.29782333344450257, 0.29782333344450257, 0.29782333344450257, 0.29782333344450257, 0.29782333344450257, 0.29782333344450257, 0.29782333344450257, 0.29782333344450257]}], \"AUC_macro\": [{\"categories\": [\"0\", \"1\", \"2\", \"3\", \"4\", \"5\", \"6\", \"7\", \"8\", \"9\", \"10\", \"11\", \"12\", \"13\", \"14\", \"15\", \"16\", \"17\", \"18\", \"19\", \"20\", \"21\", \"22\", \"23\", \"24\", \"25\", \"26\", \"27\", \"28\", \"29\", \"30\", \"31\", \"32\", \"33\", \"34\", \"35\", \"36\", \"37\", \"38\", \"39\", \"40\", \"41\", \"42\", \"43\", \"44\", \"45\", \"46\", \"47\", \"48\", \"49\", \"50\", \"51\", \"55\", \"56\"], \"mode\": \"markers\", \"name\": \"AUC_macro\", \"stepped\": false, \"type\": \"scatter\", \"data\": [0.9270357446092741, 0.9188760091655312, 0.9217173522504405, 0.9248006940378264, 0.9126599723888326, 0.9223384783770813, 0.9203369779082096, 0.9096840187832835, 0.9050201460909182, 0.7941256383260059, 0.9062919680336959, 0.9047512426234853, 0.9301479016874238, 0.8944725558420412, 0.8915104140609655, 0.5728154779947059, 0.9011316363154599, 0.8718632285681919, 0.9078120026327747, 0.919782346009368, 0.9353638576616519, 0.8762563428877768, 0.9078531624487507, 0.9294720703774011, 0.9263857863352349, 0.8556448570350226, 0.911079888281175, 0.9405025738987135, 0.9109256221848134, 0.9421932492704552, 0.5450602772822443, 0.943265575549583, 0.9417585710646371, 0.9224762542455558, 0.9002279143087968, 0.9094479947444103, 0.8824212835701806, 0.9286828628234878, 0.9468581695511842, 0.9449407319444084, 0.9395860089702002, 0.9193436830109626, 0.9384262592626562, 0.9466427702962628, 0.930200190292102, 0.9372149730651568, 0.9391355394434437, 0.9343472180788357, 0.9360445209709916, 0.8923507485915574, 0.9374569293686941, 0.9283295812845445, 0.957100185882355, 0.9552619505882373]}, {\"categories\": [\"0\", \"1\", \"2\", \"3\", \"4\", \"5\", \"6\", \"7\", \"8\", \"9\", \"10\", \"11\", \"12\", \"13\", \"14\", \"15\", \"16\", \"17\", \"18\", \"19\", \"20\", \"21\", \"22\", \"23\", \"24\", \"25\", \"26\", \"27\", \"28\", \"29\", \"30\", \"31\", \"32\", \"33\", \"34\", \"35\", \"36\", \"37\", \"38\", \"39\", \"40\", \"41\", \"42\", \"43\", \"44\", \"45\", \"46\", \"47\", \"48\", \"49\", \"50\", \"51\", \"55\", \"56\"], \"mode\": \"lines\", \"name\": \"AUC_macro_max\", \"stepped\": true, \"type\": \"scatter\", \"data\": [0.9270357446092741, 0.9270357446092741, 0.9270357446092741, 0.9270357446092741, 0.9270357446092741, 0.9270357446092741, 0.9270357446092741, 0.9270357446092741, 0.9270357446092741, 0.9270357446092741, 0.9270357446092741, 0.9270357446092741, 0.9301479016874238, 0.9301479016874238, 0.9301479016874238, 0.9301479016874238, 0.9301479016874238, 0.9301479016874238, 0.9301479016874238, 0.9301479016874238, 0.9353638576616519, 0.9353638576616519, 0.9353638576616519, 0.9353638576616519, 0.9353638576616519, 0.9353638576616519, 0.9353638576616519, 0.9405025738987135, 0.9405025738987135, 0.9421932492704552, 0.9421932492704552, 0.943265575549583, 0.943265575549583, 0.943265575549583, 0.943265575549583, 0.943265575549583, 0.943265575549583, 0.943265575549583, 0.9468581695511842, 0.9468581695511842, 0.9468581695511842, 0.9468581695511842, 0.9468581695511842, 0.9468581695511842, 0.9468581695511842, 0.9468581695511842, 0.9468581695511842, 0.9468581695511842, 0.9468581695511842, 0.9468581695511842, 0.9468581695511842, 0.9468581695511842, 0.957100185882355, 0.957100185882355]}], \"accuracy\": [{\"categories\": [\"0\", \"1\", \"2\", \"3\", \"4\", \"5\", \"6\", \"7\", \"8\", \"9\", \"10\", \"11\", \"12\", \"13\", \"14\", \"15\", \"16\", \"17\", \"18\", \"19\", \"20\", \"21\", \"22\", \"23\", \"24\", \"25\", \"26\", \"27\", \"28\", \"29\", \"30\", \"31\", \"32\", \"33\", \"34\", \"35\", \"36\", \"37\", \"38\", \"39\", \"40\", \"41\", \"42\", \"43\", \"44\", \"45\", \"46\", \"47\", \"48\", \"49\", \"50\", \"51\", \"55\", \"56\"], \"mode\": \"markers\", \"name\": \"accuracy\", \"stepped\": false, \"type\": \"scatter\", \"data\": [0.8440476190476192, 0.8481292517006803, 0.8397959183673469, 0.819047619047619, 0.8318027210884352, 0.8683673469387754, 0.8355442176870749, 0.8560374149659864, 0.8066326530612244, 0.7944727891156462, 0.7779761904761905, 0.8354591836734695, 0.8356292517006804, 0.8356292517006804, 0.8110544217687075, 0.666921768707483, 0.79421768707483, 0.827295918367347, 0.8317176870748298, 0.8562074829931973, 0.8438775510204082, 0.8230442176870749, 0.860204081632653, 0.8559523809523808, 0.8355442176870748, 0.7942176870748299, 0.7822278911564626, 0.860204081632653, 0.8642857142857142, 0.868452380952381, 0.5767006802721089, 0.8480442176870747, 0.8683673469387756, 0.8643707482993197, 0.8273809523809523, 0.8642857142857142, 0.827295918367347, 0.8520408163265307, 0.8643707482993197, 0.8603741496598639, 0.8397959183673469, 0.8683673469387754, 0.8642857142857142, 0.8848639455782312, 0.8562925170068028, 0.860204081632653, 0.8521258503401359, 0.8562074829931973, 0.8560374149659864, 0.827295918367347, 0.8521258503401361, 0.868452380952381, 0.8642857142857142, 0.6875]}, {\"categories\": [\"0\", \"1\", \"2\", \"3\", \"4\", \"5\", \"6\", \"7\", \"8\", \"9\", \"10\", \"11\", \"12\", \"13\", \"14\", \"15\", \"16\", \"17\", \"18\", \"19\", \"20\", \"21\", \"22\", \"23\", \"24\", \"25\", \"26\", \"27\", \"28\", \"29\", \"30\", \"31\", \"32\", \"33\", \"34\", \"35\", \"36\", \"37\", \"38\", \"39\", \"40\", \"41\", \"42\", \"43\", \"44\", \"45\", \"46\", \"47\", \"48\", \"49\", \"50\", \"51\", \"55\", \"56\"], \"mode\": \"lines\", \"name\": \"accuracy_max\", \"stepped\": true, \"type\": \"scatter\", \"data\": [0.8440476190476192, 0.8481292517006803, 0.8481292517006803, 0.8481292517006803, 0.8481292517006803, 0.8683673469387754, 0.8683673469387754, 0.8683673469387754, 0.8683673469387754, 0.8683673469387754, 0.8683673469387754, 0.8683673469387754, 0.8683673469387754, 0.8683673469387754, 0.8683673469387754, 0.8683673469387754, 0.8683673469387754, 0.8683673469387754, 0.8683673469387754, 0.8683673469387754, 0.8683673469387754, 0.8683673469387754, 0.8683673469387754, 0.8683673469387754, 0.8683673469387754, 0.8683673469387754, 0.8683673469387754, 0.8683673469387754, 0.8683673469387754, 0.868452380952381, 0.868452380952381, 0.868452380952381, 0.868452380952381, 0.868452380952381, 0.868452380952381, 0.868452380952381, 0.868452380952381, 0.868452380952381, 0.868452380952381, 0.868452380952381, 0.868452380952381, 0.868452380952381, 0.868452380952381, 0.8848639455782312, 0.8848639455782312, 0.8848639455782312, 0.8848639455782312, 0.8848639455782312, 0.8848639455782312, 0.8848639455782312, 0.8848639455782312, 0.8848639455782312, 0.8848639455782312, 0.8848639455782312]}], \"f1_score_macro\": [{\"categories\": [\"0\", \"1\", \"2\", \"3\", \"4\", \"5\", \"6\", \"7\", \"8\", \"9\", \"10\", \"11\", \"12\", \"13\", \"14\", \"15\", \"16\", \"17\", \"18\", \"19\", \"20\", \"21\", \"22\", \"23\", \"24\", \"25\", \"26\", \"27\", \"28\", \"29\", \"30\", \"31\", \"32\", \"33\", \"34\", \"35\", \"36\", \"37\", \"38\", \"39\", \"40\", \"41\", \"42\", \"43\", \"44\", \"45\", \"46\", \"47\", \"48\", \"49\", \"50\", \"51\", \"55\", \"56\"], \"mode\": \"markers\", \"name\": \"f1_score_macro\", \"stepped\": false, \"type\": \"scatter\", \"data\": [0.8133267085004603, 0.8219071152492285, 0.803877079448376, 0.759069634893471, 0.8039250984133103, 0.8256770066560769, 0.7955467764290922, 0.8189778291883556, 0.7344293680712848, 0.7210022855878561, 0.6819937181411639, 0.7867379344827393, 0.8111575292868476, 0.7982547311843085, 0.7766385067779835, 0.5593406593406594, 0.6991954657886437, 0.7973811190066006, 0.8065780254701558, 0.8218628652582961, 0.8092207301030457, 0.7902088711766131, 0.8303425977095493, 0.8239099341639544, 0.8051386889553587, 0.758080931570417, 0.6909660470081083, 0.8237370966022237, 0.8354551314867118, 0.8406773042268704, 0.5202629875064501, 0.8173382044911877, 0.8374130874259647, 0.8329585987310963, 0.791168276168276, 0.8279125018961679, 0.7888299455751152, 0.8205077054592003, 0.8405297435759763, 0.8354169331788748, 0.8093181508063039, 0.8353990518338344, 0.8353646823957087, 0.8594612346639281, 0.826746745762631, 0.8285634467690615, 0.8157702213941496, 0.8237135926165967, 0.825403572364384, 0.7903975883271658, 0.8259754894665008, 0.8416353605691655, 0.8328828547486719, 0.40576016442373514]}, {\"categories\": [\"0\", \"1\", \"2\", \"3\", \"4\", \"5\", \"6\", \"7\", \"8\", \"9\", \"10\", \"11\", \"12\", \"13\", \"14\", \"15\", \"16\", \"17\", \"18\", \"19\", \"20\", \"21\", \"22\", \"23\", \"24\", \"25\", \"26\", \"27\", \"28\", \"29\", \"30\", \"31\", \"32\", \"33\", \"34\", \"35\", \"36\", \"37\", \"38\", \"39\", \"40\", \"41\", \"42\", \"43\", \"44\", \"45\", \"46\", \"47\", \"48\", \"49\", \"50\", \"51\", \"55\", \"56\"], \"mode\": \"lines\", \"name\": \"f1_score_macro_max\", \"stepped\": true, \"type\": \"scatter\", \"data\": [0.8133267085004603, 0.8219071152492285, 0.8219071152492285, 0.8219071152492285, 0.8219071152492285, 0.8256770066560769, 0.8256770066560769, 0.8256770066560769, 0.8256770066560769, 0.8256770066560769, 0.8256770066560769, 0.8256770066560769, 0.8256770066560769, 0.8256770066560769, 0.8256770066560769, 0.8256770066560769, 0.8256770066560769, 0.8256770066560769, 0.8256770066560769, 0.8256770066560769, 0.8256770066560769, 0.8256770066560769, 0.8303425977095493, 0.8303425977095493, 0.8303425977095493, 0.8303425977095493, 0.8303425977095493, 0.8303425977095493, 0.8354551314867118, 0.8406773042268704, 0.8406773042268704, 0.8406773042268704, 0.8406773042268704, 0.8406773042268704, 0.8406773042268704, 0.8406773042268704, 0.8406773042268704, 0.8406773042268704, 0.8406773042268704, 0.8406773042268704, 0.8406773042268704, 0.8406773042268704, 0.8406773042268704, 0.8594612346639281, 0.8594612346639281, 0.8594612346639281, 0.8594612346639281, 0.8594612346639281, 0.8594612346639281, 0.8594612346639281, 0.8594612346639281, 0.8594612346639281, 0.8594612346639281, 0.8594612346639281]}], \"recall_score_weighted\": [{\"categories\": [\"0\", \"1\", \"2\", \"3\", \"4\", \"5\", \"6\", \"7\", \"8\", \"9\", \"10\", \"11\", \"12\", \"13\", \"14\", \"15\", \"16\", \"17\", \"18\", \"19\", \"20\", \"21\", \"22\", \"23\", \"24\", \"25\", \"26\", \"27\", \"28\", \"29\", \"30\", \"31\", \"32\", \"33\", \"34\", \"35\", \"36\", \"37\", \"38\", \"39\", \"40\", \"41\", \"42\", \"43\", \"44\", \"45\", \"46\", \"47\", \"48\", \"49\", \"50\", \"51\", \"55\", \"56\"], \"mode\": \"markers\", \"name\": \"recall_score_weighted\", \"stepped\": false, \"type\": \"scatter\", \"data\": [0.8440476190476192, 0.8481292517006803, 0.8397959183673469, 0.819047619047619, 0.8318027210884352, 0.8683673469387754, 0.8355442176870749, 0.8560374149659864, 0.8066326530612244, 0.7944727891156462, 0.7779761904761905, 0.8354591836734695, 0.8356292517006804, 0.8356292517006804, 0.8110544217687075, 0.666921768707483, 0.79421768707483, 0.827295918367347, 0.8317176870748298, 0.8562074829931973, 0.8438775510204082, 0.8230442176870749, 0.860204081632653, 0.8559523809523808, 0.8355442176870748, 0.7942176870748299, 0.7822278911564626, 0.860204081632653, 0.8642857142857142, 0.868452380952381, 0.5767006802721089, 0.8480442176870747, 0.8683673469387756, 0.8643707482993197, 0.8273809523809523, 0.8642857142857142, 0.827295918367347, 0.8520408163265307, 0.8643707482993197, 0.8603741496598639, 0.8397959183673469, 0.8683673469387754, 0.8642857142857142, 0.8848639455782312, 0.8562925170068028, 0.860204081632653, 0.8521258503401359, 0.8562074829931973, 0.8560374149659864, 0.827295918367347, 0.8521258503401361, 0.868452380952381, 0.8642857142857142, 0.6875]}, {\"categories\": [\"0\", \"1\", \"2\", \"3\", \"4\", \"5\", \"6\", \"7\", \"8\", \"9\", \"10\", \"11\", \"12\", \"13\", \"14\", \"15\", \"16\", \"17\", \"18\", \"19\", \"20\", \"21\", \"22\", \"23\", \"24\", \"25\", \"26\", \"27\", \"28\", \"29\", \"30\", \"31\", \"32\", \"33\", \"34\", \"35\", \"36\", \"37\", \"38\", \"39\", \"40\", \"41\", \"42\", \"43\", \"44\", \"45\", \"46\", \"47\", \"48\", \"49\", \"50\", \"51\", \"55\", \"56\"], \"mode\": \"lines\", \"name\": \"recall_score_weighted_max\", \"stepped\": true, \"type\": \"scatter\", \"data\": [0.8440476190476192, 0.8481292517006803, 0.8481292517006803, 0.8481292517006803, 0.8481292517006803, 0.8683673469387754, 0.8683673469387754, 0.8683673469387754, 0.8683673469387754, 0.8683673469387754, 0.8683673469387754, 0.8683673469387754, 0.8683673469387754, 0.8683673469387754, 0.8683673469387754, 0.8683673469387754, 0.8683673469387754, 0.8683673469387754, 0.8683673469387754, 0.8683673469387754, 0.8683673469387754, 0.8683673469387754, 0.8683673469387754, 0.8683673469387754, 0.8683673469387754, 0.8683673469387754, 0.8683673469387754, 0.8683673469387754, 0.8683673469387754, 0.868452380952381, 0.868452380952381, 0.868452380952381, 0.868452380952381, 0.868452380952381, 0.868452380952381, 0.868452380952381, 0.868452380952381, 0.868452380952381, 0.868452380952381, 0.868452380952381, 0.868452380952381, 0.868452380952381, 0.868452380952381, 0.8848639455782312, 0.8848639455782312, 0.8848639455782312, 0.8848639455782312, 0.8848639455782312, 0.8848639455782312, 0.8848639455782312, 0.8848639455782312, 0.8848639455782312, 0.8848639455782312, 0.8848639455782312]}], \"recall_score_micro\": [{\"categories\": [\"0\", \"1\", \"2\", \"3\", \"4\", \"5\", \"6\", \"7\", \"8\", \"9\", \"10\", \"11\", \"12\", \"13\", \"14\", \"15\", \"16\", \"17\", \"18\", \"19\", \"20\", \"21\", \"22\", \"23\", \"24\", \"25\", \"26\", \"27\", \"28\", \"29\", \"30\", \"31\", \"32\", \"33\", \"34\", \"35\", \"36\", \"37\", \"38\", \"39\", \"40\", \"41\", \"42\", \"43\", \"44\", \"45\", \"46\", \"47\", \"48\", \"49\", \"50\", \"51\", \"55\", \"56\"], \"mode\": \"markers\", \"name\": \"recall_score_micro\", \"stepped\": false, \"type\": \"scatter\", \"data\": [0.8440476190476192, 0.8481292517006803, 0.8397959183673469, 0.819047619047619, 0.8318027210884352, 0.8683673469387754, 0.8355442176870749, 0.8560374149659864, 0.8066326530612244, 0.7944727891156462, 0.7779761904761905, 0.8354591836734695, 0.8356292517006804, 0.8356292517006804, 0.8110544217687075, 0.666921768707483, 0.79421768707483, 0.827295918367347, 0.8317176870748298, 0.8562074829931973, 0.8438775510204082, 0.8230442176870749, 0.860204081632653, 0.8559523809523808, 0.8355442176870748, 0.7942176870748299, 0.7822278911564626, 0.860204081632653, 0.8642857142857142, 0.868452380952381, 0.5767006802721089, 0.8480442176870747, 0.8683673469387756, 0.8643707482993197, 0.8273809523809523, 0.8642857142857142, 0.827295918367347, 0.8520408163265307, 0.8643707482993197, 0.8603741496598639, 0.8397959183673469, 0.8683673469387754, 0.8642857142857142, 0.8848639455782312, 0.8562925170068028, 0.860204081632653, 0.8521258503401359, 0.8562074829931973, 0.8560374149659864, 0.827295918367347, 0.8521258503401361, 0.868452380952381, 0.8642857142857142, 0.6875]}, {\"categories\": [\"0\", \"1\", \"2\", \"3\", \"4\", \"5\", \"6\", \"7\", \"8\", \"9\", \"10\", \"11\", \"12\", \"13\", \"14\", \"15\", \"16\", \"17\", \"18\", \"19\", \"20\", \"21\", \"22\", \"23\", \"24\", \"25\", \"26\", \"27\", \"28\", \"29\", \"30\", \"31\", \"32\", \"33\", \"34\", \"35\", \"36\", \"37\", \"38\", \"39\", \"40\", \"41\", \"42\", \"43\", \"44\", \"45\", \"46\", \"47\", \"48\", \"49\", \"50\", \"51\", \"55\", \"56\"], \"mode\": \"lines\", \"name\": \"recall_score_micro_max\", \"stepped\": true, \"type\": \"scatter\", \"data\": [0.8440476190476192, 0.8481292517006803, 0.8481292517006803, 0.8481292517006803, 0.8481292517006803, 0.8683673469387754, 0.8683673469387754, 0.8683673469387754, 0.8683673469387754, 0.8683673469387754, 0.8683673469387754, 0.8683673469387754, 0.8683673469387754, 0.8683673469387754, 0.8683673469387754, 0.8683673469387754, 0.8683673469387754, 0.8683673469387754, 0.8683673469387754, 0.8683673469387754, 0.8683673469387754, 0.8683673469387754, 0.8683673469387754, 0.8683673469387754, 0.8683673469387754, 0.8683673469387754, 0.8683673469387754, 0.8683673469387754, 0.8683673469387754, 0.868452380952381, 0.868452380952381, 0.868452380952381, 0.868452380952381, 0.868452380952381, 0.868452380952381, 0.868452380952381, 0.868452380952381, 0.868452380952381, 0.868452380952381, 0.868452380952381, 0.868452380952381, 0.868452380952381, 0.868452380952381, 0.8848639455782312, 0.8848639455782312, 0.8848639455782312, 0.8848639455782312, 0.8848639455782312, 0.8848639455782312, 0.8848639455782312, 0.8848639455782312, 0.8848639455782312, 0.8848639455782312, 0.8848639455782312]}], \"f1_score_weighted\": [{\"categories\": [\"0\", \"1\", \"2\", \"3\", \"4\", \"5\", \"6\", \"7\", \"8\", \"9\", \"10\", \"11\", \"12\", \"13\", \"14\", \"15\", \"16\", \"17\", \"18\", \"19\", \"20\", \"21\", \"22\", \"23\", \"24\", \"25\", \"26\", \"27\", \"28\", \"29\", \"30\", \"31\", \"32\", \"33\", \"34\", \"35\", \"36\", \"37\", \"38\", \"39\", \"40\", \"41\", \"42\", \"43\", \"44\", \"45\", \"46\", \"47\", \"48\", \"49\", \"50\", \"51\", \"55\", \"56\"], \"mode\": \"markers\", \"name\": \"f1_score_weighted\", \"stepped\": false, \"type\": \"scatter\", \"data\": [0.8427627168597362, 0.8489712985174368, 0.8393781472633659, 0.8020534247358319, 0.8333516466578634, 0.8648186828405962, 0.8328098582513906, 0.8507320538394652, 0.7876047709474028, 0.7763681473577118, 0.7478996197476484, 0.826907620722516, 0.8396055328737504, 0.8336878376007437, 0.8141938972579368, 0.6423775883979965, 0.76763582903285, 0.8282364295738827, 0.836669921156262, 0.8528583761974868, 0.8425390286689772, 0.8261369974964445, 0.8582380362737789, 0.8555289519705331, 0.8385940370922136, 0.7941088648504475, 0.7542260973231585, 0.8563979775321917, 0.8643529104812346, 0.8680956199832451, 0.5879040066329793, 0.8475876755081394, 0.8675093180492881, 0.8638903418720936, 0.8248275269703841, 0.8596971621351228, 0.8239475430657546, 0.8509012144263217, 0.864675741445782, 0.8604178378843752, 0.8398350547892548, 0.8667725419168779, 0.8636100572793314, 0.8832152011716697, 0.8557044836842392, 0.8584036532038164, 0.8502383473926317, 0.85528863586475, 0.8535270091258529, 0.825939633423968, 0.8533056289172396, 0.8672818325724716, 0.8626804536988016, 0.5634796711525297]}, {\"categories\": [\"0\", \"1\", \"2\", \"3\", \"4\", \"5\", \"6\", \"7\", \"8\", \"9\", \"10\", \"11\", \"12\", \"13\", \"14\", \"15\", \"16\", \"17\", \"18\", \"19\", \"20\", \"21\", \"22\", \"23\", \"24\", \"25\", \"26\", \"27\", \"28\", \"29\", \"30\", \"31\", \"32\", \"33\", \"34\", \"35\", \"36\", \"37\", \"38\", \"39\", \"40\", \"41\", \"42\", \"43\", \"44\", \"45\", \"46\", \"47\", \"48\", \"49\", \"50\", \"51\", \"55\", \"56\"], \"mode\": \"lines\", \"name\": \"f1_score_weighted_max\", \"stepped\": true, \"type\": \"scatter\", \"data\": [0.8427627168597362, 0.8489712985174368, 0.8489712985174368, 0.8489712985174368, 0.8489712985174368, 0.8648186828405962, 0.8648186828405962, 0.8648186828405962, 0.8648186828405962, 0.8648186828405962, 0.8648186828405962, 0.8648186828405962, 0.8648186828405962, 0.8648186828405962, 0.8648186828405962, 0.8648186828405962, 0.8648186828405962, 0.8648186828405962, 0.8648186828405962, 0.8648186828405962, 0.8648186828405962, 0.8648186828405962, 0.8648186828405962, 0.8648186828405962, 0.8648186828405962, 0.8648186828405962, 0.8648186828405962, 0.8648186828405962, 0.8648186828405962, 0.8680956199832451, 0.8680956199832451, 0.8680956199832451, 0.8680956199832451, 0.8680956199832451, 0.8680956199832451, 0.8680956199832451, 0.8680956199832451, 0.8680956199832451, 0.8680956199832451, 0.8680956199832451, 0.8680956199832451, 0.8680956199832451, 0.8680956199832451, 0.8832152011716697, 0.8832152011716697, 0.8832152011716697, 0.8832152011716697, 0.8832152011716697, 0.8832152011716697, 0.8832152011716697, 0.8832152011716697, 0.8832152011716697, 0.8832152011716697, 0.8832152011716697]}], \"average_precision_score_macro\": [{\"categories\": [\"0\", \"1\", \"2\", \"3\", \"4\", \"5\", \"6\", \"7\", \"8\", \"9\", \"10\", \"11\", \"12\", \"13\", \"14\", \"15\", \"16\", \"17\", \"18\", \"19\", \"20\", \"21\", \"22\", \"23\", \"24\", \"25\", \"26\", \"27\", \"28\", \"29\", \"30\", \"31\", \"32\", \"33\", \"34\", \"35\", \"36\", \"37\", \"38\", \"39\", \"40\", \"41\", \"42\", \"43\", \"44\", \"45\", \"46\", \"47\", \"48\", \"49\", \"50\", \"51\", \"55\", \"56\"], \"mode\": \"markers\", \"name\": \"average_precision_score_macro\", \"stepped\": false, \"type\": \"scatter\", \"data\": [0.9106229621691829, 0.8966622633467309, 0.9045927267681069, 0.9163014458644139, 0.8949213497140429, 0.8992480094544874, 0.9006273026260414, 0.9048741452442194, 0.8724412667702228, 0.7836984024313747, 0.894382918449822, 0.897564324813442, 0.9167609096353099, 0.8784954295430678, 0.8705443285764352, 0.6057484326567398, 0.8905307704489545, 0.8627501349668829, 0.8897832990180706, 0.90436264269905, 0.9204064626925931, 0.8708133449243565, 0.8755077763696166, 0.9012454011091593, 0.9140855176251893, 0.8364147260179955, 0.8921939578869857, 0.930670423344419, 0.9004277605497419, 0.9268076391615185, 0.544522943373231, 0.9265485120021605, 0.9238661038529787, 0.9054270673935264, 0.8844822756939033, 0.8909903781845365, 0.8633929913152901, 0.9105796525067976, 0.9275529663672817, 0.9292068748120661, 0.9252594456312643, 0.9097142847337812, 0.9246005414161689, 0.9302982257375148, 0.9141578551784777, 0.918526948682232, 0.9205347709458176, 0.9233421761956837, 0.9190205214262077, 0.8776237846965238, 0.9170778820975636, 0.9147566743321047, 0.9477751103963941, 0.945327061951103]}, {\"categories\": [\"0\", \"1\", \"2\", \"3\", \"4\", \"5\", \"6\", \"7\", \"8\", \"9\", \"10\", \"11\", \"12\", \"13\", \"14\", \"15\", \"16\", \"17\", \"18\", \"19\", \"20\", \"21\", \"22\", \"23\", \"24\", \"25\", \"26\", \"27\", \"28\", \"29\", \"30\", \"31\", \"32\", \"33\", \"34\", \"35\", \"36\", \"37\", \"38\", \"39\", \"40\", \"41\", \"42\", \"43\", \"44\", \"45\", \"46\", \"47\", \"48\", \"49\", \"50\", \"51\", \"55\", \"56\"], \"mode\": \"lines\", \"name\": \"average_precision_score_macro_max\", \"stepped\": true, \"type\": \"scatter\", \"data\": [0.9106229621691829, 0.9106229621691829, 0.9106229621691829, 0.9163014458644139, 0.9163014458644139, 0.9163014458644139, 0.9163014458644139, 0.9163014458644139, 0.9163014458644139, 0.9163014458644139, 0.9163014458644139, 0.9163014458644139, 0.9167609096353099, 0.9167609096353099, 0.9167609096353099, 0.9167609096353099, 0.9167609096353099, 0.9167609096353099, 0.9167609096353099, 0.9167609096353099, 0.9204064626925931, 0.9204064626925931, 0.9204064626925931, 0.9204064626925931, 0.9204064626925931, 0.9204064626925931, 0.9204064626925931, 0.930670423344419, 0.930670423344419, 0.930670423344419, 0.930670423344419, 0.930670423344419, 0.930670423344419, 0.930670423344419, 0.930670423344419, 0.930670423344419, 0.930670423344419, 0.930670423344419, 0.930670423344419, 0.930670423344419, 0.930670423344419, 0.930670423344419, 0.930670423344419, 0.930670423344419, 0.930670423344419, 0.930670423344419, 0.930670423344419, 0.930670423344419, 0.930670423344419, 0.930670423344419, 0.930670423344419, 0.930670423344419, 0.9477751103963941, 0.9477751103963941]}], \"precision_score_micro\": [{\"categories\": [\"0\", \"1\", \"2\", \"3\", \"4\", \"5\", \"6\", \"7\", \"8\", \"9\", \"10\", \"11\", \"12\", \"13\", \"14\", \"15\", \"16\", \"17\", \"18\", \"19\", \"20\", \"21\", \"22\", \"23\", \"24\", \"25\", \"26\", \"27\", \"28\", \"29\", \"30\", \"31\", \"32\", \"33\", \"34\", \"35\", \"36\", \"37\", \"38\", \"39\", \"40\", \"41\", \"42\", \"43\", \"44\", \"45\", \"46\", \"47\", \"48\", \"49\", \"50\", \"51\", \"55\", \"56\"], \"mode\": \"markers\", \"name\": \"precision_score_micro\", \"stepped\": false, \"type\": \"scatter\", \"data\": [0.8440476190476192, 0.8481292517006803, 0.8397959183673469, 0.819047619047619, 0.8318027210884352, 0.8683673469387754, 0.8355442176870749, 0.8560374149659864, 0.8066326530612244, 0.7944727891156462, 0.7779761904761905, 0.8354591836734695, 0.8356292517006804, 0.8356292517006804, 0.8110544217687075, 0.666921768707483, 0.79421768707483, 0.827295918367347, 0.8317176870748298, 0.8562074829931973, 0.8438775510204082, 0.8230442176870749, 0.860204081632653, 0.8559523809523808, 0.8355442176870748, 0.7942176870748299, 0.7822278911564626, 0.860204081632653, 0.8642857142857142, 0.868452380952381, 0.5767006802721089, 0.8480442176870747, 0.8683673469387756, 0.8643707482993197, 0.8273809523809523, 0.8642857142857142, 0.827295918367347, 0.8520408163265307, 0.8643707482993197, 0.8603741496598639, 0.8397959183673469, 0.8683673469387754, 0.8642857142857142, 0.8848639455782312, 0.8562925170068028, 0.860204081632653, 0.8521258503401359, 0.8562074829931973, 0.8560374149659864, 0.827295918367347, 0.8521258503401361, 0.868452380952381, 0.8642857142857142, 0.6875]}, {\"categories\": [\"0\", \"1\", \"2\", \"3\", \"4\", \"5\", \"6\", \"7\", \"8\", \"9\", \"10\", \"11\", \"12\", \"13\", \"14\", \"15\", \"16\", \"17\", \"18\", \"19\", \"20\", \"21\", \"22\", \"23\", \"24\", \"25\", \"26\", \"27\", \"28\", \"29\", \"30\", \"31\", \"32\", \"33\", \"34\", \"35\", \"36\", \"37\", \"38\", \"39\", \"40\", \"41\", \"42\", \"43\", \"44\", \"45\", \"46\", \"47\", \"48\", \"49\", \"50\", \"51\", \"55\", \"56\"], \"mode\": \"lines\", \"name\": \"precision_score_micro_max\", \"stepped\": true, \"type\": \"scatter\", \"data\": [0.8440476190476192, 0.8481292517006803, 0.8481292517006803, 0.8481292517006803, 0.8481292517006803, 0.8683673469387754, 0.8683673469387754, 0.8683673469387754, 0.8683673469387754, 0.8683673469387754, 0.8683673469387754, 0.8683673469387754, 0.8683673469387754, 0.8683673469387754, 0.8683673469387754, 0.8683673469387754, 0.8683673469387754, 0.8683673469387754, 0.8683673469387754, 0.8683673469387754, 0.8683673469387754, 0.8683673469387754, 0.8683673469387754, 0.8683673469387754, 0.8683673469387754, 0.8683673469387754, 0.8683673469387754, 0.8683673469387754, 0.8683673469387754, 0.868452380952381, 0.868452380952381, 0.868452380952381, 0.868452380952381, 0.868452380952381, 0.868452380952381, 0.868452380952381, 0.868452380952381, 0.868452380952381, 0.868452380952381, 0.868452380952381, 0.868452380952381, 0.868452380952381, 0.868452380952381, 0.8848639455782312, 0.8848639455782312, 0.8848639455782312, 0.8848639455782312, 0.8848639455782312, 0.8848639455782312, 0.8848639455782312, 0.8848639455782312, 0.8848639455782312, 0.8848639455782312, 0.8848639455782312]}], \"norm_macro_recall\": [{\"categories\": [\"0\", \"1\", \"2\", \"3\", \"4\", \"5\", \"6\", \"7\", \"8\", \"9\", \"10\", \"11\", \"12\", \"13\", \"14\", \"15\", \"16\", \"17\", \"18\", \"19\", \"20\", \"21\", \"22\", \"23\", \"24\", \"25\", \"26\", \"27\", \"28\", \"29\", \"30\", \"31\", \"32\", \"33\", \"34\", \"35\", \"36\", \"37\", \"38\", \"39\", \"40\", \"41\", \"42\", \"43\", \"44\", \"45\", \"46\", \"47\", \"48\", \"49\", \"50\", \"51\", \"55\", \"56\"], \"mode\": \"markers\", \"name\": \"norm_macro_recall\", \"stepped\": false, \"type\": \"scatter\", \"data\": [0.645960433386904, 0.6681405238022885, 0.6092269598887246, 0.4986624283683107, 0.6229458927253045, 0.6266248071395131, 0.5976183459271696, 0.611171461465579, 0.44090272347625287, 0.41590387899211423, 0.35604858251917076, 0.5396340283104989, 0.6716683163006693, 0.6002961100755219, 0.5745996788643847, 0.14079603101661925, 0.37009588053705705, 0.6255657940952059, 0.6516686843157432, 0.6309193870958577, 0.6278420702685409, 0.6063350819968468, 0.6552869184486833, 0.6512226963697552, 0.6369534008504597, 0.5330145458086635, 0.37051893985717516, 0.6244032071973248, 0.6816491455462044, 0.6846717357011476, 0.11357778232778233, 0.6402151158768806, 0.6705627094597683, 0.6649379155996804, 0.5912977935772054, 0.6296304799245975, 0.5726258616699793, 0.6465641834759481, 0.7021072393866511, 0.6901616399410516, 0.6379167994609171, 0.6598534167651815, 0.6676300390270977, 0.7075382339352927, 0.6561242067859714, 0.6503044138338255, 0.621617659411777, 0.6445788893583011, 0.6491928518399106, 0.5849441806059453, 0.680749824279236, 0.6893308266102384, 0.6603500054970642, 0.0]}, {\"categories\": [\"0\", \"1\", \"2\", \"3\", \"4\", \"5\", \"6\", \"7\", \"8\", \"9\", \"10\", \"11\", \"12\", \"13\", \"14\", \"15\", \"16\", \"17\", \"18\", \"19\", \"20\", \"21\", \"22\", \"23\", \"24\", \"25\", \"26\", \"27\", \"28\", \"29\", \"30\", \"31\", \"32\", \"33\", \"34\", \"35\", \"36\", \"37\", \"38\", \"39\", \"40\", \"41\", \"42\", \"43\", \"44\", \"45\", \"46\", \"47\", \"48\", \"49\", \"50\", \"51\", \"55\", \"56\"], \"mode\": \"lines\", \"name\": \"norm_macro_recall_max\", \"stepped\": true, \"type\": \"scatter\", \"data\": [0.645960433386904, 0.6681405238022885, 0.6681405238022885, 0.6681405238022885, 0.6681405238022885, 0.6681405238022885, 0.6681405238022885, 0.6681405238022885, 0.6681405238022885, 0.6681405238022885, 0.6681405238022885, 0.6681405238022885, 0.6716683163006693, 0.6716683163006693, 0.6716683163006693, 0.6716683163006693, 0.6716683163006693, 0.6716683163006693, 0.6716683163006693, 0.6716683163006693, 0.6716683163006693, 0.6716683163006693, 0.6716683163006693, 0.6716683163006693, 0.6716683163006693, 0.6716683163006693, 0.6716683163006693, 0.6716683163006693, 0.6816491455462044, 0.6846717357011476, 0.6846717357011476, 0.6846717357011476, 0.6846717357011476, 0.6846717357011476, 0.6846717357011476, 0.6846717357011476, 0.6846717357011476, 0.6846717357011476, 0.7021072393866511, 0.7021072393866511, 0.7021072393866511, 0.7021072393866511, 0.7021072393866511, 0.7075382339352927, 0.7075382339352927, 0.7075382339352927, 0.7075382339352927, 0.7075382339352927, 0.7075382339352927, 0.7075382339352927, 0.7075382339352927, 0.7075382339352927, 0.7075382339352927, 0.7075382339352927]}], \"f1_score_micro\": [{\"categories\": [\"0\", \"1\", \"2\", \"3\", \"4\", \"5\", \"6\", \"7\", \"8\", \"9\", \"10\", \"11\", \"12\", \"13\", \"14\", \"15\", \"16\", \"17\", \"18\", \"19\", \"20\", \"21\", \"22\", \"23\", \"24\", \"25\", \"26\", \"27\", \"28\", \"29\", \"30\", \"31\", \"32\", \"33\", \"34\", \"35\", \"36\", \"37\", \"38\", \"39\", \"40\", \"41\", \"42\", \"43\", \"44\", \"45\", \"46\", \"47\", \"48\", \"49\", \"50\", \"51\", \"55\", \"56\"], \"mode\": \"markers\", \"name\": \"f1_score_micro\", \"stepped\": false, \"type\": \"scatter\", \"data\": [0.8440476190476192, 0.8481292517006803, 0.8397959183673469, 0.819047619047619, 0.8318027210884352, 0.8683673469387754, 0.8355442176870749, 0.8560374149659864, 0.8066326530612244, 0.7944727891156462, 0.7779761904761904, 0.8354591836734693, 0.8356292517006804, 0.8356292517006804, 0.8110544217687075, 0.666921768707483, 0.7942176870748299, 0.827295918367347, 0.8317176870748298, 0.8562074829931973, 0.8438775510204082, 0.8230442176870749, 0.860204081632653, 0.8559523809523808, 0.8355442176870748, 0.7942176870748299, 0.7822278911564626, 0.860204081632653, 0.8642857142857142, 0.868452380952381, 0.5767006802721089, 0.8480442176870747, 0.8683673469387756, 0.8643707482993197, 0.8273809523809523, 0.8642857142857142, 0.827295918367347, 0.8520408163265307, 0.8643707482993197, 0.8603741496598639, 0.8397959183673469, 0.8683673469387754, 0.8642857142857142, 0.8848639455782312, 0.8562925170068028, 0.860204081632653, 0.8521258503401359, 0.8562074829931973, 0.8560374149659864, 0.827295918367347, 0.8521258503401361, 0.868452380952381, 0.8642857142857142, 0.6874999999999999]}, {\"categories\": [\"0\", \"1\", \"2\", \"3\", \"4\", \"5\", \"6\", \"7\", \"8\", \"9\", \"10\", \"11\", \"12\", \"13\", \"14\", \"15\", \"16\", \"17\", \"18\", \"19\", \"20\", \"21\", \"22\", \"23\", \"24\", \"25\", \"26\", \"27\", \"28\", \"29\", \"30\", \"31\", \"32\", \"33\", \"34\", \"35\", \"36\", \"37\", \"38\", \"39\", \"40\", \"41\", \"42\", \"43\", \"44\", \"45\", \"46\", \"47\", \"48\", \"49\", \"50\", \"51\", \"55\", \"56\"], \"mode\": \"lines\", \"name\": \"f1_score_micro_max\", \"stepped\": true, \"type\": \"scatter\", \"data\": [0.8440476190476192, 0.8481292517006803, 0.8481292517006803, 0.8481292517006803, 0.8481292517006803, 0.8683673469387754, 0.8683673469387754, 0.8683673469387754, 0.8683673469387754, 0.8683673469387754, 0.8683673469387754, 0.8683673469387754, 0.8683673469387754, 0.8683673469387754, 0.8683673469387754, 0.8683673469387754, 0.8683673469387754, 0.8683673469387754, 0.8683673469387754, 0.8683673469387754, 0.8683673469387754, 0.8683673469387754, 0.8683673469387754, 0.8683673469387754, 0.8683673469387754, 0.8683673469387754, 0.8683673469387754, 0.8683673469387754, 0.8683673469387754, 0.868452380952381, 0.868452380952381, 0.868452380952381, 0.868452380952381, 0.868452380952381, 0.868452380952381, 0.868452380952381, 0.868452380952381, 0.868452380952381, 0.868452380952381, 0.868452380952381, 0.868452380952381, 0.868452380952381, 0.868452380952381, 0.8848639455782312, 0.8848639455782312, 0.8848639455782312, 0.8848639455782312, 0.8848639455782312, 0.8848639455782312, 0.8848639455782312, 0.8848639455782312, 0.8848639455782312, 0.8848639455782312, 0.8848639455782312]}]}, \"metricName\": null, \"primaryMetricName\": \"AUC_weighted\", \"showLegend\": false}, \"run_metrics\": [{\"name\": \"experiment_status\", \"run_id\": \"AutoML_a0d5d70d-4760-46bd-9c0f-a0b8bc381771\", \"categories\": [0, 1, 2, 3, 4, 5, 6, 7, 8, 9, 10, 11, 12, 13], \"series\": [{\"data\": [\"DatasetEvaluation\", \"FeaturesGeneration\", \"DatasetFeaturization\", \"DatasetFeaturizationCompleted\", \"DatasetCrossValidationSplit\", \"ModelSelection\", \"BestRunExplainModel\", \"ModelExplanationDataSetSetup\", \"PickSurrogateModel\", \"EngineeredFeatureExplanations\", \"EngineeredFeatureExplanations\", \"RawFeaturesExplanations\", \"RawFeaturesExplanations\", \"BestRunExplainModel\"]}]}, {\"name\": \"experiment_status_description\", \"run_id\": \"AutoML_a0d5d70d-4760-46bd-9c0f-a0b8bc381771\", \"categories\": [0, 1, 2, 3, 4, 5, 6, 7, 8, 9, 10, 11, 12, 13], \"series\": [{\"data\": [\"Gathering dataset statistics.\", \"Generating features for the dataset.\", \"Beginning to fit featurizers and featurize the dataset.\", \"Completed fit featurizers and featurizing the dataset.\", \"Generating individually featurized CV splits.\", \"Beginning model selection.\", \"Best run model explanations started\", \"Model explanations data setup completed\", \"Choosing LightGBM as the surrogate model for explanations\", \"Computation of engineered features started\", \"Computation of engineered features completed\", \"Computation of raw features started\", \"Computation of raw features completed\", \"Best run model explanations completed\"]}]}, {\"name\": \"recall_score_macro\", \"run_id\": \"AutoML_a0d5d70d-4760-46bd-9c0f-a0b8bc381771\", \"categories\": [0], \"series\": [{\"data\": [0.8301750027485323]}]}, {\"name\": \"balanced_accuracy\", \"run_id\": \"AutoML_a0d5d70d-4760-46bd-9c0f-a0b8bc381771\", \"categories\": [0], \"series\": [{\"data\": [0.8301750027485323]}]}, {\"name\": \"f1_score_micro\", \"run_id\": \"AutoML_a0d5d70d-4760-46bd-9c0f-a0b8bc381771\", \"categories\": [0], \"series\": [{\"data\": [0.8642857142857142]}]}, {\"name\": \"AUC_weighted\", \"run_id\": \"AutoML_a0d5d70d-4760-46bd-9c0f-a0b8bc381771\", \"categories\": [0], \"series\": [{\"data\": [0.957100185882355]}]}, {\"name\": \"norm_macro_recall\", \"run_id\": \"AutoML_a0d5d70d-4760-46bd-9c0f-a0b8bc381771\", \"categories\": [0], \"series\": [{\"data\": [0.6603500054970642]}]}, {\"name\": \"log_loss\", \"run_id\": \"AutoML_a0d5d70d-4760-46bd-9c0f-a0b8bc381771\", \"categories\": [0], \"series\": [{\"data\": [0.32092392486200255]}]}, {\"name\": \"matthews_correlation\", \"run_id\": \"AutoML_a0d5d70d-4760-46bd-9c0f-a0b8bc381771\", \"categories\": [0], \"series\": [{\"data\": [0.6766057678182074]}]}, {\"name\": \"precision_score_macro\", \"run_id\": \"AutoML_a0d5d70d-4760-46bd-9c0f-a0b8bc381771\", \"categories\": [0], \"series\": [{\"data\": [0.8480435359272871]}]}, {\"name\": \"precision_score_weighted\", \"run_id\": \"AutoML_a0d5d70d-4760-46bd-9c0f-a0b8bc381771\", \"categories\": [0], \"series\": [{\"data\": [0.8704366892720425]}]}, {\"name\": \"f1_score_weighted\", \"run_id\": \"AutoML_a0d5d70d-4760-46bd-9c0f-a0b8bc381771\", \"categories\": [0], \"series\": [{\"data\": [0.8626804536988016]}]}, {\"name\": \"AUC_macro\", \"run_id\": \"AutoML_a0d5d70d-4760-46bd-9c0f-a0b8bc381771\", \"categories\": [0], \"series\": [{\"data\": [0.957100185882355]}]}, {\"name\": \"recall_score_micro\", \"run_id\": \"AutoML_a0d5d70d-4760-46bd-9c0f-a0b8bc381771\", \"categories\": [0], \"series\": [{\"data\": [0.8642857142857142]}]}, {\"name\": \"f1_score_macro\", \"run_id\": \"AutoML_a0d5d70d-4760-46bd-9c0f-a0b8bc381771\", \"categories\": [0], \"series\": [{\"data\": [0.8328828547486719]}]}, {\"name\": \"average_precision_score_micro\", \"run_id\": \"AutoML_a0d5d70d-4760-46bd-9c0f-a0b8bc381771\", \"categories\": [0], \"series\": [{\"data\": [0.9530286346479826]}]}, {\"name\": \"recall_score_weighted\", \"run_id\": \"AutoML_a0d5d70d-4760-46bd-9c0f-a0b8bc381771\", \"categories\": [0], \"series\": [{\"data\": [0.8642857142857142]}]}, {\"name\": \"average_precision_score_weighted\", \"run_id\": \"AutoML_a0d5d70d-4760-46bd-9c0f-a0b8bc381771\", \"categories\": [0], \"series\": [{\"data\": [0.9621181406359242]}]}, {\"name\": \"weighted_accuracy\", \"run_id\": \"AutoML_a0d5d70d-4760-46bd-9c0f-a0b8bc381771\", \"categories\": [0], \"series\": [{\"data\": [0.8877210373726012]}]}, {\"name\": \"average_precision_score_macro\", \"run_id\": \"AutoML_a0d5d70d-4760-46bd-9c0f-a0b8bc381771\", \"categories\": [0], \"series\": [{\"data\": [0.9477751103963941]}]}, {\"name\": \"precision_score_micro\", \"run_id\": \"AutoML_a0d5d70d-4760-46bd-9c0f-a0b8bc381771\", \"categories\": [0], \"series\": [{\"data\": [0.8642857142857142]}]}, {\"name\": \"accuracy\", \"run_id\": \"AutoML_a0d5d70d-4760-46bd-9c0f-a0b8bc381771\", \"categories\": [0], \"series\": [{\"data\": [0.8642857142857142]}]}, {\"name\": \"AUC_micro\", \"run_id\": \"AutoML_a0d5d70d-4760-46bd-9c0f-a0b8bc381771\", \"categories\": [0], \"series\": [{\"data\": [0.9495973899763988]}]}], \"run_logs\": \"\\nRun is completed.\", \"graph\": {}, \"widget_settings\": {\"childWidgetDisplay\": \"popup\", \"send_telemetry\": false, \"log_level\": \"INFO\", \"sdk_version\": \"1.24.0\"}, \"loading\": false}"
          },
          "metadata": {}
        }
      ],
      "execution_count": 10,
      "metadata": {
        "collapsed": true,
        "jupyter": {
          "source_hidden": false,
          "outputs_hidden": false
        },
        "nteract": {
          "transient": {
            "deleting": false
          }
        },
        "gather": {
          "logged": 1617703862041
        }
      }
    },
    {
      "cell_type": "code",
      "source": [
        "remote_run.wait_for_completion()"
      ],
      "outputs": [
        {
          "output_type": "execute_result",
          "execution_count": 11,
          "data": {
            "text/plain": "{'runId': 'AutoML_a0d5d70d-4760-46bd-9c0f-a0b8bc381771',\n 'target': 'cpu-cluster',\n 'status': 'Completed',\n 'startTimeUtc': '2021-04-06T09:36:50.014434Z',\n 'endTimeUtc': '2021-04-06T10:05:36.769567Z',\n 'properties': {'num_iterations': '1000',\n  'training_type': 'TrainFull',\n  'acquisition_function': 'EI',\n  'primary_metric': 'AUC_weighted',\n  'train_split': '0',\n  'acquisition_parameter': '0',\n  'num_cross_validation': '5',\n  'target': 'cpu-cluster',\n  'AMLSettingsJsonString': '{\"path\":null,\"name\":\"automl-exp\",\"subscription_id\":\"9b72f9e6-56c5-4c16-991b-19c652994860\",\"resource_group\":\"aml-quickstarts-142075\",\"workspace_name\":\"quick-starts-ws-142075\",\"region\":\"southcentralus\",\"compute_target\":\"cpu-cluster\",\"spark_service\":null,\"azure_service\":\"remote\",\"many_models\":false,\"pipeline_fetch_max_batch_size\":1,\"enable_batch_run\":false,\"iterations\":1000,\"primary_metric\":\"AUC_weighted\",\"task_type\":\"classification\",\"data_script\":null,\"validation_size\":0.0,\"n_cross_validations\":5,\"y_min\":null,\"y_max\":null,\"num_classes\":null,\"featurization\":\"auto\",\"_ignore_package_version_incompatibilities\":false,\"is_timeseries\":false,\"max_cores_per_iteration\":1,\"max_concurrent_iterations\":4,\"iteration_timeout_minutes\":null,\"mem_in_mb\":null,\"enforce_time_on_windows\":false,\"experiment_timeout_minutes\":20,\"experiment_exit_score\":null,\"whitelist_models\":null,\"blacklist_algos\":[\"TensorFlowLinearClassifier\",\"TensorFlowDNN\"],\"supported_models\":[\"MultinomialNaiveBayes\",\"LogisticRegression\",\"ExtremeRandomTrees\",\"GradientBoosting\",\"XGBoostClassifier\",\"DecisionTree\",\"RandomForest\",\"AveragedPerceptronClassifier\",\"BernoulliNaiveBayes\",\"TensorFlowLinearClassifier\",\"SVM\",\"KNN\",\"LinearSVM\",\"TensorFlowDNN\",\"SGD\",\"LightGBM\"],\"private_models\":[],\"auto_blacklist\":true,\"blacklist_samples_reached\":false,\"exclude_nan_labels\":true,\"verbosity\":20,\"_debug_log\":\"azureml_automl.log\",\"show_warnings\":false,\"model_explainability\":true,\"service_url\":null,\"sdk_url\":null,\"sdk_packages\":null,\"enable_onnx_compatible_models\":false,\"enable_split_onnx_featurizer_estimator_models\":false,\"vm_type\":\"STANDARD_D12_V2\",\"telemetry_verbosity\":20,\"send_telemetry\":true,\"enable_dnn\":false,\"scenario\":\"SDK-1.13.0\",\"environment_label\":null,\"save_mlflow\":false,\"force_text_dnn\":false,\"enable_feature_sweeping\":true,\"enable_early_stopping\":true,\"early_stopping_n_iters\":10,\"metrics\":null,\"enable_metric_confidence\":false,\"enable_ensembling\":true,\"enable_stack_ensembling\":true,\"ensemble_iterations\":15,\"enable_tf\":false,\"enable_subsampling\":null,\"subsample_seed\":null,\"enable_nimbusml\":false,\"enable_streaming\":false,\"force_streaming\":false,\"track_child_runs\":true,\"allowed_private_models\":[],\"label_column_name\":\"DEATH_EVENT\",\"weight_column_name\":null,\"cv_split_column_names\":null,\"enable_local_managed\":false,\"_local_managed_run_id\":null,\"cost_mode\":1,\"lag_length\":0,\"metric_operation\":\"maximize\",\"preprocess\":true}',\n  'DataPrepJsonString': '{\\\\\"training_data\\\\\": \\\\\"{\\\\\\\\\\\\\"blocks\\\\\\\\\\\\\": [{\\\\\\\\\\\\\"id\\\\\\\\\\\\\": \\\\\\\\\\\\\"e0e5047b-7382-4788-a6a5-12b8e76e18e3\\\\\\\\\\\\\", \\\\\\\\\\\\\"type\\\\\\\\\\\\\": \\\\\\\\\\\\\"Microsoft.DPrep.GetDatastoreFilesBlock\\\\\\\\\\\\\", \\\\\\\\\\\\\"arguments\\\\\\\\\\\\\": {\\\\\\\\\\\\\"datastores\\\\\\\\\\\\\": [{\\\\\\\\\\\\\"datastoreName\\\\\\\\\\\\\": \\\\\\\\\\\\\"workspaceblobstore\\\\\\\\\\\\\", \\\\\\\\\\\\\"path\\\\\\\\\\\\\": \\\\\\\\\\\\\"UI/04-06-2021_085517_UTC/heart_failure_clinical_records_dataset.csv\\\\\\\\\\\\\", \\\\\\\\\\\\\"resourceGroup\\\\\\\\\\\\\": \\\\\\\\\\\\\"aml-quickstarts-142075\\\\\\\\\\\\\", \\\\\\\\\\\\\"subscription\\\\\\\\\\\\\": \\\\\\\\\\\\\"9b72f9e6-56c5-4c16-991b-19c652994860\\\\\\\\\\\\\", \\\\\\\\\\\\\"workspaceName\\\\\\\\\\\\\": \\\\\\\\\\\\\"quick-starts-ws-142075\\\\\\\\\\\\\"}]}, \\\\\\\\\\\\\"localData\\\\\\\\\\\\\": {}, \\\\\\\\\\\\\"isEnabled\\\\\\\\\\\\\": true, \\\\\\\\\\\\\"name\\\\\\\\\\\\\": null, \\\\\\\\\\\\\"annotation\\\\\\\\\\\\\": null}, {\\\\\\\\\\\\\"id\\\\\\\\\\\\\": \\\\\\\\\\\\\"b8ac4c7f-6c51-447d-bc1d-ad961853eed5\\\\\\\\\\\\\", \\\\\\\\\\\\\"type\\\\\\\\\\\\\": \\\\\\\\\\\\\"Microsoft.DPrep.ParseDelimitedBlock\\\\\\\\\\\\\", \\\\\\\\\\\\\"arguments\\\\\\\\\\\\\": {\\\\\\\\\\\\\"columnHeadersMode\\\\\\\\\\\\\": 1, \\\\\\\\\\\\\"fileEncoding\\\\\\\\\\\\\": 0, \\\\\\\\\\\\\"handleQuotedLineBreaks\\\\\\\\\\\\\": false, \\\\\\\\\\\\\"preview\\\\\\\\\\\\\": false, \\\\\\\\\\\\\"separator\\\\\\\\\\\\\": \\\\\\\\\\\\\",\\\\\\\\\\\\\", \\\\\\\\\\\\\"skipRows\\\\\\\\\\\\\": 0, \\\\\\\\\\\\\"skipRowsMode\\\\\\\\\\\\\": 0}, \\\\\\\\\\\\\"localData\\\\\\\\\\\\\": {}, \\\\\\\\\\\\\"isEnabled\\\\\\\\\\\\\": true, \\\\\\\\\\\\\"name\\\\\\\\\\\\\": null, \\\\\\\\\\\\\"annotation\\\\\\\\\\\\\": null}, {\\\\\\\\\\\\\"id\\\\\\\\\\\\\": \\\\\\\\\\\\\"54f8a637-2dfa-42dd-ba8a-c96db7074b2d\\\\\\\\\\\\\", \\\\\\\\\\\\\"type\\\\\\\\\\\\\": \\\\\\\\\\\\\"Microsoft.DPrep.DropColumnsBlock\\\\\\\\\\\\\", \\\\\\\\\\\\\"arguments\\\\\\\\\\\\\": {\\\\\\\\\\\\\"columns\\\\\\\\\\\\\": {\\\\\\\\\\\\\"type\\\\\\\\\\\\\": 0, \\\\\\\\\\\\\"details\\\\\\\\\\\\\": {\\\\\\\\\\\\\"selectedColumns\\\\\\\\\\\\\": [\\\\\\\\\\\\\"Path\\\\\\\\\\\\\"]}}}, \\\\\\\\\\\\\"localData\\\\\\\\\\\\\": {}, \\\\\\\\\\\\\"isEnabled\\\\\\\\\\\\\": true, \\\\\\\\\\\\\"name\\\\\\\\\\\\\": null, \\\\\\\\\\\\\"annotation\\\\\\\\\\\\\": null}, {\\\\\\\\\\\\\"id\\\\\\\\\\\\\": \\\\\\\\\\\\\"8d37770f-a8c9-4e38-8db3-33c35c43b842\\\\\\\\\\\\\", \\\\\\\\\\\\\"type\\\\\\\\\\\\\": \\\\\\\\\\\\\"Microsoft.DPrep.SetColumnTypesBlock\\\\\\\\\\\\\", \\\\\\\\\\\\\"arguments\\\\\\\\\\\\\": {\\\\\\\\\\\\\"columnConversion\\\\\\\\\\\\\": [{\\\\\\\\\\\\\"column\\\\\\\\\\\\\": {\\\\\\\\\\\\\"type\\\\\\\\\\\\\": 2, \\\\\\\\\\\\\"details\\\\\\\\\\\\\": {\\\\\\\\\\\\\"selectedColumn\\\\\\\\\\\\\": \\\\\\\\\\\\\"Path\\\\\\\\\\\\\"}}, \\\\\\\\\\\\\"typeProperty\\\\\\\\\\\\\": 0}, {\\\\\\\\\\\\\"column\\\\\\\\\\\\\": {\\\\\\\\\\\\\"type\\\\\\\\\\\\\": 2, \\\\\\\\\\\\\"details\\\\\\\\\\\\\": {\\\\\\\\\\\\\"selectedColumn\\\\\\\\\\\\\": \\\\\\\\\\\\\"age\\\\\\\\\\\\\"}}, \\\\\\\\\\\\\"typeProperty\\\\\\\\\\\\\": 3}, {\\\\\\\\\\\\\"column\\\\\\\\\\\\\": {\\\\\\\\\\\\\"type\\\\\\\\\\\\\": 2, \\\\\\\\\\\\\"details\\\\\\\\\\\\\": {\\\\\\\\\\\\\"selectedColumn\\\\\\\\\\\\\": \\\\\\\\\\\\\"anaemia\\\\\\\\\\\\\"}}, \\\\\\\\\\\\\"typeProperty\\\\\\\\\\\\\": 2}, {\\\\\\\\\\\\\"column\\\\\\\\\\\\\": {\\\\\\\\\\\\\"type\\\\\\\\\\\\\": 2, \\\\\\\\\\\\\"details\\\\\\\\\\\\\": {\\\\\\\\\\\\\"selectedColumn\\\\\\\\\\\\\": \\\\\\\\\\\\\"creatinine_phosphokinase\\\\\\\\\\\\\"}}, \\\\\\\\\\\\\"typeProperty\\\\\\\\\\\\\": 2}, {\\\\\\\\\\\\\"column\\\\\\\\\\\\\": {\\\\\\\\\\\\\"type\\\\\\\\\\\\\": 2, \\\\\\\\\\\\\"details\\\\\\\\\\\\\": {\\\\\\\\\\\\\"selectedColumn\\\\\\\\\\\\\": \\\\\\\\\\\\\"diabetes\\\\\\\\\\\\\"}}, \\\\\\\\\\\\\"typeProperty\\\\\\\\\\\\\": 2}, {\\\\\\\\\\\\\"column\\\\\\\\\\\\\": {\\\\\\\\\\\\\"type\\\\\\\\\\\\\": 2, \\\\\\\\\\\\\"details\\\\\\\\\\\\\": {\\\\\\\\\\\\\"selectedColumn\\\\\\\\\\\\\": \\\\\\\\\\\\\"ejection_fraction\\\\\\\\\\\\\"}}, \\\\\\\\\\\\\"typeProperty\\\\\\\\\\\\\": 2}, {\\\\\\\\\\\\\"column\\\\\\\\\\\\\": {\\\\\\\\\\\\\"type\\\\\\\\\\\\\": 2, \\\\\\\\\\\\\"details\\\\\\\\\\\\\": {\\\\\\\\\\\\\"selectedColumn\\\\\\\\\\\\\": \\\\\\\\\\\\\"high_blood_pressure\\\\\\\\\\\\\"}}, \\\\\\\\\\\\\"typeProperty\\\\\\\\\\\\\": 2}, {\\\\\\\\\\\\\"column\\\\\\\\\\\\\": {\\\\\\\\\\\\\"type\\\\\\\\\\\\\": 2, \\\\\\\\\\\\\"details\\\\\\\\\\\\\": {\\\\\\\\\\\\\"selectedColumn\\\\\\\\\\\\\": \\\\\\\\\\\\\"platelets\\\\\\\\\\\\\"}}, \\\\\\\\\\\\\"typeProperty\\\\\\\\\\\\\": 3}, {\\\\\\\\\\\\\"column\\\\\\\\\\\\\": {\\\\\\\\\\\\\"type\\\\\\\\\\\\\": 2, \\\\\\\\\\\\\"details\\\\\\\\\\\\\": {\\\\\\\\\\\\\"selectedColumn\\\\\\\\\\\\\": \\\\\\\\\\\\\"serum_creatinine\\\\\\\\\\\\\"}}, \\\\\\\\\\\\\"typeProperty\\\\\\\\\\\\\": 3}, {\\\\\\\\\\\\\"column\\\\\\\\\\\\\": {\\\\\\\\\\\\\"type\\\\\\\\\\\\\": 2, \\\\\\\\\\\\\"details\\\\\\\\\\\\\": {\\\\\\\\\\\\\"selectedColumn\\\\\\\\\\\\\": \\\\\\\\\\\\\"serum_sodium\\\\\\\\\\\\\"}}, \\\\\\\\\\\\\"typeProperty\\\\\\\\\\\\\": 2}, {\\\\\\\\\\\\\"column\\\\\\\\\\\\\": {\\\\\\\\\\\\\"type\\\\\\\\\\\\\": 2, \\\\\\\\\\\\\"details\\\\\\\\\\\\\": {\\\\\\\\\\\\\"selectedColumn\\\\\\\\\\\\\": \\\\\\\\\\\\\"sex\\\\\\\\\\\\\"}}, \\\\\\\\\\\\\"typeProperty\\\\\\\\\\\\\": 2}, {\\\\\\\\\\\\\"column\\\\\\\\\\\\\": {\\\\\\\\\\\\\"type\\\\\\\\\\\\\": 2, \\\\\\\\\\\\\"details\\\\\\\\\\\\\": {\\\\\\\\\\\\\"selectedColumn\\\\\\\\\\\\\": \\\\\\\\\\\\\"smoking\\\\\\\\\\\\\"}}, \\\\\\\\\\\\\"typeProperty\\\\\\\\\\\\\": 2}, {\\\\\\\\\\\\\"column\\\\\\\\\\\\\": {\\\\\\\\\\\\\"type\\\\\\\\\\\\\": 2, \\\\\\\\\\\\\"details\\\\\\\\\\\\\": {\\\\\\\\\\\\\"selectedColumn\\\\\\\\\\\\\": \\\\\\\\\\\\\"time\\\\\\\\\\\\\"}}, \\\\\\\\\\\\\"typeProperty\\\\\\\\\\\\\": 2}, {\\\\\\\\\\\\\"column\\\\\\\\\\\\\": {\\\\\\\\\\\\\"type\\\\\\\\\\\\\": 2, \\\\\\\\\\\\\"details\\\\\\\\\\\\\": {\\\\\\\\\\\\\"selectedColumn\\\\\\\\\\\\\": \\\\\\\\\\\\\"DEATH_EVENT\\\\\\\\\\\\\"}}, \\\\\\\\\\\\\"typeProperty\\\\\\\\\\\\\": 2}]}, \\\\\\\\\\\\\"localData\\\\\\\\\\\\\": {}, \\\\\\\\\\\\\"isEnabled\\\\\\\\\\\\\": true, \\\\\\\\\\\\\"name\\\\\\\\\\\\\": null, \\\\\\\\\\\\\"annotation\\\\\\\\\\\\\": null}, {\\\\\\\\\\\\\"id\\\\\\\\\\\\\": \\\\\\\\\\\\\"e28d818a-d662-4cdd-91c7-ab2e13fe34d1\\\\\\\\\\\\\", \\\\\\\\\\\\\"type\\\\\\\\\\\\\": \\\\\\\\\\\\\"Microsoft.DPrep.TakeSampleBlock\\\\\\\\\\\\\", \\\\\\\\\\\\\"arguments\\\\\\\\\\\\\": {\\\\\\\\\\\\\"probability\\\\\\\\\\\\\": 0.8, \\\\\\\\\\\\\"probabilityLowerBound\\\\\\\\\\\\\": 0.0, \\\\\\\\\\\\\"seed\\\\\\\\\\\\\": 448792761}, \\\\\\\\\\\\\"localData\\\\\\\\\\\\\": {}, \\\\\\\\\\\\\"isEnabled\\\\\\\\\\\\\": true, \\\\\\\\\\\\\"name\\\\\\\\\\\\\": null, \\\\\\\\\\\\\"annotation\\\\\\\\\\\\\": null}], \\\\\\\\\\\\\"inspectors\\\\\\\\\\\\\": [], \\\\\\\\\\\\\"meta\\\\\\\\\\\\\": {\\\\\\\\\\\\\"savedDatasetId\\\\\\\\\\\\\": \\\\\\\\\\\\\"c646cd3d-8185-4175-8114-720009e61d66\\\\\\\\\\\\\", \\\\\\\\\\\\\"datasetType\\\\\\\\\\\\\": \\\\\\\\\\\\\"tabular\\\\\\\\\\\\\", \\\\\\\\\\\\\"subscriptionId\\\\\\\\\\\\\": \\\\\\\\\\\\\"9b72f9e6-56c5-4c16-991b-19c652994860\\\\\\\\\\\\\", \\\\\\\\\\\\\"workspaceId\\\\\\\\\\\\\": \\\\\\\\\\\\\"68be7b57-3873-4f7f-b3e0-bb30f117e477\\\\\\\\\\\\\", \\\\\\\\\\\\\"workspaceLocation\\\\\\\\\\\\\": \\\\\\\\\\\\\"southcentralus\\\\\\\\\\\\\", \\\\\\\\\\\\\"partition_keys\\\\\\\\\\\\\": \\\\\\\\\\\\\"true\\\\\\\\\\\\\"}}\\\\\", \\\\\"activities\\\\\": 0}',\n  'EnableSubsampling': None,\n  'runTemplate': 'AutoML',\n  'azureml.runsource': 'automl',\n  'display_task_type': 'classification',\n  'dependencies_versions': '{\"azureml-widgets\": \"1.24.0\", \"azureml-train\": \"1.24.0\", \"azureml-train-restclients-hyperdrive\": \"1.24.0\", \"azureml-train-core\": \"1.24.0\", \"azureml-train-automl\": \"1.24.0\", \"azureml-train-automl-runtime\": \"1.24.0\", \"azureml-train-automl-client\": \"1.24.0\", \"azureml-tensorboard\": \"1.24.0\", \"azureml-telemetry\": \"1.24.0\", \"azureml-sdk\": \"1.24.0\", \"azureml-samples\": \"0+unknown\", \"azureml-pipeline\": \"1.24.0\", \"azureml-pipeline-steps\": \"1.24.0\", \"azureml-pipeline-core\": \"1.24.0\", \"azureml-opendatasets\": \"1.24.0\", \"azureml-model-management-sdk\": \"1.0.1b6.post1\", \"azureml-mlflow\": \"1.24.0\", \"azureml-interpret\": \"1.24.0\", \"azureml-explain-model\": \"1.24.0\", \"azureml-defaults\": \"1.24.0\", \"azureml-dataset-runtime\": \"1.24.0\", \"azureml-dataprep\": \"2.11.1\", \"azureml-dataprep-rslex\": \"1.9.0\", \"azureml-dataprep-native\": \"30.0.0\", \"azureml-datadrift\": \"1.24.0\", \"azureml-core\": \"1.24.0\", \"azureml-contrib-services\": \"1.24.0\", \"azureml-contrib-server\": \"1.24.0\", \"azureml-contrib-reinforcementlearning\": \"1.24.0\", \"azureml-contrib-pipeline-steps\": \"1.24.0\", \"azureml-contrib-notebook\": \"1.24.0\", \"azureml-contrib-gbdt\": \"1.24.0\", \"azureml-contrib-fairness\": \"1.24.0\", \"azureml-contrib-dataset\": \"1.24.0\", \"azureml-cli-common\": \"1.24.0\", \"azureml-automl-runtime\": \"1.24.0\", \"azureml-automl-dnn-nlp\": \"1.24.0\", \"azureml-automl-core\": \"1.24.0\", \"azureml-accel-models\": \"1.24.0\"}',\n  '_aml_system_scenario_identification': 'Remote.Parent',\n  'ClientType': 'SDK',\n  'environment_cpu_name': 'AzureML-AutoML',\n  'environment_cpu_label': 'prod',\n  'environment_gpu_name': 'AzureML-AutoML-GPU',\n  'environment_gpu_label': 'prod',\n  'root_attribution': 'automl',\n  'attribution': 'AutoML',\n  'Orchestrator': 'AutoML',\n  'CancelUri': 'https://southcentralus.experiments.azureml.net/jasmine/v1.0/subscriptions/9b72f9e6-56c5-4c16-991b-19c652994860/resourceGroups/aml-quickstarts-142075/providers/Microsoft.MachineLearningServices/workspaces/quick-starts-ws-142075/experimentids/e1546892-9772-4df3-b036-ce8cae57b934/cancel/AutoML_a0d5d70d-4760-46bd-9c0f-a0b8bc381771',\n  'ClientSdkVersion': '1.24.0',\n  'snapshotId': '00000000-0000-0000-0000-000000000000',\n  'SetupRunId': 'AutoML_a0d5d70d-4760-46bd-9c0f-a0b8bc381771_setup',\n  'SetupRunContainerId': 'dcid.AutoML_a0d5d70d-4760-46bd-9c0f-a0b8bc381771_setup',\n  'FeaturizationRunJsonPath': 'featurizer_container.json',\n  'FeaturizationRunId': 'AutoML_a0d5d70d-4760-46bd-9c0f-a0b8bc381771_featurize',\n  'ProblemInfoJsonString': '{\"dataset_num_categorical\": 0, \"is_sparse\": false, \"subsampling\": false, \"dataset_classes\": 2, \"dataset_features\": 12, \"dataset_samples\": 243, \"single_frequency_class_detected\": false}',\n  'ModelExplainRunId': 'AutoML_a0d5d70d-4760-46bd-9c0f-a0b8bc381771_ModelExplain'},\n 'inputDatasets': [{'dataset': {'id': 'c646cd3d-8185-4175-8114-720009e61d66'}, 'consumptionDetails': {'type': 'RunInput', 'inputName': 'training_data', 'mechanism': 'Direct'}}],\n 'outputDatasets': [],\n 'logFiles': {},\n 'submittedBy': 'ODL_User 142075'}"
          },
          "metadata": {}
        }
      ],
      "execution_count": 11,
      "metadata": {
        "gather": {
          "logged": 1617703870324
        },
        "jupyter": {
          "outputs_hidden": false,
          "source_hidden": false
        },
        "nteract": {
          "transient": {
            "deleting": false
          }
        }
      }
    },
    {
      "cell_type": "code",
      "source": [
        "remote_run"
      ],
      "outputs": [
        {
          "output_type": "execute_result",
          "execution_count": 12,
          "data": {
            "text/plain": "Run(Experiment: automl-exp,\nId: AutoML_a0d5d70d-4760-46bd-9c0f-a0b8bc381771,\nType: automl,\nStatus: Completed)",
            "text/html": "<table style=\"width:100%\"><tr><th>Experiment</th><th>Id</th><th>Type</th><th>Status</th><th>Details Page</th><th>Docs Page</th></tr><tr><td>automl-exp</td><td>AutoML_a0d5d70d-4760-46bd-9c0f-a0b8bc381771</td><td>automl</td><td>Completed</td><td><a href=\"https://ml.azure.com/experiments/automl-exp/runs/AutoML_a0d5d70d-4760-46bd-9c0f-a0b8bc381771?wsid=/subscriptions/9b72f9e6-56c5-4c16-991b-19c652994860/resourcegroups/aml-quickstarts-142075/workspaces/quick-starts-ws-142075\" target=\"_blank\" rel=\"noopener\">Link to Azure Machine Learning studio</a></td><td><a href=\"https://docs.microsoft.com/en-us/python/api/overview/azure/ml/intro?view=azure-ml-py\" target=\"_blank\" rel=\"noopener\">Link to Documentation</a></td></tr></table>"
          },
          "metadata": {}
        }
      ],
      "execution_count": 12,
      "metadata": {
        "collapsed": true,
        "jupyter": {
          "source_hidden": false,
          "outputs_hidden": false
        },
        "nteract": {
          "transient": {
            "deleting": false
          }
        },
        "gather": {
          "logged": 1617703874545
        }
      }
    },
    {
      "cell_type": "markdown",
      "source": [
        "## Best Model\n",
        "\n"
      ],
      "metadata": {}
    },
    {
      "cell_type": "code",
      "source": [
        "best_run, fitted_model = remote_run.get_output()\n",
        "best_run_metrics = best_run.get_metrics()\n",
        "best_run"
      ],
      "outputs": [
        {
          "output_type": "execute_result",
          "execution_count": 13,
          "data": {
            "text/plain": "Run(Experiment: automl-exp,\nId: AutoML_a0d5d70d-4760-46bd-9c0f-a0b8bc381771_55,\nType: azureml.scriptrun,\nStatus: Completed)",
            "text/html": "<table style=\"width:100%\"><tr><th>Experiment</th><th>Id</th><th>Type</th><th>Status</th><th>Details Page</th><th>Docs Page</th></tr><tr><td>automl-exp</td><td>AutoML_a0d5d70d-4760-46bd-9c0f-a0b8bc381771_55</td><td>azureml.scriptrun</td><td>Completed</td><td><a href=\"https://ml.azure.com/experiments/automl-exp/runs/AutoML_a0d5d70d-4760-46bd-9c0f-a0b8bc381771_55?wsid=/subscriptions/9b72f9e6-56c5-4c16-991b-19c652994860/resourcegroups/aml-quickstarts-142075/workspaces/quick-starts-ws-142075\" target=\"_blank\" rel=\"noopener\">Link to Azure Machine Learning studio</a></td><td><a href=\"https://docs.microsoft.com/en-us/python/api/azureml-core/azureml.core.run.Run?view=azure-ml-py\" target=\"_blank\" rel=\"noopener\">Link to Documentation</a></td></tr></table>"
          },
          "metadata": {}
        }
      ],
      "execution_count": 13,
      "metadata": {
        "gather": {
          "logged": 1617703885125
        },
        "jupyter": {
          "outputs_hidden": false,
          "source_hidden": false
        },
        "nteract": {
          "transient": {
            "deleting": false
          }
        }
      }
    },
    {
      "cell_type": "code",
      "source": [
        "best_run_metrics"
      ],
      "outputs": [
        {
          "output_type": "execute_result",
          "execution_count": 39,
          "data": {
            "text/plain": "{'recall_score_macro': 0.8301750027485323,\n 'f1_score_weighted': 0.8626804536988016,\n 'accuracy': 0.8642857142857142,\n 'average_precision_score_weighted': 0.9621181406359242,\n 'AUC_micro': 0.9495973899763988,\n 'average_precision_score_macro': 0.9477751103963941,\n 'matthews_correlation': 0.6766057678182074,\n 'AUC_weighted': 0.957100185882355,\n 'recall_score_micro': 0.8642857142857142,\n 'weighted_accuracy': 0.8877210373726012,\n 'precision_score_macro': 0.8480435359272871,\n 'norm_macro_recall': 0.6603500054970642,\n 'AUC_macro': 0.957100185882355,\n 'average_precision_score_micro': 0.9530286346479826,\n 'recall_score_weighted': 0.8642857142857142,\n 'precision_score_micro': 0.8642857142857142,\n 'f1_score_macro': 0.8328828547486719,\n 'balanced_accuracy': 0.8301750027485323,\n 'f1_score_micro': 0.8642857142857142,\n 'log_loss': 0.32092392486200255,\n 'precision_score_weighted': 0.8704366892720425,\n 'confusion_matrix': 'aml://artifactId/ExperimentRun/dcid.AutoML_a0d5d70d-4760-46bd-9c0f-a0b8bc381771_55/confusion_matrix',\n 'accuracy_table': 'aml://artifactId/ExperimentRun/dcid.AutoML_a0d5d70d-4760-46bd-9c0f-a0b8bc381771_55/accuracy_table'}"
          },
          "metadata": {}
        }
      ],
      "execution_count": 39,
      "metadata": {
        "collapsed": true,
        "jupyter": {
          "source_hidden": false,
          "outputs_hidden": false
        },
        "nteract": {
          "transient": {
            "deleting": false
          }
        },
        "gather": {
          "logged": 1617709866502
        }
      }
    },
    {
      "cell_type": "code",
      "source": [
        "fitted_model"
      ],
      "outputs": [
        {
          "output_type": "execute_result",
          "execution_count": 14,
          "data": {
            "text/plain": "Pipeline(memory=None,\n         steps=[('datatransformer',\n                 DataTransformer(enable_dnn=None, enable_feature_sweeping=None,\n                                 feature_sweeping_config=None,\n                                 feature_sweeping_timeout=None,\n                                 featurization_config=None, force_text_dnn=None,\n                                 is_cross_validation=None,\n                                 is_onnx_compatible=None, logger=None,\n                                 observer=None, task=None, working_dir=None)),\n                ('prefittedsoftvotingclassifier',...\n                                                                                               silent=None,\n                                                                                               subsample=0.6,\n                                                                                               tree_method='auto',\n                                                                                               verbose=-10,\n                                                                                               verbosity=0))],\n                                                                     verbose=False))],\n                                               flatten_transform=None,\n                                               weights=[0.07142857142857142,\n                                                        0.14285714285714285,\n                                                        0.14285714285714285,\n                                                        0.07142857142857142,\n                                                        0.07142857142857142,\n                                                        0.14285714285714285,\n                                                        0.07142857142857142,\n                                                        0.07142857142857142,\n                                                        0.07142857142857142,\n                                                        0.07142857142857142,\n                                                        0.07142857142857142]))],\n         verbose=False)"
          },
          "metadata": {}
        }
      ],
      "execution_count": 14,
      "metadata": {
        "gather": {
          "logged": 1617703888819
        },
        "jupyter": {
          "outputs_hidden": false,
          "source_hidden": false
        },
        "nteract": {
          "transient": {
            "deleting": false
          }
        }
      }
    },
    {
      "cell_type": "code",
      "source": [
        "print('Best Run Id: ', best_run.id)\n",
        "print('\\n AUC Weighted:', best_run_metrics['AUC_weighted'])\n",
        "print(fitted_model._final_estimator)\n",
        "print(best_run.get_tags())\n",
        "\n",
        "os.makedirs('./outputs', exist_ok=True)\n",
        "\n",
        "joblib.dump(fitted_model, filename='outputs/automl.joblib')\n",
        "\n",
        "model_name = best_run.properties['model_name']\n",
        "env = best_run.get_environment()\n",
        "script_file = 'score.py'\n",
        "best_run.download_file('outputs/scoring_file_v_1_0_0.py', script_file)"
      ],
      "outputs": [
        {
          "output_type": "stream",
          "name": "stdout",
          "text": [
            "Best Run Id:  AutoML_a0d5d70d-4760-46bd-9c0f-a0b8bc381771_55\n",
            "\n",
            " AUC Weighted: 0.957100185882355\n",
            "PreFittedSoftVotingClassifier(classification_labels=None,\n",
            "                              estimators=[('38',\n",
            "                                           Pipeline(memory=None,\n",
            "                                                    steps=[('standardscalerwrapper',\n",
            "                                                            <azureml.automl.runtime.shared.model_wrappers.StandardScalerWrapper object at 0x7f3a719dc390>),\n",
            "                                                           ('xgboostclassifier',\n",
            "                                                            XGBoostClassifier(base_score=0.5,\n",
            "                                                                              booster='gbtree',\n",
            "                                                                              colsample_bylevel=1,\n",
            "                                                                              colsample_bynode=1,\n",
            "                                                                              colsample_bytree=0.5...\n",
            "                                                                              seed=None,\n",
            "                                                                              silent=None,\n",
            "                                                                              subsample=0.6,\n",
            "                                                                              tree_method='auto',\n",
            "                                                                              verbose=-10,\n",
            "                                                                              verbosity=0))],\n",
            "                                                    verbose=False))],\n",
            "                              flatten_transform=None,\n",
            "                              weights=[0.07142857142857142, 0.14285714285714285,\n",
            "                                       0.14285714285714285, 0.07142857142857142,\n",
            "                                       0.07142857142857142, 0.14285714285714285,\n",
            "                                       0.07142857142857142, 0.07142857142857142,\n",
            "                                       0.07142857142857142, 0.07142857142857142,\n",
            "                                       0.07142857142857142])\n",
            "{'_aml_system_azureml.automlComponent': 'AutoML', '_aml_system_ComputeTargetStatus': '{\"AllocationState\":\"steady\",\"PreparingNodeCount\":0,\"RunningNodeCount\":4,\"CurrentNodeCount\":5}', 'mlflow.source.type': 'JOB', 'mlflow.source.name': 'automl_driver.py', 'ensembled_iterations': '[38, 43, 39, 31, 29, 35, 27, 20, 9, 6, 19]', 'ensembled_algorithms': \"['XGBoostClassifier', 'GradientBoosting', 'XGBoostClassifier', 'XGBoostClassifier', 'XGBoostClassifier', 'XGBoostClassifier', 'LightGBM', 'RandomForest', 'KNN', 'RandomForest', 'XGBoostClassifier']\", 'ensemble_weights': '[0.07142857142857142, 0.14285714285714285, 0.14285714285714285, 0.07142857142857142, 0.07142857142857142, 0.14285714285714285, 0.07142857142857142, 0.07142857142857142, 0.07142857142857142, 0.07142857142857142, 0.07142857142857142]', 'best_individual_pipeline_score': '0.9468581695511844', 'best_individual_iteration': '38', '_aml_system_automl_is_child_run_end_telemetry_event_logged': 'True', 'model_explain_run_id': 'AutoML_a0d5d70d-4760-46bd-9c0f-a0b8bc381771_ModelExplain', 'model_explanation': 'True'}\n"
          ]
        }
      ],
      "execution_count": 19,
      "metadata": {
        "collapsed": true,
        "jupyter": {
          "source_hidden": false,
          "outputs_hidden": false
        },
        "nteract": {
          "transient": {
            "deleting": false
          }
        },
        "gather": {
          "logged": 1617704158455
        }
      }
    },
    {
      "cell_type": "markdown",
      "source": [
        "## Model Deployment\n",
        "\n",
        "We are going to deploy the model to a Container in an Azure Container Instance (ACI) and we will test the endpoint by getting a couple of "
      ],
      "metadata": {}
    },
    {
      "cell_type": "code",
      "source": [
        "model = remote_run.register_model(model_name = model_name,\n",
        "                                  description = 'heart failure model 2')\n",
        "\n",
        "inference_config = InferenceConfig(entry_script = script_file, environment = env)\n",
        "\n",
        "aci_config = AciWebservice.deploy_configuration(cpu_cores = 1, memory_gb = 1)\n",
        "\n",
        "aci_service_name = 'automl-heart-failure'\n",
        "service = Model.deploy(ws, aci_service_name, [model], inference_config, aci_config)\n",
        "service.wait_for_deployment(True)\n",
        "print(\"State: \" + service.state)\n",
        "print(\"Scoring URI: \" + service.scoring_uri)"
      ],
      "outputs": [
        {
          "output_type": "stream",
          "name": "stdout",
          "text": [
            "Tips: You can try get_logs(): https://aka.ms/debugimage#dockerlog or local deployment: https://aka.ms/debugimage#debug-locally to debug if deployment takes longer than 10 minutes.\n",
            "Running\n",
            "2021-04-06 10:55:40+00:00 Creating Container Registry if not exists.\n",
            "2021-04-06 10:55:41+00:00 Registering the environment.\n",
            "2021-04-06 10:55:42+00:00 Use the existing image.\n",
            "2021-04-06 10:55:42+00:00 Generating deployment configuration.\n",
            "2021-04-06 10:55:45+00:00 Submitting deployment to compute..\n",
            "2021-04-06 10:55:50+00:00 Checking the status of deployment automl-heart-failure..\n",
            "2021-04-06 11:00:43+00:00 Checking the status of inference endpoint automl-heart-failure.\n",
            "Succeeded\n",
            "ACI service creation operation finished, operation \"Succeeded\"\n",
            "State: Healthy\n",
            "Scoring URI: http://5266b9ac-38ce-4d64-bfe1-7a3af4b9d54b.southcentralus.azurecontainer.io/score\n"
          ]
        }
      ],
      "execution_count": 36,
      "metadata": {
        "gather": {
          "logged": 1617706896221
        },
        "jupyter": {
          "outputs_hidden": false,
          "source_hidden": false
        },
        "nteract": {
          "transient": {
            "deleting": false
          }
        }
      }
    },
    {
      "cell_type": "markdown",
      "source": [
        "Now we send a request to the web service deployed to test it"
      ],
      "metadata": {
        "collapsed": true,
        "gather": {
          "logged": 1598431657736
        },
        "jupyter": {
          "outputs_hidden": false,
          "source_hidden": false
        },
        "nteract": {
          "transient": {
            "deleting": false
          }
        }
      }
    },
    {
      "cell_type": "code",
      "source": [
        "%run endpoint.py"
      ],
      "outputs": [
        {
          "output_type": "stream",
          "name": "stdout",
          "text": [
            "{\"result\": [1, 0]}\n"
          ]
        }
      ],
      "execution_count": 38,
      "metadata": {
        "gather": {
          "logged": 1598432707604
        },
        "jupyter": {
          "outputs_hidden": false,
          "source_hidden": false
        },
        "nteract": {
          "transient": {
            "deleting": false
          }
        }
      }
    },
    {
      "cell_type": "markdown",
      "source": [
        "Finally, we print the logs of the web service and delete the service"
      ],
      "metadata": {
        "collapsed": true,
        "gather": {
          "logged": 1598432765711
        },
        "jupyter": {
          "outputs_hidden": false,
          "source_hidden": false
        },
        "nteract": {
          "transient": {
            "deleting": false
          }
        }
      }
    },
    {
      "cell_type": "code",
      "source": [
        "service.get_logs()"
      ],
      "outputs": [
        {
          "output_type": "execute_result",
          "execution_count": 30,
          "data": {
            "text/plain": "'2021-04-06T10:33:20,729267700+00:00 - rsyslog/run \\n/usr/sbin/nginx: /azureml-envs/azureml_2b14f450572e78de640d54eaabed5e4d/lib/libcrypto.so.1.0.0: no version information available (required by /usr/sbin/nginx)\\n/usr/sbin/nginx: /azureml-envs/azureml_2b14f450572e78de640d54eaabed5e4d/lib/libcrypto.so.1.0.0: no version information available (required by /usr/sbin/nginx)\\n/usr/sbin/nginx: /azureml-envs/azureml_2b14f450572e78de640d54eaabed5e4d/lib/libssl.so.1.0.0: no version information available (required by /usr/sbin/nginx)\\n2021-04-06T10:33:20,749536400+00:00 - nginx/run \\n/usr/sbin/nginx: /azureml-envs/azureml_2b14f450572e78de640d54eaabed5e4d/lib/libssl.so.1.0.0: no version information available (required by /usr/sbin/nginx)\\n/usr/sbin/nginx: /azureml-envs/azureml_2b14f450572e78de640d54eaabed5e4d/lib/libssl.so.1.0.0: no version information available (required by /usr/sbin/nginx)\\n2021-04-06T10:33:20,765141500+00:00 - gunicorn/run \\n2021-04-06T10:33:20,790431800+00:00 - iot-server/run \\nrsyslogd: /azureml-envs/azureml_2b14f450572e78de640d54eaabed5e4d/lib/libuuid.so.1: no version information available (required by rsyslogd)\\nEdgeHubConnectionString and IOTEDGE_IOTHUBHOSTNAME are not set. Exiting...\\n2021-04-06T10:33:23,105760000+00:00 - iot-server/finish 1 0\\n2021-04-06T10:33:23,121989800+00:00 - Exit code 1 is normal. Not restarting iot-server.\\nStarting gunicorn 19.9.0\\nListening at: http://127.0.0.1:31311 (69)\\nUsing worker: sync\\nworker timeout is set to 300\\nBooting worker with pid: 95\\nSPARK_HOME not set. Skipping PySpark Initialization.\\nGenerating new fontManager, this may take some time...\\nInitializing logger\\n2021-04-06 10:33:31,984 | root | INFO | Starting up app insights client\\n2021-04-06 10:33:31,984 | root | INFO | Starting up request id generator\\n2021-04-06 10:33:31,984 | root | INFO | Starting up app insight hooks\\n2021-04-06 10:33:31,984 | root | INFO | Invoking user\\'s init function\\n2021-04-06 10:33:48,597 | azureml.core | WARNING | Failure while loading azureml_run_type_providers. Failed to load entrypoint automl = azureml.train.automl.run:AutoMLRun._from_run_dto with exception (cryptography 3.2 (/azureml-envs/azureml_2b14f450572e78de640d54eaabed5e4d/lib/python3.6/site-packages), Requirement.parse(\\'cryptography<4.0.0,>=3.3.1; extra == \"crypto\"\\'), {\\'PyJWT\\'}).\\nFailure while loading azureml_run_type_providers. Failed to load entrypoint automl = azureml.train.automl.run:AutoMLRun._from_run_dto with exception (cryptography 3.2 (/azureml-envs/azureml_2b14f450572e78de640d54eaabed5e4d/lib/python3.6/site-packages), Requirement.parse(\\'cryptography<4.0.0,>=3.3.1; extra == \"crypto\"\\'), {\\'PyJWT\\'}).\\n2021-04-06 10:33:50,334 | root | INFO | Users\\'s init has completed successfully\\n2021-04-06 10:33:50,416 | root | INFO | Skipping middleware: dbg_model_info as it\\'s not enabled.\\n2021-04-06 10:33:50,416 | root | INFO | Skipping middleware: dbg_resource_usage as it\\'s not enabled.\\n2021-04-06 10:33:50,419 | root | INFO | Scoring timeout is found from os.environ: 60000 ms\\n2021-04-06 10:34:00,014 | root | INFO | 200\\n127.0.0.1 - - [06/Apr/2021:10:34:00 +0000] \"GET /swagger.json HTTP/1.0\" 200 2852 \"-\" \"Go-http-client/1.1\"\\n2021-04-06 10:34:01,660 | root | INFO | 200\\n127.0.0.1 - - [06/Apr/2021:10:34:01 +0000] \"GET /swagger.json HTTP/1.0\" 200 2852 \"-\" \"Go-http-client/1.1\"\\n2021-04-06 10:35:21,351 | root | INFO | Validation Request Content-Type\\n2021-04-06 10:35:21,352 | root | INFO | Scoring Timer is set to 60.0 seconds\\n2021-04-06 10:35:21,510 | root | INFO | 200\\n127.0.0.1 - - [06/Apr/2021:10:35:21 +0000] \"POST /score HTTP/1.0\" 200 22 \"-\" \"python-requests/2.25.1\"\\n2021-04-06 10:44:05,931 | root | INFO | Validation Request Content-Type\\n2021-04-06 10:44:05,935 | root | INFO | Scoring Timer is set to 60.0 seconds\\n2021-04-06 10:44:06,059 | root | INFO | 200\\n127.0.0.1 - - [06/Apr/2021:10:44:06 +0000] \"POST /score HTTP/1.0\" 200 22 \"-\" \"python-requests/2.25.1\"\\n2021-04-06 10:46:43,996 | root | INFO | 200\\n127.0.0.1 - - [06/Apr/2021:10:46:43 +0000] \"GET /swagger.json HTTP/1.0\" 200 2852 \"-\" \"Go-http-client/1.1\"\\n2021-04-06 10:47:08,378 | root | INFO | 200\\n127.0.0.1 - - [06/Apr/2021:10:47:08 +0000] \"GET /swagger.json HTTP/1.0\" 200 2852 \"-\" \"Go-http-client/1.1\"\\n'"
          },
          "metadata": {}
        }
      ],
      "execution_count": 30,
      "metadata": {
        "collapsed": true,
        "jupyter": {
          "source_hidden": false,
          "outputs_hidden": false
        },
        "nteract": {
          "transient": {
            "deleting": false
          }
        },
        "gather": {
          "logged": 1617706374146
        }
      }
    },
    {
      "cell_type": "code",
      "source": [
        "service.delete()"
      ],
      "outputs": [],
      "execution_count": 31,
      "metadata": {
        "jupyter": {
          "outputs_hidden": false,
          "source_hidden": false
        },
        "nteract": {
          "transient": {
            "deleting": false
          }
        },
        "gather": {
          "logged": 1617706377092
        }
      }
    },
    {
      "cell_type": "code",
      "source": [],
      "outputs": [],
      "execution_count": null,
      "metadata": {
        "collapsed": true,
        "jupyter": {
          "source_hidden": false,
          "outputs_hidden": false
        },
        "nteract": {
          "transient": {
            "deleting": false
          }
        }
      }
    },
    {
      "cell_type": "code",
      "source": [],
      "outputs": [],
      "execution_count": null,
      "metadata": {
        "collapsed": true,
        "jupyter": {
          "source_hidden": false,
          "outputs_hidden": false
        },
        "nteract": {
          "transient": {
            "deleting": false
          }
        }
      }
    },
    {
      "cell_type": "code",
      "source": [],
      "outputs": [],
      "execution_count": null,
      "metadata": {
        "collapsed": true,
        "jupyter": {
          "source_hidden": false,
          "outputs_hidden": false
        },
        "nteract": {
          "transient": {
            "deleting": false
          }
        }
      }
    },
    {
      "cell_type": "code",
      "source": [],
      "outputs": [],
      "execution_count": null,
      "metadata": {
        "collapsed": true,
        "jupyter": {
          "source_hidden": false,
          "outputs_hidden": false
        },
        "nteract": {
          "transient": {
            "deleting": false
          }
        }
      }
    },
    {
      "cell_type": "code",
      "source": [],
      "outputs": [],
      "execution_count": null,
      "metadata": {
        "collapsed": true,
        "jupyter": {
          "source_hidden": false,
          "outputs_hidden": false
        },
        "nteract": {
          "transient": {
            "deleting": false
          }
        }
      }
    },
    {
      "cell_type": "code",
      "source": [],
      "outputs": [],
      "execution_count": null,
      "metadata": {
        "collapsed": true,
        "jupyter": {
          "source_hidden": false,
          "outputs_hidden": false
        },
        "nteract": {
          "transient": {
            "deleting": false
          }
        }
      }
    },
    {
      "cell_type": "code",
      "source": [],
      "outputs": [],
      "execution_count": null,
      "metadata": {
        "collapsed": true,
        "jupyter": {
          "source_hidden": false,
          "outputs_hidden": false
        },
        "nteract": {
          "transient": {
            "deleting": false
          }
        }
      }
    },
    {
      "cell_type": "code",
      "source": [],
      "outputs": [],
      "execution_count": null,
      "metadata": {
        "collapsed": true,
        "jupyter": {
          "source_hidden": false,
          "outputs_hidden": false
        },
        "nteract": {
          "transient": {
            "deleting": false
          }
        }
      }
    }
  ],
  "metadata": {
    "kernel_info": {
      "name": "python3"
    },
    "kernelspec": {
      "name": "python3",
      "language": "python",
      "display_name": "Python 3"
    },
    "language_info": {
      "name": "python",
      "version": "3.6.9",
      "mimetype": "text/x-python",
      "codemirror_mode": {
        "name": "ipython",
        "version": 3
      },
      "pygments_lexer": "ipython3",
      "nbconvert_exporter": "python",
      "file_extension": ".py"
    },
    "nteract": {
      "version": "nteract-front-end@1.0.0"
    },
    "microsoft": {
      "host": {
        "AzureML": {
          "notebookHasBeenCompleted": true
        }
      }
    }
  },
  "nbformat": 4,
  "nbformat_minor": 2
}